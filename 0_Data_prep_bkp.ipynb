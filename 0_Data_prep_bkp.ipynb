{
 "cells": [
  {
   "cell_type": "code",
   "execution_count": 1,
   "id": "471ba660-702c-46ef-97e4-62cd7bdc48f4",
   "metadata": {},
   "outputs": [],
   "source": [
    "# Network Data curationa and processing"
   ]
  },
  {
   "cell_type": "code",
   "execution_count": 2,
   "id": "4eaa0b69-931c-46e1-9bed-2c8c4a277271",
   "metadata": {},
   "outputs": [],
   "source": [
    "from pathlib import Path\n",
    "import pandas as pd\n",
    "import networkx as nx\n",
    "import numpy as np\n",
    "from collections import defaultdict\n",
    "from glob2 import glob"
   ]
  },
  {
   "cell_type": "code",
   "execution_count": 3,
   "id": "9d66a9df-d35b-41a9-9d2e-e0300ce99b71",
   "metadata": {},
   "outputs": [],
   "source": [
    "Networks_data = defaultdict(dict)"
   ]
  },
  {
   "cell_type": "markdown",
   "id": "2ce388e4-dab6-4fba-8979-45f440bd3865",
   "metadata": {},
   "source": [
    "# Uniprot"
   ]
  },
  {
   "cell_type": "code",
   "execution_count": 4,
   "id": "1cca6adb-654e-4dea-b346-5427a7d432d2",
   "metadata": {},
   "outputs": [
    {
     "name": "stdout",
     "output_type": "stream",
     "text": [
      "Auxiliary_data/Uniprot/HUMAN_9606_idmapping.dat\n"
     ]
    }
   ],
   "source": [
    "# Uniprot 3.0 Interactions (293T Cells)\n",
    "Auxiliary_Dir = \"Auxiliary_data/\"\n",
    "Uniprot_Dir = Auxiliary_Dir + \"Uniprot/\"\n",
    "Path(Uniprot_Dir).mkdir(parents=True, exist_ok=True)\n",
    "\n",
    "Uniprot_URL = \"https://ftp.uniprot.org/pub/databases/uniprot/current_release/knowledgebase/idmapping/by_organism/HUMAN_9606_idmapping.dat.gz\"\n",
    "Uniprot_File_zip = Uniprot_Dir + 'HUMAN_9606_idmapping.dat.gz'\n",
    "# !wget -O {Uniprot_File_zip} {Uniprot_URL}\n",
    "# !unzip -o {Uniprot_File_zip} -d {Uniprot_Dir}\n",
    "# !gzip -d {Uniprot_Dir}\n",
    "\n",
    "\n",
    "Uniport_dat_file = Uniprot_Dir + 'HUMAN_9606_idmapping.dat'\n",
    "!ls {Uniport_dat_file}"
   ]
  },
  {
   "cell_type": "code",
   "execution_count": 5,
   "id": "548d7331-6195-4577-810d-055619cb661d",
   "metadata": {},
   "outputs": [
    {
     "data": {
      "text/plain": [
       "(18893, 18893, 114806, 23039)"
      ]
     },
     "execution_count": 5,
     "metadata": {},
     "output_type": "execute_result"
    }
   ],
   "source": [
    "# Dic_list = defaultdict(list)\n",
    "\n",
    "Uniprot_STRING = defaultdict(list)\n",
    "STRING_Uniprot = defaultdict(list)\n",
    "ESNPro_Uniprot = defaultdict(list)\n",
    "ESNGene_Uniprot = defaultdict(list)\n",
    "Entrez_Uniprot = defaultdict(list)\n",
    "\n",
    "\n",
    "ID = \"\"\n",
    "\n",
    "with open(Uniport_dat_file) as fh:\n",
    "    for i in fh.read().splitlines():\n",
    "        t = i.split('\\t')\n",
    "        # if \"Uniprot_Gene_name\" in t:\n",
    "        ID  = t[0]\n",
    "        if \"STRING\" in t:\n",
    "            Uniprot_STRING[ID].append(t[-1].replace('9606.', ''))\n",
    "            STRING_Uniprot[t[-1].replace('9606.', '')].append(ID)\n",
    "        if \"Ensembl_PRO\" in t:\n",
    "            ESNPro_Uniprot[t[-1].replace('9606.', '')].append(ID)\n",
    "        if \"Ensembl\" in t:\n",
    "            ESNGene_Uniprot[t[-1].replace('9606.', '')].append(ID)\n",
    "            \n",
    "        if \"GeneID\" in t:\n",
    "            Entrez_Uniprot[t[-1]].append(ID)\n",
    "            \n",
    "            \n",
    "            \n",
    "            \n",
    "def Keep_first(d_dic):\n",
    "    dic = {}\n",
    "    for i in d_dic:\n",
    "        if len(d_dic[i]) and i not in dic:\n",
    "            dic[i] = d_dic[i][0]\n",
    "    return dic\n",
    "        \n",
    "Uniprot_STRING = Keep_first(Uniprot_STRING)\n",
    "STRING_Uniprot = Keep_first(STRING_Uniprot)\n",
    "ESNPro_Uniprot = Keep_first(ESNPro_Uniprot)\n",
    "ESNGene_Uniprot = Keep_first(ESNGene_Uniprot)\n",
    "Entrez_Uniprot = Keep_first(Entrez_Uniprot)\n",
    "\n",
    "\n",
    "len(STRING_Uniprot), len(Uniprot_STRING), len(ESNPro_Uniprot), len(ESNGene_Uniprot)\n",
    "# Entrez_Uniprot"
   ]
  },
  {
   "cell_type": "code",
   "execution_count": 6,
   "id": "169a4d34-2344-442b-8bc3-31aeb05cc46a",
   "metadata": {},
   "outputs": [
    {
     "data": {
      "text/plain": [
       "'P0DP23'"
      ]
     },
     "execution_count": 6,
     "metadata": {},
     "output_type": "execute_result"
    }
   ],
   "source": [
    "STRING_Uniprot['ENSP00000272298']"
   ]
  },
  {
   "cell_type": "code",
   "execution_count": 7,
   "id": "200366af-068e-4486-a863-631d93aa3b1a",
   "metadata": {},
   "outputs": [
    {
     "data": {
      "text/plain": [
       "'P0DP23'"
      ]
     },
     "execution_count": 7,
     "metadata": {},
     "output_type": "execute_result"
    }
   ],
   "source": [
    "ESNPro_Uniprot['ENSP00000349467']"
   ]
  },
  {
   "cell_type": "markdown",
   "id": "a30956fe-0f1e-432d-aab1-9c295ac4409b",
   "metadata": {},
   "source": [
    "### BioMart"
   ]
  },
  {
   "cell_type": "code",
   "execution_count": 8,
   "id": "8aca77f2-de0f-42ce-882a-f635e12b8e94",
   "metadata": {},
   "outputs": [
    {
     "name": "stdout",
     "output_type": "stream",
     "text": [
      "68185\n"
     ]
    },
    {
     "data": {
      "text/html": [
       "<div>\n",
       "<style scoped>\n",
       "    .dataframe tbody tr th:only-of-type {\n",
       "        vertical-align: middle;\n",
       "    }\n",
       "\n",
       "    .dataframe tbody tr th {\n",
       "        vertical-align: top;\n",
       "    }\n",
       "\n",
       "    .dataframe thead th {\n",
       "        text-align: right;\n",
       "    }\n",
       "</style>\n",
       "<table border=\"1\" class=\"dataframe\">\n",
       "  <thead>\n",
       "    <tr style=\"text-align: right;\">\n",
       "      <th></th>\n",
       "      <th>Gene stable ID</th>\n",
       "      <th>Gene name</th>\n",
       "      <th>UniProtKB Gene Name ID</th>\n",
       "      <th>UniProtKB/TrEMBL ID</th>\n",
       "      <th>Protein stable ID</th>\n",
       "      <th>Gene description</th>\n",
       "      <th>GO term accession</th>\n",
       "    </tr>\n",
       "  </thead>\n",
       "  <tbody>\n",
       "    <tr>\n",
       "      <th>0</th>\n",
       "      <td>ENSG00000198888</td>\n",
       "      <td>MT-ND1</td>\n",
       "      <td>P03886</td>\n",
       "      <td>U5Z754</td>\n",
       "      <td>ENSP00000354687</td>\n",
       "      <td>mitochondrially encoded NADH:ubiquinone oxidor...</td>\n",
       "      <td>GO:0016020</td>\n",
       "    </tr>\n",
       "    <tr>\n",
       "      <th>1</th>\n",
       "      <td>ENSG00000198888</td>\n",
       "      <td>MT-ND1</td>\n",
       "      <td>P03886</td>\n",
       "      <td>U5Z754</td>\n",
       "      <td>ENSP00000354687</td>\n",
       "      <td>mitochondrially encoded NADH:ubiquinone oxidor...</td>\n",
       "      <td>GO:0016021</td>\n",
       "    </tr>\n",
       "    <tr>\n",
       "      <th>2</th>\n",
       "      <td>ENSG00000198888</td>\n",
       "      <td>MT-ND1</td>\n",
       "      <td>P03886</td>\n",
       "      <td>U5Z754</td>\n",
       "      <td>ENSP00000354687</td>\n",
       "      <td>mitochondrially encoded NADH:ubiquinone oxidor...</td>\n",
       "      <td>GO:0005739</td>\n",
       "    </tr>\n",
       "    <tr>\n",
       "      <th>3</th>\n",
       "      <td>ENSG00000198888</td>\n",
       "      <td>MT-ND1</td>\n",
       "      <td>P03886</td>\n",
       "      <td>U5Z754</td>\n",
       "      <td>ENSP00000354687</td>\n",
       "      <td>mitochondrially encoded NADH:ubiquinone oxidor...</td>\n",
       "      <td>GO:0005743</td>\n",
       "    </tr>\n",
       "    <tr>\n",
       "      <th>4</th>\n",
       "      <td>ENSG00000198888</td>\n",
       "      <td>MT-ND1</td>\n",
       "      <td>P03886</td>\n",
       "      <td>U5Z754</td>\n",
       "      <td>ENSP00000354687</td>\n",
       "      <td>mitochondrially encoded NADH:ubiquinone oxidor...</td>\n",
       "      <td>GO:0005515</td>\n",
       "    </tr>\n",
       "    <tr>\n",
       "      <th>...</th>\n",
       "      <td>...</td>\n",
       "      <td>...</td>\n",
       "      <td>...</td>\n",
       "      <td>...</td>\n",
       "      <td>...</td>\n",
       "      <td>...</td>\n",
       "      <td>...</td>\n",
       "    </tr>\n",
       "    <tr>\n",
       "      <th>8565263</th>\n",
       "      <td>ENSG00000086619</td>\n",
       "      <td>ERO1B</td>\n",
       "      <td>Q86YB8</td>\n",
       "      <td>-1</td>\n",
       "      <td>ENSP00000510551</td>\n",
       "      <td>endoplasmic reticulum oxidoreductase 1 beta [S...</td>\n",
       "      <td>GO:0005783</td>\n",
       "    </tr>\n",
       "    <tr>\n",
       "      <th>8565264</th>\n",
       "      <td>ENSG00000086619</td>\n",
       "      <td>ERO1B</td>\n",
       "      <td>Q86YB8</td>\n",
       "      <td>-1</td>\n",
       "      <td>ENSP00000510551</td>\n",
       "      <td>endoplasmic reticulum oxidoreductase 1 beta [S...</td>\n",
       "      <td>GO:0071949</td>\n",
       "    </tr>\n",
       "    <tr>\n",
       "      <th>8565265</th>\n",
       "      <td>ENSG00000086619</td>\n",
       "      <td>ERO1B</td>\n",
       "      <td>Q86YB8</td>\n",
       "      <td>-1</td>\n",
       "      <td>ENSP00000510551</td>\n",
       "      <td>endoplasmic reticulum oxidoreductase 1 beta [S...</td>\n",
       "      <td>GO:0015035</td>\n",
       "    </tr>\n",
       "    <tr>\n",
       "      <th>8565266</th>\n",
       "      <td>ENSG00000086619</td>\n",
       "      <td>ERO1B</td>\n",
       "      <td>Q86YB8</td>\n",
       "      <td>-1</td>\n",
       "      <td>ENSP00000510551</td>\n",
       "      <td>endoplasmic reticulum oxidoreductase 1 beta [S...</td>\n",
       "      <td>GO:0016972</td>\n",
       "    </tr>\n",
       "    <tr>\n",
       "      <th>8565267</th>\n",
       "      <td>ENSG00000086619</td>\n",
       "      <td>ERO1B</td>\n",
       "      <td>Q86YB8</td>\n",
       "      <td>-1</td>\n",
       "      <td>ENSP00000510551</td>\n",
       "      <td>endoplasmic reticulum oxidoreductase 1 beta [S...</td>\n",
       "      <td>GO:0034975</td>\n",
       "    </tr>\n",
       "  </tbody>\n",
       "</table>\n",
       "<p>8565268 rows × 7 columns</p>\n",
       "</div>"
      ],
      "text/plain": [
       "          Gene stable ID Gene name UniProtKB Gene Name ID UniProtKB/TrEMBL ID  \\\n",
       "0        ENSG00000198888    MT-ND1                 P03886              U5Z754   \n",
       "1        ENSG00000198888    MT-ND1                 P03886              U5Z754   \n",
       "2        ENSG00000198888    MT-ND1                 P03886              U5Z754   \n",
       "3        ENSG00000198888    MT-ND1                 P03886              U5Z754   \n",
       "4        ENSG00000198888    MT-ND1                 P03886              U5Z754   \n",
       "...                  ...       ...                    ...                 ...   \n",
       "8565263  ENSG00000086619     ERO1B                 Q86YB8                  -1   \n",
       "8565264  ENSG00000086619     ERO1B                 Q86YB8                  -1   \n",
       "8565265  ENSG00000086619     ERO1B                 Q86YB8                  -1   \n",
       "8565266  ENSG00000086619     ERO1B                 Q86YB8                  -1   \n",
       "8565267  ENSG00000086619     ERO1B                 Q86YB8                  -1   \n",
       "\n",
       "        Protein stable ID                                   Gene description  \\\n",
       "0         ENSP00000354687  mitochondrially encoded NADH:ubiquinone oxidor...   \n",
       "1         ENSP00000354687  mitochondrially encoded NADH:ubiquinone oxidor...   \n",
       "2         ENSP00000354687  mitochondrially encoded NADH:ubiquinone oxidor...   \n",
       "3         ENSP00000354687  mitochondrially encoded NADH:ubiquinone oxidor...   \n",
       "4         ENSP00000354687  mitochondrially encoded NADH:ubiquinone oxidor...   \n",
       "...                   ...                                                ...   \n",
       "8565263   ENSP00000510551  endoplasmic reticulum oxidoreductase 1 beta [S...   \n",
       "8565264   ENSP00000510551  endoplasmic reticulum oxidoreductase 1 beta [S...   \n",
       "8565265   ENSP00000510551  endoplasmic reticulum oxidoreductase 1 beta [S...   \n",
       "8565266   ENSP00000510551  endoplasmic reticulum oxidoreductase 1 beta [S...   \n",
       "8565267   ENSP00000510551  endoplasmic reticulum oxidoreductase 1 beta [S...   \n",
       "\n",
       "        GO term accession  \n",
       "0              GO:0016020  \n",
       "1              GO:0016021  \n",
       "2              GO:0005739  \n",
       "3              GO:0005743  \n",
       "4              GO:0005515  \n",
       "...                   ...  \n",
       "8565263        GO:0005783  \n",
       "8565264        GO:0071949  \n",
       "8565265        GO:0015035  \n",
       "8565266        GO:0016972  \n",
       "8565267        GO:0034975  \n",
       "\n",
       "[8565268 rows x 7 columns]"
      ]
     },
     "execution_count": 8,
     "metadata": {},
     "output_type": "execute_result"
    }
   ],
   "source": [
    "BioMART = pd.read_csv('mart_export.txt.gz', sep=\"\\t\")\n",
    "BioMART = BioMART.fillna(-1)\n",
    "BioMART = BioMART.replace(np.nan, -1)\n",
    "BioMart_UKB = set(BioMART['UniProtKB Gene Name ID'].unique())\n",
    "print(len(BioMart_UKB))\n",
    "BioMART"
   ]
  },
  {
   "cell_type": "code",
   "execution_count": 9,
   "id": "808fca50-4232-4c1e-8efe-f8dea192fad5",
   "metadata": {},
   "outputs": [],
   "source": [
    "def map_annotations(dic, df, PU=False):\n",
    "    cols = df.columns\n",
    "    LOL = df.values.tolist()#[:10]\n",
    "    UNMAPPED = []\n",
    "    for i in range(len(LOL)):\n",
    "        a,b = LOL[i]\n",
    "        if a in dic:\n",
    "            a = dic[a]\n",
    "        else:\n",
    "            UNMAPPED.append(a)\n",
    "        if b in dic:\n",
    "            b = dic[b]\n",
    "        else:\n",
    "            UNMAPPED.append(b)\n",
    "        \n",
    "        LOL[i] = [a,b]\n",
    "        \n",
    "    print(\"UNMAPPED\", len(set(UNMAPPED)))\n",
    "    if PU:\n",
    "        print(UNMAPPED)\n",
    "    \n",
    "    df = pd.DataFrame(LOL, columns = cols)\n",
    "    return(df)\n",
    "    \n",
    "    \n",
    "    \n",
    "# map_annotations(BioMART_STRING_dic, STRING_Network)"
   ]
  },
  {
   "cell_type": "markdown",
   "id": "4ff2f202-5f19-4e5a-b3f8-ac87cf7071d6",
   "metadata": {},
   "source": [
    "## BioMart mapping"
   ]
  },
  {
   "cell_type": "code",
   "execution_count": 10,
   "id": "0bf3be28-21c4-48f3-a547-f1da85080de5",
   "metadata": {},
   "outputs": [],
   "source": [
    "def mapping_dict(df, key, value):\n",
    "    LOL = df[[key, value]].values.tolist()#[:10]\n",
    "    \n",
    "    dic = defaultdict(dict)\n",
    "    for i in LOL:\n",
    "        k,v = i\n",
    "        if k not in dic:\n",
    "            dic[k] = v\n",
    "        \n",
    "        \n",
    "    return(dic)\n",
    "    \n",
    "# mapping_dict(BioMART, \"Protein stable ID\", \"UniProtKB Gene Name ID\")"
   ]
  },
  {
   "cell_type": "markdown",
   "id": "dc6e2d9d-59d8-4cf8-9578-57564a38d370",
   "metadata": {},
   "source": [
    "# 1. STRING-db Version: 11.5"
   ]
  },
  {
   "cell_type": "code",
   "execution_count": 11,
   "id": "bfd464a2-1178-45d3-ab81-43700331573f",
   "metadata": {},
   "outputs": [],
   "source": [
    "Network_Dir = \"D1_Network_data/\"\n",
    "STRING_Dir = Network_Dir + \"STRING_db/\"\n",
    "STRING_URL = \"https://stringdb-static.org/download/protein.links.full.v11.5/9606.protein.links.full.v11.5.txt.gz\"\n",
    "STRING_Zip = STRING_Dir + '9606.protein.links.full.v11.5.txt.gz'\n",
    "\n",
    "STRING_INFO_URL = 'https://stringdb-static.org/download/protein.info.v11.5/9606.protein.info.v11.5.txt.gz'\n",
    "STRING_ESN_GENEname = STRING_Dir + '9606.protein.info.v11.5.txt.gz'\n",
    "STRING_ESN_GENEname_file = STRING_Dir + '9606.protein.info.v11.5.txt'\n",
    "\n",
    "\n",
    "# BioPlex 3.0 Interactions (293T Cells)\n",
    "# http://wren.hms.harvard.edu/bioplex/interactions.php#datasets\n",
    "\n"
   ]
  },
  {
   "cell_type": "code",
   "execution_count": 12,
   "id": "24389749-61e6-4143-8111-19767155eb96",
   "metadata": {},
   "outputs": [],
   "source": [
    "# Create Data Folder\n",
    "Path(Network_Dir).mkdir(parents=True, exist_ok=True)\n"
   ]
  },
  {
   "cell_type": "code",
   "execution_count": 13,
   "id": "4029739e-1366-4862-b4fa-2be4f361bfc1",
   "metadata": {},
   "outputs": [
    {
     "name": "stdout",
     "output_type": "stream",
     "text": [
      "--2022-03-24 12:29:39--  https://stringdb-static.org/download/protein.links.full.v11.5/9606.protein.links.full.v11.5.txt.gz\n",
      "Resolving stringdb-static.org (stringdb-static.org)... 151.106.34.104\n",
      "Connecting to stringdb-static.org (stringdb-static.org)|151.106.34.104|:443... connected.\n",
      "HTTP request sent, awaiting response... 200 OK\n",
      "Length: 133555996 (127M) [application/octet-stream]\n",
      "Saving to: ‘D1_Network_data/STRING_db/9606.protein.links.full.v11.5.txt.gz’\n",
      "\n",
      "100%[======================================>] 133,555,996 14.0MB/s   in 9.7s   \n",
      "\n",
      "2022-03-24 12:29:49 (13.2 MB/s) - ‘D1_Network_data/STRING_db/9606.protein.links.full.v11.5.txt.gz’ saved [133555996/133555996]\n",
      "\n",
      "--2022-03-24 12:29:49--  https://stringdb-static.org/download/protein.info.v11.5/9606.protein.info.v11.5.txt.gz\n",
      "Resolving stringdb-static.org (stringdb-static.org)... 151.106.34.104\n",
      "Connecting to stringdb-static.org (stringdb-static.org)|151.106.34.104|:443... connected.\n",
      "HTTP request sent, awaiting response... 200 OK\n",
      "Length: 1901833 (1.8M) [application/octet-stream]\n",
      "Saving to: ‘D1_Network_data/STRING_db/9606.protein.info.v11.5.txt.gz’\n",
      "\n",
      "100%[======================================>] 1,901,833   2.82MB/s   in 0.6s   \n",
      "\n",
      "2022-03-24 12:29:51 (2.82 MB/s) - ‘D1_Network_data/STRING_db/9606.protein.info.v11.5.txt.gz’ saved [1901833/1901833]\n",
      "\n"
     ]
    }
   ],
   "source": [
    "# Create STRING-db Folder\n",
    "Path(STRING_Dir).mkdir(parents=True, exist_ok=True)\n",
    "!wget -O {STRING_Zip} {STRING_URL}\n",
    "# !zcat {SRTING_Zip} | awk '($10 != 0) { print $1, $2 }' > {STRING_net_file}\n",
    "\n",
    "\n",
    "!wget -O {STRING_ESN_GENEname} {STRING_INFO_URL}\n",
    "# !gunzip -f {STRING_ESN_GENEname} \n"
   ]
  },
  {
   "cell_type": "code",
   "execution_count": null,
   "id": "22607c96-60cb-49d6-b632-f9aef0fc3770",
   "metadata": {},
   "outputs": [],
   "source": []
  },
  {
   "cell_type": "code",
   "execution_count": 14,
   "id": "7b4cb096-3961-4957-9fe6-9c09fed2a124",
   "metadata": {},
   "outputs": [
    {
     "data": {
      "text/html": [
       "<div>\n",
       "<style scoped>\n",
       "    .dataframe tbody tr th:only-of-type {\n",
       "        vertical-align: middle;\n",
       "    }\n",
       "\n",
       "    .dataframe tbody tr th {\n",
       "        vertical-align: top;\n",
       "    }\n",
       "\n",
       "    .dataframe thead th {\n",
       "        text-align: right;\n",
       "    }\n",
       "</style>\n",
       "<table border=\"1\" class=\"dataframe\">\n",
       "  <thead>\n",
       "    <tr style=\"text-align: right;\">\n",
       "      <th></th>\n",
       "      <th>IDa</th>\n",
       "      <th>IDb</th>\n",
       "    </tr>\n",
       "  </thead>\n",
       "  <tbody>\n",
       "    <tr>\n",
       "      <th>13</th>\n",
       "      <td>ENSP00000000233</td>\n",
       "      <td>ENSP00000444357</td>\n",
       "    </tr>\n",
       "    <tr>\n",
       "      <th>108</th>\n",
       "      <td>ENSP00000000233</td>\n",
       "      <td>ENSP00000466898</td>\n",
       "    </tr>\n",
       "    <tr>\n",
       "      <th>118</th>\n",
       "      <td>ENSP00000000233</td>\n",
       "      <td>ENSP00000233078</td>\n",
       "    </tr>\n",
       "    <tr>\n",
       "      <th>129</th>\n",
       "      <td>ENSP00000000233</td>\n",
       "      <td>ENSP00000375682</td>\n",
       "    </tr>\n",
       "    <tr>\n",
       "      <th>137</th>\n",
       "      <td>ENSP00000000233</td>\n",
       "      <td>ENSP00000397459</td>\n",
       "    </tr>\n",
       "    <tr>\n",
       "      <th>...</th>\n",
       "      <td>...</td>\n",
       "      <td>...</td>\n",
       "    </tr>\n",
       "    <tr>\n",
       "      <th>11938226</th>\n",
       "      <td>ENSP00000485663</td>\n",
       "      <td>ENSP00000416255</td>\n",
       "    </tr>\n",
       "    <tr>\n",
       "      <th>11938230</th>\n",
       "      <td>ENSP00000485663</td>\n",
       "      <td>ENSP00000329466</td>\n",
       "    </tr>\n",
       "    <tr>\n",
       "      <th>11938234</th>\n",
       "      <td>ENSP00000485663</td>\n",
       "      <td>ENSP00000220849</td>\n",
       "    </tr>\n",
       "    <tr>\n",
       "      <th>11938265</th>\n",
       "      <td>ENSP00000485663</td>\n",
       "      <td>ENSP00000376306</td>\n",
       "    </tr>\n",
       "    <tr>\n",
       "      <th>11938267</th>\n",
       "      <td>ENSP00000485663</td>\n",
       "      <td>ENSP00000341885</td>\n",
       "    </tr>\n",
       "  </tbody>\n",
       "</table>\n",
       "<p>705136 rows × 2 columns</p>\n",
       "</div>"
      ],
      "text/plain": [
       "                      IDa              IDb\n",
       "13        ENSP00000000233  ENSP00000444357\n",
       "108       ENSP00000000233  ENSP00000466898\n",
       "118       ENSP00000000233  ENSP00000233078\n",
       "129       ENSP00000000233  ENSP00000375682\n",
       "137       ENSP00000000233  ENSP00000397459\n",
       "...                   ...              ...\n",
       "11938226  ENSP00000485663  ENSP00000416255\n",
       "11938230  ENSP00000485663  ENSP00000329466\n",
       "11938234  ENSP00000485663  ENSP00000220849\n",
       "11938265  ENSP00000485663  ENSP00000376306\n",
       "11938267  ENSP00000485663  ENSP00000341885\n",
       "\n",
       "[705136 rows x 2 columns]"
      ]
     },
     "execution_count": 14,
     "metadata": {},
     "output_type": "execute_result"
    }
   ],
   "source": [
    "STRING_Network = pd.read_csv(STRING_Zip, sep=\" \")\n",
    "STRING_Network = STRING_Network[STRING_Network.experiments != 0]\n",
    "# SRTRING_Network = SRTRING_Network[SRTRING_Network[list(SRTRING_Network)[:2]]]\n",
    "STRING_Network = STRING_Network[['protein1', 'protein2']]\n",
    "STRING_Network.columns = ['IDa', 'IDb']\n",
    "STRING_Network.isnull().values.any()\n",
    "\n",
    "\n",
    "STRING_Network['IDa'] = STRING_Network['IDa'].str.split('.',expand=True)[1]\n",
    "STRING_Network['IDb'] = STRING_Network['IDb'].str.split('.',expand=True)[1]\n",
    "\n",
    "STRING_Network"
   ]
  },
  {
   "cell_type": "code",
   "execution_count": 15,
   "id": "25a39144-662b-4b97-b25d-5fad91c9061a",
   "metadata": {},
   "outputs": [
    {
     "name": "stdout",
     "output_type": "stream",
     "text": [
      "P0DP23\n",
      "UNMAPPED 473\n",
      "False\n"
     ]
    }
   ],
   "source": [
    "# Mapping\n",
    "\n",
    "\n",
    "# BioMART_STRING_dic = pd.Series(BioMART[\"UniProtKB Gene Name ID\"].values,index=BioMART[\"Protein stable ID\"]).to_dict()\n",
    "BioMART_STRING_dic = mapping_dict(BioMART, \"Protein stable ID\", \"UniProtKB Gene Name ID\")\n",
    "# BioMART_STRING_dic = Uniprot_dict(\"Protein stable ID\", \"UniProtKB Gene Name ID\")\n",
    "# BioMART_STRING_dic\n",
    "\n",
    "for i in BioMART_STRING_dic:\n",
    "    if BioMART_STRING_dic[i] == -1:\n",
    "        BioMART_STRING_dic[i] = i\n",
    "# BioMART.isnull().values.any()\n",
    "len(BioMART_STRING_dic)\n",
    "print(BioMART_STRING_dic['ENSP00000349467'])\n",
    "\n",
    "\n",
    "###################################\n",
    "\n",
    "STRING_Network = map_annotations(BioMART_STRING_dic, STRING_Network, PU=False)\n",
    "\n",
    "print(STRING_Network.isnull().values.any())"
   ]
  },
  {
   "cell_type": "code",
   "execution_count": 16,
   "id": "94dfcced-2011-47d3-8750-bc492695a491",
   "metadata": {},
   "outputs": [
    {
     "name": "stdout",
     "output_type": "stream",
     "text": [
      "UNMAPPED 16569\n"
     ]
    }
   ],
   "source": [
    "STRING_Network = map_annotations(STRING_Uniprot, STRING_Network, PU=False)\n"
   ]
  },
  {
   "cell_type": "code",
   "execution_count": 17,
   "id": "0e58b845-aa89-4188-9fd9-47d83b1f6fbc",
   "metadata": {},
   "outputs": [
    {
     "data": {
      "text/html": [
       "<div>\n",
       "<style scoped>\n",
       "    .dataframe tbody tr th:only-of-type {\n",
       "        vertical-align: middle;\n",
       "    }\n",
       "\n",
       "    .dataframe tbody tr th {\n",
       "        vertical-align: top;\n",
       "    }\n",
       "\n",
       "    .dataframe thead th {\n",
       "        text-align: right;\n",
       "    }\n",
       "</style>\n",
       "<table border=\"1\" class=\"dataframe\">\n",
       "  <thead>\n",
       "    <tr style=\"text-align: right;\">\n",
       "      <th></th>\n",
       "      <th>IDa</th>\n",
       "      <th>IDb</th>\n",
       "    </tr>\n",
       "  </thead>\n",
       "  <tbody>\n",
       "    <tr>\n",
       "      <th>0</th>\n",
       "      <td>P84085</td>\n",
       "      <td>Q96FW1</td>\n",
       "    </tr>\n",
       "    <tr>\n",
       "      <th>1</th>\n",
       "      <td>P84085</td>\n",
       "      <td>Q96GM1</td>\n",
       "    </tr>\n",
       "    <tr>\n",
       "      <th>2</th>\n",
       "      <td>P84085</td>\n",
       "      <td>Q96EP5</td>\n",
       "    </tr>\n",
       "    <tr>\n",
       "      <th>3</th>\n",
       "      <td>P84085</td>\n",
       "      <td>O60259</td>\n",
       "    </tr>\n",
       "    <tr>\n",
       "      <th>4</th>\n",
       "      <td>P84085</td>\n",
       "      <td>Q9NRW4</td>\n",
       "    </tr>\n",
       "    <tr>\n",
       "      <th>...</th>\n",
       "      <td>...</td>\n",
       "      <td>...</td>\n",
       "    </tr>\n",
       "    <tr>\n",
       "      <th>705131</th>\n",
       "      <td>Q9Y262</td>\n",
       "      <td>Q04637</td>\n",
       "    </tr>\n",
       "    <tr>\n",
       "      <th>705132</th>\n",
       "      <td>Q9Y262</td>\n",
       "      <td>Q9NRC8</td>\n",
       "    </tr>\n",
       "    <tr>\n",
       "      <th>705133</th>\n",
       "      <td>Q9Y262</td>\n",
       "      <td>P60228</td>\n",
       "    </tr>\n",
       "    <tr>\n",
       "      <th>705134</th>\n",
       "      <td>Q9Y262</td>\n",
       "      <td>O14578</td>\n",
       "    </tr>\n",
       "    <tr>\n",
       "      <th>705135</th>\n",
       "      <td>Q9Y262</td>\n",
       "      <td>P15880</td>\n",
       "    </tr>\n",
       "  </tbody>\n",
       "</table>\n",
       "<p>705136 rows × 2 columns</p>\n",
       "</div>"
      ],
      "text/plain": [
       "           IDa     IDb\n",
       "0       P84085  Q96FW1\n",
       "1       P84085  Q96GM1\n",
       "2       P84085  Q96EP5\n",
       "3       P84085  O60259\n",
       "4       P84085  Q9NRW4\n",
       "...        ...     ...\n",
       "705131  Q9Y262  Q04637\n",
       "705132  Q9Y262  Q9NRC8\n",
       "705133  Q9Y262  P60228\n",
       "705134  Q9Y262  O14578\n",
       "705135  Q9Y262  P15880\n",
       "\n",
       "[705136 rows x 2 columns]"
      ]
     },
     "execution_count": 17,
     "metadata": {},
     "output_type": "execute_result"
    }
   ],
   "source": [
    "STRING_Network"
   ]
  },
  {
   "cell_type": "code",
   "execution_count": 18,
   "id": "665133a1-e398-4098-8216-f9df6aed04ed",
   "metadata": {},
   "outputs": [
    {
     "name": "stdout",
     "output_type": "stream",
     "text": [
      "False\n"
     ]
    },
    {
     "data": {
      "text/html": [
       "<div>\n",
       "<style scoped>\n",
       "    .dataframe tbody tr th:only-of-type {\n",
       "        vertical-align: middle;\n",
       "    }\n",
       "\n",
       "    .dataframe tbody tr th {\n",
       "        vertical-align: top;\n",
       "    }\n",
       "\n",
       "    .dataframe thead th {\n",
       "        text-align: right;\n",
       "    }\n",
       "</style>\n",
       "<table border=\"1\" class=\"dataframe\">\n",
       "  <thead>\n",
       "    <tr style=\"text-align: right;\">\n",
       "      <th></th>\n",
       "      <th>IDa</th>\n",
       "      <th>IDb</th>\n",
       "    </tr>\n",
       "  </thead>\n",
       "  <tbody>\n",
       "    <tr>\n",
       "      <th>0</th>\n",
       "      <td>P84085</td>\n",
       "      <td>Q96FW1</td>\n",
       "    </tr>\n",
       "    <tr>\n",
       "      <th>1</th>\n",
       "      <td>P84085</td>\n",
       "      <td>Q96GM1</td>\n",
       "    </tr>\n",
       "    <tr>\n",
       "      <th>2</th>\n",
       "      <td>P84085</td>\n",
       "      <td>Q96EP5</td>\n",
       "    </tr>\n",
       "    <tr>\n",
       "      <th>3</th>\n",
       "      <td>P84085</td>\n",
       "      <td>O60259</td>\n",
       "    </tr>\n",
       "    <tr>\n",
       "      <th>4</th>\n",
       "      <td>P84085</td>\n",
       "      <td>Q9NRW4</td>\n",
       "    </tr>\n",
       "    <tr>\n",
       "      <th>...</th>\n",
       "      <td>...</td>\n",
       "      <td>...</td>\n",
       "    </tr>\n",
       "    <tr>\n",
       "      <th>705131</th>\n",
       "      <td>Q9Y262</td>\n",
       "      <td>Q04637</td>\n",
       "    </tr>\n",
       "    <tr>\n",
       "      <th>705132</th>\n",
       "      <td>Q9Y262</td>\n",
       "      <td>Q9NRC8</td>\n",
       "    </tr>\n",
       "    <tr>\n",
       "      <th>705133</th>\n",
       "      <td>Q9Y262</td>\n",
       "      <td>P60228</td>\n",
       "    </tr>\n",
       "    <tr>\n",
       "      <th>705134</th>\n",
       "      <td>Q9Y262</td>\n",
       "      <td>O14578</td>\n",
       "    </tr>\n",
       "    <tr>\n",
       "      <th>705135</th>\n",
       "      <td>Q9Y262</td>\n",
       "      <td>P15880</td>\n",
       "    </tr>\n",
       "  </tbody>\n",
       "</table>\n",
       "<p>697634 rows × 2 columns</p>\n",
       "</div>"
      ],
      "text/plain": [
       "           IDa     IDb\n",
       "0       P84085  Q96FW1\n",
       "1       P84085  Q96GM1\n",
       "2       P84085  Q96EP5\n",
       "3       P84085  O60259\n",
       "4       P84085  Q9NRW4\n",
       "...        ...     ...\n",
       "705131  Q9Y262  Q04637\n",
       "705132  Q9Y262  Q9NRC8\n",
       "705133  Q9Y262  P60228\n",
       "705134  Q9Y262  O14578\n",
       "705135  Q9Y262  P15880\n",
       "\n",
       "[697634 rows x 2 columns]"
      ]
     },
     "execution_count": 18,
     "metadata": {},
     "output_type": "execute_result"
    }
   ],
   "source": [
    "\n",
    "# STRING_Network['IDb'] = STRING_Network['IDb'].map(BioMART_STRING_dic, na_action='ignore')\n",
    "print(STRING_Network.isnull().values.any())\n",
    "STRING_net_file = STRING_Dir + 'STRING_exp_net.tsv'\n",
    "STRING_Network.to_csv(STRING_net_file, sep=\"\\t\", index=False)\n",
    "STRING_Network.drop_duplicates(inplace=True)\n",
    "\n",
    "STRING_Network.isnull().values.any()\n",
    "STRING_Network"
   ]
  },
  {
   "cell_type": "code",
   "execution_count": 19,
   "id": "5fdd5195-0ff8-41b0-9643-a694fe21604b",
   "metadata": {},
   "outputs": [
    {
     "name": "stdout",
     "output_type": "stream",
     "text": [
      "Graph with 17106 nodes and 348835 edges\n"
     ]
    }
   ],
   "source": [
    "Networks_data['STRING'] = STRING_Network\n",
    "S=nx.from_pandas_edgelist(STRING_Network, 'IDa', 'IDb')\n",
    "print(S) "
   ]
  },
  {
   "cell_type": "markdown",
   "id": "17ffe9d1-8945-4f6a-b166-e03c8084bf86",
   "metadata": {},
   "source": [
    "# 2. HI-union\t (HuRI)\n",
    "## The Human Reference Protein Interactome Mapping Project"
   ]
  },
  {
   "cell_type": "code",
   "execution_count": 20,
   "id": "5122b9a2-3546-41d7-88e0-11f69ffbfbda",
   "metadata": {},
   "outputs": [
    {
     "name": "stdout",
     "output_type": "stream",
     "text": [
      "--2022-03-24 12:30:17--  http://www.interactome-atlas.org/data/HI-union.tsv\n",
      "Resolving www.interactome-atlas.org (www.interactome-atlas.org)... 142.150.84.126\n",
      "Connecting to www.interactome-atlas.org (www.interactome-atlas.org)|142.150.84.126|:80... connected.\n",
      "HTTP request sent, awaiting response... 200 OK\n",
      "Length: 2112198 (2.0M) [text/tab-separated-values]\n",
      "Saving to: ‘D1_Network_data/HuRI_db/HI-union.tsv’\n",
      "\n",
      "100%[======================================>] 2,112,198   3.85MB/s   in 0.5s   \n",
      "\n",
      "2022-03-24 12:30:19 (3.85 MB/s) - ‘D1_Network_data/HuRI_db/HI-union.tsv’ saved [2112198/2112198]\n",
      "\n",
      "D1_Network_data/HuRI_db/HI-union.tsv\n"
     ]
    }
   ],
   "source": [
    "HuRI_Dir = Network_Dir + \"HuRI_db/\"\n",
    "# Create HuRI Union Folder\n",
    "Path(HuRI_Dir).mkdir(parents=True, exist_ok=True)\n",
    "\n",
    "HuRI_Union_URL = \"http://www.interactome-atlas.org/data/HI-union.tsv\"\n",
    "HuRI_File = HuRI_Dir + 'HI-union.tsv'\n",
    "!wget -O {HuRI_File} {HuRI_Union_URL}\n",
    "!ls {HuRI_File}"
   ]
  },
  {
   "cell_type": "code",
   "execution_count": 21,
   "id": "0557852d-4dbe-48fd-b9b2-710fbe91cd35",
   "metadata": {},
   "outputs": [
    {
     "data": {
      "text/plain": [
       "'ENSP00000354687'"
      ]
     },
     "execution_count": 21,
     "metadata": {},
     "output_type": "execute_result"
    }
   ],
   "source": [
    "# http://useast.ensembl.org/biomart/martview/\n",
    "\n",
    "# df = pd.read_csv('mart_export.txt', sep=\"\\t\")\n",
    "# df = df.dropna()\n",
    "# ESNm_to_gn = pd.Series(df[\"Gene name\"].values,index=df[\"Gene stable ID\"]).to_dict()\n",
    "# len(ESNm_to_gn)\n",
    "# # ESNm_to_gn\n",
    "BioMART\n",
    "# BioMART_HuRI_dic = pd.Series(BioMART[\"UniProtKB Gene Name ID\"].values,index=BioMART[\"Gene stable ID\"]).to_dict()\n",
    "BioMART_HuRI_dic = mapping_dict(BioMART, \"Gene stable ID\", \"Protein stable ID\")\n",
    "BioMART_HuRI_dic = mapping_dict(BioMART, \"Gene stable ID\", \"Protein stable ID\")\n",
    "# BioMART_STRING_dic\n",
    "\n",
    "for i in BioMART_HuRI_dic:\n",
    "    if BioMART_HuRI_dic[i] == -1:\n",
    "        BioMART_HuRI_dic[i] = i\n",
    "BioMART_HuRI_dic['ENSG00000198888']"
   ]
  },
  {
   "cell_type": "code",
   "execution_count": 22,
   "id": "21a00589-1ec7-49bb-952f-8532aa3ba990",
   "metadata": {},
   "outputs": [
    {
     "name": "stdout",
     "output_type": "stream",
     "text": [
      "UNMAPPED 40\n"
     ]
    },
    {
     "data": {
      "text/html": [
       "<div>\n",
       "<style scoped>\n",
       "    .dataframe tbody tr th:only-of-type {\n",
       "        vertical-align: middle;\n",
       "    }\n",
       "\n",
       "    .dataframe tbody tr th {\n",
       "        vertical-align: top;\n",
       "    }\n",
       "\n",
       "    .dataframe thead th {\n",
       "        text-align: right;\n",
       "    }\n",
       "</style>\n",
       "<table border=\"1\" class=\"dataframe\">\n",
       "  <thead>\n",
       "    <tr style=\"text-align: right;\">\n",
       "      <th></th>\n",
       "      <th>IDa</th>\n",
       "      <th>IDb</th>\n",
       "    </tr>\n",
       "  </thead>\n",
       "  <tbody>\n",
       "    <tr>\n",
       "      <th>0</th>\n",
       "      <td>ENSP00000362122</td>\n",
       "      <td>ENSP00000505928</td>\n",
       "    </tr>\n",
       "    <tr>\n",
       "      <th>1</th>\n",
       "      <td>ENSP00000362122</td>\n",
       "      <td>ENSP00000382682</td>\n",
       "    </tr>\n",
       "    <tr>\n",
       "      <th>2</th>\n",
       "      <td>ENSP00000362122</td>\n",
       "      <td>ENSP00000370003</td>\n",
       "    </tr>\n",
       "    <tr>\n",
       "      <th>3</th>\n",
       "      <td>ENSP00000362122</td>\n",
       "      <td>ENSP00000403331</td>\n",
       "    </tr>\n",
       "    <tr>\n",
       "      <th>4</th>\n",
       "      <td>ENSP00000362122</td>\n",
       "      <td>ENSP00000482187</td>\n",
       "    </tr>\n",
       "    <tr>\n",
       "      <th>...</th>\n",
       "      <td>...</td>\n",
       "      <td>...</td>\n",
       "    </tr>\n",
       "    <tr>\n",
       "      <th>64001</th>\n",
       "      <td>ENSP00000479203</td>\n",
       "      <td>ENSP00000479203</td>\n",
       "    </tr>\n",
       "    <tr>\n",
       "      <th>64002</th>\n",
       "      <td>ENSP00000483206</td>\n",
       "      <td>ENSP00000481559</td>\n",
       "    </tr>\n",
       "    <tr>\n",
       "      <th>64003</th>\n",
       "      <td>ENSP00000482816</td>\n",
       "      <td>ENSP00000482816</td>\n",
       "    </tr>\n",
       "    <tr>\n",
       "      <th>64004</th>\n",
       "      <td>ENSP00000482245</td>\n",
       "      <td>ENSP00000482245</td>\n",
       "    </tr>\n",
       "    <tr>\n",
       "      <th>64005</th>\n",
       "      <td>ENSP00000423533</td>\n",
       "      <td>ENSP00000423533</td>\n",
       "    </tr>\n",
       "  </tbody>\n",
       "</table>\n",
       "<p>64006 rows × 2 columns</p>\n",
       "</div>"
      ],
      "text/plain": [
       "                   IDa              IDb\n",
       "0      ENSP00000362122  ENSP00000505928\n",
       "1      ENSP00000362122  ENSP00000382682\n",
       "2      ENSP00000362122  ENSP00000370003\n",
       "3      ENSP00000362122  ENSP00000403331\n",
       "4      ENSP00000362122  ENSP00000482187\n",
       "...                ...              ...\n",
       "64001  ENSP00000479203  ENSP00000479203\n",
       "64002  ENSP00000483206  ENSP00000481559\n",
       "64003  ENSP00000482816  ENSP00000482816\n",
       "64004  ENSP00000482245  ENSP00000482245\n",
       "64005  ENSP00000423533  ENSP00000423533\n",
       "\n",
       "[64006 rows x 2 columns]"
      ]
     },
     "execution_count": 22,
     "metadata": {},
     "output_type": "execute_result"
    }
   ],
   "source": [
    "df_HuRI = pd.read_csv(HuRI_File, sep=\"\\t\", header=None)\n",
    "# print(df_HuRI)\n",
    "df_HuRI.columns = ['IDa', 'IDb']\n",
    "\n",
    "df_HuRI = map_annotations(BioMART_HuRI_dic, df_HuRI)\n",
    "# df_HuRI['IDa'] = df_HuRI['IDa'].map(BioMART_HuRI_dic)\n",
    "# df_HuRI['IDb'] = df_HuRI['IDb'].map(BioMART_HuRI_dic)\n",
    "\n",
    "# HuRI_net_file = HuRI_Dir + 'HuRI_Union_net.tsv'\n",
    "# df_HuRI.to_csv(HuRI_net_file, sep=\"\\t\", index=False)\n",
    "# !ls {HuRI_net_file}\n",
    "\n",
    "df_HuRI.drop_duplicates(inplace=True)\n",
    "\n",
    "df_HuRI"
   ]
  },
  {
   "cell_type": "code",
   "execution_count": 23,
   "id": "4cdef116-2409-48bc-a101-188a6c4eddf9",
   "metadata": {},
   "outputs": [
    {
     "data": {
      "text/plain": [
       "'A8MXP9'"
      ]
     },
     "execution_count": 23,
     "metadata": {},
     "output_type": "execute_result"
    }
   ],
   "source": [
    "# Mapping 2\n",
    "BioMART_HuRI_dic = mapping_dict(BioMART, \"Protein stable ID\", \"UniProtKB Gene Name ID\")\n",
    "BioMART_HuRI_dic = mapping_dict(BioMART, \"Protein stable ID\", \"UniProtKB Gene Name ID\")\n",
    "# BioMART_STRING_dic\n",
    "\n",
    "for i in BioMART_HuRI_dic:\n",
    "    if BioMART_HuRI_dic[i] == -1:\n",
    "        BioMART_HuRI_dic[i] = i\n",
    "BioMART_HuRI_dic['ENSP00000423533']"
   ]
  },
  {
   "cell_type": "code",
   "execution_count": 24,
   "id": "fea707bf-011a-46ec-8158-3235305c509e",
   "metadata": {},
   "outputs": [
    {
     "name": "stdout",
     "output_type": "stream",
     "text": [
      "UNMAPPED 40\n",
      "D1_Network_data/HuRI_db/HuRI_Union_net.tsv\n"
     ]
    },
    {
     "data": {
      "text/html": [
       "<div>\n",
       "<style scoped>\n",
       "    .dataframe tbody tr th:only-of-type {\n",
       "        vertical-align: middle;\n",
       "    }\n",
       "\n",
       "    .dataframe tbody tr th {\n",
       "        vertical-align: top;\n",
       "    }\n",
       "\n",
       "    .dataframe thead th {\n",
       "        text-align: right;\n",
       "    }\n",
       "</style>\n",
       "<table border=\"1\" class=\"dataframe\">\n",
       "  <thead>\n",
       "    <tr style=\"text-align: right;\">\n",
       "      <th></th>\n",
       "      <th>IDa</th>\n",
       "      <th>IDb</th>\n",
       "    </tr>\n",
       "  </thead>\n",
       "  <tbody>\n",
       "    <tr>\n",
       "      <th>0</th>\n",
       "      <td>Q9H2S6</td>\n",
       "      <td>Q9NPE6</td>\n",
       "    </tr>\n",
       "    <tr>\n",
       "      <th>1</th>\n",
       "      <td>Q9H2S6</td>\n",
       "      <td>Q9BXK5</td>\n",
       "    </tr>\n",
       "    <tr>\n",
       "      <th>2</th>\n",
       "      <td>Q9H2S6</td>\n",
       "      <td>O60238</td>\n",
       "    </tr>\n",
       "    <tr>\n",
       "      <th>3</th>\n",
       "      <td>Q9H2S6</td>\n",
       "      <td>P20138</td>\n",
       "    </tr>\n",
       "    <tr>\n",
       "      <th>4</th>\n",
       "      <td>Q9H2S6</td>\n",
       "      <td>Q9UM44</td>\n",
       "    </tr>\n",
       "    <tr>\n",
       "      <th>...</th>\n",
       "      <td>...</td>\n",
       "      <td>...</td>\n",
       "    </tr>\n",
       "    <tr>\n",
       "      <th>64001</th>\n",
       "      <td>B2RXH8</td>\n",
       "      <td>B2RXH8</td>\n",
       "    </tr>\n",
       "    <tr>\n",
       "      <th>64002</th>\n",
       "      <td>Q8NHW4</td>\n",
       "      <td>Q6IN84</td>\n",
       "    </tr>\n",
       "    <tr>\n",
       "      <th>64003</th>\n",
       "      <td>A0A140G945</td>\n",
       "      <td>A0A140G945</td>\n",
       "    </tr>\n",
       "    <tr>\n",
       "      <th>64004</th>\n",
       "      <td>Q9UI36</td>\n",
       "      <td>Q9UI36</td>\n",
       "    </tr>\n",
       "    <tr>\n",
       "      <th>64005</th>\n",
       "      <td>A8MXP9</td>\n",
       "      <td>A8MXP9</td>\n",
       "    </tr>\n",
       "  </tbody>\n",
       "</table>\n",
       "<p>63669 rows × 2 columns</p>\n",
       "</div>"
      ],
      "text/plain": [
       "              IDa         IDb\n",
       "0          Q9H2S6      Q9NPE6\n",
       "1          Q9H2S6      Q9BXK5\n",
       "2          Q9H2S6      O60238\n",
       "3          Q9H2S6      P20138\n",
       "4          Q9H2S6      Q9UM44\n",
       "...           ...         ...\n",
       "64001      B2RXH8      B2RXH8\n",
       "64002      Q8NHW4      Q6IN84\n",
       "64003  A0A140G945  A0A140G945\n",
       "64004      Q9UI36      Q9UI36\n",
       "64005      A8MXP9      A8MXP9\n",
       "\n",
       "[63669 rows x 2 columns]"
      ]
     },
     "execution_count": 24,
     "metadata": {},
     "output_type": "execute_result"
    }
   ],
   "source": [
    "df_HuRI = map_annotations(BioMART_HuRI_dic, df_HuRI)\n",
    "# df_HuRI['IDa'] = df_HuRI['IDa'].map(BioMART_HuRI_dic)\n",
    "# df_HuRI['IDb'] = df_HuRI['IDb'].map(BioMART_HuRI_dic)\n",
    "\n",
    "HuRI_net_file = HuRI_Dir + 'HuRI_Union_net.tsv'\n",
    "df_HuRI.to_csv(HuRI_net_file, sep=\"\\t\", index=False)\n",
    "!ls {HuRI_net_file}\n",
    "\n",
    "df_HuRI.drop_duplicates(inplace=True)\n",
    "\n",
    "df_HuRI"
   ]
  },
  {
   "cell_type": "code",
   "execution_count": 25,
   "id": "2edd1857-8932-495a-a140-66d8485d7cff",
   "metadata": {},
   "outputs": [
    {
     "name": "stdout",
     "output_type": "stream",
     "text": [
      "Graph with 9031 nodes and 63611 edges\n"
     ]
    }
   ],
   "source": [
    "Networks_data['HuRI'] = df_HuRI\n",
    "H=nx.from_pandas_edgelist(df_HuRI, 'IDa', 'IDb')\n",
    "print(H)    "
   ]
  },
  {
   "cell_type": "markdown",
   "id": "bd60b6c6-7630-4bfb-8240-b99961200bbb",
   "metadata": {},
   "source": [
    "# 3. BioPlex 3.0 Interactions (293T Cells)"
   ]
  },
  {
   "cell_type": "code",
   "execution_count": 26,
   "id": "7d497f41-dfa5-4cce-a60f-2357656f368f",
   "metadata": {},
   "outputs": [
    {
     "name": "stdout",
     "output_type": "stream",
     "text": [
      "--2022-03-24 12:30:47--  http://wren.hms.harvard.edu/bioplex/data/BioPlex_293T_Network_10K_Dec_2019.tsv\n",
      "Resolving wren.hms.harvard.edu (wren.hms.harvard.edu)... 134.174.149.252\n",
      "Connecting to wren.hms.harvard.edu (wren.hms.harvard.edu)|134.174.149.252|:80... connected.\n",
      "HTTP request sent, awaiting response... 200 OK\n",
      "Length: 12866060 (12M) [text/tab-separated-values]\n",
      "Saving to: ‘D1_Network_data/BioPlex_3/BioPlex.tsv’\n",
      "\n",
      "100%[======================================>] 12,866,060  9.61MB/s   in 1.3s   \n",
      "\n",
      "2022-03-24 12:30:48 (9.61 MB/s) - ‘D1_Network_data/BioPlex_3/BioPlex.tsv’ saved [12866060/12866060]\n",
      "\n",
      "D1_Network_data/BioPlex_3/BioPlex.tsv\n"
     ]
    }
   ],
   "source": [
    "# BioPlex 3.0 Interactions (293T Cells)\n",
    "BioPlex_Dir = Network_Dir + \"BioPlex_3/\"\n",
    "# Create HuRI Union Folder\n",
    "Path(BioPlex_Dir).mkdir(parents=True, exist_ok=True)\n",
    "\n",
    "BioPlex_URL = \"http://wren.hms.harvard.edu/bioplex/data/BioPlex_293T_Network_10K_Dec_2019.tsv\"\n",
    "BioPlex_File = BioPlex_Dir + 'BioPlex.tsv'\n",
    "!wget -O {BioPlex_File} {BioPlex_URL}\n",
    "!ls {BioPlex_File}"
   ]
  },
  {
   "cell_type": "code",
   "execution_count": 27,
   "id": "3038eb9d-15e6-4420-8548-c24f36579a17",
   "metadata": {},
   "outputs": [
    {
     "name": "stdout",
     "output_type": "stream",
     "text": [
      "D1_Network_data/BioPlex_3/BioPlex_net.tsv\n"
     ]
    },
    {
     "data": {
      "text/html": [
       "<div>\n",
       "<style scoped>\n",
       "    .dataframe tbody tr th:only-of-type {\n",
       "        vertical-align: middle;\n",
       "    }\n",
       "\n",
       "    .dataframe tbody tr th {\n",
       "        vertical-align: top;\n",
       "    }\n",
       "\n",
       "    .dataframe thead th {\n",
       "        text-align: right;\n",
       "    }\n",
       "</style>\n",
       "<table border=\"1\" class=\"dataframe\">\n",
       "  <thead>\n",
       "    <tr style=\"text-align: right;\">\n",
       "      <th></th>\n",
       "      <th>IDa</th>\n",
       "      <th>IDb</th>\n",
       "    </tr>\n",
       "  </thead>\n",
       "  <tbody>\n",
       "    <tr>\n",
       "      <th>0</th>\n",
       "      <td>P00813</td>\n",
       "      <td>A5A3E0</td>\n",
       "    </tr>\n",
       "    <tr>\n",
       "      <th>1</th>\n",
       "      <td>Q8N7W2</td>\n",
       "      <td>P26373</td>\n",
       "    </tr>\n",
       "    <tr>\n",
       "      <th>2</th>\n",
       "      <td>Q8N7W2</td>\n",
       "      <td>Q09028</td>\n",
       "    </tr>\n",
       "    <tr>\n",
       "      <th>3</th>\n",
       "      <td>Q8N7W2</td>\n",
       "      <td>Q9Y3U8</td>\n",
       "    </tr>\n",
       "    <tr>\n",
       "      <th>4</th>\n",
       "      <td>Q8N7W2</td>\n",
       "      <td>P36578</td>\n",
       "    </tr>\n",
       "    <tr>\n",
       "      <th>...</th>\n",
       "      <td>...</td>\n",
       "      <td>...</td>\n",
       "    </tr>\n",
       "    <tr>\n",
       "      <th>118157</th>\n",
       "      <td>Q9NZJ6</td>\n",
       "      <td>P22570</td>\n",
       "    </tr>\n",
       "    <tr>\n",
       "      <th>118158</th>\n",
       "      <td>Q9NZJ6</td>\n",
       "      <td>Q96DU7</td>\n",
       "    </tr>\n",
       "    <tr>\n",
       "      <th>118159</th>\n",
       "      <td>Q9NZJ6</td>\n",
       "      <td>Q8N302</td>\n",
       "    </tr>\n",
       "    <tr>\n",
       "      <th>118160</th>\n",
       "      <td>Q9NZJ6</td>\n",
       "      <td>Q8N0W3</td>\n",
       "    </tr>\n",
       "    <tr>\n",
       "      <th>118161</th>\n",
       "      <td>Q9NZJ6</td>\n",
       "      <td>Q93052</td>\n",
       "    </tr>\n",
       "  </tbody>\n",
       "</table>\n",
       "<p>115868 rows × 2 columns</p>\n",
       "</div>"
      ],
      "text/plain": [
       "           IDa     IDb\n",
       "0       P00813  A5A3E0\n",
       "1       Q8N7W2  P26373\n",
       "2       Q8N7W2  Q09028\n",
       "3       Q8N7W2  Q9Y3U8\n",
       "4       Q8N7W2  P36578\n",
       "...        ...     ...\n",
       "118157  Q9NZJ6  P22570\n",
       "118158  Q9NZJ6  Q96DU7\n",
       "118159  Q9NZJ6  Q8N302\n",
       "118160  Q9NZJ6  Q8N0W3\n",
       "118161  Q9NZJ6  Q93052\n",
       "\n",
       "[115868 rows x 2 columns]"
      ]
     },
     "execution_count": 27,
     "metadata": {},
     "output_type": "execute_result"
    }
   ],
   "source": [
    "df_BioPlex = pd.read_csv(BioPlex_File, sep=\"\\t\")\n",
    "# print(df_BioPlex)\n",
    "df_BioPlex = df_BioPlex[[\"UniprotA\", \"UniprotB\"]]\n",
    "df_BioPlex.columns = ['IDa', 'IDb']\n",
    "\n",
    "\n",
    "# Resolve varient\n",
    "df_BioPlex['IDa'] = df_BioPlex['IDa'].str.split('-',expand=True)[0]\n",
    "df_BioPlex['IDb'] = df_BioPlex['IDb'].str.split('-',expand=True)[0]\n",
    "\n",
    "df_BioPlex.drop_duplicates(inplace=True)\n",
    "\n",
    "BioPlex_net_file = BioPlex_Dir + 'BioPlex_net.tsv'\n",
    "df_BioPlex.to_csv(BioPlex_net_file, sep=\"\\t\", index=False)\n",
    "!ls {BioPlex_net_file}\n",
    "\n",
    "df_BioPlex"
   ]
  },
  {
   "cell_type": "code",
   "execution_count": 28,
   "id": "411984e7-07a4-462f-b721-af7631c5ec5b",
   "metadata": {},
   "outputs": [
    {
     "name": "stdout",
     "output_type": "stream",
     "text": [
      "Graph with 13689 nodes and 115868 edges\n"
     ]
    }
   ],
   "source": [
    "Networks_data['BioPlex'] = df_BioPlex\n",
    "\n",
    "B=nx.from_pandas_edgelist(df_BioPlex, 'IDa', 'IDb')\n",
    "print(B)"
   ]
  },
  {
   "cell_type": "code",
   "execution_count": 29,
   "id": "78616b3c-33f3-4576-8f45-166c25dd6ff9",
   "metadata": {},
   "outputs": [],
   "source": [
    "# Graph with 13689 nodes and 115868 edges"
   ]
  },
  {
   "cell_type": "markdown",
   "id": "c2eb3f45-811e-4edf-9cf9-f91d179bdb04",
   "metadata": {},
   "source": [
    "# 4. CoFrac                     "
   ]
  },
  {
   "cell_type": "code",
   "execution_count": 30,
   "id": "9f06d332-69c3-4e83-9d07-bec48757553d",
   "metadata": {},
   "outputs": [
    {
     "name": "stdout",
     "output_type": "stream",
     "text": [
      "--2022-03-24 12:30:49--  https://static-content.springer.com/esm/art%3A10.1038%2Fnature14877/MediaObjects/41586_2015_BFnature14877_MOESM13_ESM.zip\n",
      "Resolving static-content.springer.com (static-content.springer.com)... 151.101.192.95, 151.101.0.95, 151.101.64.95, ...\n",
      "Connecting to static-content.springer.com (static-content.springer.com)|151.101.192.95|:443... connected.\n",
      "HTTP request sent, awaiting response... 200 OK\n",
      "Length: 16908388 (16M) [application/zip]\n",
      "Saving to: ‘D1_Network_data/CoFrac/41586_2015_BFnature14877_MOESM13_ESM.zip’\n",
      "\n",
      "100%[======================================>] 16,908,388  55.4MB/s   in 0.3s   \n",
      "\n",
      "2022-03-24 12:30:50 (55.4 MB/s) - ‘D1_Network_data/CoFrac/41586_2015_BFnature14877_MOESM13_ESM.zip’ saved [16908388/16908388]\n",
      "\n",
      "Archive:  D1_Network_data/CoFrac/41586_2015_BFnature14877_MOESM13_ESM.zip\n",
      "  inflating: D1_Network_data/CoFrac/nature14871-s2/Supplementary Table 1. Sample Information.xlsx  \n",
      "  inflating: D1_Network_data/CoFrac/__MACOSX/nature14871-s2/._Supplementary Table 1. Sample Information.xlsx  \n",
      "  inflating: D1_Network_data/CoFrac/nature14871-s2/Supplementary Table 2. PPIs Interologs and Corum.xlsx  \n",
      "  inflating: D1_Network_data/CoFrac/__MACOSX/nature14871-s2/._Supplementary Table 2. PPIs Interologs and Corum.xlsx  \n",
      "  inflating: D1_Network_data/CoFrac/nature14871-s2/Supplementary Table 3. Predicted PPI across 122 species.txt  \n",
      "  inflating: D1_Network_data/CoFrac/__MACOSX/nature14871-s2/._Supplementary Table 3. Predicted PPI across 122 species.txt  \n",
      "  inflating: D1_Network_data/CoFrac/nature14871-s2/Supplementary Table 4. Final 981 conserved protein complexes.xlsx  \n",
      "  inflating: D1_Network_data/CoFrac/__MACOSX/nature14871-s2/._Supplementary Table 4. Final 981 conserved protein complexes.xlsx  \n",
      "  inflating: D1_Network_data/CoFrac/nature14871-s2/Supplementary Table 5. Protein age and conservation profile across 122 species.xlsx  \n",
      "  inflating: D1_Network_data/CoFrac/__MACOSX/nature14871-s2/._Supplementary Table 5. Protein age and conservation profile across 122 species.xlsx  \n",
      "  inflating: D1_Network_data/CoFrac/nature14871-s2/Supplementary Table 6. GOSlim domain diseaase and phenotype enrichment.xlsx  \n",
      "  inflating: D1_Network_data/CoFrac/__MACOSX/nature14871-s2/._Supplementary Table 6. GOSlim domain diseaase and phenotype enrichment.xlsx  \n",
      "  inflating: D1_Network_data/CoFrac/nature14871-s2/Supplementary Table 7. Human disease annotation.xlsx  \n",
      "  inflating: D1_Network_data/CoFrac/__MACOSX/nature14871-s2/._Supplementary Table 7. Human disease annotation.xlsx  \n",
      "  inflating: D1_Network_data/CoFrac/nature14871-s2/Supplementary Table 8. Consecutive pathway and metabolic pairs.xlsx  \n",
      "  inflating: D1_Network_data/CoFrac/__MACOSX/nature14871-s2/._Supplementary Table 8. Consecutive pathway and metabolic pairs.xlsx  \n",
      "  inflating: D1_Network_data/CoFrac/nature14871-s2/Supplementary Table 9. 36 common metabolites excluded from Recon2.txt  \n",
      "  inflating: D1_Network_data/CoFrac/__MACOSX/nature14871-s2/._Supplementary Table 9. 36 common metabolites excluded from Recon2.txt  \n",
      "Supplementary Table 1. Sample Information.xlsx\n",
      "Supplementary Table 2. PPIs Interologs and Corum.xlsx\n",
      "Supplementary Table 3. Predicted PPI across 122 species.txt\n",
      "Supplementary Table 4. Final 981 conserved protein complexes.xlsx\n",
      "Supplementary Table 5. Protein age and conservation profile across 122 species.xlsx\n",
      "Supplementary Table 6. GOSlim domain diseaase and phenotype enrichment.xlsx\n",
      "Supplementary Table 7. Human disease annotation.xlsx\n",
      "Supplementary Table 8. Consecutive pathway and metabolic pairs.xlsx\n",
      "Supplementary Table 9. 36 common metabolites excluded from Recon2.txt\n"
     ]
    }
   ],
   "source": [
    "# BioPlex 3.0 Interactions (293T Cells)\n",
    "CoFrac_Dir = Network_Dir + \"CoFrac/\"\n",
    "# Create HuRI Union Folder\n",
    "Path(CoFrac_Dir).mkdir(parents=True, exist_ok=True)\n",
    "\n",
    "CoFrac_Dir_URL = \"https://static-content.springer.com/esm/art%3A10.1038%2Fnature14877/MediaObjects/41586_2015_BFnature14877_MOESM13_ESM.zip\"\n",
    "CoFrac_File_zip = CoFrac_Dir + '41586_2015_BFnature14877_MOESM13_ESM.zip'\n",
    "!wget -O {CoFrac_File_zip} {CoFrac_Dir_URL}\n",
    "!unzip -o {CoFrac_File_zip} -d {CoFrac_Dir}\n",
    "\n",
    "CoFrac_File_unziped = CoFrac_Dir + \"nature14871-s2\"\n",
    "\n",
    "CoFrac_File = glob(CoFrac_File_unziped + \"/*Table 3*txt\")[0]\n",
    "!ls {CoFrac_File_unziped}"
   ]
  },
  {
   "cell_type": "code",
   "execution_count": 31,
   "id": "f9373aba-3a34-4e83-95f1-aee1b87a9393",
   "metadata": {},
   "outputs": [
    {
     "data": {
      "text/html": [
       "<div>\n",
       "<style scoped>\n",
       "    .dataframe tbody tr th:only-of-type {\n",
       "        vertical-align: middle;\n",
       "    }\n",
       "\n",
       "    .dataframe tbody tr th {\n",
       "        vertical-align: top;\n",
       "    }\n",
       "\n",
       "    .dataframe thead th {\n",
       "        text-align: right;\n",
       "    }\n",
       "</style>\n",
       "<table border=\"1\" class=\"dataframe\">\n",
       "  <thead>\n",
       "    <tr style=\"text-align: right;\">\n",
       "      <th></th>\n",
       "      <th>IDa</th>\n",
       "      <th>IDb</th>\n",
       "    </tr>\n",
       "  </thead>\n",
       "  <tbody>\n",
       "    <tr>\n",
       "      <th>0</th>\n",
       "      <td>ENSG00000001084</td>\n",
       "      <td>ENSG00000023909</td>\n",
       "    </tr>\n",
       "    <tr>\n",
       "      <th>1</th>\n",
       "      <td>ENSG00000001084</td>\n",
       "      <td>ENSG00000108272</td>\n",
       "    </tr>\n",
       "    <tr>\n",
       "      <th>2</th>\n",
       "      <td>ENSG00000001084</td>\n",
       "      <td>ENSG00000117543</td>\n",
       "    </tr>\n",
       "    <tr>\n",
       "      <th>3</th>\n",
       "      <td>ENSG00000001084</td>\n",
       "      <td>ENSG00000162688</td>\n",
       "    </tr>\n",
       "    <tr>\n",
       "      <th>4</th>\n",
       "      <td>ENSG00000001167</td>\n",
       "      <td>ENSG00000066136</td>\n",
       "    </tr>\n",
       "    <tr>\n",
       "      <th>...</th>\n",
       "      <td>...</td>\n",
       "      <td>...</td>\n",
       "    </tr>\n",
       "    <tr>\n",
       "      <th>16650</th>\n",
       "      <td>ENSG00000227471</td>\n",
       "      <td>ENSG00000243678</td>\n",
       "    </tr>\n",
       "    <tr>\n",
       "      <th>16651</th>\n",
       "      <td>ENSG00000240972</td>\n",
       "      <td>ENSG00000249915</td>\n",
       "    </tr>\n",
       "    <tr>\n",
       "      <th>16652</th>\n",
       "      <td>ENSG00000241553</td>\n",
       "      <td>ENSG00000241685</td>\n",
       "    </tr>\n",
       "    <tr>\n",
       "      <th>16653</th>\n",
       "      <td>ENSG00000242372</td>\n",
       "      <td>ENSG00000254505</td>\n",
       "    </tr>\n",
       "    <tr>\n",
       "      <th>16654</th>\n",
       "      <td>ENSG00000243678</td>\n",
       "      <td>ENSG00000244687</td>\n",
       "    </tr>\n",
       "  </tbody>\n",
       "</table>\n",
       "<p>16655 rows × 2 columns</p>\n",
       "</div>"
      ],
      "text/plain": [
       "                   IDa              IDb\n",
       "0      ENSG00000001084  ENSG00000023909\n",
       "1      ENSG00000001084  ENSG00000108272\n",
       "2      ENSG00000001084  ENSG00000117543\n",
       "3      ENSG00000001084  ENSG00000162688\n",
       "4      ENSG00000001167  ENSG00000066136\n",
       "...                ...              ...\n",
       "16650  ENSG00000227471  ENSG00000243678\n",
       "16651  ENSG00000240972  ENSG00000249915\n",
       "16652  ENSG00000241553  ENSG00000241685\n",
       "16653  ENSG00000242372  ENSG00000254505\n",
       "16654  ENSG00000243678  ENSG00000244687\n",
       "\n",
       "[16655 rows x 2 columns]"
      ]
     },
     "execution_count": 31,
     "metadata": {},
     "output_type": "execute_result"
    }
   ],
   "source": [
    "df = pd.read_csv(CoFrac_File, sep=\"\\t\")\n",
    "CoFrac = df.HsPPIEnsembl.str.split('---',expand=True)\n",
    "CoFrac.columns = ['IDa', 'IDb']\n",
    "CoFrac.drop_duplicates(inplace=True)\n",
    "CoFrac"
   ]
  },
  {
   "cell_type": "code",
   "execution_count": 32,
   "id": "8fe4d315-461c-4d5d-9aff-242e254ecac0",
   "metadata": {},
   "outputs": [
    {
     "data": {
      "text/plain": [
       "'P03886'"
      ]
     },
     "execution_count": 32,
     "metadata": {},
     "output_type": "execute_result"
    }
   ],
   "source": [
    "BioMART_CoFrac_dic = mapping_dict(BioMART, \"Gene stable ID\", \"UniProtKB Gene Name ID\")\n",
    "BioMART_CoFrac_dic = mapping_dict(BioMART, \"Gene stable ID\", \"UniProtKB Gene Name ID\")\n",
    "for i in BioMART_CoFrac_dic:\n",
    "    if BioMART_CoFrac_dic[i] == -1:\n",
    "        BioMART_CoFrac_dic[i] = i\n",
    "BioMART_CoFrac_dic['ENSG00000198888']"
   ]
  },
  {
   "cell_type": "code",
   "execution_count": 33,
   "id": "8e406b05-4655-4c27-bfb7-d7ab63a25454",
   "metadata": {},
   "outputs": [
    {
     "name": "stdout",
     "output_type": "stream",
     "text": [
      "UNMAPPED 30\n",
      "D1_Network_data/CoFrac/CoFrac_net.tsv\n"
     ]
    },
    {
     "data": {
      "text/html": [
       "<div>\n",
       "<style scoped>\n",
       "    .dataframe tbody tr th:only-of-type {\n",
       "        vertical-align: middle;\n",
       "    }\n",
       "\n",
       "    .dataframe tbody tr th {\n",
       "        vertical-align: top;\n",
       "    }\n",
       "\n",
       "    .dataframe thead th {\n",
       "        text-align: right;\n",
       "    }\n",
       "</style>\n",
       "<table border=\"1\" class=\"dataframe\">\n",
       "  <thead>\n",
       "    <tr style=\"text-align: right;\">\n",
       "      <th></th>\n",
       "      <th>IDa</th>\n",
       "      <th>IDb</th>\n",
       "    </tr>\n",
       "  </thead>\n",
       "  <tbody>\n",
       "    <tr>\n",
       "      <th>0</th>\n",
       "      <td>P48506</td>\n",
       "      <td>P48507</td>\n",
       "    </tr>\n",
       "    <tr>\n",
       "      <th>1</th>\n",
       "      <td>P48506</td>\n",
       "      <td>ENSG00000108272</td>\n",
       "    </tr>\n",
       "    <tr>\n",
       "      <th>2</th>\n",
       "      <td>P48506</td>\n",
       "      <td>Q9H2P9</td>\n",
       "    </tr>\n",
       "    <tr>\n",
       "      <th>3</th>\n",
       "      <td>P48506</td>\n",
       "      <td>P35573</td>\n",
       "    </tr>\n",
       "    <tr>\n",
       "      <th>4</th>\n",
       "      <td>P23511</td>\n",
       "      <td>Q13952</td>\n",
       "    </tr>\n",
       "    <tr>\n",
       "      <th>...</th>\n",
       "      <td>...</td>\n",
       "      <td>...</td>\n",
       "    </tr>\n",
       "    <tr>\n",
       "      <th>16650</th>\n",
       "      <td>C9JRZ8</td>\n",
       "      <td>P22392</td>\n",
       "    </tr>\n",
       "    <tr>\n",
       "      <th>16651</th>\n",
       "      <td>P14174</td>\n",
       "      <td>O75340</td>\n",
       "    </tr>\n",
       "    <tr>\n",
       "      <th>16652</th>\n",
       "      <td>P59998</td>\n",
       "      <td>Q92747</td>\n",
       "    </tr>\n",
       "    <tr>\n",
       "      <th>16653</th>\n",
       "      <td>P56537</td>\n",
       "      <td>Q9BY43</td>\n",
       "    </tr>\n",
       "    <tr>\n",
       "      <th>16654</th>\n",
       "      <td>P22392</td>\n",
       "      <td>Q13404</td>\n",
       "    </tr>\n",
       "  </tbody>\n",
       "</table>\n",
       "<p>16655 rows × 2 columns</p>\n",
       "</div>"
      ],
      "text/plain": [
       "          IDa              IDb\n",
       "0      P48506           P48507\n",
       "1      P48506  ENSG00000108272\n",
       "2      P48506           Q9H2P9\n",
       "3      P48506           P35573\n",
       "4      P23511           Q13952\n",
       "...       ...              ...\n",
       "16650  C9JRZ8           P22392\n",
       "16651  P14174           O75340\n",
       "16652  P59998           Q92747\n",
       "16653  P56537           Q9BY43\n",
       "16654  P22392           Q13404\n",
       "\n",
       "[16655 rows x 2 columns]"
      ]
     },
     "execution_count": 33,
     "metadata": {},
     "output_type": "execute_result"
    }
   ],
   "source": [
    "CoFrac = map_annotations(BioMART_CoFrac_dic, CoFrac)\n",
    "CoFrac.drop_duplicates(inplace=True)\n",
    "\n",
    "CoFrac_net_file = CoFrac_Dir + 'CoFrac_net.tsv'\n",
    "CoFrac.to_csv(CoFrac_net_file, sep=\"\\t\", index=False)\n",
    "!ls {CoFrac_net_file}\n",
    "\n",
    "CoFrac"
   ]
  },
  {
   "cell_type": "code",
   "execution_count": 34,
   "id": "0d93ee92-0207-4c5a-ac8d-8db1fe3f1244",
   "metadata": {},
   "outputs": [
    {
     "name": "stdout",
     "output_type": "stream",
     "text": [
      "Graph with 3464 nodes and 16655 edges\n"
     ]
    }
   ],
   "source": [
    "Networks_data['CoFrac'] = CoFrac\n",
    "\n",
    "C=nx.from_pandas_edgelist(CoFrac, 'IDa', 'IDb')\n",
    "print(C)"
   ]
  },
  {
   "cell_type": "markdown",
   "id": "997e1a06-66be-4355-8b22-e9118bc4e1d0",
   "metadata": {},
   "source": [
    "# 5. QUBIC"
   ]
  },
  {
   "cell_type": "code",
   "execution_count": 35,
   "id": "bd312de4-664f-4afb-b814-3509fc0f238a",
   "metadata": {},
   "outputs": [
    {
     "name": "stdout",
     "output_type": "stream",
     "text": [
      "--2022-03-24 12:31:07--  https://ars.els-cdn.com/content/image/1-s2.0-S0092867415012702-mmc3.xlsx\n",
      "Resolving ars.els-cdn.com (ars.els-cdn.com)... 104.17.143.36, 104.17.142.36, 2606:4700::6811:8f24, ...\n",
      "Connecting to ars.els-cdn.com (ars.els-cdn.com)|104.17.143.36|:443... connected.\n",
      "HTTP request sent, awaiting response... 200 \n",
      "Length: 3846704 (3.7M) [application/excel]\n",
      "Saving to: ‘D1_Network_data/QUBIC/1-s2.0-S0092867415012702-mmc3.xlsx’\n",
      "\n",
      "100%[======================================>] 3,846,704   17.8MB/s   in 0.2s   \n",
      "\n",
      "2022-03-24 12:31:07 (17.8 MB/s) - ‘D1_Network_data/QUBIC/1-s2.0-S0092867415012702-mmc3.xlsx’ saved [3846704/3846704]\n",
      "\n",
      "D1_Network_data/QUBIC/1-s2.0-S0092867415012702-mmc3.xlsx\n"
     ]
    }
   ],
   "source": [
    "# BioPlex 3.0 Interactions (293T Cells)\n",
    "QUBIC_Dir = Network_Dir + \"QUBIC/\"\n",
    "# Create HuRI Union Folder\n",
    "Path(QUBIC_Dir).mkdir(parents=True, exist_ok=True)\n",
    "\n",
    "QUBIC_Dir_URL = \"https://ars.els-cdn.com/content/image/1-s2.0-S0092867415012702-mmc3.xlsx\"\n",
    "QUBIC_File = QUBIC_Dir + '1-s2.0-S0092867415012702-mmc3.xlsx'\n",
    "!wget -O {QUBIC_File} {QUBIC_Dir_URL}\n",
    "# !unzip -o {CoFrac_File_zip} -d {CoFrac_Dir}\n",
    "\n",
    "# CoFrac_File_unziped = CoFrac_Dir + \"nature14871-s2\"\n",
    "\n",
    "# CoFrac_File = glob(CoFrac_File_unziped + \"/*Table 3*txt\")[0]\n",
    "!ls {QUBIC_File}"
   ]
  },
  {
   "cell_type": "code",
   "execution_count": 36,
   "id": "2ee4fef5-53ac-4d6f-98c5-b3df90b56af9",
   "metadata": {},
   "outputs": [],
   "source": [
    "QUBIC_df = pd.read_excel(QUBIC_File, sheet_name='interactions')\n",
    "QUBIC_df = QUBIC_df[['bait.IDs', 'prey.IDs']]\n",
    "QUBIC_df.drop_duplicates(inplace=True)\n",
    "\n"
   ]
  },
  {
   "cell_type": "code",
   "execution_count": 37,
   "id": "fefa0b01-0e07-4dba-897d-a385185c639e",
   "metadata": {},
   "outputs": [
    {
     "data": {
      "text/plain": [
       "'Q66GS9'"
      ]
     },
     "execution_count": 37,
     "metadata": {},
     "output_type": "execute_result"
    }
   ],
   "source": [
    "def resolve_mult(Us):\n",
    "    t = Us.split(';')\n",
    "    # print(t)\n",
    "    default = t[0].split(\"-\")[0]\n",
    "    # BioMart_UKB\n",
    "    for i in t:\n",
    "        if i in BioMart_UKB:\n",
    "            return i\n",
    "    return default\n",
    "    \n",
    "resolve_mult('B4DT77;P20073-2;P20073')\n",
    "resolve_mult('Q66GS9')"
   ]
  },
  {
   "cell_type": "code",
   "execution_count": 38,
   "id": "08608242-bc91-46ad-9116-e2acacbd8626",
   "metadata": {},
   "outputs": [
    {
     "data": {
      "text/html": [
       "<div>\n",
       "<style scoped>\n",
       "    .dataframe tbody tr th:only-of-type {\n",
       "        vertical-align: middle;\n",
       "    }\n",
       "\n",
       "    .dataframe tbody tr th {\n",
       "        vertical-align: top;\n",
       "    }\n",
       "\n",
       "    .dataframe thead th {\n",
       "        text-align: right;\n",
       "    }\n",
       "</style>\n",
       "<table border=\"1\" class=\"dataframe\">\n",
       "  <thead>\n",
       "    <tr style=\"text-align: right;\">\n",
       "      <th></th>\n",
       "      <th>IDa</th>\n",
       "      <th>IDb</th>\n",
       "    </tr>\n",
       "  </thead>\n",
       "  <tbody>\n",
       "    <tr>\n",
       "      <th>0</th>\n",
       "      <td>Q66GS9</td>\n",
       "      <td>P20073</td>\n",
       "    </tr>\n",
       "    <tr>\n",
       "      <th>1</th>\n",
       "      <td>Q66GS9</td>\n",
       "      <td>O75970</td>\n",
       "    </tr>\n",
       "    <tr>\n",
       "      <th>2</th>\n",
       "      <td>Q66GS9</td>\n",
       "      <td>E5RK82</td>\n",
       "    </tr>\n",
       "    <tr>\n",
       "      <th>3</th>\n",
       "      <td>Q66GS9</td>\n",
       "      <td>Q86UR5</td>\n",
       "    </tr>\n",
       "    <tr>\n",
       "      <th>4</th>\n",
       "      <td>Q66GS9</td>\n",
       "      <td>E7ETA6</td>\n",
       "    </tr>\n",
       "    <tr>\n",
       "      <th>...</th>\n",
       "      <td>...</td>\n",
       "      <td>...</td>\n",
       "    </tr>\n",
       "    <tr>\n",
       "      <th>30725</th>\n",
       "      <td>P29590</td>\n",
       "      <td>Q9BXI9</td>\n",
       "    </tr>\n",
       "    <tr>\n",
       "      <th>30726</th>\n",
       "      <td>P29590</td>\n",
       "      <td>Q9NSC5</td>\n",
       "    </tr>\n",
       "    <tr>\n",
       "      <th>30727</th>\n",
       "      <td>P29590</td>\n",
       "      <td>Q9NVH2</td>\n",
       "    </tr>\n",
       "    <tr>\n",
       "      <th>30728</th>\n",
       "      <td>P29590</td>\n",
       "      <td>B9A071</td>\n",
       "    </tr>\n",
       "    <tr>\n",
       "      <th>30729</th>\n",
       "      <td>P29590</td>\n",
       "      <td>Q9UGU5</td>\n",
       "    </tr>\n",
       "  </tbody>\n",
       "</table>\n",
       "<p>29693 rows × 2 columns</p>\n",
       "</div>"
      ],
      "text/plain": [
       "          IDa     IDb\n",
       "0      Q66GS9  P20073\n",
       "1      Q66GS9  O75970\n",
       "2      Q66GS9  E5RK82\n",
       "3      Q66GS9  Q86UR5\n",
       "4      Q66GS9  E7ETA6\n",
       "...       ...     ...\n",
       "30725  P29590  Q9BXI9\n",
       "30726  P29590  Q9NSC5\n",
       "30727  P29590  Q9NVH2\n",
       "30728  P29590  B9A071\n",
       "30729  P29590  Q9UGU5\n",
       "\n",
       "[29693 rows x 2 columns]"
      ]
     },
     "execution_count": 38,
     "metadata": {},
     "output_type": "execute_result"
    }
   ],
   "source": [
    "LOL = QUBIC_df.values.tolist()#[:20]\n",
    "LOLs = []\n",
    "for a,b in LOL:\n",
    "    # print(a,b)\n",
    "    a = resolve_mult(a)\n",
    "    b = resolve_mult(b)\n",
    "    # for i in a.split(\";\"):\n",
    "    #     i = i.split('-')[0]\n",
    "    #     for j in b.split(\";\"):\n",
    "    #         j = j.split('-')[0]\n",
    "    #         LOLs.append([i,j])\n",
    "    LOLs.append([a,b])\n",
    "            \n",
    "QUBIC_df = pd.DataFrame(LOLs, columns = ['IDa', 'IDb'])\n",
    "QUBIC_df.drop_duplicates(inplace=True)\n",
    "QUBIC_df\n"
   ]
  },
  {
   "cell_type": "code",
   "execution_count": 39,
   "id": "2553e5e0-2eaa-4167-a799-ee33b995981f",
   "metadata": {},
   "outputs": [],
   "source": [
    "# QUBIC_df['bait.IDs'] = QUBIC_df['bait.IDs'].str.split(';',expand=True)[0]\n",
    "# QUBIC_df['prey.IDs'] = QUBIC_df['prey.IDs'].str.split(';',expand=True)[0]\n",
    "# QUBIC_df['prey.IDs'] = QUBIC_df['prey.IDs'].str.split('-',expand=True)[0]\n",
    "# QUBIC_df.columns = ['IDa', 'IDb']\n",
    "# QUBIC_df.drop_duplicates(inplace=True)\n",
    "\n"
   ]
  },
  {
   "cell_type": "code",
   "execution_count": 40,
   "id": "c3ccc9de-7f5e-4346-b1f4-01186cad917b",
   "metadata": {},
   "outputs": [
    {
     "name": "stdout",
     "output_type": "stream",
     "text": [
      "UNMAPPED 220\n"
     ]
    }
   ],
   "source": [
    "# Mapping 1\n",
    "BioMART_QUBIC_dic = mapping_dict(BioMART, \"UniProtKB Gene Name ID\", \"Gene stable ID\" )\n",
    "for i in BioMART_QUBIC_dic:\n",
    "    if BioMART_QUBIC_dic[i] == -1:\n",
    "        BioMART_QUBIC_dic[i] = i\n",
    "BioMART_QUBIC_dic#['ENSG00000198888']\n",
    "\n",
    "QUBIC_df = map_annotations(BioMART_QUBIC_dic, QUBIC_df)\n",
    "QUBIC_df.drop_duplicates(inplace=True)\n",
    "# QUBIC_df"
   ]
  },
  {
   "cell_type": "code",
   "execution_count": 41,
   "id": "fb24a49d-6116-42dd-bac5-9ab1881a54bc",
   "metadata": {},
   "outputs": [
    {
     "name": "stdout",
     "output_type": "stream",
     "text": [
      "UNMAPPED 220\n"
     ]
    },
    {
     "data": {
      "text/html": [
       "<div>\n",
       "<style scoped>\n",
       "    .dataframe tbody tr th:only-of-type {\n",
       "        vertical-align: middle;\n",
       "    }\n",
       "\n",
       "    .dataframe tbody tr th {\n",
       "        vertical-align: top;\n",
       "    }\n",
       "\n",
       "    .dataframe thead th {\n",
       "        text-align: right;\n",
       "    }\n",
       "</style>\n",
       "<table border=\"1\" class=\"dataframe\">\n",
       "  <thead>\n",
       "    <tr style=\"text-align: right;\">\n",
       "      <th></th>\n",
       "      <th>IDa</th>\n",
       "      <th>IDb</th>\n",
       "    </tr>\n",
       "  </thead>\n",
       "  <tbody>\n",
       "    <tr>\n",
       "      <th>0</th>\n",
       "      <td>Q66GS9</td>\n",
       "      <td>P20073</td>\n",
       "    </tr>\n",
       "    <tr>\n",
       "      <th>1</th>\n",
       "      <td>Q66GS9</td>\n",
       "      <td>O75970</td>\n",
       "    </tr>\n",
       "    <tr>\n",
       "      <th>2</th>\n",
       "      <td>Q66GS9</td>\n",
       "      <td>O15182</td>\n",
       "    </tr>\n",
       "    <tr>\n",
       "      <th>3</th>\n",
       "      <td>Q66GS9</td>\n",
       "      <td>Q86UR5</td>\n",
       "    </tr>\n",
       "    <tr>\n",
       "      <th>4</th>\n",
       "      <td>Q66GS9</td>\n",
       "      <td>E7ETA6</td>\n",
       "    </tr>\n",
       "    <tr>\n",
       "      <th>...</th>\n",
       "      <td>...</td>\n",
       "      <td>...</td>\n",
       "    </tr>\n",
       "    <tr>\n",
       "      <th>29462</th>\n",
       "      <td>P29590</td>\n",
       "      <td>Q9BXI9</td>\n",
       "    </tr>\n",
       "    <tr>\n",
       "      <th>29463</th>\n",
       "      <td>P29590</td>\n",
       "      <td>Q9NSC5</td>\n",
       "    </tr>\n",
       "    <tr>\n",
       "      <th>29464</th>\n",
       "      <td>P29590</td>\n",
       "      <td>Q9NVH2</td>\n",
       "    </tr>\n",
       "    <tr>\n",
       "      <th>29465</th>\n",
       "      <td>P29590</td>\n",
       "      <td>Q9P2M4</td>\n",
       "    </tr>\n",
       "    <tr>\n",
       "      <th>29466</th>\n",
       "      <td>P29590</td>\n",
       "      <td>Q9UGU5</td>\n",
       "    </tr>\n",
       "  </tbody>\n",
       "</table>\n",
       "<p>29467 rows × 2 columns</p>\n",
       "</div>"
      ],
      "text/plain": [
       "          IDa     IDb\n",
       "0      Q66GS9  P20073\n",
       "1      Q66GS9  O75970\n",
       "2      Q66GS9  O15182\n",
       "3      Q66GS9  Q86UR5\n",
       "4      Q66GS9  E7ETA6\n",
       "...       ...     ...\n",
       "29462  P29590  Q9BXI9\n",
       "29463  P29590  Q9NSC5\n",
       "29464  P29590  Q9NVH2\n",
       "29465  P29590  Q9P2M4\n",
       "29466  P29590  Q9UGU5\n",
       "\n",
       "[29467 rows x 2 columns]"
      ]
     },
     "execution_count": 41,
     "metadata": {},
     "output_type": "execute_result"
    }
   ],
   "source": [
    "# Mapping 2\n",
    "BioMART_QUBIC_dic = mapping_dict(BioMART,  \"Gene stable ID\", \"UniProtKB Gene Name ID\" )\n",
    "# BioMART_QUBIC_dic = mapping_dict(BioMART,  \"Gene stable ID\", \"UniProtKB Gene Name ID\" )\n",
    "for i in BioMART_QUBIC_dic:\n",
    "    if BioMART_QUBIC_dic[i] == -1:\n",
    "        BioMART_QUBIC_dic[i] = i\n",
    "BioMART_QUBIC_dic#['ENSG00000198888']\n",
    "\n",
    "QUBIC_df = map_annotations(BioMART_QUBIC_dic, QUBIC_df)\n",
    "QUBIC_df.drop_duplicates(inplace=True)\n",
    "QUBIC_df"
   ]
  },
  {
   "cell_type": "code",
   "execution_count": 42,
   "id": "eab0c92a-4d99-4c9e-84fe-2ceb8120bc80",
   "metadata": {},
   "outputs": [
    {
     "name": "stdout",
     "output_type": "stream",
     "text": [
      "D1_Network_data/QUBIC/QUBIC_net.tsv\n"
     ]
    },
    {
     "data": {
      "text/html": [
       "<div>\n",
       "<style scoped>\n",
       "    .dataframe tbody tr th:only-of-type {\n",
       "        vertical-align: middle;\n",
       "    }\n",
       "\n",
       "    .dataframe tbody tr th {\n",
       "        vertical-align: top;\n",
       "    }\n",
       "\n",
       "    .dataframe thead th {\n",
       "        text-align: right;\n",
       "    }\n",
       "</style>\n",
       "<table border=\"1\" class=\"dataframe\">\n",
       "  <thead>\n",
       "    <tr style=\"text-align: right;\">\n",
       "      <th></th>\n",
       "      <th>IDa</th>\n",
       "      <th>IDb</th>\n",
       "    </tr>\n",
       "  </thead>\n",
       "  <tbody>\n",
       "    <tr>\n",
       "      <th>0</th>\n",
       "      <td>Q66GS9</td>\n",
       "      <td>P20073</td>\n",
       "    </tr>\n",
       "    <tr>\n",
       "      <th>1</th>\n",
       "      <td>Q66GS9</td>\n",
       "      <td>O75970</td>\n",
       "    </tr>\n",
       "    <tr>\n",
       "      <th>2</th>\n",
       "      <td>Q66GS9</td>\n",
       "      <td>O15182</td>\n",
       "    </tr>\n",
       "    <tr>\n",
       "      <th>3</th>\n",
       "      <td>Q66GS9</td>\n",
       "      <td>Q86UR5</td>\n",
       "    </tr>\n",
       "    <tr>\n",
       "      <th>4</th>\n",
       "      <td>Q66GS9</td>\n",
       "      <td>E7ETA6</td>\n",
       "    </tr>\n",
       "    <tr>\n",
       "      <th>...</th>\n",
       "      <td>...</td>\n",
       "      <td>...</td>\n",
       "    </tr>\n",
       "    <tr>\n",
       "      <th>29462</th>\n",
       "      <td>P29590</td>\n",
       "      <td>Q9BXI9</td>\n",
       "    </tr>\n",
       "    <tr>\n",
       "      <th>29463</th>\n",
       "      <td>P29590</td>\n",
       "      <td>Q9NSC5</td>\n",
       "    </tr>\n",
       "    <tr>\n",
       "      <th>29464</th>\n",
       "      <td>P29590</td>\n",
       "      <td>Q9NVH2</td>\n",
       "    </tr>\n",
       "    <tr>\n",
       "      <th>29465</th>\n",
       "      <td>P29590</td>\n",
       "      <td>Q9P2M4</td>\n",
       "    </tr>\n",
       "    <tr>\n",
       "      <th>29466</th>\n",
       "      <td>P29590</td>\n",
       "      <td>Q9UGU5</td>\n",
       "    </tr>\n",
       "  </tbody>\n",
       "</table>\n",
       "<p>29467 rows × 2 columns</p>\n",
       "</div>"
      ],
      "text/plain": [
       "          IDa     IDb\n",
       "0      Q66GS9  P20073\n",
       "1      Q66GS9  O75970\n",
       "2      Q66GS9  O15182\n",
       "3      Q66GS9  Q86UR5\n",
       "4      Q66GS9  E7ETA6\n",
       "...       ...     ...\n",
       "29462  P29590  Q9BXI9\n",
       "29463  P29590  Q9NSC5\n",
       "29464  P29590  Q9NVH2\n",
       "29465  P29590  Q9P2M4\n",
       "29466  P29590  Q9UGU5\n",
       "\n",
       "[29467 rows x 2 columns]"
      ]
     },
     "execution_count": 42,
     "metadata": {},
     "output_type": "execute_result"
    }
   ],
   "source": [
    "QUBIC_net_file = QUBIC_Dir + 'QUBIC_net.tsv'\n",
    "QUBIC_df.to_csv(QUBIC_net_file, sep=\"\\t\", index=False)\n",
    "!ls {QUBIC_net_file}\n",
    "\n",
    "QUBIC_df"
   ]
  },
  {
   "cell_type": "code",
   "execution_count": 43,
   "id": "76523a92-7b65-4989-af1b-4ef1f3cf73bb",
   "metadata": {},
   "outputs": [
    {
     "name": "stdout",
     "output_type": "stream",
     "text": [
      "Graph with 5478 nodes and 28646 edges\n"
     ]
    }
   ],
   "source": [
    "Networks_data['QUBIC'] = QUBIC_df\n",
    "\n",
    "Q=nx.from_pandas_edgelist(QUBIC_df, 'IDa', 'IDb')\n",
    "print(Q)"
   ]
  },
  {
   "cell_type": "code",
   "execution_count": null,
   "id": "b84d91e8-e448-48c0-994f-5cf7d1364980",
   "metadata": {},
   "outputs": [],
   "source": []
  },
  {
   "cell_type": "code",
   "execution_count": 44,
   "id": "af23c8fc-246a-4e52-bf4f-1c1dcc334be7",
   "metadata": {},
   "outputs": [
    {
     "name": "stdout",
     "output_type": "stream",
     "text": [
      "D1_Network_data\n",
      "├── BioPlex_3\n",
      "│   ├── BioPlex_net.tsv\n",
      "│   └── BioPlex.tsv\n",
      "├── CoFrac\n",
      "│   ├── 41586_2015_BFnature14877_MOESM13_ESM.zip\n",
      "│   ├── CoFrac_net.tsv\n",
      "│   ├── __MACOSX\n",
      "│   │   └── nature14871-s2\n",
      "│   └── nature14871-s2\n",
      "│       ├── Supplementary\\ Table\\ 1.\\ Sample\\ Information.xlsx\n",
      "│       ├── Supplementary\\ Table\\ 2.\\ PPIs\\ Interologs\\ and\\ Corum.xlsx\n",
      "│       ├── Supplementary\\ Table\\ 3.\\ Predicted\\ PPI\\ across\\ 122\\ species.txt\n",
      "│       ├── Supplementary\\ Table\\ 4.\\ Final\\ 981\\ conserved\\ protein\\ complexes.xlsx\n",
      "│       ├── Supplementary\\ Table\\ 5.\\ Protein\\ age\\ and\\ conservation\\ profile\\ across\\ 122\\ species.xlsx\n",
      "│       ├── Supplementary\\ Table\\ 6.\\ GOSlim\\ domain\\ diseaase\\ and\\ phenotype\\ enrichment.xlsx\n",
      "│       ├── Supplementary\\ Table\\ 7.\\ Human\\ disease\\ annotation.xlsx\n",
      "│       ├── Supplementary\\ Table\\ 8.\\ Consecutive\\ pathway\\ and\\ metabolic\\ pairs.xlsx\n",
      "│       └── Supplementary\\ Table\\ 9.\\ 36\\ common\\ metabolites\\ excluded\\ from\\ Recon2.txt\n",
      "├── HuRI_db\n",
      "│   ├── HI-union.tsv\n",
      "│   └── HuRI_Union_net.tsv\n",
      "├── QUBIC\n",
      "│   ├── 1-s2.0-S0092867415012702-mmc3.xlsx\n",
      "│   └── QUBIC_net.tsv\n",
      "└── STRING_db\n",
      "    ├── 9606.protein.info.v11.5.txt.gz\n",
      "    ├── 9606.protein.links.full.v11.5.txt.gz\n",
      "    ├── STRING_db_experimental_human.tsv\n",
      "    └── STRING_exp_net.tsv\n",
      "\n",
      "8 directories, 21 files\n"
     ]
    }
   ],
   "source": [
    "!tree D1_Network_data"
   ]
  },
  {
   "cell_type": "code",
   "execution_count": 45,
   "id": "357619fe-326e-4359-9b48-095d3a6b74a6",
   "metadata": {},
   "outputs": [
    {
     "name": "stdout",
     "output_type": "stream",
     "text": [
      "Graph with 17444 nodes and 394881 edges\n",
      "Graph with 18555 nodes and 474099 edges\n",
      "Graph with 18606 nodes and 474659 edges\n",
      "Graph with 18721 nodes and 489535 edges\n"
     ]
    }
   ],
   "source": [
    "SH = nx.compose(S,H)\n",
    "print(SH)\n",
    "SHB = nx.compose(SH,B)\n",
    "print(SHB)\n",
    "SHBC = nx.compose(SHB,C)\n",
    "print(SHBC)\n",
    "SHBCQ = nx.compose(SHBC, Q)\n",
    "print(SHBCQ)"
   ]
  },
  {
   "cell_type": "code",
   "execution_count": 46,
   "id": "8b5216a2-837c-4e10-90e0-fa7a803ec141",
   "metadata": {},
   "outputs": [],
   "source": [
    "# Graph with 17559 nodes and 395325 edges\n",
    "# Graph with 18883 nodes and 475974 edges\n",
    "# Graph with 18935 nodes and 477029 edges\n",
    "# Graph with 19057 nodes and 492684 edges"
   ]
  },
  {
   "cell_type": "code",
   "execution_count": 47,
   "id": "6f155b97-cb57-41dc-adab-d13b379b8175",
   "metadata": {},
   "outputs": [],
   "source": [
    "# Graph with 27962 nodes and 499953 edges"
   ]
  },
  {
   "cell_type": "markdown",
   "id": "70a7cde1-0490-4648-a4e2-aec381033f38",
   "metadata": {},
   "source": [
    "# 6. HPIDB 3.0"
   ]
  },
  {
   "cell_type": "code",
   "execution_count": 48,
   "id": "62a13154-47d7-44b6-a8de-05906ea21451",
   "metadata": {},
   "outputs": [],
   "source": [
    "HPIDB_Dir = \"HPIDB_data/\"\n",
    "import requests"
   ]
  },
  {
   "cell_type": "code",
   "execution_count": 49,
   "id": "2f450a16-70f1-4207-af04-ece0df0caf73",
   "metadata": {},
   "outputs": [],
   "source": [
    "def pre_pro_viral_data(Organism, Organism_Dir_URL):  \n",
    "    # Organism = \"Influenza\"\n",
    "\n",
    "    Organism_Dir = HPIDB_Dir + Organism+\"/\"\n",
    "    Path(Organism_Dir).mkdir(parents=True, exist_ok=True)\n",
    "\n",
    "    # Organism_Dir_URL = \"https://hpidb.igbb.msstate.edu/download_hpidata.php?type=1&file=influenza_pathogen_species_201908.mitab.zip\"\n",
    "    Organism_File_zip = Organism_Dir + Organism + '_pathogen_species_201908.mitab.zip'\n",
    "    # !wget -O {Organism_File_zip} {Influenza_Dir_URL}\n",
    "\n",
    "    r = requests.get(Organism_Dir_URL, allow_redirects=True)\n",
    "    open(Organism_File_zip, 'wb').write(r.content)\n",
    "\n",
    "    !unzip -o {Organism_File_zip} -d {Organism_Dir}\n",
    "\n",
    "    Organism_File_unziped = Organism_Dir #+ 'Organism_pathogen_species_201908.mitab'\n",
    "\n",
    "    Organism_File = glob(Organism_File_unziped + \"/*.mitab_plus.txt\")[0]\n",
    "    !ls {Organism_File}\n",
    "    \n",
    "    #########################\n",
    "\n",
    "    Organism_df = pd.read_csv(Organism_File, sep=\"\\t\")\n",
    "    \n",
    "    Organism_df = Organism_df.astype({'protein_taxid_1': 'str'})\n",
    "    Organism_df = Organism_df[Organism_df.protein_taxid_1 == '9606']\n",
    "    # print(Organism_df)\n",
    "    Organism_df = Organism_df[['# protein_xref_1', 'protein_xref_2']]\n",
    "    \n",
    "\n",
    "    Organism_df.columns = ['Human', Organism]\n",
    "    then = set(Organism_df.Human.unique())\n",
    "    print(\">>\", len(Organism_df.Human.unique()))\n",
    "    \n",
    "    Organism_df['Human'] = Organism_df['Human'].str.replace('uniprotkb:','')\n",
    "    Organism_df[Organism] = Organism_df[Organism].str.replace('uniprotkb',Organism)\n",
    "    Organism_df.drop_duplicates(inplace=True)\n",
    "    print(Organism_df.shape)\n",
    "    df_dip = Organism_df[(Organism_df['Human'].str.match('dip')) | (Organism_df[Organism].str.match('dip'))]\n",
    "    # print(df_dip)\n",
    "    if df_dip.shape[0]:\n",
    "        Organism_df = Organism_df[~(Organism_df['Human'].str.match('dip')) | ~(Organism_df[Organism].str.match('dip'))]\n",
    "        dip = df_dip.copy()\n",
    "        dip['Human'] = [i[-1] for i in df_dip['Human'].str.split('|',expand=False).values.tolist()]\n",
    "        dip[Organism] = [Organism+':'+i[-1] for i in df_dip[Organism].str.split('|',expand=False).values.tolist()]\n",
    "        Organism_df = Organism_df.append(dip, ignore_index = True)\n",
    "        # print(dip)\n",
    "        # print(Organism_df)\n",
    "        \n",
    "    df_entrez = Organism_df[(Organism_df['Human'].str.match('entrez')) | (Organism_df[Organism].str.match('entrez'))]\n",
    "    if df_entrez.shape[0]:\n",
    "        Organism_df = Organism_df[~(Organism_df['Human'].str.match('entrez')) | ~(Organism_df[Organism].str.match('entrez'))]\n",
    "        entrez = df_entrez.copy()\n",
    "        # print(entrez)\n",
    "        entrez['Human'] = [i[-1] for i in df_entrez['Human'].str.split(':',expand=False).values.tolist()]\n",
    "        entrez[Organism] = [Organism+':'+i[-1] for i in df_entrez[Organism].str.split(':',expand=False).values.tolist()]\n",
    "        # Entrez_Uniprot\n",
    "        entrez = map_annotations(Entrez_Uniprot, entrez)\n",
    "        Organism_df = Organism_df.append(entrez, ignore_index = True)\n",
    "        # print(entrez)\n",
    "    \n",
    "    Organism_df.to_csv(Organism_File.replace(\".txt\", \".tsv\"), sep=\"\\t\", index=False)\n",
    "    print(\">>>\", len(Organism_df.Human.unique()))\n",
    "    now = set(Organism_df.Human.unique())\n",
    "    print(\"<>\", len(then-now))\n",
    "    \n",
    "    # print(then)\n",
    "    # print(now)\n",
    "    \n",
    "    \n",
    "    return Organism_df\n",
    "\n",
    "# df = pre_pro_viral_data('Herpes', \"https://hpidb.igbb.msstate.edu/download_hpidata.php?type=1&file=herpes_viruses_pathogen_species_201908.mitab.zip\")\n",
    "# df"
   ]
  },
  {
   "cell_type": "code",
   "execution_count": null,
   "id": "74ab8a04-d697-4728-bdaa-a034d6c0e4b6",
   "metadata": {},
   "outputs": [],
   "source": []
  },
  {
   "cell_type": "markdown",
   "id": "664673ad-7b08-4783-873c-62a8fb9ca9d2",
   "metadata": {
    "tags": []
   },
   "source": [
    "## 1. Influenza"
   ]
  },
  {
   "cell_type": "code",
   "execution_count": 50,
   "id": "6265e35c-76be-4cb1-b8bf-41c361111585",
   "metadata": {},
   "outputs": [
    {
     "name": "stdout",
     "output_type": "stream",
     "text": [
      "Archive:  HPIDB_data/Influenza/Influenza_pathogen_species_201908.mitab.zip\n",
      "  inflating: HPIDB_data/Influenza/influenza_pathogen_species.mitab.txt  \n",
      "  inflating: HPIDB_data/Influenza/influenza_pathogen_species.mitab_plus.txt  \n",
      "HPIDB_data/Influenza/influenza_pathogen_species.mitab_plus.txt\n",
      ">> 2988\n",
      "(10817, 2)\n",
      ">>> 2974\n",
      "<> 2987\n"
     ]
    },
    {
     "data": {
      "text/html": [
       "<div>\n",
       "<style scoped>\n",
       "    .dataframe tbody tr th:only-of-type {\n",
       "        vertical-align: middle;\n",
       "    }\n",
       "\n",
       "    .dataframe tbody tr th {\n",
       "        vertical-align: top;\n",
       "    }\n",
       "\n",
       "    .dataframe thead th {\n",
       "        text-align: right;\n",
       "    }\n",
       "</style>\n",
       "<table border=\"1\" class=\"dataframe\">\n",
       "  <thead>\n",
       "    <tr style=\"text-align: right;\">\n",
       "      <th></th>\n",
       "      <th>Human</th>\n",
       "      <th>Influenza</th>\n",
       "    </tr>\n",
       "  </thead>\n",
       "  <tbody>\n",
       "    <tr>\n",
       "      <th>0</th>\n",
       "      <td>P17066</td>\n",
       "      <td>Influenza:Q01639</td>\n",
       "    </tr>\n",
       "    <tr>\n",
       "      <th>1</th>\n",
       "      <td>P05161</td>\n",
       "      <td>Influenza:P03502</td>\n",
       "    </tr>\n",
       "    <tr>\n",
       "      <th>2</th>\n",
       "      <td>Q99873</td>\n",
       "      <td>Influenza:P03493</td>\n",
       "    </tr>\n",
       "    <tr>\n",
       "      <th>3</th>\n",
       "      <td>O95841</td>\n",
       "      <td>Influenza:P03493</td>\n",
       "    </tr>\n",
       "    <tr>\n",
       "      <th>4</th>\n",
       "      <td>P60866</td>\n",
       "      <td>Influenza:P03493</td>\n",
       "    </tr>\n",
       "    <tr>\n",
       "      <th>...</th>\n",
       "      <td>...</td>\n",
       "      <td>...</td>\n",
       "    </tr>\n",
       "    <tr>\n",
       "      <th>10812</th>\n",
       "      <td>O00459</td>\n",
       "      <td>Influenza:Influenza:Q82506</td>\n",
       "    </tr>\n",
       "    <tr>\n",
       "      <th>10813</th>\n",
       "      <td>P52948</td>\n",
       "      <td>Influenza:Influenza:Q82506</td>\n",
       "    </tr>\n",
       "    <tr>\n",
       "      <th>10814</th>\n",
       "      <td>Q9UKK6</td>\n",
       "      <td>Influenza:Influenza:Q82506</td>\n",
       "    </tr>\n",
       "    <tr>\n",
       "      <th>10815</th>\n",
       "      <td>Q9BUJ2</td>\n",
       "      <td>Influenza:Influenza:Q82506</td>\n",
       "    </tr>\n",
       "    <tr>\n",
       "      <th>10816</th>\n",
       "      <td>P78406</td>\n",
       "      <td>Influenza:Influenza:Q82506</td>\n",
       "    </tr>\n",
       "  </tbody>\n",
       "</table>\n",
       "<p>10817 rows × 2 columns</p>\n",
       "</div>"
      ],
      "text/plain": [
       "        Human                   Influenza\n",
       "0      P17066            Influenza:Q01639\n",
       "1      P05161            Influenza:P03502\n",
       "2      Q99873            Influenza:P03493\n",
       "3      O95841            Influenza:P03493\n",
       "4      P60866            Influenza:P03493\n",
       "...       ...                         ...\n",
       "10812  O00459  Influenza:Influenza:Q82506\n",
       "10813  P52948  Influenza:Influenza:Q82506\n",
       "10814  Q9UKK6  Influenza:Influenza:Q82506\n",
       "10815  Q9BUJ2  Influenza:Influenza:Q82506\n",
       "10816  P78406  Influenza:Influenza:Q82506\n",
       "\n",
       "[10817 rows x 2 columns]"
      ]
     },
     "execution_count": 50,
     "metadata": {},
     "output_type": "execute_result"
    }
   ],
   "source": [
    "Influenza_df = pre_pro_viral_data('Influenza', \"https://hpidb.igbb.msstate.edu/download_hpidata.php?type=1&file=influenza_pathogen_species_201908.mitab.zip\")\n",
    "Influenza_df\n"
   ]
  },
  {
   "cell_type": "markdown",
   "id": "79d5bfe3-347d-4ba0-af02-a239b828d260",
   "metadata": {},
   "source": [
    "## 2. Herpes viruses"
   ]
  },
  {
   "cell_type": "code",
   "execution_count": 51,
   "id": "df0ed1cf-ae4f-497a-a018-af126763fb84",
   "metadata": {},
   "outputs": [
    {
     "name": "stdout",
     "output_type": "stream",
     "text": [
      "Archive:  HPIDB_data/Herpes/Herpes_pathogen_species_201908.mitab.zip\n",
      "  inflating: HPIDB_data/Herpes/herpes_viruses_pathogen_species.mitab.txt  \n",
      "  inflating: HPIDB_data/Herpes/herpes_viruses_pathogen_species.mitab_plus.txt  \n",
      "HPIDB_data/Herpes/herpes_viruses_pathogen_species.mitab_plus.txt\n",
      ">> 3079\n",
      "(7475, 2)\n",
      "UNMAPPED 92\n",
      ">>> 2513\n",
      "<> 3074\n"
     ]
    },
    {
     "data": {
      "text/html": [
       "<div>\n",
       "<style scoped>\n",
       "    .dataframe tbody tr th:only-of-type {\n",
       "        vertical-align: middle;\n",
       "    }\n",
       "\n",
       "    .dataframe tbody tr th {\n",
       "        vertical-align: top;\n",
       "    }\n",
       "\n",
       "    .dataframe thead th {\n",
       "        text-align: right;\n",
       "    }\n",
       "</style>\n",
       "<table border=\"1\" class=\"dataframe\">\n",
       "  <thead>\n",
       "    <tr style=\"text-align: right;\">\n",
       "      <th></th>\n",
       "      <th>Human</th>\n",
       "      <th>Herpes</th>\n",
       "    </tr>\n",
       "  </thead>\n",
       "  <tbody>\n",
       "    <tr>\n",
       "      <th>0</th>\n",
       "      <td>P08631</td>\n",
       "      <td>Herpes:Q9WNA9</td>\n",
       "    </tr>\n",
       "    <tr>\n",
       "      <th>1</th>\n",
       "      <td>P20226</td>\n",
       "      <td>Herpes:Q77ZG5</td>\n",
       "    </tr>\n",
       "    <tr>\n",
       "      <th>2</th>\n",
       "      <td>P28749</td>\n",
       "      <td>Herpes:Q77Q82</td>\n",
       "    </tr>\n",
       "    <tr>\n",
       "      <th>3</th>\n",
       "      <td>P27694</td>\n",
       "      <td>Herpes:D0UZU1</td>\n",
       "    </tr>\n",
       "    <tr>\n",
       "      <th>4</th>\n",
       "      <td>O15111</td>\n",
       "      <td>Herpes:Q76RF1</td>\n",
       "    </tr>\n",
       "    <tr>\n",
       "      <th>...</th>\n",
       "      <td>...</td>\n",
       "      <td>...</td>\n",
       "    </tr>\n",
       "    <tr>\n",
       "      <th>7470</th>\n",
       "      <td>O95071</td>\n",
       "      <td>Herpes:1487898</td>\n",
       "    </tr>\n",
       "    <tr>\n",
       "      <th>7471</th>\n",
       "      <td>P63279</td>\n",
       "      <td>Herpes:1497091</td>\n",
       "    </tr>\n",
       "    <tr>\n",
       "      <th>7472</th>\n",
       "      <td>P63165</td>\n",
       "      <td>Herpes:1497087</td>\n",
       "    </tr>\n",
       "    <tr>\n",
       "      <th>7473</th>\n",
       "      <td>P04637</td>\n",
       "      <td>Herpes:1497013</td>\n",
       "    </tr>\n",
       "    <tr>\n",
       "      <th>7474</th>\n",
       "      <td>O95071</td>\n",
       "      <td>Herpes:1497013</td>\n",
       "    </tr>\n",
       "  </tbody>\n",
       "</table>\n",
       "<p>7475 rows × 2 columns</p>\n",
       "</div>"
      ],
      "text/plain": [
       "       Human          Herpes\n",
       "0     P08631   Herpes:Q9WNA9\n",
       "1     P20226   Herpes:Q77ZG5\n",
       "2     P28749   Herpes:Q77Q82\n",
       "3     P27694   Herpes:D0UZU1\n",
       "4     O15111   Herpes:Q76RF1\n",
       "...      ...             ...\n",
       "7470  O95071  Herpes:1487898\n",
       "7471  P63279  Herpes:1497091\n",
       "7472  P63165  Herpes:1497087\n",
       "7473  P04637  Herpes:1497013\n",
       "7474  O95071  Herpes:1497013\n",
       "\n",
       "[7475 rows x 2 columns]"
      ]
     },
     "execution_count": 51,
     "metadata": {},
     "output_type": "execute_result"
    }
   ],
   "source": [
    "Herpes_df = pre_pro_viral_data('Herpes', \"https://hpidb.igbb.msstate.edu/download_hpidata.php?type=1&file=herpes_viruses_pathogen_species_201908.mitab.zip\")\n",
    "Herpes_df"
   ]
  },
  {
   "cell_type": "markdown",
   "id": "3269eb83-fd6a-4c3c-8155-edc3b9a7f571",
   "metadata": {},
   "source": [
    "## 3. Papillomaviruses"
   ]
  },
  {
   "cell_type": "code",
   "execution_count": 52,
   "id": "32e0bcc1-9291-4857-ba4e-fcf8f0eacdd7",
   "metadata": {},
   "outputs": [
    {
     "name": "stdout",
     "output_type": "stream",
     "text": [
      "Archive:  HPIDB_data/Papillomaviruses/Papillomaviruses_pathogen_species_201908.mitab.zip\n",
      "  inflating: HPIDB_data/Papillomaviruses/papillomaviruses_pathogen_species.mitab.txt  \n",
      "  inflating: HPIDB_data/Papillomaviruses/papillomaviruses_pathogen_species.mitab_plus.txt  \n",
      "HPIDB_data/Papillomaviruses/papillomaviruses_pathogen_species.mitab_plus.txt\n",
      ">> 2245\n",
      "(5415, 2)\n",
      "UNMAPPED 2\n",
      ">>> 2224\n",
      "<> 2245\n"
     ]
    },
    {
     "data": {
      "text/html": [
       "<div>\n",
       "<style scoped>\n",
       "    .dataframe tbody tr th:only-of-type {\n",
       "        vertical-align: middle;\n",
       "    }\n",
       "\n",
       "    .dataframe tbody tr th {\n",
       "        vertical-align: top;\n",
       "    }\n",
       "\n",
       "    .dataframe thead th {\n",
       "        text-align: right;\n",
       "    }\n",
       "</style>\n",
       "<table border=\"1\" class=\"dataframe\">\n",
       "  <thead>\n",
       "    <tr style=\"text-align: right;\">\n",
       "      <th></th>\n",
       "      <th>Human</th>\n",
       "      <th>Papillomaviruses</th>\n",
       "    </tr>\n",
       "  </thead>\n",
       "  <tbody>\n",
       "    <tr>\n",
       "      <th>0</th>\n",
       "      <td>Q12959</td>\n",
       "      <td>Papillomaviruses:P27962</td>\n",
       "    </tr>\n",
       "    <tr>\n",
       "      <th>1</th>\n",
       "      <td>O15111</td>\n",
       "      <td>Papillomaviruses:P50778</td>\n",
       "    </tr>\n",
       "    <tr>\n",
       "      <th>2</th>\n",
       "      <td>O15111</td>\n",
       "      <td>Papillomaviruses:Q6TY35</td>\n",
       "    </tr>\n",
       "    <tr>\n",
       "      <th>3</th>\n",
       "      <td>P20226</td>\n",
       "      <td>Papillomaviruses:P06422</td>\n",
       "    </tr>\n",
       "    <tr>\n",
       "      <th>4</th>\n",
       "      <td>P21333</td>\n",
       "      <td>Papillomaviruses:P06428</td>\n",
       "    </tr>\n",
       "    <tr>\n",
       "      <th>...</th>\n",
       "      <td>...</td>\n",
       "      <td>...</td>\n",
       "    </tr>\n",
       "    <tr>\n",
       "      <th>5410</th>\n",
       "      <td>Q92793</td>\n",
       "      <td>Papillomaviruses:1489079</td>\n",
       "    </tr>\n",
       "    <tr>\n",
       "      <th>5411</th>\n",
       "      <td>Q92793</td>\n",
       "      <td>Papillomaviruses:1489078</td>\n",
       "    </tr>\n",
       "    <tr>\n",
       "      <th>5412</th>\n",
       "      <td>P20248</td>\n",
       "      <td>Papillomaviruses:1489079</td>\n",
       "    </tr>\n",
       "    <tr>\n",
       "      <th>5413</th>\n",
       "      <td>Q09472</td>\n",
       "      <td>Papillomaviruses:1489078</td>\n",
       "    </tr>\n",
       "    <tr>\n",
       "      <th>5414</th>\n",
       "      <td>Q92831</td>\n",
       "      <td>Papillomaviruses:1489079</td>\n",
       "    </tr>\n",
       "  </tbody>\n",
       "</table>\n",
       "<p>5415 rows × 2 columns</p>\n",
       "</div>"
      ],
      "text/plain": [
       "       Human          Papillomaviruses\n",
       "0     Q12959   Papillomaviruses:P27962\n",
       "1     O15111   Papillomaviruses:P50778\n",
       "2     O15111   Papillomaviruses:Q6TY35\n",
       "3     P20226   Papillomaviruses:P06422\n",
       "4     P21333   Papillomaviruses:P06428\n",
       "...      ...                       ...\n",
       "5410  Q92793  Papillomaviruses:1489079\n",
       "5411  Q92793  Papillomaviruses:1489078\n",
       "5412  P20248  Papillomaviruses:1489079\n",
       "5413  Q09472  Papillomaviruses:1489078\n",
       "5414  Q92831  Papillomaviruses:1489079\n",
       "\n",
       "[5415 rows x 2 columns]"
      ]
     },
     "execution_count": 52,
     "metadata": {},
     "output_type": "execute_result"
    }
   ],
   "source": [
    "Papillomaviruses_df = pre_pro_viral_data('Papillomaviruses', \"https://hpidb.igbb.msstate.edu/download_hpidata.php?type=1&file=papillomaviruses_pathogen_species_201908.mitab.zip\")\n",
    "Papillomaviruses_df\n"
   ]
  },
  {
   "cell_type": "code",
   "execution_count": null,
   "id": "6f65abe9-c1ef-4492-af57-631ac699381b",
   "metadata": {},
   "outputs": [],
   "source": []
  },
  {
   "cell_type": "code",
   "execution_count": null,
   "id": "ceff9081-ad35-4b0e-83ae-2cef8aa532ae",
   "metadata": {},
   "outputs": [],
   "source": []
  },
  {
   "cell_type": "code",
   "execution_count": 53,
   "id": "542c4063-44aa-44c8-81e2-7e70d748a8c6",
   "metadata": {},
   "outputs": [
    {
     "name": "stdout",
     "output_type": "stream",
     "text": [
      "HPIDB_data/\n",
      "├── Herpes\n",
      "│   ├── Herpes_pathogen_species_201908.mitab.zip\n",
      "│   ├── herpes_viruses_pathogen_species.mitab_plus_attr.txt\n",
      "│   ├── herpes_viruses_pathogen_species.mitab_plus.tsv\n",
      "│   ├── herpes_viruses_pathogen_species.mitab_plus.txt\n",
      "│   └── herpes_viruses_pathogen_species.mitab.txt\n",
      "├── Influenza\n",
      "│   ├── Influenza_pathogen_species_201908.mitab.zip\n",
      "│   ├── influenza_pathogen_species.mitab_plus_attr.txt\n",
      "│   ├── influenza_pathogen_species.mitab_plus.tsv\n",
      "│   ├── influenza_pathogen_species.mitab_plus.txt\n",
      "│   └── influenza_pathogen_species.mitab.txt\n",
      "└── Papillomaviruses\n",
      "    ├── Papillomaviruses_pathogen_species_201908.mitab.zip\n",
      "    ├── papillomaviruses_pathogen_species.mitab_plus_attr.txt\n",
      "    ├── papillomaviruses_pathogen_species.mitab_plus.tsv\n",
      "    ├── papillomaviruses_pathogen_species.mitab_plus.txt\n",
      "    └── papillomaviruses_pathogen_species.mitab.txt\n",
      "\n",
      "3 directories, 15 files\n"
     ]
    }
   ],
   "source": [
    "!tree {HPIDB_Dir}"
   ]
  },
  {
   "cell_type": "code",
   "execution_count": 54,
   "id": "c44b07b7-b31f-44b7-ba14-e47aa3df7d98",
   "metadata": {},
   "outputs": [],
   "source": [
    "from upsetplot import UpSet\n",
    "from upsetplot import from_contents"
   ]
  },
  {
   "cell_type": "code",
   "execution_count": 55,
   "id": "79bf3329-4590-4a69-b1c4-a656b9f35437",
   "metadata": {},
   "outputs": [
    {
     "data": {
      "text/plain": [
       "['STRING', 'HuRI', 'BioPlex', 'CoFrac', 'QUBIC']"
      ]
     },
     "execution_count": 55,
     "metadata": {},
     "output_type": "execute_result"
    }
   ],
   "source": [
    "list(Networks_data)"
   ]
  },
  {
   "cell_type": "code",
   "execution_count": 56,
   "id": "7f14f859-38d4-4542-92b8-ada16237e036",
   "metadata": {},
   "outputs": [],
   "source": [
    "def Upset_prep(Target, Target_name):\n",
    "    Uset_data = defaultdict(dict)\n",
    "    Uset_data[Target_name] = set(Target.Human.unique())\n",
    "    for net in Networks_data:\n",
    "\n",
    "        df = Networks_data[net]\n",
    "        nodes = set(df.IDa.unique()).union(set(df.IDb.unique()))\n",
    "        Uset_data[net] = nodes\n",
    "\n",
    "        # break\n",
    "        \n",
    "    return Uset_data\n",
    "\n"
   ]
  },
  {
   "cell_type": "code",
   "execution_count": 57,
   "id": "e8f1e7c9-cb62-463e-9956-59e815f971d0",
   "metadata": {},
   "outputs": [
    {
     "data": {
      "text/plain": [
       "{'matrix': <AxesSubplot:>,\n",
       " 'shading': <AxesSubplot:>,\n",
       " 'totals': <AxesSubplot:>,\n",
       " 'intersections': <AxesSubplot:ylabel='Intersection size'>}"
      ]
     },
     "execution_count": 57,
     "metadata": {},
     "output_type": "execute_result"
    },
    {
     "data": {
      "image/png": "[encoded data removed]",
      "text/plain": [
       "<Figure size 1856x384 with 4 Axes>"
      ]
     },
     "metadata": {
      "needs_background": "light"
     },
     "output_type": "display_data"
    }
   ],
   "source": [
    "Data = Upset_prep(Influenza_df, 'Influenza')\n",
    "\n",
    "Data = from_contents(Data)\n",
    "Data\n",
    "upset = UpSet(Data, subset_size='count', show_counts=True)\n",
    "upset.style_subsets(present=\"Influenza\", edgecolor=\"red\",\n",
    "                    linewidth=2)\n",
    "upset.plot()"
   ]
  },
  {
   "cell_type": "code",
   "execution_count": 58,
   "id": "0f2c0983-f413-4c94-9939-60243ad9b9ed",
   "metadata": {},
   "outputs": [
    {
     "data": {
      "text/plain": [
       "{'matrix': <AxesSubplot:>,\n",
       " 'shading': <AxesSubplot:>,\n",
       " 'totals': <AxesSubplot:>,\n",
       " 'intersections': <AxesSubplot:ylabel='Intersection size'>}"
      ]
     },
     "execution_count": 58,
     "metadata": {},
     "output_type": "execute_result"
    },
    {
     "data": {
      "image/png": "[encoded data removed]",
      "text/plain": [
       "<Figure size 1824x384 with 4 Axes>"
      ]
     },
     "metadata": {
      "needs_background": "light"
     },
     "output_type": "display_data"
    }
   ],
   "source": [
    "Data = Upset_prep(Herpes_df, 'Herpes')\n",
    "\n",
    "Data = from_contents(Data)\n",
    "Data\n",
    "upset = UpSet(Data, subset_size='count', show_counts=True)\n",
    "upset.style_subsets(present=\"Herpes\", edgecolor=\"blue\",\n",
    "                    linewidth=2)\n",
    "upset.plot()"
   ]
  },
  {
   "cell_type": "code",
   "execution_count": 59,
   "id": "dd6ad325-c98f-44dc-99f0-9b89272f0980",
   "metadata": {},
   "outputs": [
    {
     "data": {
      "text/plain": [
       "{'matrix': <AxesSubplot:>,\n",
       " 'shading': <AxesSubplot:>,\n",
       " 'totals': <AxesSubplot:>,\n",
       " 'intersections': <AxesSubplot:ylabel='Intersection size'>}"
      ]
     },
     "execution_count": 59,
     "metadata": {},
     "output_type": "execute_result"
    },
    {
     "data": {
      "image/png": "[encoded data removed]",
      "text/plain": [
       "<Figure size 1824x384 with 4 Axes>"
      ]
     },
     "metadata": {
      "needs_background": "light"
     },
     "output_type": "display_data"
    }
   ],
   "source": [
    "Data = Upset_prep(Papillomaviruses_df, 'Papillomaviruses')\n",
    "\n",
    "Data = from_contents(Data)\n",
    "Data\n",
    "upset = UpSet(Data, subset_size='count', show_counts=True)\n",
    "upset.style_subsets(present=\"Papillomaviruses\", edgecolor=\"magenta\",\n",
    "                    linewidth=2)\n",
    "upset.plot()"
   ]
  },
  {
   "cell_type": "code",
   "execution_count": 60,
   "id": "aff62cd3-9062-4b3d-bc9d-b5484d2cd18e",
   "metadata": {},
   "outputs": [],
   "source": [
    "# !pip install upsetplot"
   ]
  },
  {
   "cell_type": "code",
   "execution_count": 61,
   "id": "e4d036c7-6216-48b8-bf87-2b2c36ceffbd",
   "metadata": {},
   "outputs": [],
   "source": [
    "# https://downloads.thebiogrid.org/File/BioGRID/Release-Archive/BIOGRID-4.4.207/BIOGRID-ORGANISM-4.4.207.tab3.zip\n",
    "# https://wiki.thebiogrid.org/doku.php/downloads\n",
    "# http://pathguide.org/\n",
    "# https://www.sciencedirect.com/science/article/pii/S1532046420300071#m0005\n",
    "# https://sci-hub.se/10.1016/j.tibs.2017.02.006\n",
    "# https://twin.sci-hub.se/6290/1ad8b5598c3e240d46a0e5b38580b4c2/luck2017.pdf#page=12&zoom=100,0,0\n",
    "# http://mentha.uniroma2.it/download.php\n",
    "# https://www.hsls.pitt.edu/obrc/index.php?page=URL1174589670\n",
    "# https://watermark.silverchair.com/gkt1100.pdf?token=AQECAHi208BE49Ooan9kkhW_Ercy7Dm3ZL_9Cf3qfKAc485ysgAAAsAwggK8BgkqhkiG9w0BBwagggKtMIICqQIBADCCAqIGCSqGSIb3DQEHATAeBglghkgBZQMEAS4wEQQM4gYSzY0oNWfWoVqWAgEQgIICcwuQbHlpSdNMShS84QoPRqIoYwjd9KvLsDDDnEB3QNlVMBhhokcbFqkscKkKEK8rI7iVH8VjHD0dxjJcU7eXPmzUWB3QuStQTDsOS73wh9q4UFR3MYEJl9ghwGw8W24UQuDDV7IbrX77a8pdPip1tO10WxvwfrRKtaWqECxgOIqf18qJHCCN9Ea4OqBHNBA-B9mu3nB3hwWdXVwtTPdbK2ASU_8gFCR4Oei2KvhK4RHnu8HfwL1a9hUsG4xFeWTujKtvHbExH99jLhV50v0Y_kkWAA1200i7WA9E4iNCR0pAuadTZm4xH-z3dEHNwKJtZjIYsby-W5no6Rry8Efj_IcjTmUe_hgUgFSSKVb7mmFW-i8d72oswQveLH036HBpsEK2Xa0_Wi52cpoJ7wVvJY-LniUQP60pMtvUG0aGkmZIpzGvDssb_RXuTQN-BcbRTwOoccE5MWzexmodLzHBB3dTBqmJgKUXFErAhWsWECFnruuFUMQLT7DKTY5A5q0mlrNAmnmBPASWJMmzSqYTFczWiZo7-th0aVquNhRBP14wt1euZ4ZQKdHHKwEctVat4doBkP3fGBddnlihbktVjbB3iMGu4iOknCdxKFx999yESzZ4aB-hnGD67AP4WtYOVPaLv6prGoPpLumW4yUDPj1xBIH8TigWeRzH4VvOKgho8MCMllG9ltKqymorygixQ_OoRMtO5f-YhYN8fNNFnECfsCYTtm_zh2IghXyo5AzZnoGiIO3HjnvqPSK-vdPiUitf_UfjJAQTrRa3jMfF4mBx0aZobs3hxw3dyICAMWwHSuqhFM-J0s3xN7LpPg90-pgfwg\n",
    "# https://www.nature.com/articles/s41586-020-2188-x\n",
    "# http://www.interactome-atlas.org/download\n",
    "# http://useast.ensembl.org/biomart/martview/95543725eb96c3b83ea95011878b076b\n",
    "# https://www.uniprot.org/uniprot/P00813\n",
    "# https://stackoverflow.com/questions/37333299/splitting-a-pandas-dataframe-column-by-delimiter\n",
    "# https://www.uniprot.org/uniprot/A0FGR8\n",
    "# https://string-db.org/cgi/network?taskId=bOMFVNx6w50i&sessionId=boQqB60jRmId\n",
    "# https://pandas.pydata.org/docs/reference/api/pandas.DataFrame.query.html\n",
    "# https://stackoverflow.com/questions/19841535/python-matplotlib-venn-diagram\n",
    "# https://towardsdatascience.com/how-to-create-and-customize-venn-diagrams-in-python-263555527305\n",
    "# https://upsetplot.readthedocs.io/en/stable/formats.html#Use-DataFrame-as-input:\n",
    "# https://stackoverflow.com/questions/23307301/replacing-column-values-in-a-pandas-dataframe\n",
    "# https://pandas.pydata.org/docs/reference/api/pandas.Series.map.html\n"
   ]
  }
 ],
 "metadata": {
  "kernelspec": {
   "display_name": "Python 3 (ipykernel)",
   "language": "python",
   "name": "python3"
  },
  "language_info": {
   "codemirror_mode": {
    "name": "ipython",
    "version": 3
   },
   "file_extension": ".py",
   "mimetype": "text/x-python",
   "name": "python",
   "nbconvert_exporter": "python",
   "pygments_lexer": "ipython3",
   "version": "3.9.7"
  }
 },
 "nbformat": 4,
 "nbformat_minor": 5
}
