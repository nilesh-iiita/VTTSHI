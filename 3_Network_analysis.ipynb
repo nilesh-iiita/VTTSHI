{
 "cells": [
  {
   "cell_type": "markdown",
   "id": "e36085f5-d10e-411b-9dec-8918ee6dbef6",
   "metadata": {},
   "source": [
    "# Pathways analysis using GSEAPY"
   ]
  },
  {
   "cell_type": "code",
   "execution_count": 33,
   "id": "ca064909-04d8-4ad5-b5ba-503ec49cab62",
   "metadata": {},
   "outputs": [],
   "source": [
    "# !pip install gseapy"
   ]
  },
  {
   "cell_type": "markdown",
   "id": "1b34c58f-19e1-44f1-94be-3e2d95d55ce1",
   "metadata": {},
   "source": [
    "# Read network data"
   ]
  },
  {
   "cell_type": "code",
   "execution_count": 34,
   "id": "a3da5be4-223d-4c41-bf39-64c8e8034e43",
   "metadata": {},
   "outputs": [],
   "source": [
    "import pandas as pd\n",
    "from collections import defaultdict\n",
    "import plotly.graph_objects as go\n",
    "import plotly.express as px\n",
    "import numpy as np"
   ]
  },
  {
   "cell_type": "code",
   "execution_count": 35,
   "id": "9cc19e33-6746-4bee-a85d-74d38010c759",
   "metadata": {},
   "outputs": [
    {
     "data": {
      "text/html": [
       "<div>\n",
       "<style scoped>\n",
       "    .dataframe tbody tr th:only-of-type {\n",
       "        vertical-align: middle;\n",
       "    }\n",
       "\n",
       "    .dataframe tbody tr th {\n",
       "        vertical-align: top;\n",
       "    }\n",
       "\n",
       "    .dataframe thead th {\n",
       "        text-align: right;\n",
       "    }\n",
       "</style>\n",
       "<table border=\"1\" class=\"dataframe\">\n",
       "  <thead>\n",
       "    <tr style=\"text-align: right;\">\n",
       "      <th></th>\n",
       "      <th>SUID</th>\n",
       "      <th>_wks_percentile_bucket</th>\n",
       "      <th>_wkshell</th>\n",
       "      <th>AverageShortestPathLength</th>\n",
       "      <th>BetweennessCentrality</th>\n",
       "      <th>ClosenessCentrality</th>\n",
       "      <th>ClusteringCoefficient</th>\n",
       "      <th>Degree</th>\n",
       "      <th>Eccentricity</th>\n",
       "      <th>IsSingleNode</th>\n",
       "      <th>...</th>\n",
       "      <th>NeighborhoodConnectivity</th>\n",
       "      <th>NumberOfDirectedEdges</th>\n",
       "      <th>NumberOfUndirectedEdges</th>\n",
       "      <th>PartnerOfMultiEdgedNodePairs</th>\n",
       "      <th>Radiality</th>\n",
       "      <th>selected</th>\n",
       "      <th>SelfLoops</th>\n",
       "      <th>shared name</th>\n",
       "      <th>Stress</th>\n",
       "      <th>TopologicalCoefficient</th>\n",
       "    </tr>\n",
       "  </thead>\n",
       "  <tbody>\n",
       "    <tr>\n",
       "      <th>0</th>\n",
       "      <td>72</td>\n",
       "      <td>0</td>\n",
       "      <td>3</td>\n",
       "      <td>5.815510</td>\n",
       "      <td>0.000000</td>\n",
       "      <td>0.171954</td>\n",
       "      <td>0.000000</td>\n",
       "      <td>1</td>\n",
       "      <td>8</td>\n",
       "      <td>False</td>\n",
       "      <td>...</td>\n",
       "      <td>4.000000</td>\n",
       "      <td>1</td>\n",
       "      <td>0</td>\n",
       "      <td>0</td>\n",
       "      <td>0.464943</td>\n",
       "      <td>False</td>\n",
       "      <td>0</td>\n",
       "      <td>O15484</td>\n",
       "      <td>0</td>\n",
       "      <td>0.000000</td>\n",
       "    </tr>\n",
       "    <tr>\n",
       "      <th>1</th>\n",
       "      <td>73</td>\n",
       "      <td>0</td>\n",
       "      <td>3</td>\n",
       "      <td>5.815510</td>\n",
       "      <td>0.000000</td>\n",
       "      <td>0.171954</td>\n",
       "      <td>0.000000</td>\n",
       "      <td>1</td>\n",
       "      <td>8</td>\n",
       "      <td>False</td>\n",
       "      <td>...</td>\n",
       "      <td>4.000000</td>\n",
       "      <td>1</td>\n",
       "      <td>0</td>\n",
       "      <td>0</td>\n",
       "      <td>0.464943</td>\n",
       "      <td>False</td>\n",
       "      <td>0</td>\n",
       "      <td>Q8N3S3</td>\n",
       "      <td>0</td>\n",
       "      <td>0.000000</td>\n",
       "    </tr>\n",
       "    <tr>\n",
       "      <th>2</th>\n",
       "      <td>74</td>\n",
       "      <td>0</td>\n",
       "      <td>3</td>\n",
       "      <td>5.815510</td>\n",
       "      <td>0.000000</td>\n",
       "      <td>0.171954</td>\n",
       "      <td>0.000000</td>\n",
       "      <td>1</td>\n",
       "      <td>8</td>\n",
       "      <td>False</td>\n",
       "      <td>...</td>\n",
       "      <td>4.000000</td>\n",
       "      <td>1</td>\n",
       "      <td>0</td>\n",
       "      <td>0</td>\n",
       "      <td>0.464943</td>\n",
       "      <td>False</td>\n",
       "      <td>0</td>\n",
       "      <td>Q8NFN8</td>\n",
       "      <td>0</td>\n",
       "      <td>0.000000</td>\n",
       "    </tr>\n",
       "    <tr>\n",
       "      <th>3</th>\n",
       "      <td>75</td>\n",
       "      <td>0</td>\n",
       "      <td>2</td>\n",
       "      <td>5.280182</td>\n",
       "      <td>0.000000</td>\n",
       "      <td>0.189387</td>\n",
       "      <td>0.000000</td>\n",
       "      <td>1</td>\n",
       "      <td>8</td>\n",
       "      <td>False</td>\n",
       "      <td>...</td>\n",
       "      <td>2.000000</td>\n",
       "      <td>1</td>\n",
       "      <td>0</td>\n",
       "      <td>0</td>\n",
       "      <td>0.524424</td>\n",
       "      <td>False</td>\n",
       "      <td>0</td>\n",
       "      <td>Q8N699</td>\n",
       "      <td>0</td>\n",
       "      <td>0.000000</td>\n",
       "    </tr>\n",
       "    <tr>\n",
       "      <th>4</th>\n",
       "      <td>76</td>\n",
       "      <td>0</td>\n",
       "      <td>2</td>\n",
       "      <td>5.378634</td>\n",
       "      <td>0.000000</td>\n",
       "      <td>0.185921</td>\n",
       "      <td>0.000000</td>\n",
       "      <td>1</td>\n",
       "      <td>8</td>\n",
       "      <td>False</td>\n",
       "      <td>...</td>\n",
       "      <td>2.000000</td>\n",
       "      <td>1</td>\n",
       "      <td>0</td>\n",
       "      <td>0</td>\n",
       "      <td>0.513485</td>\n",
       "      <td>False</td>\n",
       "      <td>0</td>\n",
       "      <td>P04070</td>\n",
       "      <td>0</td>\n",
       "      <td>0.000000</td>\n",
       "    </tr>\n",
       "    <tr>\n",
       "      <th>...</th>\n",
       "      <td>...</td>\n",
       "      <td>...</td>\n",
       "      <td>...</td>\n",
       "      <td>...</td>\n",
       "      <td>...</td>\n",
       "      <td>...</td>\n",
       "      <td>...</td>\n",
       "      <td>...</td>\n",
       "      <td>...</td>\n",
       "      <td>...</td>\n",
       "      <td>...</td>\n",
       "      <td>...</td>\n",
       "      <td>...</td>\n",
       "      <td>...</td>\n",
       "      <td>...</td>\n",
       "      <td>...</td>\n",
       "      <td>...</td>\n",
       "      <td>...</td>\n",
       "      <td>...</td>\n",
       "      <td>...</td>\n",
       "      <td>...</td>\n",
       "    </tr>\n",
       "    <tr>\n",
       "      <th>9426</th>\n",
       "      <td>9498</td>\n",
       "      <td>95</td>\n",
       "      <td>731</td>\n",
       "      <td>2.897199</td>\n",
       "      <td>0.002913</td>\n",
       "      <td>0.345161</td>\n",
       "      <td>0.034177</td>\n",
       "      <td>80</td>\n",
       "      <td>6</td>\n",
       "      <td>False</td>\n",
       "      <td>...</td>\n",
       "      <td>41.737500</td>\n",
       "      <td>80</td>\n",
       "      <td>0</td>\n",
       "      <td>0</td>\n",
       "      <td>0.789200</td>\n",
       "      <td>False</td>\n",
       "      <td>0</td>\n",
       "      <td>O96008</td>\n",
       "      <td>5341184</td>\n",
       "      <td>0.021698</td>\n",
       "    </tr>\n",
       "    <tr>\n",
       "      <th>9427</th>\n",
       "      <td>9499</td>\n",
       "      <td>95</td>\n",
       "      <td>537</td>\n",
       "      <td>3.199873</td>\n",
       "      <td>0.001470</td>\n",
       "      <td>0.312512</td>\n",
       "      <td>0.016194</td>\n",
       "      <td>39</td>\n",
       "      <td>6</td>\n",
       "      <td>False</td>\n",
       "      <td>...</td>\n",
       "      <td>20.564103</td>\n",
       "      <td>39</td>\n",
       "      <td>0</td>\n",
       "      <td>0</td>\n",
       "      <td>0.755570</td>\n",
       "      <td>False</td>\n",
       "      <td>0</td>\n",
       "      <td>Q9Y3D6</td>\n",
       "      <td>2308290</td>\n",
       "      <td>0.037730</td>\n",
       "    </tr>\n",
       "    <tr>\n",
       "      <th>9428</th>\n",
       "      <td>9500</td>\n",
       "      <td>10</td>\n",
       "      <td>38</td>\n",
       "      <td>3.939953</td>\n",
       "      <td>0.000011</td>\n",
       "      <td>0.253810</td>\n",
       "      <td>0.000000</td>\n",
       "      <td>3</td>\n",
       "      <td>6</td>\n",
       "      <td>False</td>\n",
       "      <td>...</td>\n",
       "      <td>26.666667</td>\n",
       "      <td>3</td>\n",
       "      <td>0</td>\n",
       "      <td>0</td>\n",
       "      <td>0.673339</td>\n",
       "      <td>False</td>\n",
       "      <td>0</td>\n",
       "      <td>Q08629</td>\n",
       "      <td>5434</td>\n",
       "      <td>0.333333</td>\n",
       "    </tr>\n",
       "    <tr>\n",
       "      <th>9429</th>\n",
       "      <td>9501</td>\n",
       "      <td>5</td>\n",
       "      <td>22</td>\n",
       "      <td>4.541163</td>\n",
       "      <td>0.000221</td>\n",
       "      <td>0.220208</td>\n",
       "      <td>0.000000</td>\n",
       "      <td>5</td>\n",
       "      <td>7</td>\n",
       "      <td>False</td>\n",
       "      <td>...</td>\n",
       "      <td>4.800000</td>\n",
       "      <td>5</td>\n",
       "      <td>0</td>\n",
       "      <td>0</td>\n",
       "      <td>0.606537</td>\n",
       "      <td>False</td>\n",
       "      <td>0</td>\n",
       "      <td>O75841</td>\n",
       "      <td>335102</td>\n",
       "      <td>0.211111</td>\n",
       "    </tr>\n",
       "    <tr>\n",
       "      <th>9430</th>\n",
       "      <td>9502</td>\n",
       "      <td>20</td>\n",
       "      <td>65</td>\n",
       "      <td>3.835031</td>\n",
       "      <td>0.000153</td>\n",
       "      <td>0.260754</td>\n",
       "      <td>0.000000</td>\n",
       "      <td>4</td>\n",
       "      <td>7</td>\n",
       "      <td>False</td>\n",
       "      <td>...</td>\n",
       "      <td>31.750000</td>\n",
       "      <td>4</td>\n",
       "      <td>0</td>\n",
       "      <td>0</td>\n",
       "      <td>0.684997</td>\n",
       "      <td>False</td>\n",
       "      <td>0</td>\n",
       "      <td>Q9BXK5</td>\n",
       "      <td>243740</td>\n",
       "      <td>0.262821</td>\n",
       "    </tr>\n",
       "  </tbody>\n",
       "</table>\n",
       "<p>9431 rows × 21 columns</p>\n",
       "</div>"
      ],
      "text/plain": [
       "      SUID  _wks_percentile_bucket  _wkshell  AverageShortestPathLength  \\\n",
       "0       72                       0         3                   5.815510   \n",
       "1       73                       0         3                   5.815510   \n",
       "2       74                       0         3                   5.815510   \n",
       "3       75                       0         2                   5.280182   \n",
       "4       76                       0         2                   5.378634   \n",
       "...    ...                     ...       ...                        ...   \n",
       "9426  9498                      95       731                   2.897199   \n",
       "9427  9499                      95       537                   3.199873   \n",
       "9428  9500                      10        38                   3.939953   \n",
       "9429  9501                       5        22                   4.541163   \n",
       "9430  9502                      20        65                   3.835031   \n",
       "\n",
       "      BetweennessCentrality  ClosenessCentrality  ClusteringCoefficient  \\\n",
       "0                  0.000000             0.171954               0.000000   \n",
       "1                  0.000000             0.171954               0.000000   \n",
       "2                  0.000000             0.171954               0.000000   \n",
       "3                  0.000000             0.189387               0.000000   \n",
       "4                  0.000000             0.185921               0.000000   \n",
       "...                     ...                  ...                    ...   \n",
       "9426               0.002913             0.345161               0.034177   \n",
       "9427               0.001470             0.312512               0.016194   \n",
       "9428               0.000011             0.253810               0.000000   \n",
       "9429               0.000221             0.220208               0.000000   \n",
       "9430               0.000153             0.260754               0.000000   \n",
       "\n",
       "      Degree  Eccentricity  IsSingleNode  ... NeighborhoodConnectivity  \\\n",
       "0          1             8         False  ...                 4.000000   \n",
       "1          1             8         False  ...                 4.000000   \n",
       "2          1             8         False  ...                 4.000000   \n",
       "3          1             8         False  ...                 2.000000   \n",
       "4          1             8         False  ...                 2.000000   \n",
       "...      ...           ...           ...  ...                      ...   \n",
       "9426      80             6         False  ...                41.737500   \n",
       "9427      39             6         False  ...                20.564103   \n",
       "9428       3             6         False  ...                26.666667   \n",
       "9429       5             7         False  ...                 4.800000   \n",
       "9430       4             7         False  ...                31.750000   \n",
       "\n",
       "      NumberOfDirectedEdges  NumberOfUndirectedEdges  \\\n",
       "0                         1                        0   \n",
       "1                         1                        0   \n",
       "2                         1                        0   \n",
       "3                         1                        0   \n",
       "4                         1                        0   \n",
       "...                     ...                      ...   \n",
       "9426                     80                        0   \n",
       "9427                     39                        0   \n",
       "9428                      3                        0   \n",
       "9429                      5                        0   \n",
       "9430                      4                        0   \n",
       "\n",
       "      PartnerOfMultiEdgedNodePairs  Radiality  selected  SelfLoops  \\\n",
       "0                                0   0.464943     False          0   \n",
       "1                                0   0.464943     False          0   \n",
       "2                                0   0.464943     False          0   \n",
       "3                                0   0.524424     False          0   \n",
       "4                                0   0.513485     False          0   \n",
       "...                            ...        ...       ...        ...   \n",
       "9426                             0   0.789200     False          0   \n",
       "9427                             0   0.755570     False          0   \n",
       "9428                             0   0.673339     False          0   \n",
       "9429                             0   0.606537     False          0   \n",
       "9430                             0   0.684997     False          0   \n",
       "\n",
       "      shared name   Stress  TopologicalCoefficient  \n",
       "0          O15484        0                0.000000  \n",
       "1          Q8N3S3        0                0.000000  \n",
       "2          Q8NFN8        0                0.000000  \n",
       "3          Q8N699        0                0.000000  \n",
       "4          P04070        0                0.000000  \n",
       "...           ...      ...                     ...  \n",
       "9426       O96008  5341184                0.021698  \n",
       "9427       Q9Y3D6  2308290                0.037730  \n",
       "9428       Q08629     5434                0.333333  \n",
       "9429       O75841   335102                0.211111  \n",
       "9430       Q9BXK5   243740                0.262821  \n",
       "\n",
       "[9431 rows x 21 columns]"
      ]
     },
     "execution_count": 35,
     "metadata": {},
     "output_type": "execute_result"
    }
   ],
   "source": [
    "Herpes_Cyto_File = \"Cytoscape_network_analysis/Herpes_Open_exp_Open_edgelist.nx default node.csv\"\n",
    "Papilloma_Cyto_File = \"Cytoscape_network_analysis/Papillomaviruses_Open_exp_Open_edgelist.nx default node.csv\"\n",
    "\n",
    "Herpes_df = pd.read_csv(Herpes_Cyto_File)\n",
    "Papilloma_df = pd.read_csv(Papilloma_Cyto_File)\n",
    "\n",
    "Papilloma_df"
   ]
  },
  {
   "cell_type": "markdown",
   "id": "ab1c83c1-cf88-4675-89ac-ae60b2e202c1",
   "metadata": {},
   "source": [
    "\n",
    "\n",
    "# gseapy"
   ]
  },
  {
   "cell_type": "code",
   "execution_count": 36,
   "id": "d950bd7d-3d1c-4f0e-b5c4-9ab88da2637b",
   "metadata": {},
   "outputs": [
    {
     "data": {
      "text/plain": [
       "0       O15484\n",
       "1       Q8N3S3\n",
       "2       Q8NFN8\n",
       "3       Q8N699\n",
       "4       P04070\n",
       "         ...  \n",
       "9426    O96008\n",
       "9427    Q9Y3D6\n",
       "9428    Q08629\n",
       "9429    O75841\n",
       "9430    Q9BXK5\n",
       "Name: name, Length: 9431, dtype: object"
      ]
     },
     "execution_count": 36,
     "metadata": {},
     "output_type": "execute_result"
    }
   ],
   "source": [
    "Papilloma_df.name"
   ]
  },
  {
   "cell_type": "code",
   "execution_count": 37,
   "id": "6a416294-5d8f-41ba-94e2-b925f53db965",
   "metadata": {},
   "outputs": [
    {
     "data": {
      "text/plain": [
       "'0.10.8'"
      ]
     },
     "execution_count": 37,
     "metadata": {},
     "output_type": "execute_result"
    }
   ],
   "source": [
    "# %matplotlib inline\n",
    "# %config InlineBackend.figure_format='retina' # mac\n",
    "# %load_ext autoreload\n",
    "# %autoreload 2\n",
    "import pandas as pd\n",
    "import gseapy as gp\n",
    "import matplotlib.pyplot as plt\n",
    "\n",
    "gp.__version__"
   ]
  },
  {
   "cell_type": "code",
   "execution_count": 38,
   "id": "49394619-d94a-419d-9e1c-dd38b049dd97",
   "metadata": {},
   "outputs": [
    {
     "name": "stdout",
     "output_type": "stream",
     "text": [
      "['O15484', 'Q8N3S3', 'Q8NFN8', 'Q8N699', 'P04070', 'P35716', 'Q9P2H3', 'Q9UMS5', 'Q96K31', 'P02452']\n"
     ]
    }
   ],
   "source": [
    "gene_list = Papilloma_df.name\n",
    "gene_list\n",
    "\n",
    "# convert dataframe or series to list\n",
    "glist = gene_list.squeeze().str.strip().tolist()\n",
    "print(glist[:10])"
   ]
  },
  {
   "cell_type": "code",
   "execution_count": null,
   "id": "55c81ea2-5c20-45ae-8ab0-5a56390509c8",
   "metadata": {},
   "outputs": [],
   "source": []
  },
  {
   "cell_type": "code",
   "execution_count": 39,
   "id": "d48d8aa0-6d5f-40fa-b3bf-14996f07bf47",
   "metadata": {},
   "outputs": [],
   "source": [
    "import urllib.parse\n",
    "import urllib.request\n",
    "\n",
    "url = 'https://www.uniprot.org/uploadlists/'\n",
    "\n",
    "params = {\n",
    "'from': 'ACC+ID',\n",
    "'to': 'GENENAME',\n",
    "'format': 'tab',\n",
    "'query': \" \".join(glist)\n",
    "}\n",
    "\n",
    "data = urllib.parse.urlencode(params)\n",
    "data = data.encode('utf-8')\n",
    "req = urllib.request.Request(url, data)\n",
    "with urllib.request.urlopen(req) as f:\n",
    "   response = f.read()\n",
    "#print(response.decode('utf-8'))"
   ]
  },
  {
   "cell_type": "code",
   "execution_count": 40,
   "id": "2bf217ac-dd2e-4e0a-810e-ed7eaec5907a",
   "metadata": {},
   "outputs": [
    {
     "data": {
      "text/html": [
       "<div>\n",
       "<style scoped>\n",
       "    .dataframe tbody tr th:only-of-type {\n",
       "        vertical-align: middle;\n",
       "    }\n",
       "\n",
       "    .dataframe tbody tr th {\n",
       "        vertical-align: top;\n",
       "    }\n",
       "\n",
       "    .dataframe thead th {\n",
       "        text-align: right;\n",
       "    }\n",
       "</style>\n",
       "<table border=\"1\" class=\"dataframe\">\n",
       "  <thead>\n",
       "    <tr style=\"text-align: right;\">\n",
       "      <th></th>\n",
       "      <th>From</th>\n",
       "      <th>To</th>\n",
       "    </tr>\n",
       "  </thead>\n",
       "  <tbody>\n",
       "    <tr>\n",
       "      <th>1</th>\n",
       "      <td>O15484</td>\n",
       "      <td>CAPN5</td>\n",
       "    </tr>\n",
       "    <tr>\n",
       "      <th>2</th>\n",
       "      <td>Q8N3S3</td>\n",
       "      <td>PHTF2</td>\n",
       "    </tr>\n",
       "    <tr>\n",
       "      <th>3</th>\n",
       "      <td>Q8NFN8</td>\n",
       "      <td>GPR156</td>\n",
       "    </tr>\n",
       "    <tr>\n",
       "      <th>4</th>\n",
       "      <td>Q8N699</td>\n",
       "      <td>MYCT1</td>\n",
       "    </tr>\n",
       "    <tr>\n",
       "      <th>5</th>\n",
       "      <td>P04070</td>\n",
       "      <td>PROC</td>\n",
       "    </tr>\n",
       "    <tr>\n",
       "      <th>...</th>\n",
       "      <td>...</td>\n",
       "      <td>...</td>\n",
       "    </tr>\n",
       "    <tr>\n",
       "      <th>9422</th>\n",
       "      <td>O96008</td>\n",
       "      <td>TOMM40</td>\n",
       "    </tr>\n",
       "    <tr>\n",
       "      <th>9423</th>\n",
       "      <td>Q9Y3D6</td>\n",
       "      <td>FIS1</td>\n",
       "    </tr>\n",
       "    <tr>\n",
       "      <th>9424</th>\n",
       "      <td>Q08629</td>\n",
       "      <td>SPOCK1</td>\n",
       "    </tr>\n",
       "    <tr>\n",
       "      <th>9425</th>\n",
       "      <td>O75841</td>\n",
       "      <td>UPK1B</td>\n",
       "    </tr>\n",
       "    <tr>\n",
       "      <th>9426</th>\n",
       "      <td>Q9BXK5</td>\n",
       "      <td>BCL2L13</td>\n",
       "    </tr>\n",
       "  </tbody>\n",
       "</table>\n",
       "<p>9426 rows × 2 columns</p>\n",
       "</div>"
      ],
      "text/plain": [
       "0       From       To\n",
       "1     O15484    CAPN5\n",
       "2     Q8N3S3    PHTF2\n",
       "3     Q8NFN8   GPR156\n",
       "4     Q8N699    MYCT1\n",
       "5     P04070     PROC\n",
       "...      ...      ...\n",
       "9422  O96008   TOMM40\n",
       "9423  Q9Y3D6     FIS1\n",
       "9424  Q08629   SPOCK1\n",
       "9425  O75841    UPK1B\n",
       "9426  Q9BXK5  BCL2L13\n",
       "\n",
       "[9426 rows x 2 columns]"
      ]
     },
     "execution_count": 40,
     "metadata": {},
     "output_type": "execute_result"
    }
   ],
   "source": [
    "LOL = []\n",
    "for i in response.decode('utf-8').splitlines():\n",
    "    LOL.append(i.split())\n",
    "    \n",
    "df = pd.DataFrame(LOL)\n",
    "\n",
    "new_header = df.iloc[0] #grab the first row for the header\n",
    "df = df[1:] #take the data less the header row\n",
    "df.columns = new_header #set the header row as the df header\n",
    "df"
   ]
  },
  {
   "cell_type": "code",
   "execution_count": 41,
   "id": "7ab0bc71-51b8-460a-bd25-dc298e478dac",
   "metadata": {},
   "outputs": [
    {
     "data": {
      "text/html": [
       "<div>\n",
       "<style scoped>\n",
       "    .dataframe tbody tr th:only-of-type {\n",
       "        vertical-align: middle;\n",
       "    }\n",
       "\n",
       "    .dataframe tbody tr th {\n",
       "        vertical-align: top;\n",
       "    }\n",
       "\n",
       "    .dataframe thead th {\n",
       "        text-align: right;\n",
       "    }\n",
       "</style>\n",
       "<table border=\"1\" class=\"dataframe\">\n",
       "  <thead>\n",
       "    <tr style=\"text-align: right;\">\n",
       "      <th></th>\n",
       "      <th>SUID</th>\n",
       "      <th>_wks_percentile_bucket</th>\n",
       "      <th>_wkshell</th>\n",
       "      <th>AverageShortestPathLength</th>\n",
       "      <th>BetweennessCentrality</th>\n",
       "      <th>ClosenessCentrality</th>\n",
       "      <th>ClusteringCoefficient</th>\n",
       "      <th>Degree</th>\n",
       "      <th>Eccentricity</th>\n",
       "      <th>IsSingleNode</th>\n",
       "      <th>...</th>\n",
       "      <th>NeighborhoodConnectivity</th>\n",
       "      <th>NumberOfDirectedEdges</th>\n",
       "      <th>NumberOfUndirectedEdges</th>\n",
       "      <th>PartnerOfMultiEdgedNodePairs</th>\n",
       "      <th>Radiality</th>\n",
       "      <th>selected</th>\n",
       "      <th>SelfLoops</th>\n",
       "      <th>shared name</th>\n",
       "      <th>Stress</th>\n",
       "      <th>TopologicalCoefficient</th>\n",
       "    </tr>\n",
       "  </thead>\n",
       "  <tbody>\n",
       "    <tr>\n",
       "      <th>0</th>\n",
       "      <td>72</td>\n",
       "      <td>0</td>\n",
       "      <td>3</td>\n",
       "      <td>5.815510</td>\n",
       "      <td>0.000000</td>\n",
       "      <td>0.171954</td>\n",
       "      <td>0.000000</td>\n",
       "      <td>1</td>\n",
       "      <td>8</td>\n",
       "      <td>False</td>\n",
       "      <td>...</td>\n",
       "      <td>4.000000</td>\n",
       "      <td>1</td>\n",
       "      <td>0</td>\n",
       "      <td>0</td>\n",
       "      <td>0.464943</td>\n",
       "      <td>False</td>\n",
       "      <td>0</td>\n",
       "      <td>O15484</td>\n",
       "      <td>0</td>\n",
       "      <td>0.000000</td>\n",
       "    </tr>\n",
       "    <tr>\n",
       "      <th>1</th>\n",
       "      <td>73</td>\n",
       "      <td>0</td>\n",
       "      <td>3</td>\n",
       "      <td>5.815510</td>\n",
       "      <td>0.000000</td>\n",
       "      <td>0.171954</td>\n",
       "      <td>0.000000</td>\n",
       "      <td>1</td>\n",
       "      <td>8</td>\n",
       "      <td>False</td>\n",
       "      <td>...</td>\n",
       "      <td>4.000000</td>\n",
       "      <td>1</td>\n",
       "      <td>0</td>\n",
       "      <td>0</td>\n",
       "      <td>0.464943</td>\n",
       "      <td>False</td>\n",
       "      <td>0</td>\n",
       "      <td>Q8N3S3</td>\n",
       "      <td>0</td>\n",
       "      <td>0.000000</td>\n",
       "    </tr>\n",
       "    <tr>\n",
       "      <th>2</th>\n",
       "      <td>74</td>\n",
       "      <td>0</td>\n",
       "      <td>3</td>\n",
       "      <td>5.815510</td>\n",
       "      <td>0.000000</td>\n",
       "      <td>0.171954</td>\n",
       "      <td>0.000000</td>\n",
       "      <td>1</td>\n",
       "      <td>8</td>\n",
       "      <td>False</td>\n",
       "      <td>...</td>\n",
       "      <td>4.000000</td>\n",
       "      <td>1</td>\n",
       "      <td>0</td>\n",
       "      <td>0</td>\n",
       "      <td>0.464943</td>\n",
       "      <td>False</td>\n",
       "      <td>0</td>\n",
       "      <td>Q8NFN8</td>\n",
       "      <td>0</td>\n",
       "      <td>0.000000</td>\n",
       "    </tr>\n",
       "    <tr>\n",
       "      <th>3</th>\n",
       "      <td>75</td>\n",
       "      <td>0</td>\n",
       "      <td>2</td>\n",
       "      <td>5.280182</td>\n",
       "      <td>0.000000</td>\n",
       "      <td>0.189387</td>\n",
       "      <td>0.000000</td>\n",
       "      <td>1</td>\n",
       "      <td>8</td>\n",
       "      <td>False</td>\n",
       "      <td>...</td>\n",
       "      <td>2.000000</td>\n",
       "      <td>1</td>\n",
       "      <td>0</td>\n",
       "      <td>0</td>\n",
       "      <td>0.524424</td>\n",
       "      <td>False</td>\n",
       "      <td>0</td>\n",
       "      <td>Q8N699</td>\n",
       "      <td>0</td>\n",
       "      <td>0.000000</td>\n",
       "    </tr>\n",
       "    <tr>\n",
       "      <th>4</th>\n",
       "      <td>76</td>\n",
       "      <td>0</td>\n",
       "      <td>2</td>\n",
       "      <td>5.378634</td>\n",
       "      <td>0.000000</td>\n",
       "      <td>0.185921</td>\n",
       "      <td>0.000000</td>\n",
       "      <td>1</td>\n",
       "      <td>8</td>\n",
       "      <td>False</td>\n",
       "      <td>...</td>\n",
       "      <td>2.000000</td>\n",
       "      <td>1</td>\n",
       "      <td>0</td>\n",
       "      <td>0</td>\n",
       "      <td>0.513485</td>\n",
       "      <td>False</td>\n",
       "      <td>0</td>\n",
       "      <td>P04070</td>\n",
       "      <td>0</td>\n",
       "      <td>0.000000</td>\n",
       "    </tr>\n",
       "    <tr>\n",
       "      <th>...</th>\n",
       "      <td>...</td>\n",
       "      <td>...</td>\n",
       "      <td>...</td>\n",
       "      <td>...</td>\n",
       "      <td>...</td>\n",
       "      <td>...</td>\n",
       "      <td>...</td>\n",
       "      <td>...</td>\n",
       "      <td>...</td>\n",
       "      <td>...</td>\n",
       "      <td>...</td>\n",
       "      <td>...</td>\n",
       "      <td>...</td>\n",
       "      <td>...</td>\n",
       "      <td>...</td>\n",
       "      <td>...</td>\n",
       "      <td>...</td>\n",
       "      <td>...</td>\n",
       "      <td>...</td>\n",
       "      <td>...</td>\n",
       "      <td>...</td>\n",
       "    </tr>\n",
       "    <tr>\n",
       "      <th>9426</th>\n",
       "      <td>9498</td>\n",
       "      <td>95</td>\n",
       "      <td>731</td>\n",
       "      <td>2.897199</td>\n",
       "      <td>0.002913</td>\n",
       "      <td>0.345161</td>\n",
       "      <td>0.034177</td>\n",
       "      <td>80</td>\n",
       "      <td>6</td>\n",
       "      <td>False</td>\n",
       "      <td>...</td>\n",
       "      <td>41.737500</td>\n",
       "      <td>80</td>\n",
       "      <td>0</td>\n",
       "      <td>0</td>\n",
       "      <td>0.789200</td>\n",
       "      <td>False</td>\n",
       "      <td>0</td>\n",
       "      <td>O96008</td>\n",
       "      <td>5341184</td>\n",
       "      <td>0.021698</td>\n",
       "    </tr>\n",
       "    <tr>\n",
       "      <th>9427</th>\n",
       "      <td>9499</td>\n",
       "      <td>95</td>\n",
       "      <td>537</td>\n",
       "      <td>3.199873</td>\n",
       "      <td>0.001470</td>\n",
       "      <td>0.312512</td>\n",
       "      <td>0.016194</td>\n",
       "      <td>39</td>\n",
       "      <td>6</td>\n",
       "      <td>False</td>\n",
       "      <td>...</td>\n",
       "      <td>20.564103</td>\n",
       "      <td>39</td>\n",
       "      <td>0</td>\n",
       "      <td>0</td>\n",
       "      <td>0.755570</td>\n",
       "      <td>False</td>\n",
       "      <td>0</td>\n",
       "      <td>Q9Y3D6</td>\n",
       "      <td>2308290</td>\n",
       "      <td>0.037730</td>\n",
       "    </tr>\n",
       "    <tr>\n",
       "      <th>9428</th>\n",
       "      <td>9500</td>\n",
       "      <td>10</td>\n",
       "      <td>38</td>\n",
       "      <td>3.939953</td>\n",
       "      <td>0.000011</td>\n",
       "      <td>0.253810</td>\n",
       "      <td>0.000000</td>\n",
       "      <td>3</td>\n",
       "      <td>6</td>\n",
       "      <td>False</td>\n",
       "      <td>...</td>\n",
       "      <td>26.666667</td>\n",
       "      <td>3</td>\n",
       "      <td>0</td>\n",
       "      <td>0</td>\n",
       "      <td>0.673339</td>\n",
       "      <td>False</td>\n",
       "      <td>0</td>\n",
       "      <td>Q08629</td>\n",
       "      <td>5434</td>\n",
       "      <td>0.333333</td>\n",
       "    </tr>\n",
       "    <tr>\n",
       "      <th>9429</th>\n",
       "      <td>9501</td>\n",
       "      <td>5</td>\n",
       "      <td>22</td>\n",
       "      <td>4.541163</td>\n",
       "      <td>0.000221</td>\n",
       "      <td>0.220208</td>\n",
       "      <td>0.000000</td>\n",
       "      <td>5</td>\n",
       "      <td>7</td>\n",
       "      <td>False</td>\n",
       "      <td>...</td>\n",
       "      <td>4.800000</td>\n",
       "      <td>5</td>\n",
       "      <td>0</td>\n",
       "      <td>0</td>\n",
       "      <td>0.606537</td>\n",
       "      <td>False</td>\n",
       "      <td>0</td>\n",
       "      <td>O75841</td>\n",
       "      <td>335102</td>\n",
       "      <td>0.211111</td>\n",
       "    </tr>\n",
       "    <tr>\n",
       "      <th>9430</th>\n",
       "      <td>9502</td>\n",
       "      <td>20</td>\n",
       "      <td>65</td>\n",
       "      <td>3.835031</td>\n",
       "      <td>0.000153</td>\n",
       "      <td>0.260754</td>\n",
       "      <td>0.000000</td>\n",
       "      <td>4</td>\n",
       "      <td>7</td>\n",
       "      <td>False</td>\n",
       "      <td>...</td>\n",
       "      <td>31.750000</td>\n",
       "      <td>4</td>\n",
       "      <td>0</td>\n",
       "      <td>0</td>\n",
       "      <td>0.684997</td>\n",
       "      <td>False</td>\n",
       "      <td>0</td>\n",
       "      <td>Q9BXK5</td>\n",
       "      <td>243740</td>\n",
       "      <td>0.262821</td>\n",
       "    </tr>\n",
       "  </tbody>\n",
       "</table>\n",
       "<p>9431 rows × 21 columns</p>\n",
       "</div>"
      ],
      "text/plain": [
       "      SUID  _wks_percentile_bucket  _wkshell  AverageShortestPathLength  \\\n",
       "0       72                       0         3                   5.815510   \n",
       "1       73                       0         3                   5.815510   \n",
       "2       74                       0         3                   5.815510   \n",
       "3       75                       0         2                   5.280182   \n",
       "4       76                       0         2                   5.378634   \n",
       "...    ...                     ...       ...                        ...   \n",
       "9426  9498                      95       731                   2.897199   \n",
       "9427  9499                      95       537                   3.199873   \n",
       "9428  9500                      10        38                   3.939953   \n",
       "9429  9501                       5        22                   4.541163   \n",
       "9430  9502                      20        65                   3.835031   \n",
       "\n",
       "      BetweennessCentrality  ClosenessCentrality  ClusteringCoefficient  \\\n",
       "0                  0.000000             0.171954               0.000000   \n",
       "1                  0.000000             0.171954               0.000000   \n",
       "2                  0.000000             0.171954               0.000000   \n",
       "3                  0.000000             0.189387               0.000000   \n",
       "4                  0.000000             0.185921               0.000000   \n",
       "...                     ...                  ...                    ...   \n",
       "9426               0.002913             0.345161               0.034177   \n",
       "9427               0.001470             0.312512               0.016194   \n",
       "9428               0.000011             0.253810               0.000000   \n",
       "9429               0.000221             0.220208               0.000000   \n",
       "9430               0.000153             0.260754               0.000000   \n",
       "\n",
       "      Degree  Eccentricity  IsSingleNode  ... NeighborhoodConnectivity  \\\n",
       "0          1             8         False  ...                 4.000000   \n",
       "1          1             8         False  ...                 4.000000   \n",
       "2          1             8         False  ...                 4.000000   \n",
       "3          1             8         False  ...                 2.000000   \n",
       "4          1             8         False  ...                 2.000000   \n",
       "...      ...           ...           ...  ...                      ...   \n",
       "9426      80             6         False  ...                41.737500   \n",
       "9427      39             6         False  ...                20.564103   \n",
       "9428       3             6         False  ...                26.666667   \n",
       "9429       5             7         False  ...                 4.800000   \n",
       "9430       4             7         False  ...                31.750000   \n",
       "\n",
       "      NumberOfDirectedEdges  NumberOfUndirectedEdges  \\\n",
       "0                         1                        0   \n",
       "1                         1                        0   \n",
       "2                         1                        0   \n",
       "3                         1                        0   \n",
       "4                         1                        0   \n",
       "...                     ...                      ...   \n",
       "9426                     80                        0   \n",
       "9427                     39                        0   \n",
       "9428                      3                        0   \n",
       "9429                      5                        0   \n",
       "9430                      4                        0   \n",
       "\n",
       "      PartnerOfMultiEdgedNodePairs  Radiality  selected  SelfLoops  \\\n",
       "0                                0   0.464943     False          0   \n",
       "1                                0   0.464943     False          0   \n",
       "2                                0   0.464943     False          0   \n",
       "3                                0   0.524424     False          0   \n",
       "4                                0   0.513485     False          0   \n",
       "...                            ...        ...       ...        ...   \n",
       "9426                             0   0.789200     False          0   \n",
       "9427                             0   0.755570     False          0   \n",
       "9428                             0   0.673339     False          0   \n",
       "9429                             0   0.606537     False          0   \n",
       "9430                             0   0.684997     False          0   \n",
       "\n",
       "      shared name   Stress  TopologicalCoefficient  \n",
       "0          O15484        0                0.000000  \n",
       "1          Q8N3S3        0                0.000000  \n",
       "2          Q8NFN8        0                0.000000  \n",
       "3          Q8N699        0                0.000000  \n",
       "4          P04070        0                0.000000  \n",
       "...           ...      ...                     ...  \n",
       "9426       O96008  5341184                0.021698  \n",
       "9427       Q9Y3D6  2308290                0.037730  \n",
       "9428       Q08629     5434                0.333333  \n",
       "9429       O75841   335102                0.211111  \n",
       "9430       Q9BXK5   243740                0.262821  \n",
       "\n",
       "[9431 rows x 21 columns]"
      ]
     },
     "execution_count": 41,
     "metadata": {},
     "output_type": "execute_result"
    }
   ],
   "source": [
    "UniportKB_to_Genename = dict(zip(df.From, df.To))\n",
    "# UniportKB_to_Genename\n",
    "\n",
    "Papilloma_df"
   ]
  },
  {
   "cell_type": "code",
   "execution_count": 42,
   "id": "43022c68-c06c-4586-8b3a-cfc80a4398c0",
   "metadata": {},
   "outputs": [
    {
     "data": {
      "text/html": [
       "<div>\n",
       "<style scoped>\n",
       "    .dataframe tbody tr th:only-of-type {\n",
       "        vertical-align: middle;\n",
       "    }\n",
       "\n",
       "    .dataframe tbody tr th {\n",
       "        vertical-align: top;\n",
       "    }\n",
       "\n",
       "    .dataframe thead th {\n",
       "        text-align: right;\n",
       "    }\n",
       "</style>\n",
       "<table border=\"1\" class=\"dataframe\">\n",
       "  <thead>\n",
       "    <tr style=\"text-align: right;\">\n",
       "      <th></th>\n",
       "      <th>SUID</th>\n",
       "      <th>wk-shell</th>\n",
       "      <th>_wkshell</th>\n",
       "      <th>AverageShortestPathLength</th>\n",
       "      <th>BetweennessCentrality</th>\n",
       "      <th>ClosenessCentrality</th>\n",
       "      <th>ClusteringCoefficient</th>\n",
       "      <th>Degree</th>\n",
       "      <th>Eccentricity</th>\n",
       "      <th>IsSingleNode</th>\n",
       "      <th>...</th>\n",
       "      <th>NeighborhoodConnectivity</th>\n",
       "      <th>NumberOfDirectedEdges</th>\n",
       "      <th>NumberOfUndirectedEdges</th>\n",
       "      <th>PartnerOfMultiEdgedNodePairs</th>\n",
       "      <th>Radiality</th>\n",
       "      <th>selected</th>\n",
       "      <th>SelfLoops</th>\n",
       "      <th>GeneName</th>\n",
       "      <th>Stress</th>\n",
       "      <th>TopologicalCoefficient</th>\n",
       "    </tr>\n",
       "  </thead>\n",
       "  <tbody>\n",
       "    <tr>\n",
       "      <th>0</th>\n",
       "      <td>72</td>\n",
       "      <td>0</td>\n",
       "      <td>3</td>\n",
       "      <td>5.815510</td>\n",
       "      <td>0.000000</td>\n",
       "      <td>0.171954</td>\n",
       "      <td>0.000000</td>\n",
       "      <td>1</td>\n",
       "      <td>8</td>\n",
       "      <td>False</td>\n",
       "      <td>...</td>\n",
       "      <td>4.000000</td>\n",
       "      <td>1</td>\n",
       "      <td>0</td>\n",
       "      <td>0</td>\n",
       "      <td>0.464943</td>\n",
       "      <td>False</td>\n",
       "      <td>0</td>\n",
       "      <td>CAPN5</td>\n",
       "      <td>0</td>\n",
       "      <td>0.000000</td>\n",
       "    </tr>\n",
       "    <tr>\n",
       "      <th>1</th>\n",
       "      <td>73</td>\n",
       "      <td>0</td>\n",
       "      <td>3</td>\n",
       "      <td>5.815510</td>\n",
       "      <td>0.000000</td>\n",
       "      <td>0.171954</td>\n",
       "      <td>0.000000</td>\n",
       "      <td>1</td>\n",
       "      <td>8</td>\n",
       "      <td>False</td>\n",
       "      <td>...</td>\n",
       "      <td>4.000000</td>\n",
       "      <td>1</td>\n",
       "      <td>0</td>\n",
       "      <td>0</td>\n",
       "      <td>0.464943</td>\n",
       "      <td>False</td>\n",
       "      <td>0</td>\n",
       "      <td>PHTF2</td>\n",
       "      <td>0</td>\n",
       "      <td>0.000000</td>\n",
       "    </tr>\n",
       "    <tr>\n",
       "      <th>2</th>\n",
       "      <td>74</td>\n",
       "      <td>0</td>\n",
       "      <td>3</td>\n",
       "      <td>5.815510</td>\n",
       "      <td>0.000000</td>\n",
       "      <td>0.171954</td>\n",
       "      <td>0.000000</td>\n",
       "      <td>1</td>\n",
       "      <td>8</td>\n",
       "      <td>False</td>\n",
       "      <td>...</td>\n",
       "      <td>4.000000</td>\n",
       "      <td>1</td>\n",
       "      <td>0</td>\n",
       "      <td>0</td>\n",
       "      <td>0.464943</td>\n",
       "      <td>False</td>\n",
       "      <td>0</td>\n",
       "      <td>GPR156</td>\n",
       "      <td>0</td>\n",
       "      <td>0.000000</td>\n",
       "    </tr>\n",
       "    <tr>\n",
       "      <th>3</th>\n",
       "      <td>75</td>\n",
       "      <td>0</td>\n",
       "      <td>2</td>\n",
       "      <td>5.280182</td>\n",
       "      <td>0.000000</td>\n",
       "      <td>0.189387</td>\n",
       "      <td>0.000000</td>\n",
       "      <td>1</td>\n",
       "      <td>8</td>\n",
       "      <td>False</td>\n",
       "      <td>...</td>\n",
       "      <td>2.000000</td>\n",
       "      <td>1</td>\n",
       "      <td>0</td>\n",
       "      <td>0</td>\n",
       "      <td>0.524424</td>\n",
       "      <td>False</td>\n",
       "      <td>0</td>\n",
       "      <td>MYCT1</td>\n",
       "      <td>0</td>\n",
       "      <td>0.000000</td>\n",
       "    </tr>\n",
       "    <tr>\n",
       "      <th>4</th>\n",
       "      <td>76</td>\n",
       "      <td>0</td>\n",
       "      <td>2</td>\n",
       "      <td>5.378634</td>\n",
       "      <td>0.000000</td>\n",
       "      <td>0.185921</td>\n",
       "      <td>0.000000</td>\n",
       "      <td>1</td>\n",
       "      <td>8</td>\n",
       "      <td>False</td>\n",
       "      <td>...</td>\n",
       "      <td>2.000000</td>\n",
       "      <td>1</td>\n",
       "      <td>0</td>\n",
       "      <td>0</td>\n",
       "      <td>0.513485</td>\n",
       "      <td>False</td>\n",
       "      <td>0</td>\n",
       "      <td>PROC</td>\n",
       "      <td>0</td>\n",
       "      <td>0.000000</td>\n",
       "    </tr>\n",
       "    <tr>\n",
       "      <th>...</th>\n",
       "      <td>...</td>\n",
       "      <td>...</td>\n",
       "      <td>...</td>\n",
       "      <td>...</td>\n",
       "      <td>...</td>\n",
       "      <td>...</td>\n",
       "      <td>...</td>\n",
       "      <td>...</td>\n",
       "      <td>...</td>\n",
       "      <td>...</td>\n",
       "      <td>...</td>\n",
       "      <td>...</td>\n",
       "      <td>...</td>\n",
       "      <td>...</td>\n",
       "      <td>...</td>\n",
       "      <td>...</td>\n",
       "      <td>...</td>\n",
       "      <td>...</td>\n",
       "      <td>...</td>\n",
       "      <td>...</td>\n",
       "      <td>...</td>\n",
       "    </tr>\n",
       "    <tr>\n",
       "      <th>9426</th>\n",
       "      <td>9498</td>\n",
       "      <td>95</td>\n",
       "      <td>731</td>\n",
       "      <td>2.897199</td>\n",
       "      <td>0.002913</td>\n",
       "      <td>0.345161</td>\n",
       "      <td>0.034177</td>\n",
       "      <td>80</td>\n",
       "      <td>6</td>\n",
       "      <td>False</td>\n",
       "      <td>...</td>\n",
       "      <td>41.737500</td>\n",
       "      <td>80</td>\n",
       "      <td>0</td>\n",
       "      <td>0</td>\n",
       "      <td>0.789200</td>\n",
       "      <td>False</td>\n",
       "      <td>0</td>\n",
       "      <td>TOMM40</td>\n",
       "      <td>5341184</td>\n",
       "      <td>0.021698</td>\n",
       "    </tr>\n",
       "    <tr>\n",
       "      <th>9427</th>\n",
       "      <td>9499</td>\n",
       "      <td>95</td>\n",
       "      <td>537</td>\n",
       "      <td>3.199873</td>\n",
       "      <td>0.001470</td>\n",
       "      <td>0.312512</td>\n",
       "      <td>0.016194</td>\n",
       "      <td>39</td>\n",
       "      <td>6</td>\n",
       "      <td>False</td>\n",
       "      <td>...</td>\n",
       "      <td>20.564103</td>\n",
       "      <td>39</td>\n",
       "      <td>0</td>\n",
       "      <td>0</td>\n",
       "      <td>0.755570</td>\n",
       "      <td>False</td>\n",
       "      <td>0</td>\n",
       "      <td>FIS1</td>\n",
       "      <td>2308290</td>\n",
       "      <td>0.037730</td>\n",
       "    </tr>\n",
       "    <tr>\n",
       "      <th>9428</th>\n",
       "      <td>9500</td>\n",
       "      <td>10</td>\n",
       "      <td>38</td>\n",
       "      <td>3.939953</td>\n",
       "      <td>0.000011</td>\n",
       "      <td>0.253810</td>\n",
       "      <td>0.000000</td>\n",
       "      <td>3</td>\n",
       "      <td>6</td>\n",
       "      <td>False</td>\n",
       "      <td>...</td>\n",
       "      <td>26.666667</td>\n",
       "      <td>3</td>\n",
       "      <td>0</td>\n",
       "      <td>0</td>\n",
       "      <td>0.673339</td>\n",
       "      <td>False</td>\n",
       "      <td>0</td>\n",
       "      <td>SPOCK1</td>\n",
       "      <td>5434</td>\n",
       "      <td>0.333333</td>\n",
       "    </tr>\n",
       "    <tr>\n",
       "      <th>9429</th>\n",
       "      <td>9501</td>\n",
       "      <td>5</td>\n",
       "      <td>22</td>\n",
       "      <td>4.541163</td>\n",
       "      <td>0.000221</td>\n",
       "      <td>0.220208</td>\n",
       "      <td>0.000000</td>\n",
       "      <td>5</td>\n",
       "      <td>7</td>\n",
       "      <td>False</td>\n",
       "      <td>...</td>\n",
       "      <td>4.800000</td>\n",
       "      <td>5</td>\n",
       "      <td>0</td>\n",
       "      <td>0</td>\n",
       "      <td>0.606537</td>\n",
       "      <td>False</td>\n",
       "      <td>0</td>\n",
       "      <td>UPK1B</td>\n",
       "      <td>335102</td>\n",
       "      <td>0.211111</td>\n",
       "    </tr>\n",
       "    <tr>\n",
       "      <th>9430</th>\n",
       "      <td>9502</td>\n",
       "      <td>20</td>\n",
       "      <td>65</td>\n",
       "      <td>3.835031</td>\n",
       "      <td>0.000153</td>\n",
       "      <td>0.260754</td>\n",
       "      <td>0.000000</td>\n",
       "      <td>4</td>\n",
       "      <td>7</td>\n",
       "      <td>False</td>\n",
       "      <td>...</td>\n",
       "      <td>31.750000</td>\n",
       "      <td>4</td>\n",
       "      <td>0</td>\n",
       "      <td>0</td>\n",
       "      <td>0.684997</td>\n",
       "      <td>False</td>\n",
       "      <td>0</td>\n",
       "      <td>BCL2L13</td>\n",
       "      <td>243740</td>\n",
       "      <td>0.262821</td>\n",
       "    </tr>\n",
       "  </tbody>\n",
       "</table>\n",
       "<p>9431 rows × 21 columns</p>\n",
       "</div>"
      ],
      "text/plain": [
       "      SUID  wk-shell  _wkshell  AverageShortestPathLength  \\\n",
       "0       72         0         3                   5.815510   \n",
       "1       73         0         3                   5.815510   \n",
       "2       74         0         3                   5.815510   \n",
       "3       75         0         2                   5.280182   \n",
       "4       76         0         2                   5.378634   \n",
       "...    ...       ...       ...                        ...   \n",
       "9426  9498        95       731                   2.897199   \n",
       "9427  9499        95       537                   3.199873   \n",
       "9428  9500        10        38                   3.939953   \n",
       "9429  9501         5        22                   4.541163   \n",
       "9430  9502        20        65                   3.835031   \n",
       "\n",
       "      BetweennessCentrality  ClosenessCentrality  ClusteringCoefficient  \\\n",
       "0                  0.000000             0.171954               0.000000   \n",
       "1                  0.000000             0.171954               0.000000   \n",
       "2                  0.000000             0.171954               0.000000   \n",
       "3                  0.000000             0.189387               0.000000   \n",
       "4                  0.000000             0.185921               0.000000   \n",
       "...                     ...                  ...                    ...   \n",
       "9426               0.002913             0.345161               0.034177   \n",
       "9427               0.001470             0.312512               0.016194   \n",
       "9428               0.000011             0.253810               0.000000   \n",
       "9429               0.000221             0.220208               0.000000   \n",
       "9430               0.000153             0.260754               0.000000   \n",
       "\n",
       "      Degree  Eccentricity  IsSingleNode  ... NeighborhoodConnectivity  \\\n",
       "0          1             8         False  ...                 4.000000   \n",
       "1          1             8         False  ...                 4.000000   \n",
       "2          1             8         False  ...                 4.000000   \n",
       "3          1             8         False  ...                 2.000000   \n",
       "4          1             8         False  ...                 2.000000   \n",
       "...      ...           ...           ...  ...                      ...   \n",
       "9426      80             6         False  ...                41.737500   \n",
       "9427      39             6         False  ...                20.564103   \n",
       "9428       3             6         False  ...                26.666667   \n",
       "9429       5             7         False  ...                 4.800000   \n",
       "9430       4             7         False  ...                31.750000   \n",
       "\n",
       "      NumberOfDirectedEdges  NumberOfUndirectedEdges  \\\n",
       "0                         1                        0   \n",
       "1                         1                        0   \n",
       "2                         1                        0   \n",
       "3                         1                        0   \n",
       "4                         1                        0   \n",
       "...                     ...                      ...   \n",
       "9426                     80                        0   \n",
       "9427                     39                        0   \n",
       "9428                      3                        0   \n",
       "9429                      5                        0   \n",
       "9430                      4                        0   \n",
       "\n",
       "      PartnerOfMultiEdgedNodePairs  Radiality  selected  SelfLoops  GeneName  \\\n",
       "0                                0   0.464943     False          0     CAPN5   \n",
       "1                                0   0.464943     False          0     PHTF2   \n",
       "2                                0   0.464943     False          0    GPR156   \n",
       "3                                0   0.524424     False          0     MYCT1   \n",
       "4                                0   0.513485     False          0      PROC   \n",
       "...                            ...        ...       ...        ...       ...   \n",
       "9426                             0   0.789200     False          0    TOMM40   \n",
       "9427                             0   0.755570     False          0      FIS1   \n",
       "9428                             0   0.673339     False          0    SPOCK1   \n",
       "9429                             0   0.606537     False          0     UPK1B   \n",
       "9430                             0   0.684997     False          0   BCL2L13   \n",
       "\n",
       "       Stress  TopologicalCoefficient  \n",
       "0           0                0.000000  \n",
       "1           0                0.000000  \n",
       "2           0                0.000000  \n",
       "3           0                0.000000  \n",
       "4           0                0.000000  \n",
       "...       ...                     ...  \n",
       "9426  5341184                0.021698  \n",
       "9427  2308290                0.037730  \n",
       "9428     5434                0.333333  \n",
       "9429   335102                0.211111  \n",
       "9430   243740                0.262821  \n",
       "\n",
       "[9431 rows x 21 columns]"
      ]
     },
     "execution_count": 42,
     "metadata": {},
     "output_type": "execute_result"
    }
   ],
   "source": [
    "Papilloma_df.replace({'shared name': UniportKB_to_Genename}, inplace=True)\n",
    "Papilloma_df.rename(columns={\"shared name\": \"GeneName\"}, inplace=True)\n",
    "Papilloma_df.rename(columns={\"_wks_percentile_bucket\": \"wk-shell\"}, inplace=True)\n",
    "Papilloma_df"
   ]
  },
  {
   "cell_type": "code",
   "execution_count": 43,
   "id": "9f962385-26db-478a-9b0d-82741fb0a5c6",
   "metadata": {},
   "outputs": [],
   "source": [
    "Papilloma_df = Papilloma_df[['name','GeneName',\n",
    " # 'wk-shell',\n",
    " # '_wkshell',\n",
    " # 'AverageShortestPathLength',\n",
    " 'BetweennessCentrality',\n",
    " 'ClosenessCentrality',\n",
    " 'ClusteringCoefficient',\n",
    " 'Degree',\n",
    " # 'Eccentricity',\n",
    " # 'IsSingleNode',\n",
    " \n",
    " # 'NeighborhoodConnectivity',\n",
    " # 'NumberOfDirectedEdges',\n",
    " # 'NumberOfUndirectedEdges',\n",
    " # 'PartnerOfMultiEdgedNodePairs',\n",
    " 'Radiality',\n",
    " # 'selected',\n",
    " # 'SelfLoops',\n",
    " \n",
    " 'Stress',\n",
    " 'TopologicalCoefficient']]"
   ]
  },
  {
   "cell_type": "code",
   "execution_count": 44,
   "id": "282d0e0d-ab1b-42a1-9a4f-44d07f700602",
   "metadata": {},
   "outputs": [
    {
     "data": {
      "text/html": [
       "<div>\n",
       "<style scoped>\n",
       "    .dataframe tbody tr th:only-of-type {\n",
       "        vertical-align: middle;\n",
       "    }\n",
       "\n",
       "    .dataframe tbody tr th {\n",
       "        vertical-align: top;\n",
       "    }\n",
       "\n",
       "    .dataframe thead th {\n",
       "        text-align: right;\n",
       "    }\n",
       "</style>\n",
       "<table border=\"1\" class=\"dataframe\">\n",
       "  <thead>\n",
       "    <tr style=\"text-align: right;\">\n",
       "      <th></th>\n",
       "      <th></th>\n",
       "      <th>BetweennessCentrality</th>\n",
       "      <th>ClosenessCentrality</th>\n",
       "      <th>ClusteringCoefficient</th>\n",
       "      <th>Degree</th>\n",
       "      <th>Radiality</th>\n",
       "      <th>Stress</th>\n",
       "      <th>TopologicalCoefficient</th>\n",
       "    </tr>\n",
       "    <tr>\n",
       "      <th>name</th>\n",
       "      <th>GeneName</th>\n",
       "      <th></th>\n",
       "      <th></th>\n",
       "      <th></th>\n",
       "      <th></th>\n",
       "      <th></th>\n",
       "      <th></th>\n",
       "      <th></th>\n",
       "    </tr>\n",
       "  </thead>\n",
       "  <tbody>\n",
       "    <tr>\n",
       "      <th>O15484</th>\n",
       "      <th>CAPN5</th>\n",
       "      <td>0.000000</td>\n",
       "      <td>0.171954</td>\n",
       "      <td>0.000000</td>\n",
       "      <td>1</td>\n",
       "      <td>0.464943</td>\n",
       "      <td>0</td>\n",
       "      <td>0.000000</td>\n",
       "    </tr>\n",
       "    <tr>\n",
       "      <th>Q8N3S3</th>\n",
       "      <th>PHTF2</th>\n",
       "      <td>0.000000</td>\n",
       "      <td>0.171954</td>\n",
       "      <td>0.000000</td>\n",
       "      <td>1</td>\n",
       "      <td>0.464943</td>\n",
       "      <td>0</td>\n",
       "      <td>0.000000</td>\n",
       "    </tr>\n",
       "    <tr>\n",
       "      <th>Q8NFN8</th>\n",
       "      <th>GPR156</th>\n",
       "      <td>0.000000</td>\n",
       "      <td>0.171954</td>\n",
       "      <td>0.000000</td>\n",
       "      <td>1</td>\n",
       "      <td>0.464943</td>\n",
       "      <td>0</td>\n",
       "      <td>0.000000</td>\n",
       "    </tr>\n",
       "    <tr>\n",
       "      <th>Q8N699</th>\n",
       "      <th>MYCT1</th>\n",
       "      <td>0.000000</td>\n",
       "      <td>0.189387</td>\n",
       "      <td>0.000000</td>\n",
       "      <td>1</td>\n",
       "      <td>0.524424</td>\n",
       "      <td>0</td>\n",
       "      <td>0.000000</td>\n",
       "    </tr>\n",
       "    <tr>\n",
       "      <th>P04070</th>\n",
       "      <th>PROC</th>\n",
       "      <td>0.000000</td>\n",
       "      <td>0.185921</td>\n",
       "      <td>0.000000</td>\n",
       "      <td>1</td>\n",
       "      <td>0.513485</td>\n",
       "      <td>0</td>\n",
       "      <td>0.000000</td>\n",
       "    </tr>\n",
       "    <tr>\n",
       "      <th>...</th>\n",
       "      <th>...</th>\n",
       "      <td>...</td>\n",
       "      <td>...</td>\n",
       "      <td>...</td>\n",
       "      <td>...</td>\n",
       "      <td>...</td>\n",
       "      <td>...</td>\n",
       "      <td>...</td>\n",
       "    </tr>\n",
       "    <tr>\n",
       "      <th>O96008</th>\n",
       "      <th>TOMM40</th>\n",
       "      <td>0.002913</td>\n",
       "      <td>0.345161</td>\n",
       "      <td>0.034177</td>\n",
       "      <td>80</td>\n",
       "      <td>0.789200</td>\n",
       "      <td>5341184</td>\n",
       "      <td>0.021698</td>\n",
       "    </tr>\n",
       "    <tr>\n",
       "      <th>Q9Y3D6</th>\n",
       "      <th>FIS1</th>\n",
       "      <td>0.001470</td>\n",
       "      <td>0.312512</td>\n",
       "      <td>0.016194</td>\n",
       "      <td>39</td>\n",
       "      <td>0.755570</td>\n",
       "      <td>2308290</td>\n",
       "      <td>0.037730</td>\n",
       "    </tr>\n",
       "    <tr>\n",
       "      <th>Q08629</th>\n",
       "      <th>SPOCK1</th>\n",
       "      <td>0.000011</td>\n",
       "      <td>0.253810</td>\n",
       "      <td>0.000000</td>\n",
       "      <td>3</td>\n",
       "      <td>0.673339</td>\n",
       "      <td>5434</td>\n",
       "      <td>0.333333</td>\n",
       "    </tr>\n",
       "    <tr>\n",
       "      <th>O75841</th>\n",
       "      <th>UPK1B</th>\n",
       "      <td>0.000221</td>\n",
       "      <td>0.220208</td>\n",
       "      <td>0.000000</td>\n",
       "      <td>5</td>\n",
       "      <td>0.606537</td>\n",
       "      <td>335102</td>\n",
       "      <td>0.211111</td>\n",
       "    </tr>\n",
       "    <tr>\n",
       "      <th>Q9BXK5</th>\n",
       "      <th>BCL2L13</th>\n",
       "      <td>0.000153</td>\n",
       "      <td>0.260754</td>\n",
       "      <td>0.000000</td>\n",
       "      <td>4</td>\n",
       "      <td>0.684997</td>\n",
       "      <td>243740</td>\n",
       "      <td>0.262821</td>\n",
       "    </tr>\n",
       "  </tbody>\n",
       "</table>\n",
       "<p>9431 rows × 7 columns</p>\n",
       "</div>"
      ],
      "text/plain": [
       "                 BetweennessCentrality  ClosenessCentrality  \\\n",
       "name   GeneName                                               \n",
       "O15484 CAPN5                  0.000000             0.171954   \n",
       "Q8N3S3 PHTF2                  0.000000             0.171954   \n",
       "Q8NFN8 GPR156                 0.000000             0.171954   \n",
       "Q8N699 MYCT1                  0.000000             0.189387   \n",
       "P04070 PROC                   0.000000             0.185921   \n",
       "...                                ...                  ...   \n",
       "O96008 TOMM40                 0.002913             0.345161   \n",
       "Q9Y3D6 FIS1                   0.001470             0.312512   \n",
       "Q08629 SPOCK1                 0.000011             0.253810   \n",
       "O75841 UPK1B                  0.000221             0.220208   \n",
       "Q9BXK5 BCL2L13                0.000153             0.260754   \n",
       "\n",
       "                 ClusteringCoefficient  Degree  Radiality   Stress  \\\n",
       "name   GeneName                                                      \n",
       "O15484 CAPN5                  0.000000       1   0.464943        0   \n",
       "Q8N3S3 PHTF2                  0.000000       1   0.464943        0   \n",
       "Q8NFN8 GPR156                 0.000000       1   0.464943        0   \n",
       "Q8N699 MYCT1                  0.000000       1   0.524424        0   \n",
       "P04070 PROC                   0.000000       1   0.513485        0   \n",
       "...                                ...     ...        ...      ...   \n",
       "O96008 TOMM40                 0.034177      80   0.789200  5341184   \n",
       "Q9Y3D6 FIS1                   0.016194      39   0.755570  2308290   \n",
       "Q08629 SPOCK1                 0.000000       3   0.673339     5434   \n",
       "O75841 UPK1B                  0.000000       5   0.606537   335102   \n",
       "Q9BXK5 BCL2L13                0.000000       4   0.684997   243740   \n",
       "\n",
       "                 TopologicalCoefficient  \n",
       "name   GeneName                          \n",
       "O15484 CAPN5                   0.000000  \n",
       "Q8N3S3 PHTF2                   0.000000  \n",
       "Q8NFN8 GPR156                  0.000000  \n",
       "Q8N699 MYCT1                   0.000000  \n",
       "P04070 PROC                    0.000000  \n",
       "...                                 ...  \n",
       "O96008 TOMM40                  0.021698  \n",
       "Q9Y3D6 FIS1                    0.037730  \n",
       "Q08629 SPOCK1                  0.333333  \n",
       "O75841 UPK1B                   0.211111  \n",
       "Q9BXK5 BCL2L13                 0.262821  \n",
       "\n",
       "[9431 rows x 7 columns]"
      ]
     },
     "execution_count": 44,
     "metadata": {},
     "output_type": "execute_result"
    }
   ],
   "source": [
    "Papilloma_df.set_index(['name', 'GeneName'], inplace=True)\n",
    "# Papilloma_df -= Papilloma_df.min()\n",
    "# Papilloma_df /= Papilloma_df.max()\n",
    "\n",
    "Papilloma_df"
   ]
  },
  {
   "cell_type": "code",
   "execution_count": 45,
   "id": "e6d42e75-5628-4eb6-aec8-f89e74e561af",
   "metadata": {},
   "outputs": [
    {
     "name": "stderr",
     "output_type": "stream",
     "text": [
      "/scratch/local/ipykernel_193642/3924348524.py:1: SettingWithCopyWarning:\n",
      "\n",
      "\n",
      "A value is trying to be set on a copy of a slice from a DataFrame.\n",
      "Try using .loc[row_indexer,col_indexer] = value instead\n",
      "\n",
      "See the caveats in the documentation: https://pandas.pydata.org/pandas-docs/stable/user_guide/indexing.html#returning-a-view-versus-a-copy\n",
      "\n",
      "/home/nileshkr/.conda/envs/data_sci/lib/python3.10/site-packages/pandas/util/_decorators.py:311: SettingWithCopyWarning:\n",
      "\n",
      "\n",
      "A value is trying to be set on a copy of a slice from a DataFrame\n",
      "\n",
      "See the caveats in the documentation: https://pandas.pydata.org/pandas-docs/stable/user_guide/indexing.html#returning-a-view-versus-a-copy\n",
      "\n"
     ]
    }
   ],
   "source": [
    "Papilloma_df['Sum'] = Papilloma_df.loc[:,:].sum(axis=1)\n",
    "Papilloma_df.sort_values(by=['Sum'], ascending=False, inplace=True)"
   ]
  },
  {
   "cell_type": "code",
   "execution_count": 46,
   "id": "c7761174-d3f1-48fd-a10a-4b6ce58c0ce7",
   "metadata": {},
   "outputs": [],
   "source": [
    "# Papilloma_df.loc[list(Papilloma_df)[0]]\n",
    "list(Papilloma_df)\n",
    "Top_20 = Papilloma_df[['BetweennessCentrality',\n",
    " 'ClosenessCentrality',\n",
    " 'ClusteringCoefficient',\n",
    " 'Degree',\n",
    " 'Radiality',\n",
    " 'Stress',\n",
    " 'TopologicalCoefficient']].head(20)\n",
    "\n",
    "Top_20 -= Top_20.min()\n",
    "Top_20 /= Top_20.max()"
   ]
  },
  {
   "cell_type": "code",
   "execution_count": 47,
   "id": "ba53d4e0-7318-4a2a-8fcf-b211f456f077",
   "metadata": {},
   "outputs": [],
   "source": [
    "Top_20 = Top_20.reset_index()\n",
    "Top_20.index += 1"
   ]
  },
  {
   "cell_type": "code",
   "execution_count": 48,
   "id": "361440e3-4527-4fbf-8cad-5e2f58a87d61",
   "metadata": {},
   "outputs": [
    {
     "data": {
      "text/html": [
       "<div>\n",
       "<style scoped>\n",
       "    .dataframe tbody tr th:only-of-type {\n",
       "        vertical-align: middle;\n",
       "    }\n",
       "\n",
       "    .dataframe tbody tr th {\n",
       "        vertical-align: top;\n",
       "    }\n",
       "\n",
       "    .dataframe thead th {\n",
       "        text-align: right;\n",
       "    }\n",
       "</style>\n",
       "<table border=\"1\" class=\"dataframe\">\n",
       "  <thead>\n",
       "    <tr style=\"text-align: right;\">\n",
       "      <th></th>\n",
       "      <th>BetweennessCentrality</th>\n",
       "      <th>ClosenessCentrality</th>\n",
       "      <th>ClusteringCoefficient</th>\n",
       "      <th>Degree</th>\n",
       "      <th>Radiality</th>\n",
       "      <th>Stress</th>\n",
       "      <th>TopologicalCoefficient</th>\n",
       "    </tr>\n",
       "  </thead>\n",
       "  <tbody>\n",
       "    <tr>\n",
       "      <th>HNRNPH1</th>\n",
       "      <td>1.000000</td>\n",
       "      <td>1.000000</td>\n",
       "      <td>0.000000</td>\n",
       "      <td>1.000000</td>\n",
       "      <td>1.000000</td>\n",
       "      <td>1.000000</td>\n",
       "      <td>0.000000</td>\n",
       "    </tr>\n",
       "    <tr>\n",
       "      <th>YWHAG</th>\n",
       "      <td>0.430560</td>\n",
       "      <td>0.631166</td>\n",
       "      <td>0.049244</td>\n",
       "      <td>0.542279</td>\n",
       "      <td>0.668068</td>\n",
       "      <td>0.328388</td>\n",
       "      <td>0.038266</td>\n",
       "    </tr>\n",
       "    <tr>\n",
       "      <th>BAG2</th>\n",
       "      <td>0.176601</td>\n",
       "      <td>0.265019</td>\n",
       "      <td>0.032539</td>\n",
       "      <td>0.347426</td>\n",
       "      <td>0.297799</td>\n",
       "      <td>0.300520</td>\n",
       "      <td>0.163374</td>\n",
       "    </tr>\n",
       "    <tr>\n",
       "      <th>C1QBP</th>\n",
       "      <td>0.202625</td>\n",
       "      <td>0.400032</td>\n",
       "      <td>0.303164</td>\n",
       "      <td>0.399816</td>\n",
       "      <td>0.439525</td>\n",
       "      <td>0.279372</td>\n",
       "      <td>0.179516</td>\n",
       "    </tr>\n",
       "    <tr>\n",
       "      <th>PCNA</th>\n",
       "      <td>0.134775</td>\n",
       "      <td>0.150241</td>\n",
       "      <td>0.076049</td>\n",
       "      <td>0.296875</td>\n",
       "      <td>0.172149</td>\n",
       "      <td>0.198058</td>\n",
       "      <td>0.183500</td>\n",
       "    </tr>\n",
       "    <tr>\n",
       "      <th>CIT</th>\n",
       "      <td>0.166885</td>\n",
       "      <td>0.748600</td>\n",
       "      <td>0.184695</td>\n",
       "      <td>0.329963</td>\n",
       "      <td>0.777888</td>\n",
       "      <td>0.106104</td>\n",
       "      <td>0.160949</td>\n",
       "    </tr>\n",
       "    <tr>\n",
       "      <th>PHB2</th>\n",
       "      <td>0.030303</td>\n",
       "      <td>0.283971</td>\n",
       "      <td>0.371300</td>\n",
       "      <td>0.208640</td>\n",
       "      <td>0.318081</td>\n",
       "      <td>0.085903</td>\n",
       "      <td>0.272737</td>\n",
       "    </tr>\n",
       "    <tr>\n",
       "      <th>CCT7</th>\n",
       "      <td>0.013456</td>\n",
       "      <td>0.020684</td>\n",
       "      <td>0.205073</td>\n",
       "      <td>0.218750</td>\n",
       "      <td>0.024239</td>\n",
       "      <td>0.082923</td>\n",
       "      <td>0.278174</td>\n",
       "    </tr>\n",
       "    <tr>\n",
       "      <th>TUBA4A</th>\n",
       "      <td>0.078775</td>\n",
       "      <td>0.222246</td>\n",
       "      <td>0.153143</td>\n",
       "      <td>0.198529</td>\n",
       "      <td>0.251546</td>\n",
       "      <td>0.072645</td>\n",
       "      <td>0.198113</td>\n",
       "    </tr>\n",
       "    <tr>\n",
       "      <th>CCT4</th>\n",
       "      <td>0.021924</td>\n",
       "      <td>0.273556</td>\n",
       "      <td>0.294481</td>\n",
       "      <td>0.220588</td>\n",
       "      <td>0.306950</td>\n",
       "      <td>0.066580</td>\n",
       "      <td>0.210575</td>\n",
       "    </tr>\n",
       "    <tr>\n",
       "      <th>BYSL</th>\n",
       "      <td>0.014056</td>\n",
       "      <td>0.087769</td>\n",
       "      <td>0.281633</td>\n",
       "      <td>0.170037</td>\n",
       "      <td>0.101657</td>\n",
       "      <td>0.029398</td>\n",
       "      <td>0.290350</td>\n",
       "    </tr>\n",
       "    <tr>\n",
       "      <th>PLEKHA4</th>\n",
       "      <td>0.017463</td>\n",
       "      <td>0.926633</td>\n",
       "      <td>1.000000</td>\n",
       "      <td>0.000000</td>\n",
       "      <td>0.936928</td>\n",
       "      <td>0.024859</td>\n",
       "      <td>1.000000</td>\n",
       "    </tr>\n",
       "    <tr>\n",
       "      <th>MYC</th>\n",
       "      <td>0.016501</td>\n",
       "      <td>0.980566</td>\n",
       "      <td>0.518217</td>\n",
       "      <td>0.060662</td>\n",
       "      <td>0.983428</td>\n",
       "      <td>0.012551</td>\n",
       "      <td>0.508976</td>\n",
       "    </tr>\n",
       "    <tr>\n",
       "      <th>RRBP1</th>\n",
       "      <td>0.014759</td>\n",
       "      <td>0.237044</td>\n",
       "      <td>0.428261</td>\n",
       "      <td>0.196691</td>\n",
       "      <td>0.267623</td>\n",
       "      <td>0.008735</td>\n",
       "      <td>0.249993</td>\n",
       "    </tr>\n",
       "    <tr>\n",
       "      <th>MRPL12</th>\n",
       "      <td>0.003303</td>\n",
       "      <td>0.000000</td>\n",
       "      <td>0.862588</td>\n",
       "      <td>0.179228</td>\n",
       "      <td>0.000000</td>\n",
       "      <td>0.006764</td>\n",
       "      <td>0.343023</td>\n",
       "    </tr>\n",
       "    <tr>\n",
       "      <th>EMD</th>\n",
       "      <td>0.042186</td>\n",
       "      <td>0.380815</td>\n",
       "      <td>0.220124</td>\n",
       "      <td>0.135110</td>\n",
       "      <td>0.419738</td>\n",
       "      <td>0.005119</td>\n",
       "      <td>0.231589</td>\n",
       "    </tr>\n",
       "    <tr>\n",
       "      <th>ACTG1</th>\n",
       "      <td>0.000000</td>\n",
       "      <td>0.165347</td>\n",
       "      <td>0.298850</td>\n",
       "      <td>0.134191</td>\n",
       "      <td>0.188969</td>\n",
       "      <td>0.004866</td>\n",
       "      <td>0.298296</td>\n",
       "    </tr>\n",
       "    <tr>\n",
       "      <th>SHC1</th>\n",
       "      <td>0.060945</td>\n",
       "      <td>0.389688</td>\n",
       "      <td>0.169705</td>\n",
       "      <td>0.193934</td>\n",
       "      <td>0.428889</td>\n",
       "      <td>0.001617</td>\n",
       "      <td>0.144312</td>\n",
       "    </tr>\n",
       "    <tr>\n",
       "      <th>SP1</th>\n",
       "      <td>0.017937</td>\n",
       "      <td>0.109973</td>\n",
       "      <td>0.197941</td>\n",
       "      <td>0.152574</td>\n",
       "      <td>0.126886</td>\n",
       "      <td>0.001290</td>\n",
       "      <td>0.251342</td>\n",
       "    </tr>\n",
       "    <tr>\n",
       "      <th>LGALS1</th>\n",
       "      <td>0.074156</td>\n",
       "      <td>0.139625</td>\n",
       "      <td>0.118844</td>\n",
       "      <td>0.152574</td>\n",
       "      <td>0.160277</td>\n",
       "      <td>0.000000</td>\n",
       "      <td>0.202068</td>\n",
       "    </tr>\n",
       "  </tbody>\n",
       "</table>\n",
       "</div>"
      ],
      "text/plain": [
       "         BetweennessCentrality  ClosenessCentrality  ClusteringCoefficient  \\\n",
       "HNRNPH1               1.000000             1.000000               0.000000   \n",
       "YWHAG                 0.430560             0.631166               0.049244   \n",
       "BAG2                  0.176601             0.265019               0.032539   \n",
       "C1QBP                 0.202625             0.400032               0.303164   \n",
       "PCNA                  0.134775             0.150241               0.076049   \n",
       "CIT                   0.166885             0.748600               0.184695   \n",
       "PHB2                  0.030303             0.283971               0.371300   \n",
       "CCT7                  0.013456             0.020684               0.205073   \n",
       "TUBA4A                0.078775             0.222246               0.153143   \n",
       "CCT4                  0.021924             0.273556               0.294481   \n",
       "BYSL                  0.014056             0.087769               0.281633   \n",
       "PLEKHA4               0.017463             0.926633               1.000000   \n",
       "MYC                   0.016501             0.980566               0.518217   \n",
       "RRBP1                 0.014759             0.237044               0.428261   \n",
       "MRPL12                0.003303             0.000000               0.862588   \n",
       "EMD                   0.042186             0.380815               0.220124   \n",
       "ACTG1                 0.000000             0.165347               0.298850   \n",
       "SHC1                  0.060945             0.389688               0.169705   \n",
       "SP1                   0.017937             0.109973               0.197941   \n",
       "LGALS1                0.074156             0.139625               0.118844   \n",
       "\n",
       "           Degree  Radiality    Stress  TopologicalCoefficient  \n",
       "HNRNPH1  1.000000   1.000000  1.000000                0.000000  \n",
       "YWHAG    0.542279   0.668068  0.328388                0.038266  \n",
       "BAG2     0.347426   0.297799  0.300520                0.163374  \n",
       "C1QBP    0.399816   0.439525  0.279372                0.179516  \n",
       "PCNA     0.296875   0.172149  0.198058                0.183500  \n",
       "CIT      0.329963   0.777888  0.106104                0.160949  \n",
       "PHB2     0.208640   0.318081  0.085903                0.272737  \n",
       "CCT7     0.218750   0.024239  0.082923                0.278174  \n",
       "TUBA4A   0.198529   0.251546  0.072645                0.198113  \n",
       "CCT4     0.220588   0.306950  0.066580                0.210575  \n",
       "BYSL     0.170037   0.101657  0.029398                0.290350  \n",
       "PLEKHA4  0.000000   0.936928  0.024859                1.000000  \n",
       "MYC      0.060662   0.983428  0.012551                0.508976  \n",
       "RRBP1    0.196691   0.267623  0.008735                0.249993  \n",
       "MRPL12   0.179228   0.000000  0.006764                0.343023  \n",
       "EMD      0.135110   0.419738  0.005119                0.231589  \n",
       "ACTG1    0.134191   0.188969  0.004866                0.298296  \n",
       "SHC1     0.193934   0.428889  0.001617                0.144312  \n",
       "SP1      0.152574   0.126886  0.001290                0.251342  \n",
       "LGALS1   0.152574   0.160277  0.000000                0.202068  "
      ]
     },
     "execution_count": 48,
     "metadata": {},
     "output_type": "execute_result"
    }
   ],
   "source": [
    "df = Top_20[list(Top_20)[2:]]\n",
    "Cols = list(df)\n",
    "Col_dict = {Cols[i]:i+1 for i in range(len(Cols))}\n",
    "df.index = list(Top_20.GeneName)\n",
    "df"
   ]
  },
  {
   "cell_type": "markdown",
   "id": "26d2b2f3-2cff-4bef-b081-1e44428da143",
   "metadata": {},
   "source": [
    "# enrichment"
   ]
  },
  {
   "cell_type": "code",
   "execution_count": 49,
   "id": "a4bee783-7333-4d48-953c-016032ee97fe",
   "metadata": {},
   "outputs": [
    {
     "data": {
      "text/plain": [
       "['ARCHS4_Cell-lines',\n",
       " 'ARCHS4_IDG_Coexp',\n",
       " 'ARCHS4_Kinases_Coexp',\n",
       " 'ARCHS4_TFs_Coexp',\n",
       " 'ARCHS4_Tissues',\n",
       " 'Achilles_fitness_decrease',\n",
       " 'Achilles_fitness_increase',\n",
       " 'Aging_Perturbations_from_GEO_down',\n",
       " 'Aging_Perturbations_from_GEO_up',\n",
       " 'Allen_Brain_Atlas_10x_scRNA_2021',\n",
       " 'Allen_Brain_Atlas_down',\n",
       " 'Allen_Brain_Atlas_up',\n",
       " 'Azimuth_Cell_Types_2021',\n",
       " 'BioCarta_2013',\n",
       " 'BioCarta_2015',\n",
       " 'BioCarta_2016',\n",
       " 'BioPlanet_2019',\n",
       " 'BioPlex_2017',\n",
       " 'CCLE_Proteomics_2020',\n",
       " 'CORUM',\n",
       " 'COVID-19_Related_Gene_Sets',\n",
       " 'COVID-19_Related_Gene_Sets_2021',\n",
       " 'Cancer_Cell_Line_Encyclopedia',\n",
       " 'CellMarker_Augmented_2021',\n",
       " 'ChEA_2013',\n",
       " 'ChEA_2015',\n",
       " 'ChEA_2016',\n",
       " 'Chromosome_Location',\n",
       " 'Chromosome_Location_hg19',\n",
       " 'ClinVar_2019',\n",
       " 'DSigDB',\n",
       " 'Data_Acquisition_Method_Most_Popular_Genes',\n",
       " 'DepMap_WG_CRISPR_Screens_Broad_CellLines_2019',\n",
       " 'DepMap_WG_CRISPR_Screens_Sanger_CellLines_2019',\n",
       " 'Descartes_Cell_Types_and_Tissue_2021',\n",
       " 'DisGeNET',\n",
       " 'Disease_Perturbations_from_GEO_down',\n",
       " 'Disease_Perturbations_from_GEO_up',\n",
       " 'Disease_Signatures_from_GEO_down_2014',\n",
       " 'Disease_Signatures_from_GEO_up_2014',\n",
       " 'DrugMatrix',\n",
       " 'Drug_Perturbations_from_GEO_2014',\n",
       " 'Drug_Perturbations_from_GEO_down',\n",
       " 'Drug_Perturbations_from_GEO_up',\n",
       " 'ENCODE_Histone_Modifications_2013',\n",
       " 'ENCODE_Histone_Modifications_2015',\n",
       " 'ENCODE_TF_ChIP-seq_2014',\n",
       " 'ENCODE_TF_ChIP-seq_2015',\n",
       " 'ENCODE_and_ChEA_Consensus_TFs_from_ChIP-X',\n",
       " 'ESCAPE',\n",
       " 'Elsevier_Pathway_Collection',\n",
       " 'Enrichr_Libraries_Most_Popular_Genes',\n",
       " 'Enrichr_Submissions_TF-Gene_Coocurrence',\n",
       " 'Enrichr_Users_Contributed_Lists_2020',\n",
       " 'Epigenomics_Roadmap_HM_ChIP-seq',\n",
       " 'GO_Biological_Process_2013',\n",
       " 'GO_Biological_Process_2015',\n",
       " 'GO_Biological_Process_2017',\n",
       " 'GO_Biological_Process_2017b',\n",
       " 'GO_Biological_Process_2018',\n",
       " 'GO_Biological_Process_2021',\n",
       " 'GO_Cellular_Component_2013',\n",
       " 'GO_Cellular_Component_2015',\n",
       " 'GO_Cellular_Component_2017',\n",
       " 'GO_Cellular_Component_2017b',\n",
       " 'GO_Cellular_Component_2018',\n",
       " 'GO_Cellular_Component_2021',\n",
       " 'GO_Molecular_Function_2013',\n",
       " 'GO_Molecular_Function_2015',\n",
       " 'GO_Molecular_Function_2017',\n",
       " 'GO_Molecular_Function_2017b',\n",
       " 'GO_Molecular_Function_2018',\n",
       " 'GO_Molecular_Function_2021',\n",
       " 'GTEx_Aging_Signatures_2021',\n",
       " 'GTEx_Tissue_Expression_Down',\n",
       " 'GTEx_Tissue_Expression_Up',\n",
       " 'GWAS_Catalog_2019',\n",
       " 'GeneSigDB',\n",
       " 'Gene_Perturbations_from_GEO_down',\n",
       " 'Gene_Perturbations_from_GEO_up',\n",
       " 'Genes_Associated_with_NIH_Grants',\n",
       " 'Genome_Browser_PWMs',\n",
       " 'HDSigDB_Human_2021',\n",
       " 'HDSigDB_Mouse_2021',\n",
       " 'HMDB_Metabolites',\n",
       " 'HMS_LINCS_KinomeScan',\n",
       " 'HomoloGene',\n",
       " 'HuBMAP_ASCT_plus_B_augmented_w_RNAseq_Coexpression',\n",
       " 'HuBMAP_ASCTplusB_augmented_2022',\n",
       " 'HumanCyc_2015',\n",
       " 'HumanCyc_2016',\n",
       " 'Human_Gene_Atlas',\n",
       " 'Human_Phenotype_Ontology',\n",
       " 'InterPro_Domains_2019',\n",
       " 'Jensen_COMPARTMENTS',\n",
       " 'Jensen_DISEASES',\n",
       " 'Jensen_TISSUES',\n",
       " 'KEA_2013',\n",
       " 'KEA_2015',\n",
       " 'KEGG_2013',\n",
       " 'KEGG_2015',\n",
       " 'KEGG_2016',\n",
       " 'KEGG_2019_Human',\n",
       " 'KEGG_2019_Mouse',\n",
       " 'KEGG_2021_Human',\n",
       " 'Kinase_Perturbations_from_GEO_down',\n",
       " 'Kinase_Perturbations_from_GEO_up',\n",
       " 'L1000_Kinase_and_GPCR_Perturbations_down',\n",
       " 'L1000_Kinase_and_GPCR_Perturbations_up',\n",
       " 'LINCS_L1000_Chem_Pert_down',\n",
       " 'LINCS_L1000_Chem_Pert_up',\n",
       " 'LINCS_L1000_Ligand_Perturbations_down',\n",
       " 'LINCS_L1000_Ligand_Perturbations_up',\n",
       " 'Ligand_Perturbations_from_GEO_down',\n",
       " 'Ligand_Perturbations_from_GEO_up',\n",
       " 'MCF7_Perturbations_from_GEO_down',\n",
       " 'MCF7_Perturbations_from_GEO_up',\n",
       " 'MGI_Mammalian_Phenotype_2013',\n",
       " 'MGI_Mammalian_Phenotype_2017',\n",
       " 'MGI_Mammalian_Phenotype_Level_3',\n",
       " 'MGI_Mammalian_Phenotype_Level_4',\n",
       " 'MGI_Mammalian_Phenotype_Level_4_2019',\n",
       " 'MGI_Mammalian_Phenotype_Level_4_2021',\n",
       " 'MSigDB_Computational',\n",
       " 'MSigDB_Hallmark_2020',\n",
       " 'MSigDB_Oncogenic_Signatures',\n",
       " 'Microbe_Perturbations_from_GEO_down',\n",
       " 'Microbe_Perturbations_from_GEO_up',\n",
       " 'Mouse_Gene_Atlas',\n",
       " 'NCI-60_Cancer_Cell_Lines',\n",
       " 'NCI-Nature_2015',\n",
       " 'NCI-Nature_2016',\n",
       " 'NIH_Funded_PIs_2017_AutoRIF_ARCHS4_Predictions',\n",
       " 'NIH_Funded_PIs_2017_GeneRIF_ARCHS4_Predictions',\n",
       " 'NIH_Funded_PIs_2017_Human_AutoRIF',\n",
       " 'NIH_Funded_PIs_2017_Human_GeneRIF',\n",
       " 'NURSA_Human_Endogenous_Complexome',\n",
       " 'OMIM_Disease',\n",
       " 'OMIM_Expanded',\n",
       " 'Old_CMAP_down',\n",
       " 'Old_CMAP_up',\n",
       " 'Orphanet_Augmented_2021',\n",
       " 'PPI_Hub_Proteins',\n",
       " 'PanglaoDB_Augmented_2021',\n",
       " 'Panther_2015',\n",
       " 'Panther_2016',\n",
       " 'Pfam_Domains_2019',\n",
       " 'Pfam_InterPro_Domains',\n",
       " 'PheWeb_2019',\n",
       " 'PhenGenI_Association_2021',\n",
       " 'Phosphatase_Substrates_from_DEPOD',\n",
       " 'ProteomicsDB_2020',\n",
       " 'RNA-Seq_Disease_Gene_and_Drug_Signatures_from_GEO',\n",
       " 'RNAseq_Automatic_GEO_Signatures_Human_Down',\n",
       " 'RNAseq_Automatic_GEO_Signatures_Human_Up',\n",
       " 'RNAseq_Automatic_GEO_Signatures_Mouse_Down',\n",
       " 'RNAseq_Automatic_GEO_Signatures_Mouse_Up',\n",
       " 'Rare_Diseases_AutoRIF_ARCHS4_Predictions',\n",
       " 'Rare_Diseases_AutoRIF_Gene_Lists',\n",
       " 'Rare_Diseases_GeneRIF_ARCHS4_Predictions',\n",
       " 'Rare_Diseases_GeneRIF_Gene_Lists',\n",
       " 'Reactome_2013',\n",
       " 'Reactome_2015',\n",
       " 'Reactome_2016',\n",
       " 'SILAC_Phosphoproteomics',\n",
       " 'SubCell_BarCode',\n",
       " 'SysMyo_Muscle_Gene_Sets',\n",
       " 'TF-LOF_Expression_from_GEO',\n",
       " 'TF_Perturbations_Followed_by_Expression',\n",
       " 'TG_GATES_2020',\n",
       " 'TRANSFAC_and_JASPAR_PWMs',\n",
       " 'TRRUST_Transcription_Factors_2019',\n",
       " 'Table_Mining_of_CRISPR_Studies',\n",
       " 'TargetScan_microRNA',\n",
       " 'TargetScan_microRNA_2017',\n",
       " 'Tissue_Protein_Expression_from_Human_Proteome_Map',\n",
       " 'Tissue_Protein_Expression_from_ProteomicsDB',\n",
       " 'Transcription_Factor_PPIs',\n",
       " 'UK_Biobank_GWAS_v1',\n",
       " 'Virus-Host_PPI_P-HIPSTer_2020',\n",
       " 'VirusMINT',\n",
       " 'Virus_Perturbations_from_GEO_down',\n",
       " 'Virus_Perturbations_from_GEO_up',\n",
       " 'WikiPathway_2021_Human',\n",
       " 'WikiPathways_2013',\n",
       " 'WikiPathways_2015',\n",
       " 'WikiPathways_2016',\n",
       " 'WikiPathways_2019_Human',\n",
       " 'WikiPathways_2019_Mouse',\n",
       " 'dbGaP',\n",
       " 'huMAP',\n",
       " 'lncHUB_lncRNA_Co-Expression',\n",
       " 'miRTarBase_2017']"
      ]
     },
     "execution_count": 49,
     "metadata": {},
     "output_type": "execute_result"
    }
   ],
   "source": [
    "# https://academic.oup.com/nar/article/44/W1/W90/2499357\n",
    "names = gp.get_library_name(organism='Human') # default: Human\n",
    "names"
   ]
  },
  {
   "cell_type": "code",
   "execution_count": 50,
   "id": "3854d61a-c877-4c31-8af7-a6724af453e4",
   "metadata": {},
   "outputs": [
    {
     "name": "stdout",
     "output_type": "stream",
     "text": [
      "20\n",
      "HNRNPH1\n",
      "YWHAG\n",
      "BAG2\n",
      "C1QBP\n",
      "PCNA\n",
      "CIT\n",
      "PHB2\n",
      "CCT7\n",
      "TUBA4A\n",
      "CCT4\n",
      "BYSL\n",
      "PLEKHA4\n",
      "MYC\n",
      "RRBP1\n",
      "MRPL12\n",
      "EMD\n",
      "ACTG1\n",
      "SHC1\n",
      "SP1\n",
      "LGALS1\n"
     ]
    }
   ],
   "source": [
    "# glist = list(set(df.To.squeeze().str.strip().tolist()))\n",
    "glist = list(df.index) # list(set(df.To.squeeze().str.strip().tolist()))\n",
    "print(len(glist))\n",
    "print(*glist, sep=\"\\n\")"
   ]
  },
  {
   "cell_type": "code",
   "execution_count": null,
   "id": "cb31dfb5-8f65-4ac3-b091-5ee411d5659c",
   "metadata": {},
   "outputs": [],
   "source": []
  },
  {
   "cell_type": "code",
   "execution_count": 51,
   "id": "b2e12e3c-3e28-4629-9093-ac3bf637501b",
   "metadata": {},
   "outputs": [],
   "source": [
    "# gene_sets='KEGG_2016'\n",
    "# gene_sets='KEGG_2016,KEGG_2013'\n",
    "gene_sets=['VirusMINT']\n",
    "gene_sets\n",
    "\n",
    "# run enrichr\n",
    "# if you are only intrested in dataframe that enrichr returned, please set no_plot=True\n",
    "\n",
    "# list, dataframe, series inputs are supported\n",
    "enr = gp.enrichr(gene_list=glist,\n",
    "                 gene_sets=gene_sets,\n",
    "                 organism='Human', # don't forget to set organism to the one you desired! e.g. Yeast\n",
    "                 description='test_name',\n",
    "                 outdir='Test',\n",
    "                 # no_plot=True,\n",
    "                 cutoff=0.5 # test dataset, use lower value from range(0,1)\n",
    "                )"
   ]
  },
  {
   "cell_type": "code",
   "execution_count": 52,
   "id": "2230a67b-67ed-47ee-abac-39c628b84ce0",
   "metadata": {},
   "outputs": [
    {
     "data": {
      "text/html": [
       "<div>\n",
       "<style scoped>\n",
       "    .dataframe tbody tr th:only-of-type {\n",
       "        vertical-align: middle;\n",
       "    }\n",
       "\n",
       "    .dataframe tbody tr th {\n",
       "        vertical-align: top;\n",
       "    }\n",
       "\n",
       "    .dataframe thead th {\n",
       "        text-align: right;\n",
       "    }\n",
       "</style>\n",
       "<table border=\"1\" class=\"dataframe\">\n",
       "  <thead>\n",
       "    <tr style=\"text-align: right;\">\n",
       "      <th></th>\n",
       "      <th>Gene_set</th>\n",
       "      <th>Term</th>\n",
       "      <th>Overlap</th>\n",
       "      <th>P-value</th>\n",
       "      <th>Adjusted P-value</th>\n",
       "      <th>Old P-value</th>\n",
       "      <th>Old Adjusted P-value</th>\n",
       "      <th>Odds Ratio</th>\n",
       "      <th>Combined Score</th>\n",
       "      <th>Genes</th>\n",
       "    </tr>\n",
       "  </thead>\n",
       "  <tbody>\n",
       "    <tr>\n",
       "      <th>0</th>\n",
       "      <td>VirusMINT</td>\n",
       "      <td>Human immunodeficiency virus 1</td>\n",
       "      <td>5/489</td>\n",
       "      <td>0.000098</td>\n",
       "      <td>0.000979</td>\n",
       "      <td>0</td>\n",
       "      <td>0</td>\n",
       "      <td>13.426997</td>\n",
       "      <td>123.948557</td>\n",
       "      <td>SP1;C1QBP;TUBA4A;CCT4;ACTG1</td>\n",
       "    </tr>\n",
       "    <tr>\n",
       "      <th>1</th>\n",
       "      <td>VirusMINT</td>\n",
       "      <td>Homo sapiens</td>\n",
       "      <td>2/22</td>\n",
       "      <td>0.000217</td>\n",
       "      <td>0.001084</td>\n",
       "      <td>0</td>\n",
       "      <td>0</td>\n",
       "      <td>110.888889</td>\n",
       "      <td>935.499801</td>\n",
       "      <td>BAG2;MYC</td>\n",
       "    </tr>\n",
       "    <tr>\n",
       "      <th>2</th>\n",
       "      <td>VirusMINT</td>\n",
       "      <td>Human herpesvirus 3</td>\n",
       "      <td>1/1</td>\n",
       "      <td>0.001000</td>\n",
       "      <td>0.003333</td>\n",
       "      <td>0</td>\n",
       "      <td>0</td>\n",
       "      <td>19980.000000</td>\n",
       "      <td>138017.405087</td>\n",
       "      <td>SP1</td>\n",
       "    </tr>\n",
       "    <tr>\n",
       "      <th>3</th>\n",
       "      <td>VirusMINT</td>\n",
       "      <td>Human herpesvirus 1 (strain 17)</td>\n",
       "      <td>2/56</td>\n",
       "      <td>0.001416</td>\n",
       "      <td>0.003541</td>\n",
       "      <td>0</td>\n",
       "      <td>0</td>\n",
       "      <td>41.000000</td>\n",
       "      <td>268.944327</td>\n",
       "      <td>PCNA;EMD</td>\n",
       "    </tr>\n",
       "  </tbody>\n",
       "</table>\n",
       "</div>"
      ],
      "text/plain": [
       "    Gene_set                             Term Overlap   P-value  \\\n",
       "0  VirusMINT   Human immunodeficiency virus 1   5/489  0.000098   \n",
       "1  VirusMINT                     Homo sapiens    2/22  0.000217   \n",
       "2  VirusMINT              Human herpesvirus 3     1/1  0.001000   \n",
       "3  VirusMINT  Human herpesvirus 1 (strain 17)    2/56  0.001416   \n",
       "\n",
       "   Adjusted P-value  Old P-value  Old Adjusted P-value    Odds Ratio  \\\n",
       "0          0.000979            0                     0     13.426997   \n",
       "1          0.001084            0                     0    110.888889   \n",
       "2          0.003333            0                     0  19980.000000   \n",
       "3          0.003541            0                     0     41.000000   \n",
       "\n",
       "   Combined Score                        Genes  \n",
       "0      123.948557  SP1;C1QBP;TUBA4A;CCT4;ACTG1  \n",
       "1      935.499801                     BAG2;MYC  \n",
       "2   138017.405087                          SP1  \n",
       "3      268.944327                     PCNA;EMD  "
      ]
     },
     "execution_count": 52,
     "metadata": {},
     "output_type": "execute_result"
    }
   ],
   "source": [
    "# obj.results stores all results\n",
    "enr.results[enr.results['Adjusted P-value'] <= 0.005]#.head(10)"
   ]
  },
  {
   "cell_type": "code",
   "execution_count": 53,
   "id": "5fac95ce-d881-4da0-a298-7673f5aa8f92",
   "metadata": {},
   "outputs": [],
   "source": [
    "encrihment_df = enr.results[enr.results['Adjusted P-value'] <= 0.005]\n",
    "Encrihment_dict = defaultdict(list)\n",
    "for Term, Genes in encrihment_df[['Term', 'Genes']].values.tolist():\n",
    "    for gene in Genes.split(';'):\n",
    "        Encrihment_dict[gene].append(Term)\n",
    "        \n",
    "for i in Encrihment_dict:\n",
    "    Encrihment_dict[i] = \"<br>\".join(Encrihment_dict[i])\n",
    "    \n",
    "Encrihment_dict = dict(Encrihment_dict)"
   ]
  },
  {
   "cell_type": "code",
   "execution_count": 54,
   "id": "13f1d314-05bd-4513-83d7-be2de0a719ea",
   "metadata": {},
   "outputs": [
    {
     "data": {
      "image/png": "[encoded data removed]",
      "text/plain": [
       "<Figure size 468x432 with 1 Axes>"
      ]
     },
     "metadata": {
      "needs_background": "light"
     },
     "output_type": "display_data"
    }
   ],
   "source": [
    "# simple plotting function\n",
    "from gseapy.plot import barplot, dotplot\n",
    "\n",
    "# to save your figure, make sure that ``ofname`` is not None\n",
    "barplot(enr.res2d,title='PPI_Hub_Proteins',)"
   ]
  },
  {
   "cell_type": "code",
   "execution_count": 55,
   "id": "b743833f-5677-447a-a22e-f6530075ffb4",
   "metadata": {},
   "outputs": [
    {
     "data": {
      "text/plain": [
       "<AxesSubplot:title={'center':'Transcription_Factor_PPIs'}, xlabel='-log$_{10}$(Adjusted P-value)'>"
      ]
     },
     "execution_count": 55,
     "metadata": {},
     "output_type": "execute_result"
    },
    {
     "data": {
      "image/png": "[encoded data removed]",
      "text/plain": [
       "<Figure size 432x396 with 2 Axes>"
      ]
     },
     "metadata": {
      "needs_background": "light"
     },
     "output_type": "display_data"
    }
   ],
   "source": [
    "dotplot(enr.res2d, title='Transcription_Factor_PPIs',cmap='viridis_r')"
   ]
  },
  {
   "cell_type": "code",
   "execution_count": null,
   "id": "38c602fb-d690-4c99-8076-836842c8d7d3",
   "metadata": {},
   "outputs": [],
   "source": []
  },
  {
   "cell_type": "markdown",
   "id": "8375e8d9-df54-4a63-b076-ddba649956b6",
   "metadata": {},
   "source": [
    "# Dot plot"
   ]
  },
  {
   "cell_type": "code",
   "execution_count": 61,
   "id": "ba7baf5a-11f7-4412-8972-035bdc385893",
   "metadata": {},
   "outputs": [
    {
     "data": {
      "text/html": [
       "<div>\n",
       "<style scoped>\n",
       "    .dataframe tbody tr th:only-of-type {\n",
       "        vertical-align: middle;\n",
       "    }\n",
       "\n",
       "    .dataframe tbody tr th {\n",
       "        vertical-align: top;\n",
       "    }\n",
       "\n",
       "    .dataframe thead th {\n",
       "        text-align: right;\n",
       "    }\n",
       "</style>\n",
       "<table border=\"1\" class=\"dataframe\">\n",
       "  <thead>\n",
       "    <tr style=\"text-align: right;\">\n",
       "      <th></th>\n",
       "      <th>Centrality</th>\n",
       "      <th>Protein</th>\n",
       "      <th>Value</th>\n",
       "      <th>Info</th>\n",
       "      <th>Encrichment</th>\n",
       "    </tr>\n",
       "  </thead>\n",
       "  <tbody>\n",
       "    <tr>\n",
       "      <th>0</th>\n",
       "      <td>BetweennessCentrality</td>\n",
       "      <td>HNRNPH1</td>\n",
       "      <td>1.000000</td>\n",
       "      <td>1.0&lt;br&gt;BetweennessCentrality</td>\n",
       "      <td>NE</td>\n",
       "    </tr>\n",
       "    <tr>\n",
       "      <th>1</th>\n",
       "      <td>BetweennessCentrality</td>\n",
       "      <td>YWHAG</td>\n",
       "      <td>0.430560</td>\n",
       "      <td>0.43&lt;br&gt;BetweennessCentrality</td>\n",
       "      <td>NE</td>\n",
       "    </tr>\n",
       "    <tr>\n",
       "      <th>2</th>\n",
       "      <td>BetweennessCentrality</td>\n",
       "      <td>BAG2</td>\n",
       "      <td>0.176601</td>\n",
       "      <td>0.18&lt;br&gt;BetweennessCentrality</td>\n",
       "      <td>Homo sapiens</td>\n",
       "    </tr>\n",
       "    <tr>\n",
       "      <th>3</th>\n",
       "      <td>BetweennessCentrality</td>\n",
       "      <td>C1QBP</td>\n",
       "      <td>0.202625</td>\n",
       "      <td>0.2&lt;br&gt;BetweennessCentrality</td>\n",
       "      <td>Human immunodeficiency virus 1</td>\n",
       "    </tr>\n",
       "    <tr>\n",
       "      <th>4</th>\n",
       "      <td>BetweennessCentrality</td>\n",
       "      <td>PCNA</td>\n",
       "      <td>0.134775</td>\n",
       "      <td>0.13&lt;br&gt;BetweennessCentrality</td>\n",
       "      <td>Human herpesvirus 1 (strain 17)</td>\n",
       "    </tr>\n",
       "    <tr>\n",
       "      <th>5</th>\n",
       "      <td>BetweennessCentrality</td>\n",
       "      <td>CIT</td>\n",
       "      <td>0.166885</td>\n",
       "      <td>0.17&lt;br&gt;BetweennessCentrality</td>\n",
       "      <td>NE</td>\n",
       "    </tr>\n",
       "    <tr>\n",
       "      <th>6</th>\n",
       "      <td>BetweennessCentrality</td>\n",
       "      <td>PHB2</td>\n",
       "      <td>0.030303</td>\n",
       "      <td>0.03&lt;br&gt;BetweennessCentrality</td>\n",
       "      <td>NE</td>\n",
       "    </tr>\n",
       "    <tr>\n",
       "      <th>7</th>\n",
       "      <td>BetweennessCentrality</td>\n",
       "      <td>CCT7</td>\n",
       "      <td>0.013456</td>\n",
       "      <td>0.01&lt;br&gt;BetweennessCentrality</td>\n",
       "      <td>NE</td>\n",
       "    </tr>\n",
       "    <tr>\n",
       "      <th>8</th>\n",
       "      <td>BetweennessCentrality</td>\n",
       "      <td>TUBA4A</td>\n",
       "      <td>0.078775</td>\n",
       "      <td>0.08&lt;br&gt;BetweennessCentrality</td>\n",
       "      <td>Human immunodeficiency virus 1</td>\n",
       "    </tr>\n",
       "    <tr>\n",
       "      <th>9</th>\n",
       "      <td>BetweennessCentrality</td>\n",
       "      <td>CCT4</td>\n",
       "      <td>0.021924</td>\n",
       "      <td>0.02&lt;br&gt;BetweennessCentrality</td>\n",
       "      <td>Human immunodeficiency virus 1</td>\n",
       "    </tr>\n",
       "    <tr>\n",
       "      <th>10</th>\n",
       "      <td>BetweennessCentrality</td>\n",
       "      <td>BYSL</td>\n",
       "      <td>0.014056</td>\n",
       "      <td>0.01&lt;br&gt;BetweennessCentrality</td>\n",
       "      <td>NE</td>\n",
       "    </tr>\n",
       "    <tr>\n",
       "      <th>11</th>\n",
       "      <td>BetweennessCentrality</td>\n",
       "      <td>PLEKHA4</td>\n",
       "      <td>0.017463</td>\n",
       "      <td>0.02&lt;br&gt;BetweennessCentrality</td>\n",
       "      <td>NE</td>\n",
       "    </tr>\n",
       "    <tr>\n",
       "      <th>12</th>\n",
       "      <td>BetweennessCentrality</td>\n",
       "      <td>MYC</td>\n",
       "      <td>0.016501</td>\n",
       "      <td>0.02&lt;br&gt;BetweennessCentrality</td>\n",
       "      <td>Homo sapiens</td>\n",
       "    </tr>\n",
       "    <tr>\n",
       "      <th>13</th>\n",
       "      <td>BetweennessCentrality</td>\n",
       "      <td>RRBP1</td>\n",
       "      <td>0.014759</td>\n",
       "      <td>0.01&lt;br&gt;BetweennessCentrality</td>\n",
       "      <td>NE</td>\n",
       "    </tr>\n",
       "    <tr>\n",
       "      <th>14</th>\n",
       "      <td>BetweennessCentrality</td>\n",
       "      <td>MRPL12</td>\n",
       "      <td>0.003303</td>\n",
       "      <td>0.0&lt;br&gt;BetweennessCentrality</td>\n",
       "      <td>NE</td>\n",
       "    </tr>\n",
       "    <tr>\n",
       "      <th>15</th>\n",
       "      <td>BetweennessCentrality</td>\n",
       "      <td>EMD</td>\n",
       "      <td>0.042186</td>\n",
       "      <td>0.04&lt;br&gt;BetweennessCentrality</td>\n",
       "      <td>Human herpesvirus 1 (strain 17)</td>\n",
       "    </tr>\n",
       "    <tr>\n",
       "      <th>16</th>\n",
       "      <td>BetweennessCentrality</td>\n",
       "      <td>ACTG1</td>\n",
       "      <td>0.000000</td>\n",
       "      <td>0.0&lt;br&gt;BetweennessCentrality</td>\n",
       "      <td>Human immunodeficiency virus 1</td>\n",
       "    </tr>\n",
       "    <tr>\n",
       "      <th>17</th>\n",
       "      <td>BetweennessCentrality</td>\n",
       "      <td>SHC1</td>\n",
       "      <td>0.060945</td>\n",
       "      <td>0.06&lt;br&gt;BetweennessCentrality</td>\n",
       "      <td>NE</td>\n",
       "    </tr>\n",
       "    <tr>\n",
       "      <th>18</th>\n",
       "      <td>BetweennessCentrality</td>\n",
       "      <td>SP1</td>\n",
       "      <td>0.017937</td>\n",
       "      <td>0.02&lt;br&gt;BetweennessCentrality</td>\n",
       "      <td>Human immunodeficiency virus 1&lt;br&gt;Human herpes...</td>\n",
       "    </tr>\n",
       "    <tr>\n",
       "      <th>19</th>\n",
       "      <td>BetweennessCentrality</td>\n",
       "      <td>LGALS1</td>\n",
       "      <td>0.074156</td>\n",
       "      <td>0.07&lt;br&gt;BetweennessCentrality</td>\n",
       "      <td>NE</td>\n",
       "    </tr>\n",
       "    <tr>\n",
       "      <th>20</th>\n",
       "      <td>ClosenessCentrality</td>\n",
       "      <td>HNRNPH1</td>\n",
       "      <td>1.000000</td>\n",
       "      <td>1.0&lt;br&gt;ClosenessCentrality</td>\n",
       "      <td>NE</td>\n",
       "    </tr>\n",
       "    <tr>\n",
       "      <th>21</th>\n",
       "      <td>ClosenessCentrality</td>\n",
       "      <td>YWHAG</td>\n",
       "      <td>0.631166</td>\n",
       "      <td>0.63&lt;br&gt;ClosenessCentrality</td>\n",
       "      <td>NE</td>\n",
       "    </tr>\n",
       "    <tr>\n",
       "      <th>22</th>\n",
       "      <td>ClosenessCentrality</td>\n",
       "      <td>BAG2</td>\n",
       "      <td>0.265019</td>\n",
       "      <td>0.27&lt;br&gt;ClosenessCentrality</td>\n",
       "      <td>Homo sapiens</td>\n",
       "    </tr>\n",
       "    <tr>\n",
       "      <th>23</th>\n",
       "      <td>ClosenessCentrality</td>\n",
       "      <td>C1QBP</td>\n",
       "      <td>0.400032</td>\n",
       "      <td>0.4&lt;br&gt;ClosenessCentrality</td>\n",
       "      <td>Human immunodeficiency virus 1</td>\n",
       "    </tr>\n",
       "    <tr>\n",
       "      <th>24</th>\n",
       "      <td>ClosenessCentrality</td>\n",
       "      <td>PCNA</td>\n",
       "      <td>0.150241</td>\n",
       "      <td>0.15&lt;br&gt;ClosenessCentrality</td>\n",
       "      <td>Human herpesvirus 1 (strain 17)</td>\n",
       "    </tr>\n",
       "  </tbody>\n",
       "</table>\n",
       "</div>"
      ],
      "text/plain": [
       "               Centrality  Protein     Value                           Info  \\\n",
       "0   BetweennessCentrality  HNRNPH1  1.000000   1.0<br>BetweennessCentrality   \n",
       "1   BetweennessCentrality    YWHAG  0.430560  0.43<br>BetweennessCentrality   \n",
       "2   BetweennessCentrality     BAG2  0.176601  0.18<br>BetweennessCentrality   \n",
       "3   BetweennessCentrality    C1QBP  0.202625   0.2<br>BetweennessCentrality   \n",
       "4   BetweennessCentrality     PCNA  0.134775  0.13<br>BetweennessCentrality   \n",
       "5   BetweennessCentrality      CIT  0.166885  0.17<br>BetweennessCentrality   \n",
       "6   BetweennessCentrality     PHB2  0.030303  0.03<br>BetweennessCentrality   \n",
       "7   BetweennessCentrality     CCT7  0.013456  0.01<br>BetweennessCentrality   \n",
       "8   BetweennessCentrality   TUBA4A  0.078775  0.08<br>BetweennessCentrality   \n",
       "9   BetweennessCentrality     CCT4  0.021924  0.02<br>BetweennessCentrality   \n",
       "10  BetweennessCentrality     BYSL  0.014056  0.01<br>BetweennessCentrality   \n",
       "11  BetweennessCentrality  PLEKHA4  0.017463  0.02<br>BetweennessCentrality   \n",
       "12  BetweennessCentrality      MYC  0.016501  0.02<br>BetweennessCentrality   \n",
       "13  BetweennessCentrality    RRBP1  0.014759  0.01<br>BetweennessCentrality   \n",
       "14  BetweennessCentrality   MRPL12  0.003303   0.0<br>BetweennessCentrality   \n",
       "15  BetweennessCentrality      EMD  0.042186  0.04<br>BetweennessCentrality   \n",
       "16  BetweennessCentrality    ACTG1  0.000000   0.0<br>BetweennessCentrality   \n",
       "17  BetweennessCentrality     SHC1  0.060945  0.06<br>BetweennessCentrality   \n",
       "18  BetweennessCentrality      SP1  0.017937  0.02<br>BetweennessCentrality   \n",
       "19  BetweennessCentrality   LGALS1  0.074156  0.07<br>BetweennessCentrality   \n",
       "20    ClosenessCentrality  HNRNPH1  1.000000     1.0<br>ClosenessCentrality   \n",
       "21    ClosenessCentrality    YWHAG  0.631166    0.63<br>ClosenessCentrality   \n",
       "22    ClosenessCentrality     BAG2  0.265019    0.27<br>ClosenessCentrality   \n",
       "23    ClosenessCentrality    C1QBP  0.400032     0.4<br>ClosenessCentrality   \n",
       "24    ClosenessCentrality     PCNA  0.150241    0.15<br>ClosenessCentrality   \n",
       "\n",
       "                                          Encrichment  \n",
       "0                                                  NE  \n",
       "1                                                  NE  \n",
       "2                                        Homo sapiens  \n",
       "3                      Human immunodeficiency virus 1  \n",
       "4                     Human herpesvirus 1 (strain 17)  \n",
       "5                                                  NE  \n",
       "6                                                  NE  \n",
       "7                                                  NE  \n",
       "8                      Human immunodeficiency virus 1  \n",
       "9                      Human immunodeficiency virus 1  \n",
       "10                                                 NE  \n",
       "11                                                 NE  \n",
       "12                                       Homo sapiens  \n",
       "13                                                 NE  \n",
       "14                                                 NE  \n",
       "15                    Human herpesvirus 1 (strain 17)  \n",
       "16                     Human immunodeficiency virus 1  \n",
       "17                                                 NE  \n",
       "18  Human immunodeficiency virus 1<br>Human herpes...  \n",
       "19                                                 NE  \n",
       "20                                                 NE  \n",
       "21                                                 NE  \n",
       "22                                       Homo sapiens  \n",
       "23                     Human immunodeficiency virus 1  \n",
       "24                    Human herpesvirus 1 (strain 17)  "
      ]
     },
     "execution_count": 61,
     "metadata": {},
     "output_type": "execute_result"
    }
   ],
   "source": [
    "# df['wk-shell']\n",
    "x = []\n",
    "y = []\n",
    "size = []\n",
    "text = []\n",
    "groups = []\n",
    "\n",
    "for c in Col_dict:\n",
    "    # print(c, Col_dict[c])\n",
    "    # x.append(Col_dict[c])\n",
    "    I = list(df[c].index)\n",
    "    for i in I:\n",
    "        y.append(i)\n",
    "        x.append(c) #Col_dict[c]\n",
    "        E = 'NE'\n",
    "        if i in Encrihment_dict:\n",
    "            # print(i, Encrihment_dict[i])\n",
    "            E = Encrihment_dict[i]\n",
    "        groups.append(E)\n",
    "        \n",
    "    for s in df[c].values:\n",
    "        size.append(s)\n",
    "        text.append(\"<br>\".join([str(round(s, 2)), c]))\n",
    "\n",
    "    \n",
    "Dot_plot_df = pd.DataFrame({\"Centrality\":x,\n",
    "                           \"Protein\":y,\n",
    "                           \"Value\":size,\n",
    "                           \"Info\":text,\n",
    "                           \"Encrichment\":groups})\n",
    "Dot_plot_df.head(25)"
   ]
  },
  {
   "cell_type": "code",
   "execution_count": 62,
   "id": "990b9247-85d2-4fdb-897b-aac7e8244e20",
   "metadata": {},
   "outputs": [
    {
     "data": {
      "application/vnd.plotly.v1+json": {
       "config": {
        "plotlyServerURL": "https://plot.ly"
       },
       "data": [
        {
         "customdata": [
          [
           "1.0<br>BetweennessCentrality"
          ],
          [
           "0.43<br>BetweennessCentrality"
          ],
          [
           "0.17<br>BetweennessCentrality"
          ],
          [
           "0.03<br>BetweennessCentrality"
          ],
          [
           "0.01<br>BetweennessCentrality"
          ],
          [
           "0.01<br>BetweennessCentrality"
          ],
          [
           "0.02<br>BetweennessCentrality"
          ],
          [
           "0.01<br>BetweennessCentrality"
          ],
          [
           "0.0<br>BetweennessCentrality"
          ],
          [
           "0.06<br>BetweennessCentrality"
          ],
          [
           "0.07<br>BetweennessCentrality"
          ],
          [
           "1.0<br>ClosenessCentrality"
          ],
          [
           "0.63<br>ClosenessCentrality"
          ],
          [
           "0.75<br>ClosenessCentrality"
          ],
          [
           "0.28<br>ClosenessCentrality"
          ],
          [
           "0.02<br>ClosenessCentrality"
          ],
          [
           "0.09<br>ClosenessCentrality"
          ],
          [
           "0.93<br>ClosenessCentrality"
          ],
          [
           "0.24<br>ClosenessCentrality"
          ],
          [
           "0.0<br>ClosenessCentrality"
          ],
          [
           "0.39<br>ClosenessCentrality"
          ],
          [
           "0.14<br>ClosenessCentrality"
          ],
          [
           "0.0<br>ClusteringCoefficient"
          ],
          [
           "0.05<br>ClusteringCoefficient"
          ],
          [
           "0.18<br>ClusteringCoefficient"
          ],
          [
           "0.37<br>ClusteringCoefficient"
          ],
          [
           "0.21<br>ClusteringCoefficient"
          ],
          [
           "0.28<br>ClusteringCoefficient"
          ],
          [
           "1.0<br>ClusteringCoefficient"
          ],
          [
           "0.43<br>ClusteringCoefficient"
          ],
          [
           "0.86<br>ClusteringCoefficient"
          ],
          [
           "0.17<br>ClusteringCoefficient"
          ],
          [
           "0.12<br>ClusteringCoefficient"
          ],
          [
           "1.0<br>Degree"
          ],
          [
           "0.54<br>Degree"
          ],
          [
           "0.33<br>Degree"
          ],
          [
           "0.21<br>Degree"
          ],
          [
           "0.22<br>Degree"
          ],
          [
           "0.17<br>Degree"
          ],
          [
           "0.0<br>Degree"
          ],
          [
           "0.2<br>Degree"
          ],
          [
           "0.18<br>Degree"
          ],
          [
           "0.19<br>Degree"
          ],
          [
           "0.15<br>Degree"
          ],
          [
           "1.0<br>Radiality"
          ],
          [
           "0.67<br>Radiality"
          ],
          [
           "0.78<br>Radiality"
          ],
          [
           "0.32<br>Radiality"
          ],
          [
           "0.02<br>Radiality"
          ],
          [
           "0.1<br>Radiality"
          ],
          [
           "0.94<br>Radiality"
          ],
          [
           "0.27<br>Radiality"
          ],
          [
           "0.0<br>Radiality"
          ],
          [
           "0.43<br>Radiality"
          ],
          [
           "0.16<br>Radiality"
          ],
          [
           "1.0<br>Stress"
          ],
          [
           "0.33<br>Stress"
          ],
          [
           "0.11<br>Stress"
          ],
          [
           "0.09<br>Stress"
          ],
          [
           "0.08<br>Stress"
          ],
          [
           "0.03<br>Stress"
          ],
          [
           "0.02<br>Stress"
          ],
          [
           "0.01<br>Stress"
          ],
          [
           "0.01<br>Stress"
          ],
          [
           "0.0<br>Stress"
          ],
          [
           "0.0<br>Stress"
          ],
          [
           "0.0<br>TopologicalCoefficient"
          ],
          [
           "0.04<br>TopologicalCoefficient"
          ],
          [
           "0.16<br>TopologicalCoefficient"
          ],
          [
           "0.27<br>TopologicalCoefficient"
          ],
          [
           "0.28<br>TopologicalCoefficient"
          ],
          [
           "0.29<br>TopologicalCoefficient"
          ],
          [
           "1.0<br>TopologicalCoefficient"
          ],
          [
           "0.25<br>TopologicalCoefficient"
          ],
          [
           "0.34<br>TopologicalCoefficient"
          ],
          [
           "0.14<br>TopologicalCoefficient"
          ],
          [
           "0.2<br>TopologicalCoefficient"
          ]
         ],
         "hovertemplate": "Encrichment=NE<br>Centrality=%{x}<br>Protein=%{y}<br>Value=%{marker.size}<br>Info=%{customdata[0]}<extra></extra>",
         "legendgroup": "NE",
         "marker": {
          "color": "#636efa",
          "line": {
           "color": "rgba(0, 0, 0, 1)",
           "width": 2
          },
          "size": [
           1,
           0.43056048524660784,
           0.16688549391591775,
           0.030303353128364203,
           0.013455547427058505,
           0.014056211321417185,
           0.01746269517430097,
           0.01475913352319483,
           0.0033025669578210805,
           0.06094461159322143,
           0.0741556449264952,
           1,
           0.6311657929613509,
           0.748600014666087,
           0.28397138129339006,
           0.020684385966538748,
           0.08776888978207868,
           0.9266334679784196,
           0.2370438046106472,
           0,
           0.38968801720517404,
           0.13962488961818303,
           0,
           0.04924440831654756,
           0.18469462718353133,
           0.37130011364374743,
           0.20507292692985515,
           0.28163294263046157,
           1,
           0.4282605611110301,
           0.8625878683642063,
           0.16970512298587342,
           0.1188442417628174,
           1,
           0.5422794117647058,
           0.32996323529411764,
           0.20863970588235295,
           0.21875,
           0.17003676470588236,
           0,
           0.19669117647058823,
           0.1792279411764706,
           0.19393382352941177,
           0.15257352941176472,
           1,
           0.6680682566414133,
           0.7778876817174433,
           0.3180806995206238,
           0.024239484088432583,
           0.1016572740064685,
           0.9369280314777552,
           0.2676230407710991,
           0,
           0.42888946988298693,
           0.16027708382555922,
           1,
           0.32838795451193914,
           0.1061037428629898,
           0.08590311699814877,
           0.08292315087060109,
           0.02939797159478053,
           0.0248587906848902,
           0.008735331770697529,
           0.006763735672887981,
           0.0016166112672317855,
           0,
           0,
           0.03826628120235234,
           0.16094878902167492,
           0.2727367495369121,
           0.27817390417792964,
           0.2903495564627451,
           1,
           0.24999264939765153,
           0.34302301826806064,
           0.14431237119739976,
           0.20206786763417145
          ],
          "sizemode": "area",
          "sizeref": 0.0025,
          "symbol": 200
         },
         "mode": "markers",
         "name": "NE",
         "orientation": "v",
         "showlegend": true,
         "type": "scatter",
         "x": [
          "BetweennessCentrality",
          "BetweennessCentrality",
          "BetweennessCentrality",
          "BetweennessCentrality",
          "BetweennessCentrality",
          "BetweennessCentrality",
          "BetweennessCentrality",
          "BetweennessCentrality",
          "BetweennessCentrality",
          "BetweennessCentrality",
          "BetweennessCentrality",
          "ClosenessCentrality",
          "ClosenessCentrality",
          "ClosenessCentrality",
          "ClosenessCentrality",
          "ClosenessCentrality",
          "ClosenessCentrality",
          "ClosenessCentrality",
          "ClosenessCentrality",
          "ClosenessCentrality",
          "ClosenessCentrality",
          "ClosenessCentrality",
          "ClusteringCoefficient",
          "ClusteringCoefficient",
          "ClusteringCoefficient",
          "ClusteringCoefficient",
          "ClusteringCoefficient",
          "ClusteringCoefficient",
          "ClusteringCoefficient",
          "ClusteringCoefficient",
          "ClusteringCoefficient",
          "ClusteringCoefficient",
          "ClusteringCoefficient",
          "Degree",
          "Degree",
          "Degree",
          "Degree",
          "Degree",
          "Degree",
          "Degree",
          "Degree",
          "Degree",
          "Degree",
          "Degree",
          "Radiality",
          "Radiality",
          "Radiality",
          "Radiality",
          "Radiality",
          "Radiality",
          "Radiality",
          "Radiality",
          "Radiality",
          "Radiality",
          "Radiality",
          "Stress",
          "Stress",
          "Stress",
          "Stress",
          "Stress",
          "Stress",
          "Stress",
          "Stress",
          "Stress",
          "Stress",
          "Stress",
          "TopologicalCoefficient",
          "TopologicalCoefficient",
          "TopologicalCoefficient",
          "TopologicalCoefficient",
          "TopologicalCoefficient",
          "TopologicalCoefficient",
          "TopologicalCoefficient",
          "TopologicalCoefficient",
          "TopologicalCoefficient",
          "TopologicalCoefficient",
          "TopologicalCoefficient"
         ],
         "xaxis": "x",
         "y": [
          "HNRNPH1",
          "YWHAG",
          "CIT",
          "PHB2",
          "CCT7",
          "BYSL",
          "PLEKHA4",
          "RRBP1",
          "MRPL12",
          "SHC1",
          "LGALS1",
          "HNRNPH1",
          "YWHAG",
          "CIT",
          "PHB2",
          "CCT7",
          "BYSL",
          "PLEKHA4",
          "RRBP1",
          "MRPL12",
          "SHC1",
          "LGALS1",
          "HNRNPH1",
          "YWHAG",
          "CIT",
          "PHB2",
          "CCT7",
          "BYSL",
          "PLEKHA4",
          "RRBP1",
          "MRPL12",
          "SHC1",
          "LGALS1",
          "HNRNPH1",
          "YWHAG",
          "CIT",
          "PHB2",
          "CCT7",
          "BYSL",
          "PLEKHA4",
          "RRBP1",
          "MRPL12",
          "SHC1",
          "LGALS1",
          "HNRNPH1",
          "YWHAG",
          "CIT",
          "PHB2",
          "CCT7",
          "BYSL",
          "PLEKHA4",
          "RRBP1",
          "MRPL12",
          "SHC1",
          "LGALS1",
          "HNRNPH1",
          "YWHAG",
          "CIT",
          "PHB2",
          "CCT7",
          "BYSL",
          "PLEKHA4",
          "RRBP1",
          "MRPL12",
          "SHC1",
          "LGALS1",
          "HNRNPH1",
          "YWHAG",
          "CIT",
          "PHB2",
          "CCT7",
          "BYSL",
          "PLEKHA4",
          "RRBP1",
          "MRPL12",
          "SHC1",
          "LGALS1"
         ],
         "yaxis": "y"
        },
        {
         "customdata": [
          [
           "0.18<br>BetweennessCentrality"
          ],
          [
           "0.02<br>BetweennessCentrality"
          ],
          [
           "0.27<br>ClosenessCentrality"
          ],
          [
           "0.98<br>ClosenessCentrality"
          ],
          [
           "0.03<br>ClusteringCoefficient"
          ],
          [
           "0.52<br>ClusteringCoefficient"
          ],
          [
           "0.35<br>Degree"
          ],
          [
           "0.06<br>Degree"
          ],
          [
           "0.3<br>Radiality"
          ],
          [
           "0.98<br>Radiality"
          ],
          [
           "0.3<br>Stress"
          ],
          [
           "0.01<br>Stress"
          ],
          [
           "0.16<br>TopologicalCoefficient"
          ],
          [
           "0.51<br>TopologicalCoefficient"
          ]
         ],
         "hovertemplate": "Encrichment=Homo sapiens<br>Centrality=%{x}<br>Protein=%{y}<br>Value=%{marker.size}<br>Info=%{customdata[0]}<extra></extra>",
         "legendgroup": "Homo sapiens",
         "marker": {
          "color": "#EF553B",
          "line": {
           "color": "rgba(0, 0, 0, 1)",
           "width": 2
          },
          "size": [
           0.17660105379003863,
           0.01650147984292919,
           0.265019122008675,
           0.9805659711331725,
           0.03253897635759191,
           0.5182171457517527,
           0.3474264705882353,
           0.06066176470588235,
           0.2977988064068449,
           0.9834280992526284,
           0.30052021299342463,
           0.012550643894230462,
           0.16337391502245463,
           0.5089763264782443
          ],
          "sizemode": "area",
          "sizeref": 0.0025,
          "symbol": 200
         },
         "mode": "markers",
         "name": "Homo sapiens",
         "orientation": "v",
         "showlegend": true,
         "type": "scatter",
         "x": [
          "BetweennessCentrality",
          "BetweennessCentrality",
          "ClosenessCentrality",
          "ClosenessCentrality",
          "ClusteringCoefficient",
          "ClusteringCoefficient",
          "Degree",
          "Degree",
          "Radiality",
          "Radiality",
          "Stress",
          "Stress",
          "TopologicalCoefficient",
          "TopologicalCoefficient"
         ],
         "xaxis": "x",
         "y": [
          "BAG2",
          "MYC",
          "BAG2",
          "MYC",
          "BAG2",
          "MYC",
          "BAG2",
          "MYC",
          "BAG2",
          "MYC",
          "BAG2",
          "MYC",
          "BAG2",
          "MYC"
         ],
         "yaxis": "y"
        },
        {
         "customdata": [
          [
           "0.2<br>BetweennessCentrality"
          ],
          [
           "0.08<br>BetweennessCentrality"
          ],
          [
           "0.02<br>BetweennessCentrality"
          ],
          [
           "0.0<br>BetweennessCentrality"
          ],
          [
           "0.4<br>ClosenessCentrality"
          ],
          [
           "0.22<br>ClosenessCentrality"
          ],
          [
           "0.27<br>ClosenessCentrality"
          ],
          [
           "0.17<br>ClosenessCentrality"
          ],
          [
           "0.3<br>ClusteringCoefficient"
          ],
          [
           "0.15<br>ClusteringCoefficient"
          ],
          [
           "0.29<br>ClusteringCoefficient"
          ],
          [
           "0.3<br>ClusteringCoefficient"
          ],
          [
           "0.4<br>Degree"
          ],
          [
           "0.2<br>Degree"
          ],
          [
           "0.22<br>Degree"
          ],
          [
           "0.13<br>Degree"
          ],
          [
           "0.44<br>Radiality"
          ],
          [
           "0.25<br>Radiality"
          ],
          [
           "0.31<br>Radiality"
          ],
          [
           "0.19<br>Radiality"
          ],
          [
           "0.28<br>Stress"
          ],
          [
           "0.07<br>Stress"
          ],
          [
           "0.07<br>Stress"
          ],
          [
           "0.0<br>Stress"
          ],
          [
           "0.18<br>TopologicalCoefficient"
          ],
          [
           "0.2<br>TopologicalCoefficient"
          ],
          [
           "0.21<br>TopologicalCoefficient"
          ],
          [
           "0.3<br>TopologicalCoefficient"
          ]
         ],
         "hovertemplate": "Encrichment=Human immunodeficiency virus 1<br>Centrality=%{x}<br>Protein=%{y}<br>Value=%{marker.size}<br>Info=%{customdata[0]}<extra></extra>",
         "legendgroup": "Human immunodeficiency virus 1",
         "marker": {
          "color": "#00cc96",
          "line": {
           "color": "rgba(0, 0, 0, 1)",
           "width": 2
          },
          "size": [
           0.20262544217308665,
           0.07877481151427265,
           0.021923530433935003,
           0,
           0.400032486521264,
           0.22224617791524712,
           0.2735558578742341,
           0.16534745049911034,
           0.3031639241437932,
           0.15314290601781433,
           0.29448085228832366,
           0.2988502355753994,
           0.39981617647058826,
           0.19852941176470587,
           0.22058823529411764,
           0.13419117647058823,
           0.43952508908304294,
           0.251545917581558,
           0.30695030276273955,
           0.18896872661714595,
           0.2793723443778086,
           0.0726450116912575,
           0.06658045028627348,
           0.00486563666945977,
           0.17951621962912492,
           0.19811305264596865,
           0.21057509203526914,
           0.2982962258379973
          ],
          "sizemode": "area",
          "sizeref": 0.0025,
          "symbol": 200
         },
         "mode": "markers",
         "name": "Human immunodeficiency virus 1",
         "orientation": "v",
         "showlegend": true,
         "type": "scatter",
         "x": [
          "BetweennessCentrality",
          "BetweennessCentrality",
          "BetweennessCentrality",
          "BetweennessCentrality",
          "ClosenessCentrality",
          "ClosenessCentrality",
          "ClosenessCentrality",
          "ClosenessCentrality",
          "ClusteringCoefficient",
          "ClusteringCoefficient",
          "ClusteringCoefficient",
          "ClusteringCoefficient",
          "Degree",
          "Degree",
          "Degree",
          "Degree",
          "Radiality",
          "Radiality",
          "Radiality",
          "Radiality",
          "Stress",
          "Stress",
          "Stress",
          "Stress",
          "TopologicalCoefficient",
          "TopologicalCoefficient",
          "TopologicalCoefficient",
          "TopologicalCoefficient"
         ],
         "xaxis": "x",
         "y": [
          "C1QBP",
          "TUBA4A",
          "CCT4",
          "ACTG1",
          "C1QBP",
          "TUBA4A",
          "CCT4",
          "ACTG1",
          "C1QBP",
          "TUBA4A",
          "CCT4",
          "ACTG1",
          "C1QBP",
          "TUBA4A",
          "CCT4",
          "ACTG1",
          "C1QBP",
          "TUBA4A",
          "CCT4",
          "ACTG1",
          "C1QBP",
          "TUBA4A",
          "CCT4",
          "ACTG1",
          "C1QBP",
          "TUBA4A",
          "CCT4",
          "ACTG1"
         ],
         "yaxis": "y"
        },
        {
         "customdata": [
          [
           "0.13<br>BetweennessCentrality"
          ],
          [
           "0.04<br>BetweennessCentrality"
          ],
          [
           "0.15<br>ClosenessCentrality"
          ],
          [
           "0.38<br>ClosenessCentrality"
          ],
          [
           "0.08<br>ClusteringCoefficient"
          ],
          [
           "0.22<br>ClusteringCoefficient"
          ],
          [
           "0.3<br>Degree"
          ],
          [
           "0.14<br>Degree"
          ],
          [
           "0.17<br>Radiality"
          ],
          [
           "0.42<br>Radiality"
          ],
          [
           "0.2<br>Stress"
          ],
          [
           "0.01<br>Stress"
          ],
          [
           "0.18<br>TopologicalCoefficient"
          ],
          [
           "0.23<br>TopologicalCoefficient"
          ]
         ],
         "hovertemplate": "Encrichment=Human herpesvirus 1 (strain 17)<br>Centrality=%{x}<br>Protein=%{y}<br>Value=%{marker.size}<br>Info=%{customdata[0]}<extra></extra>",
         "legendgroup": "Human herpesvirus 1 (strain 17)",
         "marker": {
          "color": "#ab63fa",
          "line": {
           "color": "rgba(0, 0, 0, 1)",
           "width": 2
          },
          "size": [
           0.1347747905905516,
           0.0421864318855054,
           0.15024121811121974,
           0.38081519705806793,
           0.0760488177469895,
           0.2201240931374824,
           0.296875,
           0.13511029411764705,
           0.17214943709086025,
           0.41973797352709225,
           0.1980581401805678,
           0.005118563755979776,
           0.18350043702672147,
           0.23158903221396707
          ],
          "sizemode": "area",
          "sizeref": 0.0025,
          "symbol": 200
         },
         "mode": "markers",
         "name": "Human herpesvirus 1 (strain 17)",
         "orientation": "v",
         "showlegend": true,
         "type": "scatter",
         "x": [
          "BetweennessCentrality",
          "BetweennessCentrality",
          "ClosenessCentrality",
          "ClosenessCentrality",
          "ClusteringCoefficient",
          "ClusteringCoefficient",
          "Degree",
          "Degree",
          "Radiality",
          "Radiality",
          "Stress",
          "Stress",
          "TopologicalCoefficient",
          "TopologicalCoefficient"
         ],
         "xaxis": "x",
         "y": [
          "PCNA",
          "EMD",
          "PCNA",
          "EMD",
          "PCNA",
          "EMD",
          "PCNA",
          "EMD",
          "PCNA",
          "EMD",
          "PCNA",
          "EMD",
          "PCNA",
          "EMD"
         ],
         "yaxis": "y"
        },
        {
         "customdata": [
          [
           "0.02<br>BetweennessCentrality"
          ],
          [
           "0.11<br>ClosenessCentrality"
          ],
          [
           "0.2<br>ClusteringCoefficient"
          ],
          [
           "0.15<br>Degree"
          ],
          [
           "0.13<br>Radiality"
          ],
          [
           "0.0<br>Stress"
          ],
          [
           "0.25<br>TopologicalCoefficient"
          ]
         ],
         "hovertemplate": "Encrichment=Human immunodeficiency virus 1<br>Human herpesvirus 3<br>Centrality=%{x}<br>Protein=%{y}<br>Value=%{marker.size}<br>Info=%{customdata[0]}<extra></extra>",
         "legendgroup": "Human immunodeficiency virus 1<br>Human herpesvirus 3",
         "marker": {
          "color": "#FFA15A",
          "line": {
           "color": "rgba(0, 0, 0, 1)",
           "width": 2
          },
          "size": [
           0.017936859864909314,
           0.10997289050205057,
           0.1979406877767331,
           0.15257352941176472,
           0.126886103381232,
           0.0012895464904918638,
           0.2513421054339853
          ],
          "sizemode": "area",
          "sizeref": 0.0025,
          "symbol": 200
         },
         "mode": "markers",
         "name": "Human immunodeficiency virus 1<br>Human herpesvirus 3",
         "orientation": "v",
         "showlegend": true,
         "type": "scatter",
         "x": [
          "BetweennessCentrality",
          "ClosenessCentrality",
          "ClusteringCoefficient",
          "Degree",
          "Radiality",
          "Stress",
          "TopologicalCoefficient"
         ],
         "xaxis": "x",
         "y": [
          "SP1",
          "SP1",
          "SP1",
          "SP1",
          "SP1",
          "SP1",
          "SP1"
         ],
         "yaxis": "y"
        }
       ],
       "layout": {
        "autosize": false,
        "font": {
         "color": "black",
         "family": "Arial",
         "size": 14
        },
        "height": 910,
        "legend": {
         "bgcolor": "rgba(0, 0, 0, 0)",
         "bordercolor": "Black",
         "borderwidth": 2,
         "font": {
          "color": "black",
          "family": "Arial",
          "size": 12
         },
         "itemsizing": "constant",
         "orientation": "v",
         "title": {
          "font": {
           "family": "Times New Roman"
          },
          "text": "Encrichment"
         },
         "tracegroupgap": 0,
         "traceorder": "reversed",
         "x": 1,
         "xanchor": "right",
         "y": 1.02,
         "yanchor": "bottom"
        },
        "margin": {
         "t": 60
        },
        "plot_bgcolor": "rgba(0, 0, 0, 0)",
        "template": {
         "data": {
          "bar": [
           {
            "error_x": {
             "color": "#2a3f5f"
            },
            "error_y": {
             "color": "#2a3f5f"
            },
            "marker": {
             "line": {
              "color": "#E5ECF6",
              "width": 0.5
             },
             "pattern": {
              "fillmode": "overlay",
              "size": 10,
              "solidity": 0.2
             }
            },
            "type": "bar"
           }
          ],
          "barpolar": [
           {
            "marker": {
             "line": {
              "color": "#E5ECF6",
              "width": 0.5
             },
             "pattern": {
              "fillmode": "overlay",
              "size": 10,
              "solidity": 0.2
             }
            },
            "type": "barpolar"
           }
          ],
          "carpet": [
           {
            "aaxis": {
             "endlinecolor": "#2a3f5f",
             "gridcolor": "white",
             "linecolor": "white",
             "minorgridcolor": "white",
             "startlinecolor": "#2a3f5f"
            },
            "baxis": {
             "endlinecolor": "#2a3f5f",
             "gridcolor": "white",
             "linecolor": "white",
             "minorgridcolor": "white",
             "startlinecolor": "#2a3f5f"
            },
            "type": "carpet"
           }
          ],
          "choropleth": [
           {
            "colorbar": {
             "outlinewidth": 0,
             "ticks": ""
            },
            "type": "choropleth"
           }
          ],
          "contour": [
           {
            "colorbar": {
             "outlinewidth": 0,
             "ticks": ""
            },
            "colorscale": [
             [
              0,
              "#0d0887"
             ],
             [
              0.1111111111111111,
              "#46039f"
             ],
             [
              0.2222222222222222,
              "#7201a8"
             ],
             [
              0.3333333333333333,
              "#9c179e"
             ],
             [
              0.4444444444444444,
              "#bd3786"
             ],
             [
              0.5555555555555556,
              "#d8576b"
             ],
             [
              0.6666666666666666,
              "#ed7953"
             ],
             [
              0.7777777777777778,
              "#fb9f3a"
             ],
             [
              0.8888888888888888,
              "#fdca26"
             ],
             [
              1,
              "#f0f921"
             ]
            ],
            "type": "contour"
           }
          ],
          "contourcarpet": [
           {
            "colorbar": {
             "outlinewidth": 0,
             "ticks": ""
            },
            "type": "contourcarpet"
           }
          ],
          "heatmap": [
           {
            "colorbar": {
             "outlinewidth": 0,
             "ticks": ""
            },
            "colorscale": [
             [
              0,
              "#0d0887"
             ],
             [
              0.1111111111111111,
              "#46039f"
             ],
             [
              0.2222222222222222,
              "#7201a8"
             ],
             [
              0.3333333333333333,
              "#9c179e"
             ],
             [
              0.4444444444444444,
              "#bd3786"
             ],
             [
              0.5555555555555556,
              "#d8576b"
             ],
             [
              0.6666666666666666,
              "#ed7953"
             ],
             [
              0.7777777777777778,
              "#fb9f3a"
             ],
             [
              0.8888888888888888,
              "#fdca26"
             ],
             [
              1,
              "#f0f921"
             ]
            ],
            "type": "heatmap"
           }
          ],
          "heatmapgl": [
           {
            "colorbar": {
             "outlinewidth": 0,
             "ticks": ""
            },
            "colorscale": [
             [
              0,
              "#0d0887"
             ],
             [
              0.1111111111111111,
              "#46039f"
             ],
             [
              0.2222222222222222,
              "#7201a8"
             ],
             [
              0.3333333333333333,
              "#9c179e"
             ],
             [
              0.4444444444444444,
              "#bd3786"
             ],
             [
              0.5555555555555556,
              "#d8576b"
             ],
             [
              0.6666666666666666,
              "#ed7953"
             ],
             [
              0.7777777777777778,
              "#fb9f3a"
             ],
             [
              0.8888888888888888,
              "#fdca26"
             ],
             [
              1,
              "#f0f921"
             ]
            ],
            "type": "heatmapgl"
           }
          ],
          "histogram": [
           {
            "marker": {
             "pattern": {
              "fillmode": "overlay",
              "size": 10,
              "solidity": 0.2
             }
            },
            "type": "histogram"
           }
          ],
          "histogram2d": [
           {
            "colorbar": {
             "outlinewidth": 0,
             "ticks": ""
            },
            "colorscale": [
             [
              0,
              "#0d0887"
             ],
             [
              0.1111111111111111,
              "#46039f"
             ],
             [
              0.2222222222222222,
              "#7201a8"
             ],
             [
              0.3333333333333333,
              "#9c179e"
             ],
             [
              0.4444444444444444,
              "#bd3786"
             ],
             [
              0.5555555555555556,
              "#d8576b"
             ],
             [
              0.6666666666666666,
              "#ed7953"
             ],
             [
              0.7777777777777778,
              "#fb9f3a"
             ],
             [
              0.8888888888888888,
              "#fdca26"
             ],
             [
              1,
              "#f0f921"
             ]
            ],
            "type": "histogram2d"
           }
          ],
          "histogram2dcontour": [
           {
            "colorbar": {
             "outlinewidth": 0,
             "ticks": ""
            },
            "colorscale": [
             [
              0,
              "#0d0887"
             ],
             [
              0.1111111111111111,
              "#46039f"
             ],
             [
              0.2222222222222222,
              "#7201a8"
             ],
             [
              0.3333333333333333,
              "#9c179e"
             ],
             [
              0.4444444444444444,
              "#bd3786"
             ],
             [
              0.5555555555555556,
              "#d8576b"
             ],
             [
              0.6666666666666666,
              "#ed7953"
             ],
             [
              0.7777777777777778,
              "#fb9f3a"
             ],
             [
              0.8888888888888888,
              "#fdca26"
             ],
             [
              1,
              "#f0f921"
             ]
            ],
            "type": "histogram2dcontour"
           }
          ],
          "mesh3d": [
           {
            "colorbar": {
             "outlinewidth": 0,
             "ticks": ""
            },
            "type": "mesh3d"
           }
          ],
          "parcoords": [
           {
            "line": {
             "colorbar": {
              "outlinewidth": 0,
              "ticks": ""
             }
            },
            "type": "parcoords"
           }
          ],
          "pie": [
           {
            "automargin": true,
            "type": "pie"
           }
          ],
          "scatter": [
           {
            "marker": {
             "colorbar": {
              "outlinewidth": 0,
              "ticks": ""
             }
            },
            "type": "scatter"
           }
          ],
          "scatter3d": [
           {
            "line": {
             "colorbar": {
              "outlinewidth": 0,
              "ticks": ""
             }
            },
            "marker": {
             "colorbar": {
              "outlinewidth": 0,
              "ticks": ""
             }
            },
            "type": "scatter3d"
           }
          ],
          "scattercarpet": [
           {
            "marker": {
             "colorbar": {
              "outlinewidth": 0,
              "ticks": ""
             }
            },
            "type": "scattercarpet"
           }
          ],
          "scattergeo": [
           {
            "marker": {
             "colorbar": {
              "outlinewidth": 0,
              "ticks": ""
             }
            },
            "type": "scattergeo"
           }
          ],
          "scattergl": [
           {
            "marker": {
             "colorbar": {
              "outlinewidth": 0,
              "ticks": ""
             }
            },
            "type": "scattergl"
           }
          ],
          "scattermapbox": [
           {
            "marker": {
             "colorbar": {
              "outlinewidth": 0,
              "ticks": ""
             }
            },
            "type": "scattermapbox"
           }
          ],
          "scatterpolar": [
           {
            "marker": {
             "colorbar": {
              "outlinewidth": 0,
              "ticks": ""
             }
            },
            "type": "scatterpolar"
           }
          ],
          "scatterpolargl": [
           {
            "marker": {
             "colorbar": {
              "outlinewidth": 0,
              "ticks": ""
             }
            },
            "type": "scatterpolargl"
           }
          ],
          "scatterternary": [
           {
            "marker": {
             "colorbar": {
              "outlinewidth": 0,
              "ticks": ""
             }
            },
            "type": "scatterternary"
           }
          ],
          "surface": [
           {
            "colorbar": {
             "outlinewidth": 0,
             "ticks": ""
            },
            "colorscale": [
             [
              0,
              "#0d0887"
             ],
             [
              0.1111111111111111,
              "#46039f"
             ],
             [
              0.2222222222222222,
              "#7201a8"
             ],
             [
              0.3333333333333333,
              "#9c179e"
             ],
             [
              0.4444444444444444,
              "#bd3786"
             ],
             [
              0.5555555555555556,
              "#d8576b"
             ],
             [
              0.6666666666666666,
              "#ed7953"
             ],
             [
              0.7777777777777778,
              "#fb9f3a"
             ],
             [
              0.8888888888888888,
              "#fdca26"
             ],
             [
              1,
              "#f0f921"
             ]
            ],
            "type": "surface"
           }
          ],
          "table": [
           {
            "cells": {
             "fill": {
              "color": "#EBF0F8"
             },
             "line": {
              "color": "white"
             }
            },
            "header": {
             "fill": {
              "color": "#C8D4E3"
             },
             "line": {
              "color": "white"
             }
            },
            "type": "table"
           }
          ]
         },
         "layout": {
          "annotationdefaults": {
           "arrowcolor": "#2a3f5f",
           "arrowhead": 0,
           "arrowwidth": 1
          },
          "autotypenumbers": "strict",
          "coloraxis": {
           "colorbar": {
            "outlinewidth": 0,
            "ticks": ""
           }
          },
          "colorscale": {
           "diverging": [
            [
             0,
             "#8e0152"
            ],
            [
             0.1,
             "#c51b7d"
            ],
            [
             0.2,
             "#de77ae"
            ],
            [
             0.3,
             "#f1b6da"
            ],
            [
             0.4,
             "#fde0ef"
            ],
            [
             0.5,
             "#f7f7f7"
            ],
            [
             0.6,
             "#e6f5d0"
            ],
            [
             0.7,
             "#b8e186"
            ],
            [
             0.8,
             "#7fbc41"
            ],
            [
             0.9,
             "#4d9221"
            ],
            [
             1,
             "#276419"
            ]
           ],
           "sequential": [
            [
             0,
             "#0d0887"
            ],
            [
             0.1111111111111111,
             "#46039f"
            ],
            [
             0.2222222222222222,
             "#7201a8"
            ],
            [
             0.3333333333333333,
             "#9c179e"
            ],
            [
             0.4444444444444444,
             "#bd3786"
            ],
            [
             0.5555555555555556,
             "#d8576b"
            ],
            [
             0.6666666666666666,
             "#ed7953"
            ],
            [
             0.7777777777777778,
             "#fb9f3a"
            ],
            [
             0.8888888888888888,
             "#fdca26"
            ],
            [
             1,
             "#f0f921"
            ]
           ],
           "sequentialminus": [
            [
             0,
             "#0d0887"
            ],
            [
             0.1111111111111111,
             "#46039f"
            ],
            [
             0.2222222222222222,
             "#7201a8"
            ],
            [
             0.3333333333333333,
             "#9c179e"
            ],
            [
             0.4444444444444444,
             "#bd3786"
            ],
            [
             0.5555555555555556,
             "#d8576b"
            ],
            [
             0.6666666666666666,
             "#ed7953"
            ],
            [
             0.7777777777777778,
             "#fb9f3a"
            ],
            [
             0.8888888888888888,
             "#fdca26"
            ],
            [
             1,
             "#f0f921"
            ]
           ]
          },
          "colorway": [
           "#636efa",
           "#EF553B",
           "#00cc96",
           "#ab63fa",
           "#FFA15A",
           "#19d3f3",
           "#FF6692",
           "#B6E880",
           "#FF97FF",
           "#FECB52"
          ],
          "font": {
           "color": "#2a3f5f"
          },
          "geo": {
           "bgcolor": "white",
           "lakecolor": "white",
           "landcolor": "#E5ECF6",
           "showlakes": true,
           "showland": true,
           "subunitcolor": "white"
          },
          "hoverlabel": {
           "align": "left"
          },
          "hovermode": "closest",
          "mapbox": {
           "style": "light"
          },
          "paper_bgcolor": "white",
          "plot_bgcolor": "#E5ECF6",
          "polar": {
           "angularaxis": {
            "gridcolor": "white",
            "linecolor": "white",
            "ticks": ""
           },
           "bgcolor": "#E5ECF6",
           "radialaxis": {
            "gridcolor": "white",
            "linecolor": "white",
            "ticks": ""
           }
          },
          "scene": {
           "xaxis": {
            "backgroundcolor": "#E5ECF6",
            "gridcolor": "white",
            "gridwidth": 2,
            "linecolor": "white",
            "showbackground": true,
            "ticks": "",
            "zerolinecolor": "white"
           },
           "yaxis": {
            "backgroundcolor": "#E5ECF6",
            "gridcolor": "white",
            "gridwidth": 2,
            "linecolor": "white",
            "showbackground": true,
            "ticks": "",
            "zerolinecolor": "white"
           },
           "zaxis": {
            "backgroundcolor": "#E5ECF6",
            "gridcolor": "white",
            "gridwidth": 2,
            "linecolor": "white",
            "showbackground": true,
            "ticks": "",
            "zerolinecolor": "white"
           }
          },
          "shapedefaults": {
           "line": {
            "color": "#2a3f5f"
           }
          },
          "ternary": {
           "aaxis": {
            "gridcolor": "white",
            "linecolor": "white",
            "ticks": ""
           },
           "baxis": {
            "gridcolor": "white",
            "linecolor": "white",
            "ticks": ""
           },
           "bgcolor": "#E5ECF6",
           "caxis": {
            "gridcolor": "white",
            "linecolor": "white",
            "ticks": ""
           }
          },
          "title": {
           "x": 0.05
          },
          "xaxis": {
           "automargin": true,
           "gridcolor": "white",
           "linecolor": "white",
           "ticks": "",
           "title": {
            "standoff": 15
           },
           "zerolinecolor": "white",
           "zerolinewidth": 2
          },
          "yaxis": {
           "automargin": true,
           "gridcolor": "white",
           "linecolor": "white",
           "ticks": "",
           "title": {
            "standoff": 15
           },
           "zerolinecolor": "white",
           "zerolinewidth": 2
          }
         }
        },
        "title": {},
        "width": 420,
        "xaxis": {
         "anchor": "y",
         "autorange": true,
         "domain": [
          0,
          1
         ],
         "linecolor": "black",
         "linewidth": 2,
         "mirror": true,
         "range": [
          -0.9374766896171841,
          6.937476689617184
         ],
         "showline": true,
         "title": {
          "text": "Centralities"
         },
         "type": "category"
        },
        "yaxis": {
         "anchor": "x",
         "autorange": true,
         "domain": [
          0,
          1
         ],
         "linecolor": "black",
         "linewidth": 2,
         "mirror": true,
         "range": [
          -1.746198202310976,
          20.428316375702867
         ],
         "showline": true,
         "title": {
          "text": "Protein"
         },
         "type": "category"
        }
       }
      },
      "image/png": "[encoded data removed]",
      "text/html": [
       "<div>                            <div id=\"80936959-b906-4bb5-96d5-8c12874fc7c9\" class=\"plotly-graph-div\" style=\"height:910px; width:420px;\"></div>            <script type=\"text/javascript\">                require([\"plotly\"], function(Plotly) {                    window.PLOTLYENV=window.PLOTLYENV || {};                                    if (document.getElementById(\"80936959-b906-4bb5-96d5-8c12874fc7c9\")) {                    Plotly.newPlot(                        \"80936959-b906-4bb5-96d5-8c12874fc7c9\",                        [{\"customdata\":[[\"1.0<br>BetweennessCentrality\"],[\"0.43<br>BetweennessCentrality\"],[\"0.17<br>BetweennessCentrality\"],[\"0.03<br>BetweennessCentrality\"],[\"0.01<br>BetweennessCentrality\"],[\"0.01<br>BetweennessCentrality\"],[\"0.02<br>BetweennessCentrality\"],[\"0.01<br>BetweennessCentrality\"],[\"0.0<br>BetweennessCentrality\"],[\"0.06<br>BetweennessCentrality\"],[\"0.07<br>BetweennessCentrality\"],[\"1.0<br>ClosenessCentrality\"],[\"0.63<br>ClosenessCentrality\"],[\"0.75<br>ClosenessCentrality\"],[\"0.28<br>ClosenessCentrality\"],[\"0.02<br>ClosenessCentrality\"],[\"0.09<br>ClosenessCentrality\"],[\"0.93<br>ClosenessCentrality\"],[\"0.24<br>ClosenessCentrality\"],[\"0.0<br>ClosenessCentrality\"],[\"0.39<br>ClosenessCentrality\"],[\"0.14<br>ClosenessCentrality\"],[\"0.0<br>ClusteringCoefficient\"],[\"0.05<br>ClusteringCoefficient\"],[\"0.18<br>ClusteringCoefficient\"],[\"0.37<br>ClusteringCoefficient\"],[\"0.21<br>ClusteringCoefficient\"],[\"0.28<br>ClusteringCoefficient\"],[\"1.0<br>ClusteringCoefficient\"],[\"0.43<br>ClusteringCoefficient\"],[\"0.86<br>ClusteringCoefficient\"],[\"0.17<br>ClusteringCoefficient\"],[\"0.12<br>ClusteringCoefficient\"],[\"1.0<br>Degree\"],[\"0.54<br>Degree\"],[\"0.33<br>Degree\"],[\"0.21<br>Degree\"],[\"0.22<br>Degree\"],[\"0.17<br>Degree\"],[\"0.0<br>Degree\"],[\"0.2<br>Degree\"],[\"0.18<br>Degree\"],[\"0.19<br>Degree\"],[\"0.15<br>Degree\"],[\"1.0<br>Radiality\"],[\"0.67<br>Radiality\"],[\"0.78<br>Radiality\"],[\"0.32<br>Radiality\"],[\"0.02<br>Radiality\"],[\"0.1<br>Radiality\"],[\"0.94<br>Radiality\"],[\"0.27<br>Radiality\"],[\"0.0<br>Radiality\"],[\"0.43<br>Radiality\"],[\"0.16<br>Radiality\"],[\"1.0<br>Stress\"],[\"0.33<br>Stress\"],[\"0.11<br>Stress\"],[\"0.09<br>Stress\"],[\"0.08<br>Stress\"],[\"0.03<br>Stress\"],[\"0.02<br>Stress\"],[\"0.01<br>Stress\"],[\"0.01<br>Stress\"],[\"0.0<br>Stress\"],[\"0.0<br>Stress\"],[\"0.0<br>TopologicalCoefficient\"],[\"0.04<br>TopologicalCoefficient\"],[\"0.16<br>TopologicalCoefficient\"],[\"0.27<br>TopologicalCoefficient\"],[\"0.28<br>TopologicalCoefficient\"],[\"0.29<br>TopologicalCoefficient\"],[\"1.0<br>TopologicalCoefficient\"],[\"0.25<br>TopologicalCoefficient\"],[\"0.34<br>TopologicalCoefficient\"],[\"0.14<br>TopologicalCoefficient\"],[\"0.2<br>TopologicalCoefficient\"]],\"hovertemplate\":\"Encrichment=NE<br>Centrality=%{x}<br>Protein=%{y}<br>Value=%{marker.size}<br>Info=%{customdata[0]}<extra></extra>\",\"legendgroup\":\"NE\",\"marker\":{\"color\":\"#636efa\",\"size\":[1.0,0.43056048524660784,0.16688549391591775,0.030303353128364203,0.013455547427058505,0.014056211321417185,0.01746269517430097,0.01475913352319483,0.0033025669578210805,0.06094461159322143,0.0741556449264952,1.0,0.6311657929613509,0.748600014666087,0.28397138129339006,0.020684385966538748,0.08776888978207868,0.9266334679784196,0.2370438046106472,0.0,0.38968801720517404,0.13962488961818303,0.0,0.04924440831654756,0.18469462718353133,0.37130011364374743,0.20507292692985515,0.28163294263046157,1.0,0.4282605611110301,0.8625878683642063,0.16970512298587342,0.1188442417628174,1.0,0.5422794117647058,0.32996323529411764,0.20863970588235295,0.21875,0.17003676470588236,0.0,0.19669117647058823,0.1792279411764706,0.19393382352941177,0.15257352941176472,1.0,0.6680682566414133,0.7778876817174433,0.3180806995206238,0.024239484088432583,0.1016572740064685,0.9369280314777552,0.2676230407710991,0.0,0.42888946988298693,0.16027708382555922,1.0,0.32838795451193914,0.1061037428629898,0.08590311699814877,0.08292315087060109,0.02939797159478053,0.0248587906848902,0.008735331770697529,0.006763735672887981,0.0016166112672317855,0.0,0.0,0.03826628120235234,0.16094878902167492,0.2727367495369121,0.27817390417792964,0.2903495564627451,1.0,0.24999264939765153,0.34302301826806064,0.14431237119739976,0.20206786763417145],\"sizemode\":\"area\",\"sizeref\":0.0025,\"symbol\":200,\"line\":{\"color\":\"rgba(0, 0, 0, 1)\",\"width\":2}},\"mode\":\"markers\",\"name\":\"NE\",\"orientation\":\"v\",\"showlegend\":true,\"x\":[\"BetweennessCentrality\",\"BetweennessCentrality\",\"BetweennessCentrality\",\"BetweennessCentrality\",\"BetweennessCentrality\",\"BetweennessCentrality\",\"BetweennessCentrality\",\"BetweennessCentrality\",\"BetweennessCentrality\",\"BetweennessCentrality\",\"BetweennessCentrality\",\"ClosenessCentrality\",\"ClosenessCentrality\",\"ClosenessCentrality\",\"ClosenessCentrality\",\"ClosenessCentrality\",\"ClosenessCentrality\",\"ClosenessCentrality\",\"ClosenessCentrality\",\"ClosenessCentrality\",\"ClosenessCentrality\",\"ClosenessCentrality\",\"ClusteringCoefficient\",\"ClusteringCoefficient\",\"ClusteringCoefficient\",\"ClusteringCoefficient\",\"ClusteringCoefficient\",\"ClusteringCoefficient\",\"ClusteringCoefficient\",\"ClusteringCoefficient\",\"ClusteringCoefficient\",\"ClusteringCoefficient\",\"ClusteringCoefficient\",\"Degree\",\"Degree\",\"Degree\",\"Degree\",\"Degree\",\"Degree\",\"Degree\",\"Degree\",\"Degree\",\"Degree\",\"Degree\",\"Radiality\",\"Radiality\",\"Radiality\",\"Radiality\",\"Radiality\",\"Radiality\",\"Radiality\",\"Radiality\",\"Radiality\",\"Radiality\",\"Radiality\",\"Stress\",\"Stress\",\"Stress\",\"Stress\",\"Stress\",\"Stress\",\"Stress\",\"Stress\",\"Stress\",\"Stress\",\"Stress\",\"TopologicalCoefficient\",\"TopologicalCoefficient\",\"TopologicalCoefficient\",\"TopologicalCoefficient\",\"TopologicalCoefficient\",\"TopologicalCoefficient\",\"TopologicalCoefficient\",\"TopologicalCoefficient\",\"TopologicalCoefficient\",\"TopologicalCoefficient\",\"TopologicalCoefficient\"],\"xaxis\":\"x\",\"y\":[\"HNRNPH1\",\"YWHAG\",\"CIT\",\"PHB2\",\"CCT7\",\"BYSL\",\"PLEKHA4\",\"RRBP1\",\"MRPL12\",\"SHC1\",\"LGALS1\",\"HNRNPH1\",\"YWHAG\",\"CIT\",\"PHB2\",\"CCT7\",\"BYSL\",\"PLEKHA4\",\"RRBP1\",\"MRPL12\",\"SHC1\",\"LGALS1\",\"HNRNPH1\",\"YWHAG\",\"CIT\",\"PHB2\",\"CCT7\",\"BYSL\",\"PLEKHA4\",\"RRBP1\",\"MRPL12\",\"SHC1\",\"LGALS1\",\"HNRNPH1\",\"YWHAG\",\"CIT\",\"PHB2\",\"CCT7\",\"BYSL\",\"PLEKHA4\",\"RRBP1\",\"MRPL12\",\"SHC1\",\"LGALS1\",\"HNRNPH1\",\"YWHAG\",\"CIT\",\"PHB2\",\"CCT7\",\"BYSL\",\"PLEKHA4\",\"RRBP1\",\"MRPL12\",\"SHC1\",\"LGALS1\",\"HNRNPH1\",\"YWHAG\",\"CIT\",\"PHB2\",\"CCT7\",\"BYSL\",\"PLEKHA4\",\"RRBP1\",\"MRPL12\",\"SHC1\",\"LGALS1\",\"HNRNPH1\",\"YWHAG\",\"CIT\",\"PHB2\",\"CCT7\",\"BYSL\",\"PLEKHA4\",\"RRBP1\",\"MRPL12\",\"SHC1\",\"LGALS1\"],\"yaxis\":\"y\",\"type\":\"scatter\"},{\"customdata\":[[\"0.18<br>BetweennessCentrality\"],[\"0.02<br>BetweennessCentrality\"],[\"0.27<br>ClosenessCentrality\"],[\"0.98<br>ClosenessCentrality\"],[\"0.03<br>ClusteringCoefficient\"],[\"0.52<br>ClusteringCoefficient\"],[\"0.35<br>Degree\"],[\"0.06<br>Degree\"],[\"0.3<br>Radiality\"],[\"0.98<br>Radiality\"],[\"0.3<br>Stress\"],[\"0.01<br>Stress\"],[\"0.16<br>TopologicalCoefficient\"],[\"0.51<br>TopologicalCoefficient\"]],\"hovertemplate\":\"Encrichment=Homo sapiens<br>Centrality=%{x}<br>Protein=%{y}<br>Value=%{marker.size}<br>Info=%{customdata[0]}<extra></extra>\",\"legendgroup\":\"Homo sapiens\",\"marker\":{\"color\":\"#EF553B\",\"size\":[0.17660105379003863,0.01650147984292919,0.265019122008675,0.9805659711331725,0.03253897635759191,0.5182171457517527,0.3474264705882353,0.06066176470588235,0.2977988064068449,0.9834280992526284,0.30052021299342463,0.012550643894230462,0.16337391502245463,0.5089763264782443],\"sizemode\":\"area\",\"sizeref\":0.0025,\"symbol\":200,\"line\":{\"color\":\"rgba(0, 0, 0, 1)\",\"width\":2}},\"mode\":\"markers\",\"name\":\"Homo sapiens\",\"orientation\":\"v\",\"showlegend\":true,\"x\":[\"BetweennessCentrality\",\"BetweennessCentrality\",\"ClosenessCentrality\",\"ClosenessCentrality\",\"ClusteringCoefficient\",\"ClusteringCoefficient\",\"Degree\",\"Degree\",\"Radiality\",\"Radiality\",\"Stress\",\"Stress\",\"TopologicalCoefficient\",\"TopologicalCoefficient\"],\"xaxis\":\"x\",\"y\":[\"BAG2\",\"MYC\",\"BAG2\",\"MYC\",\"BAG2\",\"MYC\",\"BAG2\",\"MYC\",\"BAG2\",\"MYC\",\"BAG2\",\"MYC\",\"BAG2\",\"MYC\"],\"yaxis\":\"y\",\"type\":\"scatter\"},{\"customdata\":[[\"0.2<br>BetweennessCentrality\"],[\"0.08<br>BetweennessCentrality\"],[\"0.02<br>BetweennessCentrality\"],[\"0.0<br>BetweennessCentrality\"],[\"0.4<br>ClosenessCentrality\"],[\"0.22<br>ClosenessCentrality\"],[\"0.27<br>ClosenessCentrality\"],[\"0.17<br>ClosenessCentrality\"],[\"0.3<br>ClusteringCoefficient\"],[\"0.15<br>ClusteringCoefficient\"],[\"0.29<br>ClusteringCoefficient\"],[\"0.3<br>ClusteringCoefficient\"],[\"0.4<br>Degree\"],[\"0.2<br>Degree\"],[\"0.22<br>Degree\"],[\"0.13<br>Degree\"],[\"0.44<br>Radiality\"],[\"0.25<br>Radiality\"],[\"0.31<br>Radiality\"],[\"0.19<br>Radiality\"],[\"0.28<br>Stress\"],[\"0.07<br>Stress\"],[\"0.07<br>Stress\"],[\"0.0<br>Stress\"],[\"0.18<br>TopologicalCoefficient\"],[\"0.2<br>TopologicalCoefficient\"],[\"0.21<br>TopologicalCoefficient\"],[\"0.3<br>TopologicalCoefficient\"]],\"hovertemplate\":\"Encrichment=Human immunodeficiency virus 1<br>Centrality=%{x}<br>Protein=%{y}<br>Value=%{marker.size}<br>Info=%{customdata[0]}<extra></extra>\",\"legendgroup\":\"Human immunodeficiency virus 1\",\"marker\":{\"color\":\"#00cc96\",\"size\":[0.20262544217308665,0.07877481151427265,0.021923530433935003,0.0,0.400032486521264,0.22224617791524712,0.2735558578742341,0.16534745049911034,0.3031639241437932,0.15314290601781433,0.29448085228832366,0.2988502355753994,0.39981617647058826,0.19852941176470587,0.22058823529411764,0.13419117647058823,0.43952508908304294,0.251545917581558,0.30695030276273955,0.18896872661714595,0.2793723443778086,0.0726450116912575,0.06658045028627348,0.00486563666945977,0.17951621962912492,0.19811305264596865,0.21057509203526914,0.2982962258379973],\"sizemode\":\"area\",\"sizeref\":0.0025,\"symbol\":200,\"line\":{\"color\":\"rgba(0, 0, 0, 1)\",\"width\":2}},\"mode\":\"markers\",\"name\":\"Human immunodeficiency virus 1\",\"orientation\":\"v\",\"showlegend\":true,\"x\":[\"BetweennessCentrality\",\"BetweennessCentrality\",\"BetweennessCentrality\",\"BetweennessCentrality\",\"ClosenessCentrality\",\"ClosenessCentrality\",\"ClosenessCentrality\",\"ClosenessCentrality\",\"ClusteringCoefficient\",\"ClusteringCoefficient\",\"ClusteringCoefficient\",\"ClusteringCoefficient\",\"Degree\",\"Degree\",\"Degree\",\"Degree\",\"Radiality\",\"Radiality\",\"Radiality\",\"Radiality\",\"Stress\",\"Stress\",\"Stress\",\"Stress\",\"TopologicalCoefficient\",\"TopologicalCoefficient\",\"TopologicalCoefficient\",\"TopologicalCoefficient\"],\"xaxis\":\"x\",\"y\":[\"C1QBP\",\"TUBA4A\",\"CCT4\",\"ACTG1\",\"C1QBP\",\"TUBA4A\",\"CCT4\",\"ACTG1\",\"C1QBP\",\"TUBA4A\",\"CCT4\",\"ACTG1\",\"C1QBP\",\"TUBA4A\",\"CCT4\",\"ACTG1\",\"C1QBP\",\"TUBA4A\",\"CCT4\",\"ACTG1\",\"C1QBP\",\"TUBA4A\",\"CCT4\",\"ACTG1\",\"C1QBP\",\"TUBA4A\",\"CCT4\",\"ACTG1\"],\"yaxis\":\"y\",\"type\":\"scatter\"},{\"customdata\":[[\"0.13<br>BetweennessCentrality\"],[\"0.04<br>BetweennessCentrality\"],[\"0.15<br>ClosenessCentrality\"],[\"0.38<br>ClosenessCentrality\"],[\"0.08<br>ClusteringCoefficient\"],[\"0.22<br>ClusteringCoefficient\"],[\"0.3<br>Degree\"],[\"0.14<br>Degree\"],[\"0.17<br>Radiality\"],[\"0.42<br>Radiality\"],[\"0.2<br>Stress\"],[\"0.01<br>Stress\"],[\"0.18<br>TopologicalCoefficient\"],[\"0.23<br>TopologicalCoefficient\"]],\"hovertemplate\":\"Encrichment=Human herpesvirus 1 (strain 17)<br>Centrality=%{x}<br>Protein=%{y}<br>Value=%{marker.size}<br>Info=%{customdata[0]}<extra></extra>\",\"legendgroup\":\"Human herpesvirus 1 (strain 17)\",\"marker\":{\"color\":\"#ab63fa\",\"size\":[0.1347747905905516,0.0421864318855054,0.15024121811121974,0.38081519705806793,0.0760488177469895,0.2201240931374824,0.296875,0.13511029411764705,0.17214943709086025,0.41973797352709225,0.1980581401805678,0.005118563755979776,0.18350043702672147,0.23158903221396707],\"sizemode\":\"area\",\"sizeref\":0.0025,\"symbol\":200,\"line\":{\"color\":\"rgba(0, 0, 0, 1)\",\"width\":2}},\"mode\":\"markers\",\"name\":\"Human herpesvirus 1 (strain 17)\",\"orientation\":\"v\",\"showlegend\":true,\"x\":[\"BetweennessCentrality\",\"BetweennessCentrality\",\"ClosenessCentrality\",\"ClosenessCentrality\",\"ClusteringCoefficient\",\"ClusteringCoefficient\",\"Degree\",\"Degree\",\"Radiality\",\"Radiality\",\"Stress\",\"Stress\",\"TopologicalCoefficient\",\"TopologicalCoefficient\"],\"xaxis\":\"x\",\"y\":[\"PCNA\",\"EMD\",\"PCNA\",\"EMD\",\"PCNA\",\"EMD\",\"PCNA\",\"EMD\",\"PCNA\",\"EMD\",\"PCNA\",\"EMD\",\"PCNA\",\"EMD\"],\"yaxis\":\"y\",\"type\":\"scatter\"},{\"customdata\":[[\"0.02<br>BetweennessCentrality\"],[\"0.11<br>ClosenessCentrality\"],[\"0.2<br>ClusteringCoefficient\"],[\"0.15<br>Degree\"],[\"0.13<br>Radiality\"],[\"0.0<br>Stress\"],[\"0.25<br>TopologicalCoefficient\"]],\"hovertemplate\":\"Encrichment=Human immunodeficiency virus 1<br>Human herpesvirus 3<br>Centrality=%{x}<br>Protein=%{y}<br>Value=%{marker.size}<br>Info=%{customdata[0]}<extra></extra>\",\"legendgroup\":\"Human immunodeficiency virus 1<br>Human herpesvirus 3\",\"marker\":{\"color\":\"#FFA15A\",\"size\":[0.017936859864909314,0.10997289050205057,0.1979406877767331,0.15257352941176472,0.126886103381232,0.0012895464904918638,0.2513421054339853],\"sizemode\":\"area\",\"sizeref\":0.0025,\"symbol\":200,\"line\":{\"color\":\"rgba(0, 0, 0, 1)\",\"width\":2}},\"mode\":\"markers\",\"name\":\"Human immunodeficiency virus 1<br>Human herpesvirus 3\",\"orientation\":\"v\",\"showlegend\":true,\"x\":[\"BetweennessCentrality\",\"ClosenessCentrality\",\"ClusteringCoefficient\",\"Degree\",\"Radiality\",\"Stress\",\"TopologicalCoefficient\"],\"xaxis\":\"x\",\"y\":[\"SP1\",\"SP1\",\"SP1\",\"SP1\",\"SP1\",\"SP1\",\"SP1\"],\"yaxis\":\"y\",\"type\":\"scatter\"}],                        {\"template\":{\"data\":{\"bar\":[{\"error_x\":{\"color\":\"#2a3f5f\"},\"error_y\":{\"color\":\"#2a3f5f\"},\"marker\":{\"line\":{\"color\":\"#E5ECF6\",\"width\":0.5},\"pattern\":{\"fillmode\":\"overlay\",\"size\":10,\"solidity\":0.2}},\"type\":\"bar\"}],\"barpolar\":[{\"marker\":{\"line\":{\"color\":\"#E5ECF6\",\"width\":0.5},\"pattern\":{\"fillmode\":\"overlay\",\"size\":10,\"solidity\":0.2}},\"type\":\"barpolar\"}],\"carpet\":[{\"aaxis\":{\"endlinecolor\":\"#2a3f5f\",\"gridcolor\":\"white\",\"linecolor\":\"white\",\"minorgridcolor\":\"white\",\"startlinecolor\":\"#2a3f5f\"},\"baxis\":{\"endlinecolor\":\"#2a3f5f\",\"gridcolor\":\"white\",\"linecolor\":\"white\",\"minorgridcolor\":\"white\",\"startlinecolor\":\"#2a3f5f\"},\"type\":\"carpet\"}],\"choropleth\":[{\"colorbar\":{\"outlinewidth\":0,\"ticks\":\"\"},\"type\":\"choropleth\"}],\"contour\":[{\"colorbar\":{\"outlinewidth\":0,\"ticks\":\"\"},\"colorscale\":[[0.0,\"#0d0887\"],[0.1111111111111111,\"#46039f\"],[0.2222222222222222,\"#7201a8\"],[0.3333333333333333,\"#9c179e\"],[0.4444444444444444,\"#bd3786\"],[0.5555555555555556,\"#d8576b\"],[0.6666666666666666,\"#ed7953\"],[0.7777777777777778,\"#fb9f3a\"],[0.8888888888888888,\"#fdca26\"],[1.0,\"#f0f921\"]],\"type\":\"contour\"}],\"contourcarpet\":[{\"colorbar\":{\"outlinewidth\":0,\"ticks\":\"\"},\"type\":\"contourcarpet\"}],\"heatmap\":[{\"colorbar\":{\"outlinewidth\":0,\"ticks\":\"\"},\"colorscale\":[[0.0,\"#0d0887\"],[0.1111111111111111,\"#46039f\"],[0.2222222222222222,\"#7201a8\"],[0.3333333333333333,\"#9c179e\"],[0.4444444444444444,\"#bd3786\"],[0.5555555555555556,\"#d8576b\"],[0.6666666666666666,\"#ed7953\"],[0.7777777777777778,\"#fb9f3a\"],[0.8888888888888888,\"#fdca26\"],[1.0,\"#f0f921\"]],\"type\":\"heatmap\"}],\"heatmapgl\":[{\"colorbar\":{\"outlinewidth\":0,\"ticks\":\"\"},\"colorscale\":[[0.0,\"#0d0887\"],[0.1111111111111111,\"#46039f\"],[0.2222222222222222,\"#7201a8\"],[0.3333333333333333,\"#9c179e\"],[0.4444444444444444,\"#bd3786\"],[0.5555555555555556,\"#d8576b\"],[0.6666666666666666,\"#ed7953\"],[0.7777777777777778,\"#fb9f3a\"],[0.8888888888888888,\"#fdca26\"],[1.0,\"#f0f921\"]],\"type\":\"heatmapgl\"}],\"histogram\":[{\"marker\":{\"pattern\":{\"fillmode\":\"overlay\",\"size\":10,\"solidity\":0.2}},\"type\":\"histogram\"}],\"histogram2d\":[{\"colorbar\":{\"outlinewidth\":0,\"ticks\":\"\"},\"colorscale\":[[0.0,\"#0d0887\"],[0.1111111111111111,\"#46039f\"],[0.2222222222222222,\"#7201a8\"],[0.3333333333333333,\"#9c179e\"],[0.4444444444444444,\"#bd3786\"],[0.5555555555555556,\"#d8576b\"],[0.6666666666666666,\"#ed7953\"],[0.7777777777777778,\"#fb9f3a\"],[0.8888888888888888,\"#fdca26\"],[1.0,\"#f0f921\"]],\"type\":\"histogram2d\"}],\"histogram2dcontour\":[{\"colorbar\":{\"outlinewidth\":0,\"ticks\":\"\"},\"colorscale\":[[0.0,\"#0d0887\"],[0.1111111111111111,\"#46039f\"],[0.2222222222222222,\"#7201a8\"],[0.3333333333333333,\"#9c179e\"],[0.4444444444444444,\"#bd3786\"],[0.5555555555555556,\"#d8576b\"],[0.6666666666666666,\"#ed7953\"],[0.7777777777777778,\"#fb9f3a\"],[0.8888888888888888,\"#fdca26\"],[1.0,\"#f0f921\"]],\"type\":\"histogram2dcontour\"}],\"mesh3d\":[{\"colorbar\":{\"outlinewidth\":0,\"ticks\":\"\"},\"type\":\"mesh3d\"}],\"parcoords\":[{\"line\":{\"colorbar\":{\"outlinewidth\":0,\"ticks\":\"\"}},\"type\":\"parcoords\"}],\"pie\":[{\"automargin\":true,\"type\":\"pie\"}],\"scatter\":[{\"marker\":{\"colorbar\":{\"outlinewidth\":0,\"ticks\":\"\"}},\"type\":\"scatter\"}],\"scatter3d\":[{\"line\":{\"colorbar\":{\"outlinewidth\":0,\"ticks\":\"\"}},\"marker\":{\"colorbar\":{\"outlinewidth\":0,\"ticks\":\"\"}},\"type\":\"scatter3d\"}],\"scattercarpet\":[{\"marker\":{\"colorbar\":{\"outlinewidth\":0,\"ticks\":\"\"}},\"type\":\"scattercarpet\"}],\"scattergeo\":[{\"marker\":{\"colorbar\":{\"outlinewidth\":0,\"ticks\":\"\"}},\"type\":\"scattergeo\"}],\"scattergl\":[{\"marker\":{\"colorbar\":{\"outlinewidth\":0,\"ticks\":\"\"}},\"type\":\"scattergl\"}],\"scattermapbox\":[{\"marker\":{\"colorbar\":{\"outlinewidth\":0,\"ticks\":\"\"}},\"type\":\"scattermapbox\"}],\"scatterpolar\":[{\"marker\":{\"colorbar\":{\"outlinewidth\":0,\"ticks\":\"\"}},\"type\":\"scatterpolar\"}],\"scatterpolargl\":[{\"marker\":{\"colorbar\":{\"outlinewidth\":0,\"ticks\":\"\"}},\"type\":\"scatterpolargl\"}],\"scatterternary\":[{\"marker\":{\"colorbar\":{\"outlinewidth\":0,\"ticks\":\"\"}},\"type\":\"scatterternary\"}],\"surface\":[{\"colorbar\":{\"outlinewidth\":0,\"ticks\":\"\"},\"colorscale\":[[0.0,\"#0d0887\"],[0.1111111111111111,\"#46039f\"],[0.2222222222222222,\"#7201a8\"],[0.3333333333333333,\"#9c179e\"],[0.4444444444444444,\"#bd3786\"],[0.5555555555555556,\"#d8576b\"],[0.6666666666666666,\"#ed7953\"],[0.7777777777777778,\"#fb9f3a\"],[0.8888888888888888,\"#fdca26\"],[1.0,\"#f0f921\"]],\"type\":\"surface\"}],\"table\":[{\"cells\":{\"fill\":{\"color\":\"#EBF0F8\"},\"line\":{\"color\":\"white\"}},\"header\":{\"fill\":{\"color\":\"#C8D4E3\"},\"line\":{\"color\":\"white\"}},\"type\":\"table\"}]},\"layout\":{\"annotationdefaults\":{\"arrowcolor\":\"#2a3f5f\",\"arrowhead\":0,\"arrowwidth\":1},\"autotypenumbers\":\"strict\",\"coloraxis\":{\"colorbar\":{\"outlinewidth\":0,\"ticks\":\"\"}},\"colorscale\":{\"diverging\":[[0,\"#8e0152\"],[0.1,\"#c51b7d\"],[0.2,\"#de77ae\"],[0.3,\"#f1b6da\"],[0.4,\"#fde0ef\"],[0.5,\"#f7f7f7\"],[0.6,\"#e6f5d0\"],[0.7,\"#b8e186\"],[0.8,\"#7fbc41\"],[0.9,\"#4d9221\"],[1,\"#276419\"]],\"sequential\":[[0.0,\"#0d0887\"],[0.1111111111111111,\"#46039f\"],[0.2222222222222222,\"#7201a8\"],[0.3333333333333333,\"#9c179e\"],[0.4444444444444444,\"#bd3786\"],[0.5555555555555556,\"#d8576b\"],[0.6666666666666666,\"#ed7953\"],[0.7777777777777778,\"#fb9f3a\"],[0.8888888888888888,\"#fdca26\"],[1.0,\"#f0f921\"]],\"sequentialminus\":[[0.0,\"#0d0887\"],[0.1111111111111111,\"#46039f\"],[0.2222222222222222,\"#7201a8\"],[0.3333333333333333,\"#9c179e\"],[0.4444444444444444,\"#bd3786\"],[0.5555555555555556,\"#d8576b\"],[0.6666666666666666,\"#ed7953\"],[0.7777777777777778,\"#fb9f3a\"],[0.8888888888888888,\"#fdca26\"],[1.0,\"#f0f921\"]]},\"colorway\":[\"#636efa\",\"#EF553B\",\"#00cc96\",\"#ab63fa\",\"#FFA15A\",\"#19d3f3\",\"#FF6692\",\"#B6E880\",\"#FF97FF\",\"#FECB52\"],\"font\":{\"color\":\"#2a3f5f\"},\"geo\":{\"bgcolor\":\"white\",\"lakecolor\":\"white\",\"landcolor\":\"#E5ECF6\",\"showlakes\":true,\"showland\":true,\"subunitcolor\":\"white\"},\"hoverlabel\":{\"align\":\"left\"},\"hovermode\":\"closest\",\"mapbox\":{\"style\":\"light\"},\"paper_bgcolor\":\"white\",\"plot_bgcolor\":\"#E5ECF6\",\"polar\":{\"angularaxis\":{\"gridcolor\":\"white\",\"linecolor\":\"white\",\"ticks\":\"\"},\"bgcolor\":\"#E5ECF6\",\"radialaxis\":{\"gridcolor\":\"white\",\"linecolor\":\"white\",\"ticks\":\"\"}},\"scene\":{\"xaxis\":{\"backgroundcolor\":\"#E5ECF6\",\"gridcolor\":\"white\",\"gridwidth\":2,\"linecolor\":\"white\",\"showbackground\":true,\"ticks\":\"\",\"zerolinecolor\":\"white\"},\"yaxis\":{\"backgroundcolor\":\"#E5ECF6\",\"gridcolor\":\"white\",\"gridwidth\":2,\"linecolor\":\"white\",\"showbackground\":true,\"ticks\":\"\",\"zerolinecolor\":\"white\"},\"zaxis\":{\"backgroundcolor\":\"#E5ECF6\",\"gridcolor\":\"white\",\"gridwidth\":2,\"linecolor\":\"white\",\"showbackground\":true,\"ticks\":\"\",\"zerolinecolor\":\"white\"}},\"shapedefaults\":{\"line\":{\"color\":\"#2a3f5f\"}},\"ternary\":{\"aaxis\":{\"gridcolor\":\"white\",\"linecolor\":\"white\",\"ticks\":\"\"},\"baxis\":{\"gridcolor\":\"white\",\"linecolor\":\"white\",\"ticks\":\"\"},\"bgcolor\":\"#E5ECF6\",\"caxis\":{\"gridcolor\":\"white\",\"linecolor\":\"white\",\"ticks\":\"\"}},\"title\":{\"x\":0.05},\"xaxis\":{\"automargin\":true,\"gridcolor\":\"white\",\"linecolor\":\"white\",\"ticks\":\"\",\"title\":{\"standoff\":15},\"zerolinecolor\":\"white\",\"zerolinewidth\":2},\"yaxis\":{\"automargin\":true,\"gridcolor\":\"white\",\"linecolor\":\"white\",\"ticks\":\"\",\"title\":{\"standoff\":15},\"zerolinecolor\":\"white\",\"zerolinewidth\":2}}},\"xaxis\":{\"anchor\":\"y\",\"domain\":[0.0,1.0],\"title\":{\"text\":\"Centralities\"},\"showline\":true,\"linewidth\":2,\"linecolor\":\"black\",\"mirror\":true},\"yaxis\":{\"anchor\":\"x\",\"domain\":[0.0,1.0],\"title\":{\"text\":\"Protein\"},\"showline\":true,\"linewidth\":2,\"linecolor\":\"black\",\"mirror\":true},\"legend\":{\"title\":{\"text\":\"Encrichment\",\"font\":{\"family\":\"Times New Roman\"}},\"tracegroupgap\":0,\"itemsizing\":\"constant\",\"font\":{\"family\":\"Arial\",\"size\":12,\"color\":\"black\"},\"orientation\":\"v\",\"yanchor\":\"bottom\",\"y\":1.02,\"xanchor\":\"right\",\"x\":1,\"traceorder\":\"reversed\",\"bgcolor\":\"rgba(0,0,0,0)\",\"bordercolor\":\"Black\",\"borderwidth\":2},\"margin\":{\"t\":60},\"font\":{\"family\":\"Arial\",\"size\":14,\"color\":\"black\"},\"title\":{},\"autosize\":false,\"width\":420,\"height\":910,\"plot_bgcolor\":\"rgba(0,0,0,0)\"},                        {\"responsive\": true}                    ).then(function(){\n",
       "                            \n",
       "var gd = document.getElementById('80936959-b906-4bb5-96d5-8c12874fc7c9');\n",
       "var x = new MutationObserver(function (mutations, observer) {{\n",
       "        var display = window.getComputedStyle(gd).display;\n",
       "        if (!display || display === 'none') {{\n",
       "            console.log([gd, 'removed!']);\n",
       "            Plotly.purge(gd);\n",
       "            observer.disconnect();\n",
       "        }}\n",
       "}});\n",
       "\n",
       "// Listen for the removal of the full notebook cells\n",
       "var notebookContainer = gd.closest('#notebook-container');\n",
       "if (notebookContainer) {{\n",
       "    x.observe(notebookContainer, {childList: true});\n",
       "}}\n",
       "\n",
       "// Listen for the clearing of the current output cell\n",
       "var outputEl = gd.closest('.output');\n",
       "if (outputEl) {{\n",
       "    x.observe(outputEl, {childList: true});\n",
       "}}\n",
       "\n",
       "                        })                };                });            </script>        </div>"
      ]
     },
     "metadata": {},
     "output_type": "display_data"
    }
   ],
   "source": [
    "import plotly.express as px\n",
    "\n",
    "# Make Scaterplot\n",
    "fig = px.scatter(\n",
    "    Dot_plot_df, \n",
    "    x=\"Centrality\", \n",
    "    y=\"Protein\", \n",
    "    size=\"Value\", \n",
    "    color=\"Encrichment\", hover_data=['Info']\n",
    ")\n",
    "\n",
    "# Symbol and circle rim\n",
    "fig.update_traces(mode='markers', marker_symbol = 200, marker_line_width=2, marker_line_color='rgba(0, 0, 0, 1)')\n",
    "# Add boundaries                      \n",
    "fig.update_xaxes(showline=True, linewidth=2, linecolor='black', mirror=True)\n",
    "fig.update_yaxes(showline=True, linewidth=2, linecolor='black', mirror=True)\n",
    "\n",
    "    \n",
    "# Size of the plot   \n",
    "fig.update_layout(\n",
    "    title=None,\n",
    "    autosize=False,\n",
    "    width=420,\n",
    "    height=910,\n",
    "    # paper_bgcolor='rgba(0,0,0,0)',\n",
    "    plot_bgcolor='rgba(0,0,0,0)',\n",
    "    xaxis=dict(\n",
    "        title=\"Centralities\"\n",
    "    ),\n",
    "    yaxis=dict(\n",
    "        title=\"Protein\"\n",
    "    ),\n",
    "    font=dict(\n",
    "        family=\"Arial\",\n",
    "        size=14,\n",
    "        color=\"black\"\n",
    "    )\n",
    ")\n",
    "    \n",
    "\n",
    "# Update legend\n",
    "fig.update_layout(\n",
    "    legend=dict(\n",
    "        orientation=\"v\",\n",
    "    yanchor=\"bottom\",\n",
    "    y=1.02,\n",
    "    xanchor=\"right\",\n",
    "    x=1,\n",
    "        traceorder=\"reversed\",\n",
    "        title_font_family=\"Times New Roman\",\n",
    "        font=dict(\n",
    "            family=\"Arial\",\n",
    "            size=12,\n",
    "            color=\"black\"\n",
    "        ),\n",
    "        bgcolor=\"rgba(0,0,0,0)\",\n",
    "        bordercolor=\"Black\",\n",
    "        borderwidth=2\n",
    "    )\n",
    ")\n",
    "\n",
    "\n",
    "fig_dots = fig\n",
    "\n",
    "fig_dots"
   ]
  },
  {
   "cell_type": "code",
   "execution_count": 63,
   "id": "77294b2f-b375-4b16-9bb4-656585856d94",
   "metadata": {},
   "outputs": [
    {
     "data": {
      "application/vnd.plotly.v1+json": {
       "config": {
        "plotlyServerURL": "https://plot.ly"
       },
       "data": [
        {
         "marker": {
          "color": [
           "#636efa",
           "#EF553B",
           "#00cc96",
           "#ab63fa",
           "#FFA15A"
          ],
          "line": {
           "width": 2
          },
          "size": 20,
          "symbol": 200
         },
         "mode": "markers",
         "type": "scatter",
         "x": [
          "",
          "",
          "",
          "",
          ""
         ],
         "y": [
          "NE",
          "Homo sapiens",
          "Human immunodeficiency virus 1",
          "Human herpesvirus 1 (strain 17)",
          "Human immunodeficiency virus 1<br>Human herpesvirus 3"
         ]
        }
       ],
       "layout": {
        "autosize": false,
        "height": 290,
        "plot_bgcolor": "rgba(0, 0, 0, 0)",
        "showlegend": false,
        "template": {
         "data": {
          "bar": [
           {
            "error_x": {
             "color": "#2a3f5f"
            },
            "error_y": {
             "color": "#2a3f5f"
            },
            "marker": {
             "line": {
              "color": "#E5ECF6",
              "width": 0.5
             },
             "pattern": {
              "fillmode": "overlay",
              "size": 10,
              "solidity": 0.2
             }
            },
            "type": "bar"
           }
          ],
          "barpolar": [
           {
            "marker": {
             "line": {
              "color": "#E5ECF6",
              "width": 0.5
             },
             "pattern": {
              "fillmode": "overlay",
              "size": 10,
              "solidity": 0.2
             }
            },
            "type": "barpolar"
           }
          ],
          "carpet": [
           {
            "aaxis": {
             "endlinecolor": "#2a3f5f",
             "gridcolor": "white",
             "linecolor": "white",
             "minorgridcolor": "white",
             "startlinecolor": "#2a3f5f"
            },
            "baxis": {
             "endlinecolor": "#2a3f5f",
             "gridcolor": "white",
             "linecolor": "white",
             "minorgridcolor": "white",
             "startlinecolor": "#2a3f5f"
            },
            "type": "carpet"
           }
          ],
          "choropleth": [
           {
            "colorbar": {
             "outlinewidth": 0,
             "ticks": ""
            },
            "type": "choropleth"
           }
          ],
          "contour": [
           {
            "colorbar": {
             "outlinewidth": 0,
             "ticks": ""
            },
            "colorscale": [
             [
              0,
              "#0d0887"
             ],
             [
              0.1111111111111111,
              "#46039f"
             ],
             [
              0.2222222222222222,
              "#7201a8"
             ],
             [
              0.3333333333333333,
              "#9c179e"
             ],
             [
              0.4444444444444444,
              "#bd3786"
             ],
             [
              0.5555555555555556,
              "#d8576b"
             ],
             [
              0.6666666666666666,
              "#ed7953"
             ],
             [
              0.7777777777777778,
              "#fb9f3a"
             ],
             [
              0.8888888888888888,
              "#fdca26"
             ],
             [
              1,
              "#f0f921"
             ]
            ],
            "type": "contour"
           }
          ],
          "contourcarpet": [
           {
            "colorbar": {
             "outlinewidth": 0,
             "ticks": ""
            },
            "type": "contourcarpet"
           }
          ],
          "heatmap": [
           {
            "colorbar": {
             "outlinewidth": 0,
             "ticks": ""
            },
            "colorscale": [
             [
              0,
              "#0d0887"
             ],
             [
              0.1111111111111111,
              "#46039f"
             ],
             [
              0.2222222222222222,
              "#7201a8"
             ],
             [
              0.3333333333333333,
              "#9c179e"
             ],
             [
              0.4444444444444444,
              "#bd3786"
             ],
             [
              0.5555555555555556,
              "#d8576b"
             ],
             [
              0.6666666666666666,
              "#ed7953"
             ],
             [
              0.7777777777777778,
              "#fb9f3a"
             ],
             [
              0.8888888888888888,
              "#fdca26"
             ],
             [
              1,
              "#f0f921"
             ]
            ],
            "type": "heatmap"
           }
          ],
          "heatmapgl": [
           {
            "colorbar": {
             "outlinewidth": 0,
             "ticks": ""
            },
            "colorscale": [
             [
              0,
              "#0d0887"
             ],
             [
              0.1111111111111111,
              "#46039f"
             ],
             [
              0.2222222222222222,
              "#7201a8"
             ],
             [
              0.3333333333333333,
              "#9c179e"
             ],
             [
              0.4444444444444444,
              "#bd3786"
             ],
             [
              0.5555555555555556,
              "#d8576b"
             ],
             [
              0.6666666666666666,
              "#ed7953"
             ],
             [
              0.7777777777777778,
              "#fb9f3a"
             ],
             [
              0.8888888888888888,
              "#fdca26"
             ],
             [
              1,
              "#f0f921"
             ]
            ],
            "type": "heatmapgl"
           }
          ],
          "histogram": [
           {
            "marker": {
             "pattern": {
              "fillmode": "overlay",
              "size": 10,
              "solidity": 0.2
             }
            },
            "type": "histogram"
           }
          ],
          "histogram2d": [
           {
            "colorbar": {
             "outlinewidth": 0,
             "ticks": ""
            },
            "colorscale": [
             [
              0,
              "#0d0887"
             ],
             [
              0.1111111111111111,
              "#46039f"
             ],
             [
              0.2222222222222222,
              "#7201a8"
             ],
             [
              0.3333333333333333,
              "#9c179e"
             ],
             [
              0.4444444444444444,
              "#bd3786"
             ],
             [
              0.5555555555555556,
              "#d8576b"
             ],
             [
              0.6666666666666666,
              "#ed7953"
             ],
             [
              0.7777777777777778,
              "#fb9f3a"
             ],
             [
              0.8888888888888888,
              "#fdca26"
             ],
             [
              1,
              "#f0f921"
             ]
            ],
            "type": "histogram2d"
           }
          ],
          "histogram2dcontour": [
           {
            "colorbar": {
             "outlinewidth": 0,
             "ticks": ""
            },
            "colorscale": [
             [
              0,
              "#0d0887"
             ],
             [
              0.1111111111111111,
              "#46039f"
             ],
             [
              0.2222222222222222,
              "#7201a8"
             ],
             [
              0.3333333333333333,
              "#9c179e"
             ],
             [
              0.4444444444444444,
              "#bd3786"
             ],
             [
              0.5555555555555556,
              "#d8576b"
             ],
             [
              0.6666666666666666,
              "#ed7953"
             ],
             [
              0.7777777777777778,
              "#fb9f3a"
             ],
             [
              0.8888888888888888,
              "#fdca26"
             ],
             [
              1,
              "#f0f921"
             ]
            ],
            "type": "histogram2dcontour"
           }
          ],
          "mesh3d": [
           {
            "colorbar": {
             "outlinewidth": 0,
             "ticks": ""
            },
            "type": "mesh3d"
           }
          ],
          "parcoords": [
           {
            "line": {
             "colorbar": {
              "outlinewidth": 0,
              "ticks": ""
             }
            },
            "type": "parcoords"
           }
          ],
          "pie": [
           {
            "automargin": true,
            "type": "pie"
           }
          ],
          "scatter": [
           {
            "marker": {
             "colorbar": {
              "outlinewidth": 0,
              "ticks": ""
             }
            },
            "type": "scatter"
           }
          ],
          "scatter3d": [
           {
            "line": {
             "colorbar": {
              "outlinewidth": 0,
              "ticks": ""
             }
            },
            "marker": {
             "colorbar": {
              "outlinewidth": 0,
              "ticks": ""
             }
            },
            "type": "scatter3d"
           }
          ],
          "scattercarpet": [
           {
            "marker": {
             "colorbar": {
              "outlinewidth": 0,
              "ticks": ""
             }
            },
            "type": "scattercarpet"
           }
          ],
          "scattergeo": [
           {
            "marker": {
             "colorbar": {
              "outlinewidth": 0,
              "ticks": ""
             }
            },
            "type": "scattergeo"
           }
          ],
          "scattergl": [
           {
            "marker": {
             "colorbar": {
              "outlinewidth": 0,
              "ticks": ""
             }
            },
            "type": "scattergl"
           }
          ],
          "scattermapbox": [
           {
            "marker": {
             "colorbar": {
              "outlinewidth": 0,
              "ticks": ""
             }
            },
            "type": "scattermapbox"
           }
          ],
          "scatterpolar": [
           {
            "marker": {
             "colorbar": {
              "outlinewidth": 0,
              "ticks": ""
             }
            },
            "type": "scatterpolar"
           }
          ],
          "scatterpolargl": [
           {
            "marker": {
             "colorbar": {
              "outlinewidth": 0,
              "ticks": ""
             }
            },
            "type": "scatterpolargl"
           }
          ],
          "scatterternary": [
           {
            "marker": {
             "colorbar": {
              "outlinewidth": 0,
              "ticks": ""
             }
            },
            "type": "scatterternary"
           }
          ],
          "surface": [
           {
            "colorbar": {
             "outlinewidth": 0,
             "ticks": ""
            },
            "colorscale": [
             [
              0,
              "#0d0887"
             ],
             [
              0.1111111111111111,
              "#46039f"
             ],
             [
              0.2222222222222222,
              "#7201a8"
             ],
             [
              0.3333333333333333,
              "#9c179e"
             ],
             [
              0.4444444444444444,
              "#bd3786"
             ],
             [
              0.5555555555555556,
              "#d8576b"
             ],
             [
              0.6666666666666666,
              "#ed7953"
             ],
             [
              0.7777777777777778,
              "#fb9f3a"
             ],
             [
              0.8888888888888888,
              "#fdca26"
             ],
             [
              1,
              "#f0f921"
             ]
            ],
            "type": "surface"
           }
          ],
          "table": [
           {
            "cells": {
             "fill": {
              "color": "#EBF0F8"
             },
             "line": {
              "color": "white"
             }
            },
            "header": {
             "fill": {
              "color": "#C8D4E3"
             },
             "line": {
              "color": "white"
             }
            },
            "type": "table"
           }
          ]
         },
         "layout": {
          "annotationdefaults": {
           "arrowcolor": "#2a3f5f",
           "arrowhead": 0,
           "arrowwidth": 1
          },
          "autotypenumbers": "strict",
          "coloraxis": {
           "colorbar": {
            "outlinewidth": 0,
            "ticks": ""
           }
          },
          "colorscale": {
           "diverging": [
            [
             0,
             "#8e0152"
            ],
            [
             0.1,
             "#c51b7d"
            ],
            [
             0.2,
             "#de77ae"
            ],
            [
             0.3,
             "#f1b6da"
            ],
            [
             0.4,
             "#fde0ef"
            ],
            [
             0.5,
             "#f7f7f7"
            ],
            [
             0.6,
             "#e6f5d0"
            ],
            [
             0.7,
             "#b8e186"
            ],
            [
             0.8,
             "#7fbc41"
            ],
            [
             0.9,
             "#4d9221"
            ],
            [
             1,
             "#276419"
            ]
           ],
           "sequential": [
            [
             0,
             "#0d0887"
            ],
            [
             0.1111111111111111,
             "#46039f"
            ],
            [
             0.2222222222222222,
             "#7201a8"
            ],
            [
             0.3333333333333333,
             "#9c179e"
            ],
            [
             0.4444444444444444,
             "#bd3786"
            ],
            [
             0.5555555555555556,
             "#d8576b"
            ],
            [
             0.6666666666666666,
             "#ed7953"
            ],
            [
             0.7777777777777778,
             "#fb9f3a"
            ],
            [
             0.8888888888888888,
             "#fdca26"
            ],
            [
             1,
             "#f0f921"
            ]
           ],
           "sequentialminus": [
            [
             0,
             "#0d0887"
            ],
            [
             0.1111111111111111,
             "#46039f"
            ],
            [
             0.2222222222222222,
             "#7201a8"
            ],
            [
             0.3333333333333333,
             "#9c179e"
            ],
            [
             0.4444444444444444,
             "#bd3786"
            ],
            [
             0.5555555555555556,
             "#d8576b"
            ],
            [
             0.6666666666666666,
             "#ed7953"
            ],
            [
             0.7777777777777778,
             "#fb9f3a"
            ],
            [
             0.8888888888888888,
             "#fdca26"
            ],
            [
             1,
             "#f0f921"
            ]
           ]
          },
          "colorway": [
           "#636efa",
           "#EF553B",
           "#00cc96",
           "#ab63fa",
           "#FFA15A",
           "#19d3f3",
           "#FF6692",
           "#B6E880",
           "#FF97FF",
           "#FECB52"
          ],
          "font": {
           "color": "#2a3f5f"
          },
          "geo": {
           "bgcolor": "white",
           "lakecolor": "white",
           "landcolor": "#E5ECF6",
           "showlakes": true,
           "showland": true,
           "subunitcolor": "white"
          },
          "hoverlabel": {
           "align": "left"
          },
          "hovermode": "closest",
          "mapbox": {
           "style": "light"
          },
          "paper_bgcolor": "white",
          "plot_bgcolor": "#E5ECF6",
          "polar": {
           "angularaxis": {
            "gridcolor": "white",
            "linecolor": "white",
            "ticks": ""
           },
           "bgcolor": "#E5ECF6",
           "radialaxis": {
            "gridcolor": "white",
            "linecolor": "white",
            "ticks": ""
           }
          },
          "scene": {
           "xaxis": {
            "backgroundcolor": "#E5ECF6",
            "gridcolor": "white",
            "gridwidth": 2,
            "linecolor": "white",
            "showbackground": true,
            "ticks": "",
            "zerolinecolor": "white"
           },
           "yaxis": {
            "backgroundcolor": "#E5ECF6",
            "gridcolor": "white",
            "gridwidth": 2,
            "linecolor": "white",
            "showbackground": true,
            "ticks": "",
            "zerolinecolor": "white"
           },
           "zaxis": {
            "backgroundcolor": "#E5ECF6",
            "gridcolor": "white",
            "gridwidth": 2,
            "linecolor": "white",
            "showbackground": true,
            "ticks": "",
            "zerolinecolor": "white"
           }
          },
          "shapedefaults": {
           "line": {
            "color": "#2a3f5f"
           }
          },
          "ternary": {
           "aaxis": {
            "gridcolor": "white",
            "linecolor": "white",
            "ticks": ""
           },
           "baxis": {
            "gridcolor": "white",
            "linecolor": "white",
            "ticks": ""
           },
           "bgcolor": "#E5ECF6",
           "caxis": {
            "gridcolor": "white",
            "linecolor": "white",
            "ticks": ""
           }
          },
          "title": {
           "x": 0.05
          },
          "xaxis": {
           "automargin": true,
           "gridcolor": "white",
           "linecolor": "white",
           "ticks": "",
           "title": {
            "standoff": 15
           },
           "zerolinecolor": "white",
           "zerolinewidth": 2
          },
          "yaxis": {
           "automargin": true,
           "gridcolor": "white",
           "linecolor": "white",
           "ticks": "",
           "title": {
            "standoff": 15
           },
           "zerolinecolor": "white",
           "zerolinewidth": 2
          }
         }
        },
        "title": {
         "text": "Values"
        },
        "width": 200,
        "xaxis": {
         "autorange": true,
         "linecolor": "black",
         "linewidth": 2,
         "mirror": true,
         "range": [
          -1,
          1
         ],
         "showline": true,
         "title": {
          "text": "Centralities"
         },
         "type": "category",
         "visible": false
        },
        "yaxis": {
         "autorange": true,
         "dtick": 0.25,
         "linecolor": "black",
         "linewidth": 2,
         "mirror": true,
         "range": [
          -0.972972972972973,
          4.972972972972973
         ],
         "showline": true,
         "side": "right",
         "tick0": 0,
         "ticklabelposition": "outside right",
         "title": {
          "text": ""
         },
         "type": "category"
        }
       }
      },
      "image/png": "[encoded data removed]",
      "text/html": [
       "<div>                            <div id=\"ab457289-089b-47a5-8c3e-cafef8973d14\" class=\"plotly-graph-div\" style=\"height:290px; width:200px;\"></div>            <script type=\"text/javascript\">                require([\"plotly\"], function(Plotly) {                    window.PLOTLYENV=window.PLOTLYENV || {};                                    if (document.getElementById(\"ab457289-089b-47a5-8c3e-cafef8973d14\")) {                    Plotly.newPlot(                        \"ab457289-089b-47a5-8c3e-cafef8973d14\",                        [{\"marker\":{\"color\":[\"#636efa\",\"#EF553B\",\"#00cc96\",\"#ab63fa\",\"#FFA15A\"],\"line\":{\"width\":2},\"symbol\":200,\"size\":20},\"mode\":\"markers\",\"x\":[\"\",\"\",\"\",\"\",\"\"],\"y\":[\"NE\",\"Homo sapiens\",\"Human immunodeficiency virus 1\",\"Human herpesvirus 1 (strain 17)\",\"Human immunodeficiency virus 1<br>Human herpesvirus 3\"],\"type\":\"scatter\"}],                        {\"template\":{\"data\":{\"bar\":[{\"error_x\":{\"color\":\"#2a3f5f\"},\"error_y\":{\"color\":\"#2a3f5f\"},\"marker\":{\"line\":{\"color\":\"#E5ECF6\",\"width\":0.5},\"pattern\":{\"fillmode\":\"overlay\",\"size\":10,\"solidity\":0.2}},\"type\":\"bar\"}],\"barpolar\":[{\"marker\":{\"line\":{\"color\":\"#E5ECF6\",\"width\":0.5},\"pattern\":{\"fillmode\":\"overlay\",\"size\":10,\"solidity\":0.2}},\"type\":\"barpolar\"}],\"carpet\":[{\"aaxis\":{\"endlinecolor\":\"#2a3f5f\",\"gridcolor\":\"white\",\"linecolor\":\"white\",\"minorgridcolor\":\"white\",\"startlinecolor\":\"#2a3f5f\"},\"baxis\":{\"endlinecolor\":\"#2a3f5f\",\"gridcolor\":\"white\",\"linecolor\":\"white\",\"minorgridcolor\":\"white\",\"startlinecolor\":\"#2a3f5f\"},\"type\":\"carpet\"}],\"choropleth\":[{\"colorbar\":{\"outlinewidth\":0,\"ticks\":\"\"},\"type\":\"choropleth\"}],\"contour\":[{\"colorbar\":{\"outlinewidth\":0,\"ticks\":\"\"},\"colorscale\":[[0.0,\"#0d0887\"],[0.1111111111111111,\"#46039f\"],[0.2222222222222222,\"#7201a8\"],[0.3333333333333333,\"#9c179e\"],[0.4444444444444444,\"#bd3786\"],[0.5555555555555556,\"#d8576b\"],[0.6666666666666666,\"#ed7953\"],[0.7777777777777778,\"#fb9f3a\"],[0.8888888888888888,\"#fdca26\"],[1.0,\"#f0f921\"]],\"type\":\"contour\"}],\"contourcarpet\":[{\"colorbar\":{\"outlinewidth\":0,\"ticks\":\"\"},\"type\":\"contourcarpet\"}],\"heatmap\":[{\"colorbar\":{\"outlinewidth\":0,\"ticks\":\"\"},\"colorscale\":[[0.0,\"#0d0887\"],[0.1111111111111111,\"#46039f\"],[0.2222222222222222,\"#7201a8\"],[0.3333333333333333,\"#9c179e\"],[0.4444444444444444,\"#bd3786\"],[0.5555555555555556,\"#d8576b\"],[0.6666666666666666,\"#ed7953\"],[0.7777777777777778,\"#fb9f3a\"],[0.8888888888888888,\"#fdca26\"],[1.0,\"#f0f921\"]],\"type\":\"heatmap\"}],\"heatmapgl\":[{\"colorbar\":{\"outlinewidth\":0,\"ticks\":\"\"},\"colorscale\":[[0.0,\"#0d0887\"],[0.1111111111111111,\"#46039f\"],[0.2222222222222222,\"#7201a8\"],[0.3333333333333333,\"#9c179e\"],[0.4444444444444444,\"#bd3786\"],[0.5555555555555556,\"#d8576b\"],[0.6666666666666666,\"#ed7953\"],[0.7777777777777778,\"#fb9f3a\"],[0.8888888888888888,\"#fdca26\"],[1.0,\"#f0f921\"]],\"type\":\"heatmapgl\"}],\"histogram\":[{\"marker\":{\"pattern\":{\"fillmode\":\"overlay\",\"size\":10,\"solidity\":0.2}},\"type\":\"histogram\"}],\"histogram2d\":[{\"colorbar\":{\"outlinewidth\":0,\"ticks\":\"\"},\"colorscale\":[[0.0,\"#0d0887\"],[0.1111111111111111,\"#46039f\"],[0.2222222222222222,\"#7201a8\"],[0.3333333333333333,\"#9c179e\"],[0.4444444444444444,\"#bd3786\"],[0.5555555555555556,\"#d8576b\"],[0.6666666666666666,\"#ed7953\"],[0.7777777777777778,\"#fb9f3a\"],[0.8888888888888888,\"#fdca26\"],[1.0,\"#f0f921\"]],\"type\":\"histogram2d\"}],\"histogram2dcontour\":[{\"colorbar\":{\"outlinewidth\":0,\"ticks\":\"\"},\"colorscale\":[[0.0,\"#0d0887\"],[0.1111111111111111,\"#46039f\"],[0.2222222222222222,\"#7201a8\"],[0.3333333333333333,\"#9c179e\"],[0.4444444444444444,\"#bd3786\"],[0.5555555555555556,\"#d8576b\"],[0.6666666666666666,\"#ed7953\"],[0.7777777777777778,\"#fb9f3a\"],[0.8888888888888888,\"#fdca26\"],[1.0,\"#f0f921\"]],\"type\":\"histogram2dcontour\"}],\"mesh3d\":[{\"colorbar\":{\"outlinewidth\":0,\"ticks\":\"\"},\"type\":\"mesh3d\"}],\"parcoords\":[{\"line\":{\"colorbar\":{\"outlinewidth\":0,\"ticks\":\"\"}},\"type\":\"parcoords\"}],\"pie\":[{\"automargin\":true,\"type\":\"pie\"}],\"scatter\":[{\"marker\":{\"colorbar\":{\"outlinewidth\":0,\"ticks\":\"\"}},\"type\":\"scatter\"}],\"scatter3d\":[{\"line\":{\"colorbar\":{\"outlinewidth\":0,\"ticks\":\"\"}},\"marker\":{\"colorbar\":{\"outlinewidth\":0,\"ticks\":\"\"}},\"type\":\"scatter3d\"}],\"scattercarpet\":[{\"marker\":{\"colorbar\":{\"outlinewidth\":0,\"ticks\":\"\"}},\"type\":\"scattercarpet\"}],\"scattergeo\":[{\"marker\":{\"colorbar\":{\"outlinewidth\":0,\"ticks\":\"\"}},\"type\":\"scattergeo\"}],\"scattergl\":[{\"marker\":{\"colorbar\":{\"outlinewidth\":0,\"ticks\":\"\"}},\"type\":\"scattergl\"}],\"scattermapbox\":[{\"marker\":{\"colorbar\":{\"outlinewidth\":0,\"ticks\":\"\"}},\"type\":\"scattermapbox\"}],\"scatterpolar\":[{\"marker\":{\"colorbar\":{\"outlinewidth\":0,\"ticks\":\"\"}},\"type\":\"scatterpolar\"}],\"scatterpolargl\":[{\"marker\":{\"colorbar\":{\"outlinewidth\":0,\"ticks\":\"\"}},\"type\":\"scatterpolargl\"}],\"scatterternary\":[{\"marker\":{\"colorbar\":{\"outlinewidth\":0,\"ticks\":\"\"}},\"type\":\"scatterternary\"}],\"surface\":[{\"colorbar\":{\"outlinewidth\":0,\"ticks\":\"\"},\"colorscale\":[[0.0,\"#0d0887\"],[0.1111111111111111,\"#46039f\"],[0.2222222222222222,\"#7201a8\"],[0.3333333333333333,\"#9c179e\"],[0.4444444444444444,\"#bd3786\"],[0.5555555555555556,\"#d8576b\"],[0.6666666666666666,\"#ed7953\"],[0.7777777777777778,\"#fb9f3a\"],[0.8888888888888888,\"#fdca26\"],[1.0,\"#f0f921\"]],\"type\":\"surface\"}],\"table\":[{\"cells\":{\"fill\":{\"color\":\"#EBF0F8\"},\"line\":{\"color\":\"white\"}},\"header\":{\"fill\":{\"color\":\"#C8D4E3\"},\"line\":{\"color\":\"white\"}},\"type\":\"table\"}]},\"layout\":{\"annotationdefaults\":{\"arrowcolor\":\"#2a3f5f\",\"arrowhead\":0,\"arrowwidth\":1},\"autotypenumbers\":\"strict\",\"coloraxis\":{\"colorbar\":{\"outlinewidth\":0,\"ticks\":\"\"}},\"colorscale\":{\"diverging\":[[0,\"#8e0152\"],[0.1,\"#c51b7d\"],[0.2,\"#de77ae\"],[0.3,\"#f1b6da\"],[0.4,\"#fde0ef\"],[0.5,\"#f7f7f7\"],[0.6,\"#e6f5d0\"],[0.7,\"#b8e186\"],[0.8,\"#7fbc41\"],[0.9,\"#4d9221\"],[1,\"#276419\"]],\"sequential\":[[0.0,\"#0d0887\"],[0.1111111111111111,\"#46039f\"],[0.2222222222222222,\"#7201a8\"],[0.3333333333333333,\"#9c179e\"],[0.4444444444444444,\"#bd3786\"],[0.5555555555555556,\"#d8576b\"],[0.6666666666666666,\"#ed7953\"],[0.7777777777777778,\"#fb9f3a\"],[0.8888888888888888,\"#fdca26\"],[1.0,\"#f0f921\"]],\"sequentialminus\":[[0.0,\"#0d0887\"],[0.1111111111111111,\"#46039f\"],[0.2222222222222222,\"#7201a8\"],[0.3333333333333333,\"#9c179e\"],[0.4444444444444444,\"#bd3786\"],[0.5555555555555556,\"#d8576b\"],[0.6666666666666666,\"#ed7953\"],[0.7777777777777778,\"#fb9f3a\"],[0.8888888888888888,\"#fdca26\"],[1.0,\"#f0f921\"]]},\"colorway\":[\"#636efa\",\"#EF553B\",\"#00cc96\",\"#ab63fa\",\"#FFA15A\",\"#19d3f3\",\"#FF6692\",\"#B6E880\",\"#FF97FF\",\"#FECB52\"],\"font\":{\"color\":\"#2a3f5f\"},\"geo\":{\"bgcolor\":\"white\",\"lakecolor\":\"white\",\"landcolor\":\"#E5ECF6\",\"showlakes\":true,\"showland\":true,\"subunitcolor\":\"white\"},\"hoverlabel\":{\"align\":\"left\"},\"hovermode\":\"closest\",\"mapbox\":{\"style\":\"light\"},\"paper_bgcolor\":\"white\",\"plot_bgcolor\":\"#E5ECF6\",\"polar\":{\"angularaxis\":{\"gridcolor\":\"white\",\"linecolor\":\"white\",\"ticks\":\"\"},\"bgcolor\":\"#E5ECF6\",\"radialaxis\":{\"gridcolor\":\"white\",\"linecolor\":\"white\",\"ticks\":\"\"}},\"scene\":{\"xaxis\":{\"backgroundcolor\":\"#E5ECF6\",\"gridcolor\":\"white\",\"gridwidth\":2,\"linecolor\":\"white\",\"showbackground\":true,\"ticks\":\"\",\"zerolinecolor\":\"white\"},\"yaxis\":{\"backgroundcolor\":\"#E5ECF6\",\"gridcolor\":\"white\",\"gridwidth\":2,\"linecolor\":\"white\",\"showbackground\":true,\"ticks\":\"\",\"zerolinecolor\":\"white\"},\"zaxis\":{\"backgroundcolor\":\"#E5ECF6\",\"gridcolor\":\"white\",\"gridwidth\":2,\"linecolor\":\"white\",\"showbackground\":true,\"ticks\":\"\",\"zerolinecolor\":\"white\"}},\"shapedefaults\":{\"line\":{\"color\":\"#2a3f5f\"}},\"ternary\":{\"aaxis\":{\"gridcolor\":\"white\",\"linecolor\":\"white\",\"ticks\":\"\"},\"baxis\":{\"gridcolor\":\"white\",\"linecolor\":\"white\",\"ticks\":\"\"},\"bgcolor\":\"#E5ECF6\",\"caxis\":{\"gridcolor\":\"white\",\"linecolor\":\"white\",\"ticks\":\"\"}},\"title\":{\"x\":0.05},\"xaxis\":{\"automargin\":true,\"gridcolor\":\"white\",\"linecolor\":\"white\",\"ticks\":\"\",\"title\":{\"standoff\":15},\"zerolinecolor\":\"white\",\"zerolinewidth\":2},\"yaxis\":{\"automargin\":true,\"gridcolor\":\"white\",\"linecolor\":\"white\",\"ticks\":\"\",\"title\":{\"standoff\":15},\"zerolinecolor\":\"white\",\"zerolinewidth\":2}}},\"xaxis\":{\"visible\":false,\"showline\":true,\"linewidth\":2,\"linecolor\":\"black\",\"mirror\":true,\"title\":{\"text\":\"Centralities\"}},\"yaxis\":{\"ticklabelposition\":\"outside right\",\"side\":\"right\",\"tick0\":0,\"dtick\":0.25,\"showline\":true,\"linewidth\":2,\"linecolor\":\"black\",\"mirror\":true,\"title\":{\"text\":\"\"}},\"showlegend\":false,\"title\":{\"text\":\"Values\"},\"autosize\":false,\"width\":200,\"height\":290,\"plot_bgcolor\":\"rgba(0,0,0,0)\"},                        {\"responsive\": true}                    ).then(function(){\n",
       "                            \n",
       "var gd = document.getElementById('ab457289-089b-47a5-8c3e-cafef8973d14');\n",
       "var x = new MutationObserver(function (mutations, observer) {{\n",
       "        var display = window.getComputedStyle(gd).display;\n",
       "        if (!display || display === 'none') {{\n",
       "            console.log([gd, 'removed!']);\n",
       "            Plotly.purge(gd);\n",
       "            observer.disconnect();\n",
       "        }}\n",
       "}});\n",
       "\n",
       "// Listen for the removal of the full notebook cells\n",
       "var notebookContainer = gd.closest('#notebook-container');\n",
       "if (notebookContainer) {{\n",
       "    x.observe(notebookContainer, {childList: true});\n",
       "}}\n",
       "\n",
       "// Listen for the clearing of the current output cell\n",
       "var outputEl = gd.closest('.output');\n",
       "if (outputEl) {{\n",
       "    x.observe(outputEl, {childList: true});\n",
       "}}\n",
       "\n",
       "                        })                };                });            </script>        </div>"
      ]
     },
     "metadata": {},
     "output_type": "display_data"
    }
   ],
   "source": [
    "x = []\n",
    "y = []\n",
    "colors = []\n",
    "\n",
    "for i in range(len(fig_dots['data'])):\n",
    "    # print(i)\n",
    "    legendgroup = fig_dots['data'][i]['legendgroup']\n",
    "    color = fig_dots['data'][i]['marker']['color']\n",
    "    # print(legendgroup, color)\n",
    "    x.append('')\n",
    "    y.append(legendgroup)\n",
    "    colors.append(color)\n",
    "\n",
    "# fig = px.scatter(x=x, y=y, color=colors)\n",
    "\n",
    "import plotly.graph_objects as go\n",
    "\n",
    "fig = go.Figure(data=go.Scatter(\n",
    "    x=x,\n",
    "    y=y,\n",
    "    mode='markers',\n",
    "    marker=dict(color=colors, \n",
    "                # size=[40, 60, 80, 100]\n",
    "               )\n",
    "))\n",
    "\n",
    "# fig.show()\n",
    "\n",
    "fig.update_traces(\n",
    "    mode='markers'\n",
    "                  , marker_symbol = 200, \n",
    "                  marker_line_width=2, \n",
    "                  # marker_line_color='rgba(0, 0, 0, 1)'\n",
    "                 )\n",
    "\n",
    "# fig.update_traces(marker=dict(color='lightgray'))\n",
    "\n",
    "fig.update_xaxes(visible=False)\n",
    "fig.update_yaxes(ticklabelposition=\"outside right\", side= 'right')\n",
    "fig.update_yaxes(tick0=0, dtick=0.25)\n",
    "\n",
    "\n",
    "fig.update_layout(showlegend=False)\n",
    "fig.update_traces(marker_size=20)\n",
    "\n",
    "fig.update_xaxes(showline=True, linewidth=2, linecolor='black', mirror=True)\n",
    "fig.update_yaxes(showline=True, linewidth=2, linecolor='black', mirror=True)\n",
    "\n",
    "\n",
    "fig.update_layout(\n",
    "    title=f'Values',\n",
    "    autosize=False,\n",
    "    width=200,\n",
    "    height=290,\n",
    "    # paper_bgcolor='rgba(0,0,0,0)',\n",
    "    plot_bgcolor='rgba(0,0,0,0)',\n",
    "    xaxis=dict(\n",
    "        title=\"Centralities\"\n",
    "    ),\n",
    "    yaxis=dict(\n",
    "        title=\"\"\n",
    "    )\n",
    "    )\n",
    "\n",
    "fig_legend = fig\n",
    "fig_legend"
   ]
  },
  {
   "cell_type": "code",
   "execution_count": 64,
   "id": "754bc9ff-f5c4-4322-9828-9cb12f31bfe0",
   "metadata": {},
   "outputs": [
    {
     "data": {
      "application/vnd.plotly.v1+json": {
       "config": {
        "plotlyServerURL": "https://plot.ly"
       },
       "data": [
        {
         "hovertemplate": "x=%{x}<br>y=%{y}<br>size=%{marker.size}<extra></extra>",
         "legendgroup": "",
         "marker": {
          "color": "lightgray",
          "line": {
           "color": "rgba(0, 0, 0, 1)",
           "width": 2
          },
          "size": [
           0,
           0.25,
           0.5,
           0.75,
           1
          ],
          "sizemode": "area",
          "sizeref": 0.0025,
          "symbol": 200
         },
         "mode": "markers",
         "name": "",
         "orientation": "v",
         "showlegend": false,
         "type": "scatter",
         "x": [
          "",
          "",
          "",
          "",
          ""
         ],
         "xaxis": "x",
         "y": [
          0,
          0.25,
          0.5,
          0.75,
          1
         ],
         "yaxis": "y"
        }
       ],
       "layout": {
        "autosize": false,
        "height": 290,
        "legend": {
         "itemsizing": "constant",
         "tracegroupgap": 0
        },
        "margin": {
         "t": 60
        },
        "plot_bgcolor": "rgba(0, 0, 0, 0)",
        "template": {
         "data": {
          "bar": [
           {
            "error_x": {
             "color": "#2a3f5f"
            },
            "error_y": {
             "color": "#2a3f5f"
            },
            "marker": {
             "line": {
              "color": "#E5ECF6",
              "width": 0.5
             },
             "pattern": {
              "fillmode": "overlay",
              "size": 10,
              "solidity": 0.2
             }
            },
            "type": "bar"
           }
          ],
          "barpolar": [
           {
            "marker": {
             "line": {
              "color": "#E5ECF6",
              "width": 0.5
             },
             "pattern": {
              "fillmode": "overlay",
              "size": 10,
              "solidity": 0.2
             }
            },
            "type": "barpolar"
           }
          ],
          "carpet": [
           {
            "aaxis": {
             "endlinecolor": "#2a3f5f",
             "gridcolor": "white",
             "linecolor": "white",
             "minorgridcolor": "white",
             "startlinecolor": "#2a3f5f"
            },
            "baxis": {
             "endlinecolor": "#2a3f5f",
             "gridcolor": "white",
             "linecolor": "white",
             "minorgridcolor": "white",
             "startlinecolor": "#2a3f5f"
            },
            "type": "carpet"
           }
          ],
          "choropleth": [
           {
            "colorbar": {
             "outlinewidth": 0,
             "ticks": ""
            },
            "type": "choropleth"
           }
          ],
          "contour": [
           {
            "colorbar": {
             "outlinewidth": 0,
             "ticks": ""
            },
            "colorscale": [
             [
              0,
              "#0d0887"
             ],
             [
              0.1111111111111111,
              "#46039f"
             ],
             [
              0.2222222222222222,
              "#7201a8"
             ],
             [
              0.3333333333333333,
              "#9c179e"
             ],
             [
              0.4444444444444444,
              "#bd3786"
             ],
             [
              0.5555555555555556,
              "#d8576b"
             ],
             [
              0.6666666666666666,
              "#ed7953"
             ],
             [
              0.7777777777777778,
              "#fb9f3a"
             ],
             [
              0.8888888888888888,
              "#fdca26"
             ],
             [
              1,
              "#f0f921"
             ]
            ],
            "type": "contour"
           }
          ],
          "contourcarpet": [
           {
            "colorbar": {
             "outlinewidth": 0,
             "ticks": ""
            },
            "type": "contourcarpet"
           }
          ],
          "heatmap": [
           {
            "colorbar": {
             "outlinewidth": 0,
             "ticks": ""
            },
            "colorscale": [
             [
              0,
              "#0d0887"
             ],
             [
              0.1111111111111111,
              "#46039f"
             ],
             [
              0.2222222222222222,
              "#7201a8"
             ],
             [
              0.3333333333333333,
              "#9c179e"
             ],
             [
              0.4444444444444444,
              "#bd3786"
             ],
             [
              0.5555555555555556,
              "#d8576b"
             ],
             [
              0.6666666666666666,
              "#ed7953"
             ],
             [
              0.7777777777777778,
              "#fb9f3a"
             ],
             [
              0.8888888888888888,
              "#fdca26"
             ],
             [
              1,
              "#f0f921"
             ]
            ],
            "type": "heatmap"
           }
          ],
          "heatmapgl": [
           {
            "colorbar": {
             "outlinewidth": 0,
             "ticks": ""
            },
            "colorscale": [
             [
              0,
              "#0d0887"
             ],
             [
              0.1111111111111111,
              "#46039f"
             ],
             [
              0.2222222222222222,
              "#7201a8"
             ],
             [
              0.3333333333333333,
              "#9c179e"
             ],
             [
              0.4444444444444444,
              "#bd3786"
             ],
             [
              0.5555555555555556,
              "#d8576b"
             ],
             [
              0.6666666666666666,
              "#ed7953"
             ],
             [
              0.7777777777777778,
              "#fb9f3a"
             ],
             [
              0.8888888888888888,
              "#fdca26"
             ],
             [
              1,
              "#f0f921"
             ]
            ],
            "type": "heatmapgl"
           }
          ],
          "histogram": [
           {
            "marker": {
             "pattern": {
              "fillmode": "overlay",
              "size": 10,
              "solidity": 0.2
             }
            },
            "type": "histogram"
           }
          ],
          "histogram2d": [
           {
            "colorbar": {
             "outlinewidth": 0,
             "ticks": ""
            },
            "colorscale": [
             [
              0,
              "#0d0887"
             ],
             [
              0.1111111111111111,
              "#46039f"
             ],
             [
              0.2222222222222222,
              "#7201a8"
             ],
             [
              0.3333333333333333,
              "#9c179e"
             ],
             [
              0.4444444444444444,
              "#bd3786"
             ],
             [
              0.5555555555555556,
              "#d8576b"
             ],
             [
              0.6666666666666666,
              "#ed7953"
             ],
             [
              0.7777777777777778,
              "#fb9f3a"
             ],
             [
              0.8888888888888888,
              "#fdca26"
             ],
             [
              1,
              "#f0f921"
             ]
            ],
            "type": "histogram2d"
           }
          ],
          "histogram2dcontour": [
           {
            "colorbar": {
             "outlinewidth": 0,
             "ticks": ""
            },
            "colorscale": [
             [
              0,
              "#0d0887"
             ],
             [
              0.1111111111111111,
              "#46039f"
             ],
             [
              0.2222222222222222,
              "#7201a8"
             ],
             [
              0.3333333333333333,
              "#9c179e"
             ],
             [
              0.4444444444444444,
              "#bd3786"
             ],
             [
              0.5555555555555556,
              "#d8576b"
             ],
             [
              0.6666666666666666,
              "#ed7953"
             ],
             [
              0.7777777777777778,
              "#fb9f3a"
             ],
             [
              0.8888888888888888,
              "#fdca26"
             ],
             [
              1,
              "#f0f921"
             ]
            ],
            "type": "histogram2dcontour"
           }
          ],
          "mesh3d": [
           {
            "colorbar": {
             "outlinewidth": 0,
             "ticks": ""
            },
            "type": "mesh3d"
           }
          ],
          "parcoords": [
           {
            "line": {
             "colorbar": {
              "outlinewidth": 0,
              "ticks": ""
             }
            },
            "type": "parcoords"
           }
          ],
          "pie": [
           {
            "automargin": true,
            "type": "pie"
           }
          ],
          "scatter": [
           {
            "marker": {
             "colorbar": {
              "outlinewidth": 0,
              "ticks": ""
             }
            },
            "type": "scatter"
           }
          ],
          "scatter3d": [
           {
            "line": {
             "colorbar": {
              "outlinewidth": 0,
              "ticks": ""
             }
            },
            "marker": {
             "colorbar": {
              "outlinewidth": 0,
              "ticks": ""
             }
            },
            "type": "scatter3d"
           }
          ],
          "scattercarpet": [
           {
            "marker": {
             "colorbar": {
              "outlinewidth": 0,
              "ticks": ""
             }
            },
            "type": "scattercarpet"
           }
          ],
          "scattergeo": [
           {
            "marker": {
             "colorbar": {
              "outlinewidth": 0,
              "ticks": ""
             }
            },
            "type": "scattergeo"
           }
          ],
          "scattergl": [
           {
            "marker": {
             "colorbar": {
              "outlinewidth": 0,
              "ticks": ""
             }
            },
            "type": "scattergl"
           }
          ],
          "scattermapbox": [
           {
            "marker": {
             "colorbar": {
              "outlinewidth": 0,
              "ticks": ""
             }
            },
            "type": "scattermapbox"
           }
          ],
          "scatterpolar": [
           {
            "marker": {
             "colorbar": {
              "outlinewidth": 0,
              "ticks": ""
             }
            },
            "type": "scatterpolar"
           }
          ],
          "scatterpolargl": [
           {
            "marker": {
             "colorbar": {
              "outlinewidth": 0,
              "ticks": ""
             }
            },
            "type": "scatterpolargl"
           }
          ],
          "scatterternary": [
           {
            "marker": {
             "colorbar": {
              "outlinewidth": 0,
              "ticks": ""
             }
            },
            "type": "scatterternary"
           }
          ],
          "surface": [
           {
            "colorbar": {
             "outlinewidth": 0,
             "ticks": ""
            },
            "colorscale": [
             [
              0,
              "#0d0887"
             ],
             [
              0.1111111111111111,
              "#46039f"
             ],
             [
              0.2222222222222222,
              "#7201a8"
             ],
             [
              0.3333333333333333,
              "#9c179e"
             ],
             [
              0.4444444444444444,
              "#bd3786"
             ],
             [
              0.5555555555555556,
              "#d8576b"
             ],
             [
              0.6666666666666666,
              "#ed7953"
             ],
             [
              0.7777777777777778,
              "#fb9f3a"
             ],
             [
              0.8888888888888888,
              "#fdca26"
             ],
             [
              1,
              "#f0f921"
             ]
            ],
            "type": "surface"
           }
          ],
          "table": [
           {
            "cells": {
             "fill": {
              "color": "#EBF0F8"
             },
             "line": {
              "color": "white"
             }
            },
            "header": {
             "fill": {
              "color": "#C8D4E3"
             },
             "line": {
              "color": "white"
             }
            },
            "type": "table"
           }
          ]
         },
         "layout": {
          "annotationdefaults": {
           "arrowcolor": "#2a3f5f",
           "arrowhead": 0,
           "arrowwidth": 1
          },
          "autotypenumbers": "strict",
          "coloraxis": {
           "colorbar": {
            "outlinewidth": 0,
            "ticks": ""
           }
          },
          "colorscale": {
           "diverging": [
            [
             0,
             "#8e0152"
            ],
            [
             0.1,
             "#c51b7d"
            ],
            [
             0.2,
             "#de77ae"
            ],
            [
             0.3,
             "#f1b6da"
            ],
            [
             0.4,
             "#fde0ef"
            ],
            [
             0.5,
             "#f7f7f7"
            ],
            [
             0.6,
             "#e6f5d0"
            ],
            [
             0.7,
             "#b8e186"
            ],
            [
             0.8,
             "#7fbc41"
            ],
            [
             0.9,
             "#4d9221"
            ],
            [
             1,
             "#276419"
            ]
           ],
           "sequential": [
            [
             0,
             "#0d0887"
            ],
            [
             0.1111111111111111,
             "#46039f"
            ],
            [
             0.2222222222222222,
             "#7201a8"
            ],
            [
             0.3333333333333333,
             "#9c179e"
            ],
            [
             0.4444444444444444,
             "#bd3786"
            ],
            [
             0.5555555555555556,
             "#d8576b"
            ],
            [
             0.6666666666666666,
             "#ed7953"
            ],
            [
             0.7777777777777778,
             "#fb9f3a"
            ],
            [
             0.8888888888888888,
             "#fdca26"
            ],
            [
             1,
             "#f0f921"
            ]
           ],
           "sequentialminus": [
            [
             0,
             "#0d0887"
            ],
            [
             0.1111111111111111,
             "#46039f"
            ],
            [
             0.2222222222222222,
             "#7201a8"
            ],
            [
             0.3333333333333333,
             "#9c179e"
            ],
            [
             0.4444444444444444,
             "#bd3786"
            ],
            [
             0.5555555555555556,
             "#d8576b"
            ],
            [
             0.6666666666666666,
             "#ed7953"
            ],
            [
             0.7777777777777778,
             "#fb9f3a"
            ],
            [
             0.8888888888888888,
             "#fdca26"
            ],
            [
             1,
             "#f0f921"
            ]
           ]
          },
          "colorway": [
           "#636efa",
           "#EF553B",
           "#00cc96",
           "#ab63fa",
           "#FFA15A",
           "#19d3f3",
           "#FF6692",
           "#B6E880",
           "#FF97FF",
           "#FECB52"
          ],
          "font": {
           "color": "#2a3f5f"
          },
          "geo": {
           "bgcolor": "white",
           "lakecolor": "white",
           "landcolor": "#E5ECF6",
           "showlakes": true,
           "showland": true,
           "subunitcolor": "white"
          },
          "hoverlabel": {
           "align": "left"
          },
          "hovermode": "closest",
          "mapbox": {
           "style": "light"
          },
          "paper_bgcolor": "white",
          "plot_bgcolor": "#E5ECF6",
          "polar": {
           "angularaxis": {
            "gridcolor": "white",
            "linecolor": "white",
            "ticks": ""
           },
           "bgcolor": "#E5ECF6",
           "radialaxis": {
            "gridcolor": "white",
            "linecolor": "white",
            "ticks": ""
           }
          },
          "scene": {
           "xaxis": {
            "backgroundcolor": "#E5ECF6",
            "gridcolor": "white",
            "gridwidth": 2,
            "linecolor": "white",
            "showbackground": true,
            "ticks": "",
            "zerolinecolor": "white"
           },
           "yaxis": {
            "backgroundcolor": "#E5ECF6",
            "gridcolor": "white",
            "gridwidth": 2,
            "linecolor": "white",
            "showbackground": true,
            "ticks": "",
            "zerolinecolor": "white"
           },
           "zaxis": {
            "backgroundcolor": "#E5ECF6",
            "gridcolor": "white",
            "gridwidth": 2,
            "linecolor": "white",
            "showbackground": true,
            "ticks": "",
            "zerolinecolor": "white"
           }
          },
          "shapedefaults": {
           "line": {
            "color": "#2a3f5f"
           }
          },
          "ternary": {
           "aaxis": {
            "gridcolor": "white",
            "linecolor": "white",
            "ticks": ""
           },
           "baxis": {
            "gridcolor": "white",
            "linecolor": "white",
            "ticks": ""
           },
           "bgcolor": "#E5ECF6",
           "caxis": {
            "gridcolor": "white",
            "linecolor": "white",
            "ticks": ""
           }
          },
          "title": {
           "x": 0.05
          },
          "xaxis": {
           "automargin": true,
           "gridcolor": "white",
           "linecolor": "white",
           "ticks": "",
           "title": {
            "standoff": 15
           },
           "zerolinecolor": "white",
           "zerolinewidth": 2
          },
          "yaxis": {
           "automargin": true,
           "gridcolor": "white",
           "linecolor": "white",
           "ticks": "",
           "title": {
            "standoff": 15
           },
           "zerolinecolor": "white",
           "zerolinewidth": 2
          }
         }
        },
        "title": {
         "text": "Values"
        },
        "width": 200,
        "xaxis": {
         "anchor": "y",
         "autorange": true,
         "domain": [
          0,
          1
         ],
         "dtick": 0,
         "linecolor": "black",
         "linewidth": 2,
         "mirror": true,
         "range": [
          -1,
          1
         ],
         "showline": true,
         "tick0": 0,
         "title": {
          "text": "Centralities"
         },
         "type": "category",
         "visible": false
        },
        "yaxis": {
         "anchor": "x",
         "autorange": true,
         "domain": [
          0,
          1
         ],
         "dtick": 0.25,
         "linecolor": "black",
         "linewidth": 2,
         "mirror": true,
         "range": [
          -0.09037030261784326,
          1.2006340204942032
         ],
         "showline": true,
         "side": "right",
         "tick0": 0,
         "ticklabelposition": "outside right",
         "title": {
          "text": ""
         },
         "type": "linear"
        }
       }
      },
      "image/png": "[encoded data removed]",
      "text/html": [
       "<div>                            <div id=\"1fc585e8-edf0-4875-8cbb-59a075082543\" class=\"plotly-graph-div\" style=\"height:290px; width:200px;\"></div>            <script type=\"text/javascript\">                require([\"plotly\"], function(Plotly) {                    window.PLOTLYENV=window.PLOTLYENV || {};                                    if (document.getElementById(\"1fc585e8-edf0-4875-8cbb-59a075082543\")) {                    Plotly.newPlot(                        \"1fc585e8-edf0-4875-8cbb-59a075082543\",                        [{\"hovertemplate\":\"x=%{x}<br>y=%{y}<br>size=%{marker.size}<extra></extra>\",\"legendgroup\":\"\",\"marker\":{\"color\":\"lightgray\",\"size\":[0.0,0.25,0.5,0.75,1.0],\"sizemode\":\"area\",\"sizeref\":0.0025,\"symbol\":200,\"line\":{\"color\":\"rgba(0, 0, 0, 1)\",\"width\":2}},\"mode\":\"markers\",\"name\":\"\",\"orientation\":\"v\",\"showlegend\":false,\"x\":[\"\",\"\",\"\",\"\",\"\"],\"xaxis\":\"x\",\"y\":[0.0,0.25,0.5,0.75,1.0],\"yaxis\":\"y\",\"type\":\"scatter\"}],                        {\"template\":{\"data\":{\"bar\":[{\"error_x\":{\"color\":\"#2a3f5f\"},\"error_y\":{\"color\":\"#2a3f5f\"},\"marker\":{\"line\":{\"color\":\"#E5ECF6\",\"width\":0.5},\"pattern\":{\"fillmode\":\"overlay\",\"size\":10,\"solidity\":0.2}},\"type\":\"bar\"}],\"barpolar\":[{\"marker\":{\"line\":{\"color\":\"#E5ECF6\",\"width\":0.5},\"pattern\":{\"fillmode\":\"overlay\",\"size\":10,\"solidity\":0.2}},\"type\":\"barpolar\"}],\"carpet\":[{\"aaxis\":{\"endlinecolor\":\"#2a3f5f\",\"gridcolor\":\"white\",\"linecolor\":\"white\",\"minorgridcolor\":\"white\",\"startlinecolor\":\"#2a3f5f\"},\"baxis\":{\"endlinecolor\":\"#2a3f5f\",\"gridcolor\":\"white\",\"linecolor\":\"white\",\"minorgridcolor\":\"white\",\"startlinecolor\":\"#2a3f5f\"},\"type\":\"carpet\"}],\"choropleth\":[{\"colorbar\":{\"outlinewidth\":0,\"ticks\":\"\"},\"type\":\"choropleth\"}],\"contour\":[{\"colorbar\":{\"outlinewidth\":0,\"ticks\":\"\"},\"colorscale\":[[0.0,\"#0d0887\"],[0.1111111111111111,\"#46039f\"],[0.2222222222222222,\"#7201a8\"],[0.3333333333333333,\"#9c179e\"],[0.4444444444444444,\"#bd3786\"],[0.5555555555555556,\"#d8576b\"],[0.6666666666666666,\"#ed7953\"],[0.7777777777777778,\"#fb9f3a\"],[0.8888888888888888,\"#fdca26\"],[1.0,\"#f0f921\"]],\"type\":\"contour\"}],\"contourcarpet\":[{\"colorbar\":{\"outlinewidth\":0,\"ticks\":\"\"},\"type\":\"contourcarpet\"}],\"heatmap\":[{\"colorbar\":{\"outlinewidth\":0,\"ticks\":\"\"},\"colorscale\":[[0.0,\"#0d0887\"],[0.1111111111111111,\"#46039f\"],[0.2222222222222222,\"#7201a8\"],[0.3333333333333333,\"#9c179e\"],[0.4444444444444444,\"#bd3786\"],[0.5555555555555556,\"#d8576b\"],[0.6666666666666666,\"#ed7953\"],[0.7777777777777778,\"#fb9f3a\"],[0.8888888888888888,\"#fdca26\"],[1.0,\"#f0f921\"]],\"type\":\"heatmap\"}],\"heatmapgl\":[{\"colorbar\":{\"outlinewidth\":0,\"ticks\":\"\"},\"colorscale\":[[0.0,\"#0d0887\"],[0.1111111111111111,\"#46039f\"],[0.2222222222222222,\"#7201a8\"],[0.3333333333333333,\"#9c179e\"],[0.4444444444444444,\"#bd3786\"],[0.5555555555555556,\"#d8576b\"],[0.6666666666666666,\"#ed7953\"],[0.7777777777777778,\"#fb9f3a\"],[0.8888888888888888,\"#fdca26\"],[1.0,\"#f0f921\"]],\"type\":\"heatmapgl\"}],\"histogram\":[{\"marker\":{\"pattern\":{\"fillmode\":\"overlay\",\"size\":10,\"solidity\":0.2}},\"type\":\"histogram\"}],\"histogram2d\":[{\"colorbar\":{\"outlinewidth\":0,\"ticks\":\"\"},\"colorscale\":[[0.0,\"#0d0887\"],[0.1111111111111111,\"#46039f\"],[0.2222222222222222,\"#7201a8\"],[0.3333333333333333,\"#9c179e\"],[0.4444444444444444,\"#bd3786\"],[0.5555555555555556,\"#d8576b\"],[0.6666666666666666,\"#ed7953\"],[0.7777777777777778,\"#fb9f3a\"],[0.8888888888888888,\"#fdca26\"],[1.0,\"#f0f921\"]],\"type\":\"histogram2d\"}],\"histogram2dcontour\":[{\"colorbar\":{\"outlinewidth\":0,\"ticks\":\"\"},\"colorscale\":[[0.0,\"#0d0887\"],[0.1111111111111111,\"#46039f\"],[0.2222222222222222,\"#7201a8\"],[0.3333333333333333,\"#9c179e\"],[0.4444444444444444,\"#bd3786\"],[0.5555555555555556,\"#d8576b\"],[0.6666666666666666,\"#ed7953\"],[0.7777777777777778,\"#fb9f3a\"],[0.8888888888888888,\"#fdca26\"],[1.0,\"#f0f921\"]],\"type\":\"histogram2dcontour\"}],\"mesh3d\":[{\"colorbar\":{\"outlinewidth\":0,\"ticks\":\"\"},\"type\":\"mesh3d\"}],\"parcoords\":[{\"line\":{\"colorbar\":{\"outlinewidth\":0,\"ticks\":\"\"}},\"type\":\"parcoords\"}],\"pie\":[{\"automargin\":true,\"type\":\"pie\"}],\"scatter\":[{\"marker\":{\"colorbar\":{\"outlinewidth\":0,\"ticks\":\"\"}},\"type\":\"scatter\"}],\"scatter3d\":[{\"line\":{\"colorbar\":{\"outlinewidth\":0,\"ticks\":\"\"}},\"marker\":{\"colorbar\":{\"outlinewidth\":0,\"ticks\":\"\"}},\"type\":\"scatter3d\"}],\"scattercarpet\":[{\"marker\":{\"colorbar\":{\"outlinewidth\":0,\"ticks\":\"\"}},\"type\":\"scattercarpet\"}],\"scattergeo\":[{\"marker\":{\"colorbar\":{\"outlinewidth\":0,\"ticks\":\"\"}},\"type\":\"scattergeo\"}],\"scattergl\":[{\"marker\":{\"colorbar\":{\"outlinewidth\":0,\"ticks\":\"\"}},\"type\":\"scattergl\"}],\"scattermapbox\":[{\"marker\":{\"colorbar\":{\"outlinewidth\":0,\"ticks\":\"\"}},\"type\":\"scattermapbox\"}],\"scatterpolar\":[{\"marker\":{\"colorbar\":{\"outlinewidth\":0,\"ticks\":\"\"}},\"type\":\"scatterpolar\"}],\"scatterpolargl\":[{\"marker\":{\"colorbar\":{\"outlinewidth\":0,\"ticks\":\"\"}},\"type\":\"scatterpolargl\"}],\"scatterternary\":[{\"marker\":{\"colorbar\":{\"outlinewidth\":0,\"ticks\":\"\"}},\"type\":\"scatterternary\"}],\"surface\":[{\"colorbar\":{\"outlinewidth\":0,\"ticks\":\"\"},\"colorscale\":[[0.0,\"#0d0887\"],[0.1111111111111111,\"#46039f\"],[0.2222222222222222,\"#7201a8\"],[0.3333333333333333,\"#9c179e\"],[0.4444444444444444,\"#bd3786\"],[0.5555555555555556,\"#d8576b\"],[0.6666666666666666,\"#ed7953\"],[0.7777777777777778,\"#fb9f3a\"],[0.8888888888888888,\"#fdca26\"],[1.0,\"#f0f921\"]],\"type\":\"surface\"}],\"table\":[{\"cells\":{\"fill\":{\"color\":\"#EBF0F8\"},\"line\":{\"color\":\"white\"}},\"header\":{\"fill\":{\"color\":\"#C8D4E3\"},\"line\":{\"color\":\"white\"}},\"type\":\"table\"}]},\"layout\":{\"annotationdefaults\":{\"arrowcolor\":\"#2a3f5f\",\"arrowhead\":0,\"arrowwidth\":1},\"autotypenumbers\":\"strict\",\"coloraxis\":{\"colorbar\":{\"outlinewidth\":0,\"ticks\":\"\"}},\"colorscale\":{\"diverging\":[[0,\"#8e0152\"],[0.1,\"#c51b7d\"],[0.2,\"#de77ae\"],[0.3,\"#f1b6da\"],[0.4,\"#fde0ef\"],[0.5,\"#f7f7f7\"],[0.6,\"#e6f5d0\"],[0.7,\"#b8e186\"],[0.8,\"#7fbc41\"],[0.9,\"#4d9221\"],[1,\"#276419\"]],\"sequential\":[[0.0,\"#0d0887\"],[0.1111111111111111,\"#46039f\"],[0.2222222222222222,\"#7201a8\"],[0.3333333333333333,\"#9c179e\"],[0.4444444444444444,\"#bd3786\"],[0.5555555555555556,\"#d8576b\"],[0.6666666666666666,\"#ed7953\"],[0.7777777777777778,\"#fb9f3a\"],[0.8888888888888888,\"#fdca26\"],[1.0,\"#f0f921\"]],\"sequentialminus\":[[0.0,\"#0d0887\"],[0.1111111111111111,\"#46039f\"],[0.2222222222222222,\"#7201a8\"],[0.3333333333333333,\"#9c179e\"],[0.4444444444444444,\"#bd3786\"],[0.5555555555555556,\"#d8576b\"],[0.6666666666666666,\"#ed7953\"],[0.7777777777777778,\"#fb9f3a\"],[0.8888888888888888,\"#fdca26\"],[1.0,\"#f0f921\"]]},\"colorway\":[\"#636efa\",\"#EF553B\",\"#00cc96\",\"#ab63fa\",\"#FFA15A\",\"#19d3f3\",\"#FF6692\",\"#B6E880\",\"#FF97FF\",\"#FECB52\"],\"font\":{\"color\":\"#2a3f5f\"},\"geo\":{\"bgcolor\":\"white\",\"lakecolor\":\"white\",\"landcolor\":\"#E5ECF6\",\"showlakes\":true,\"showland\":true,\"subunitcolor\":\"white\"},\"hoverlabel\":{\"align\":\"left\"},\"hovermode\":\"closest\",\"mapbox\":{\"style\":\"light\"},\"paper_bgcolor\":\"white\",\"plot_bgcolor\":\"#E5ECF6\",\"polar\":{\"angularaxis\":{\"gridcolor\":\"white\",\"linecolor\":\"white\",\"ticks\":\"\"},\"bgcolor\":\"#E5ECF6\",\"radialaxis\":{\"gridcolor\":\"white\",\"linecolor\":\"white\",\"ticks\":\"\"}},\"scene\":{\"xaxis\":{\"backgroundcolor\":\"#E5ECF6\",\"gridcolor\":\"white\",\"gridwidth\":2,\"linecolor\":\"white\",\"showbackground\":true,\"ticks\":\"\",\"zerolinecolor\":\"white\"},\"yaxis\":{\"backgroundcolor\":\"#E5ECF6\",\"gridcolor\":\"white\",\"gridwidth\":2,\"linecolor\":\"white\",\"showbackground\":true,\"ticks\":\"\",\"zerolinecolor\":\"white\"},\"zaxis\":{\"backgroundcolor\":\"#E5ECF6\",\"gridcolor\":\"white\",\"gridwidth\":2,\"linecolor\":\"white\",\"showbackground\":true,\"ticks\":\"\",\"zerolinecolor\":\"white\"}},\"shapedefaults\":{\"line\":{\"color\":\"#2a3f5f\"}},\"ternary\":{\"aaxis\":{\"gridcolor\":\"white\",\"linecolor\":\"white\",\"ticks\":\"\"},\"baxis\":{\"gridcolor\":\"white\",\"linecolor\":\"white\",\"ticks\":\"\"},\"bgcolor\":\"#E5ECF6\",\"caxis\":{\"gridcolor\":\"white\",\"linecolor\":\"white\",\"ticks\":\"\"}},\"title\":{\"x\":0.05},\"xaxis\":{\"automargin\":true,\"gridcolor\":\"white\",\"linecolor\":\"white\",\"ticks\":\"\",\"title\":{\"standoff\":15},\"zerolinecolor\":\"white\",\"zerolinewidth\":2},\"yaxis\":{\"automargin\":true,\"gridcolor\":\"white\",\"linecolor\":\"white\",\"ticks\":\"\",\"title\":{\"standoff\":15},\"zerolinecolor\":\"white\",\"zerolinewidth\":2}}},\"xaxis\":{\"anchor\":\"y\",\"domain\":[0.0,1.0],\"title\":{\"text\":\"Centralities\"},\"visible\":false,\"tick0\":0,\"dtick\":0,\"showline\":true,\"linewidth\":2,\"linecolor\":\"black\",\"mirror\":true},\"yaxis\":{\"anchor\":\"x\",\"domain\":[0.0,1.0],\"title\":{\"text\":\"\"},\"ticklabelposition\":\"outside right\",\"side\":\"right\",\"tick0\":0,\"dtick\":0.25,\"showline\":true,\"linewidth\":2,\"linecolor\":\"black\",\"mirror\":true},\"legend\":{\"tracegroupgap\":0,\"itemsizing\":\"constant\"},\"margin\":{\"t\":60},\"title\":{\"text\":\"Values\"},\"autosize\":false,\"width\":200,\"height\":290,\"plot_bgcolor\":\"rgba(0,0,0,0)\"},                        {\"responsive\": true}                    ).then(function(){\n",
       "                            \n",
       "var gd = document.getElementById('1fc585e8-edf0-4875-8cbb-59a075082543');\n",
       "var x = new MutationObserver(function (mutations, observer) {{\n",
       "        var display = window.getComputedStyle(gd).display;\n",
       "        if (!display || display === 'none') {{\n",
       "            console.log([gd, 'removed!']);\n",
       "            Plotly.purge(gd);\n",
       "            observer.disconnect();\n",
       "        }}\n",
       "}});\n",
       "\n",
       "// Listen for the removal of the full notebook cells\n",
       "var notebookContainer = gd.closest('#notebook-container');\n",
       "if (notebookContainer) {{\n",
       "    x.observe(notebookContainer, {childList: true});\n",
       "}}\n",
       "\n",
       "// Listen for the clearing of the current output cell\n",
       "var outputEl = gd.closest('.output');\n",
       "if (outputEl) {{\n",
       "    x.observe(outputEl, {childList: true});\n",
       "}}\n",
       "\n",
       "                        })                };                });            </script>        </div>"
      ]
     },
     "metadata": {},
     "output_type": "display_data"
    }
   ],
   "source": [
    "fig = px.scatter(x=['', '', '', '', ''], y=[0, 0.25, 0.5, 0.75, 1], size = [0, .25, .50, .75, 1])\n",
    "\n",
    "fig.update_traces(\n",
    "    mode='markers'\n",
    "                  , marker_symbol = 200, \n",
    "                  marker_line_width=2, \n",
    "                  marker_line_color='rgba(0, 0, 0, 1)'\n",
    "                 )\n",
    "\n",
    "fig.update_traces(marker=dict(color='lightgray'))\n",
    "\n",
    "fig.update_xaxes(visible=False)\n",
    "fig.update_yaxes(ticklabelposition=\"outside right\", side= 'right')\n",
    "fig.update_yaxes(tick0=0, dtick=0.25)\n",
    "fig.update_xaxes(tick0=0, dtick=0)\n",
    "\n",
    "\n",
    "\n",
    "\n",
    "fig.update_xaxes(showline=True, linewidth=2, linecolor='black', mirror=True)\n",
    "fig.update_yaxes(showline=True, linewidth=2, linecolor='black', mirror=True)\n",
    "\n",
    "\n",
    "fig.update_layout(\n",
    "    title=f'Values',\n",
    "    autosize=False,\n",
    "    width=200,\n",
    "    height=290,\n",
    "    # paper_bgcolor='rgba(0,0,0,0)',\n",
    "    plot_bgcolor='rgba(0,0,0,0)',\n",
    "    xaxis=dict(\n",
    "        title=\"Centralities\"\n",
    "    ),\n",
    "    yaxis=dict(\n",
    "        title=\"\"\n",
    "    )\n",
    "    )\n",
    "\n",
    "\n",
    "fig_radius = fig\n",
    "fig_radius"
   ]
  },
  {
   "cell_type": "code",
   "execution_count": 65,
   "id": "44d47f09-0b25-4330-a656-7ee961dcb584",
   "metadata": {},
   "outputs": [
    {
     "data": {
      "application/vnd.plotly.v1+json": {
       "config": {
        "plotlyServerURL": "https://plot.ly"
       },
       "data": [
        {
         "customdata": [
          [
           "1.0<br>BetweennessCentrality"
          ],
          [
           "0.43<br>BetweennessCentrality"
          ],
          [
           "0.17<br>BetweennessCentrality"
          ],
          [
           "0.03<br>BetweennessCentrality"
          ],
          [
           "0.01<br>BetweennessCentrality"
          ],
          [
           "0.01<br>BetweennessCentrality"
          ],
          [
           "0.02<br>BetweennessCentrality"
          ],
          [
           "0.01<br>BetweennessCentrality"
          ],
          [
           "0.0<br>BetweennessCentrality"
          ],
          [
           "0.06<br>BetweennessCentrality"
          ],
          [
           "0.07<br>BetweennessCentrality"
          ],
          [
           "1.0<br>ClosenessCentrality"
          ],
          [
           "0.63<br>ClosenessCentrality"
          ],
          [
           "0.75<br>ClosenessCentrality"
          ],
          [
           "0.28<br>ClosenessCentrality"
          ],
          [
           "0.02<br>ClosenessCentrality"
          ],
          [
           "0.09<br>ClosenessCentrality"
          ],
          [
           "0.93<br>ClosenessCentrality"
          ],
          [
           "0.24<br>ClosenessCentrality"
          ],
          [
           "0.0<br>ClosenessCentrality"
          ],
          [
           "0.39<br>ClosenessCentrality"
          ],
          [
           "0.14<br>ClosenessCentrality"
          ],
          [
           "0.0<br>ClusteringCoefficient"
          ],
          [
           "0.05<br>ClusteringCoefficient"
          ],
          [
           "0.18<br>ClusteringCoefficient"
          ],
          [
           "0.37<br>ClusteringCoefficient"
          ],
          [
           "0.21<br>ClusteringCoefficient"
          ],
          [
           "0.28<br>ClusteringCoefficient"
          ],
          [
           "1.0<br>ClusteringCoefficient"
          ],
          [
           "0.43<br>ClusteringCoefficient"
          ],
          [
           "0.86<br>ClusteringCoefficient"
          ],
          [
           "0.17<br>ClusteringCoefficient"
          ],
          [
           "0.12<br>ClusteringCoefficient"
          ],
          [
           "1.0<br>Degree"
          ],
          [
           "0.54<br>Degree"
          ],
          [
           "0.33<br>Degree"
          ],
          [
           "0.21<br>Degree"
          ],
          [
           "0.22<br>Degree"
          ],
          [
           "0.17<br>Degree"
          ],
          [
           "0.0<br>Degree"
          ],
          [
           "0.2<br>Degree"
          ],
          [
           "0.18<br>Degree"
          ],
          [
           "0.19<br>Degree"
          ],
          [
           "0.15<br>Degree"
          ],
          [
           "1.0<br>Radiality"
          ],
          [
           "0.67<br>Radiality"
          ],
          [
           "0.78<br>Radiality"
          ],
          [
           "0.32<br>Radiality"
          ],
          [
           "0.02<br>Radiality"
          ],
          [
           "0.1<br>Radiality"
          ],
          [
           "0.94<br>Radiality"
          ],
          [
           "0.27<br>Radiality"
          ],
          [
           "0.0<br>Radiality"
          ],
          [
           "0.43<br>Radiality"
          ],
          [
           "0.16<br>Radiality"
          ],
          [
           "1.0<br>Stress"
          ],
          [
           "0.33<br>Stress"
          ],
          [
           "0.11<br>Stress"
          ],
          [
           "0.09<br>Stress"
          ],
          [
           "0.08<br>Stress"
          ],
          [
           "0.03<br>Stress"
          ],
          [
           "0.02<br>Stress"
          ],
          [
           "0.01<br>Stress"
          ],
          [
           "0.01<br>Stress"
          ],
          [
           "0.0<br>Stress"
          ],
          [
           "0.0<br>Stress"
          ],
          [
           "0.0<br>TopologicalCoefficient"
          ],
          [
           "0.04<br>TopologicalCoefficient"
          ],
          [
           "0.16<br>TopologicalCoefficient"
          ],
          [
           "0.27<br>TopologicalCoefficient"
          ],
          [
           "0.28<br>TopologicalCoefficient"
          ],
          [
           "0.29<br>TopologicalCoefficient"
          ],
          [
           "1.0<br>TopologicalCoefficient"
          ],
          [
           "0.25<br>TopologicalCoefficient"
          ],
          [
           "0.34<br>TopologicalCoefficient"
          ],
          [
           "0.14<br>TopologicalCoefficient"
          ],
          [
           "0.2<br>TopologicalCoefficient"
          ]
         ],
         "hovertemplate": "Encrichment=NE<br>Centrality=%{x}<br>Protein=%{y}<br>Value=%{marker.size}<br>Info=%{customdata[0]}<extra></extra>",
         "legendgroup": "NE",
         "marker": {
          "color": "#636efa",
          "line": {
           "color": "rgba(0, 0, 0, 1)",
           "width": 2
          },
          "size": [
           1,
           0.43056048524660784,
           0.16688549391591775,
           0.030303353128364203,
           0.013455547427058505,
           0.014056211321417185,
           0.01746269517430097,
           0.01475913352319483,
           0.0033025669578210805,
           0.06094461159322143,
           0.0741556449264952,
           1,
           0.6311657929613509,
           0.748600014666087,
           0.28397138129339006,
           0.020684385966538748,
           0.08776888978207868,
           0.9266334679784196,
           0.2370438046106472,
           0,
           0.38968801720517404,
           0.13962488961818303,
           0,
           0.04924440831654756,
           0.18469462718353133,
           0.37130011364374743,
           0.20507292692985515,
           0.28163294263046157,
           1,
           0.4282605611110301,
           0.8625878683642063,
           0.16970512298587342,
           0.1188442417628174,
           1,
           0.5422794117647058,
           0.32996323529411764,
           0.20863970588235295,
           0.21875,
           0.17003676470588236,
           0,
           0.19669117647058823,
           0.1792279411764706,
           0.19393382352941177,
           0.15257352941176472,
           1,
           0.6680682566414133,
           0.7778876817174433,
           0.3180806995206238,
           0.024239484088432583,
           0.1016572740064685,
           0.9369280314777552,
           0.2676230407710991,
           0,
           0.42888946988298693,
           0.16027708382555922,
           1,
           0.32838795451193914,
           0.1061037428629898,
           0.08590311699814877,
           0.08292315087060109,
           0.02939797159478053,
           0.0248587906848902,
           0.008735331770697529,
           0.006763735672887981,
           0.0016166112672317855,
           0,
           0,
           0.03826628120235234,
           0.16094878902167492,
           0.2727367495369121,
           0.27817390417792964,
           0.2903495564627451,
           1,
           0.24999264939765153,
           0.34302301826806064,
           0.14431237119739976,
           0.20206786763417145
          ],
          "sizemode": "area",
          "sizeref": 0.0025,
          "symbol": 200
         },
         "mode": "markers",
         "name": "NE",
         "orientation": "v",
         "showlegend": true,
         "type": "scatter",
         "x": [
          "BetweennessCentrality",
          "BetweennessCentrality",
          "BetweennessCentrality",
          "BetweennessCentrality",
          "BetweennessCentrality",
          "BetweennessCentrality",
          "BetweennessCentrality",
          "BetweennessCentrality",
          "BetweennessCentrality",
          "BetweennessCentrality",
          "BetweennessCentrality",
          "ClosenessCentrality",
          "ClosenessCentrality",
          "ClosenessCentrality",
          "ClosenessCentrality",
          "ClosenessCentrality",
          "ClosenessCentrality",
          "ClosenessCentrality",
          "ClosenessCentrality",
          "ClosenessCentrality",
          "ClosenessCentrality",
          "ClosenessCentrality",
          "ClusteringCoefficient",
          "ClusteringCoefficient",
          "ClusteringCoefficient",
          "ClusteringCoefficient",
          "ClusteringCoefficient",
          "ClusteringCoefficient",
          "ClusteringCoefficient",
          "ClusteringCoefficient",
          "ClusteringCoefficient",
          "ClusteringCoefficient",
          "ClusteringCoefficient",
          "Degree",
          "Degree",
          "Degree",
          "Degree",
          "Degree",
          "Degree",
          "Degree",
          "Degree",
          "Degree",
          "Degree",
          "Degree",
          "Radiality",
          "Radiality",
          "Radiality",
          "Radiality",
          "Radiality",
          "Radiality",
          "Radiality",
          "Radiality",
          "Radiality",
          "Radiality",
          "Radiality",
          "Stress",
          "Stress",
          "Stress",
          "Stress",
          "Stress",
          "Stress",
          "Stress",
          "Stress",
          "Stress",
          "Stress",
          "Stress",
          "TopologicalCoefficient",
          "TopologicalCoefficient",
          "TopologicalCoefficient",
          "TopologicalCoefficient",
          "TopologicalCoefficient",
          "TopologicalCoefficient",
          "TopologicalCoefficient",
          "TopologicalCoefficient",
          "TopologicalCoefficient",
          "TopologicalCoefficient",
          "TopologicalCoefficient"
         ],
         "xaxis": "x3",
         "y": [
          "HNRNPH1",
          "YWHAG",
          "CIT",
          "PHB2",
          "CCT7",
          "BYSL",
          "PLEKHA4",
          "RRBP1",
          "MRPL12",
          "SHC1",
          "LGALS1",
          "HNRNPH1",
          "YWHAG",
          "CIT",
          "PHB2",
          "CCT7",
          "BYSL",
          "PLEKHA4",
          "RRBP1",
          "MRPL12",
          "SHC1",
          "LGALS1",
          "HNRNPH1",
          "YWHAG",
          "CIT",
          "PHB2",
          "CCT7",
          "BYSL",
          "PLEKHA4",
          "RRBP1",
          "MRPL12",
          "SHC1",
          "LGALS1",
          "HNRNPH1",
          "YWHAG",
          "CIT",
          "PHB2",
          "CCT7",
          "BYSL",
          "PLEKHA4",
          "RRBP1",
          "MRPL12",
          "SHC1",
          "LGALS1",
          "HNRNPH1",
          "YWHAG",
          "CIT",
          "PHB2",
          "CCT7",
          "BYSL",
          "PLEKHA4",
          "RRBP1",
          "MRPL12",
          "SHC1",
          "LGALS1",
          "HNRNPH1",
          "YWHAG",
          "CIT",
          "PHB2",
          "CCT7",
          "BYSL",
          "PLEKHA4",
          "RRBP1",
          "MRPL12",
          "SHC1",
          "LGALS1",
          "HNRNPH1",
          "YWHAG",
          "CIT",
          "PHB2",
          "CCT7",
          "BYSL",
          "PLEKHA4",
          "RRBP1",
          "MRPL12",
          "SHC1",
          "LGALS1"
         ],
         "yaxis": "y3"
        },
        {
         "customdata": [
          [
           "0.18<br>BetweennessCentrality"
          ],
          [
           "0.02<br>BetweennessCentrality"
          ],
          [
           "0.27<br>ClosenessCentrality"
          ],
          [
           "0.98<br>ClosenessCentrality"
          ],
          [
           "0.03<br>ClusteringCoefficient"
          ],
          [
           "0.52<br>ClusteringCoefficient"
          ],
          [
           "0.35<br>Degree"
          ],
          [
           "0.06<br>Degree"
          ],
          [
           "0.3<br>Radiality"
          ],
          [
           "0.98<br>Radiality"
          ],
          [
           "0.3<br>Stress"
          ],
          [
           "0.01<br>Stress"
          ],
          [
           "0.16<br>TopologicalCoefficient"
          ],
          [
           "0.51<br>TopologicalCoefficient"
          ]
         ],
         "hovertemplate": "Encrichment=Homo sapiens<br>Centrality=%{x}<br>Protein=%{y}<br>Value=%{marker.size}<br>Info=%{customdata[0]}<extra></extra>",
         "legendgroup": "Homo sapiens",
         "marker": {
          "color": "#EF553B",
          "line": {
           "color": "rgba(0, 0, 0, 1)",
           "width": 2
          },
          "size": [
           0.17660105379003863,
           0.01650147984292919,
           0.265019122008675,
           0.9805659711331725,
           0.03253897635759191,
           0.5182171457517527,
           0.3474264705882353,
           0.06066176470588235,
           0.2977988064068449,
           0.9834280992526284,
           0.30052021299342463,
           0.012550643894230462,
           0.16337391502245463,
           0.5089763264782443
          ],
          "sizemode": "area",
          "sizeref": 0.0025,
          "symbol": 200
         },
         "mode": "markers",
         "name": "Homo sapiens",
         "orientation": "v",
         "showlegend": true,
         "type": "scatter",
         "x": [
          "BetweennessCentrality",
          "BetweennessCentrality",
          "ClosenessCentrality",
          "ClosenessCentrality",
          "ClusteringCoefficient",
          "ClusteringCoefficient",
          "Degree",
          "Degree",
          "Radiality",
          "Radiality",
          "Stress",
          "Stress",
          "TopologicalCoefficient",
          "TopologicalCoefficient"
         ],
         "xaxis": "x3",
         "y": [
          "BAG2",
          "MYC",
          "BAG2",
          "MYC",
          "BAG2",
          "MYC",
          "BAG2",
          "MYC",
          "BAG2",
          "MYC",
          "BAG2",
          "MYC",
          "BAG2",
          "MYC"
         ],
         "yaxis": "y3"
        },
        {
         "customdata": [
          [
           "0.2<br>BetweennessCentrality"
          ],
          [
           "0.08<br>BetweennessCentrality"
          ],
          [
           "0.02<br>BetweennessCentrality"
          ],
          [
           "0.0<br>BetweennessCentrality"
          ],
          [
           "0.4<br>ClosenessCentrality"
          ],
          [
           "0.22<br>ClosenessCentrality"
          ],
          [
           "0.27<br>ClosenessCentrality"
          ],
          [
           "0.17<br>ClosenessCentrality"
          ],
          [
           "0.3<br>ClusteringCoefficient"
          ],
          [
           "0.15<br>ClusteringCoefficient"
          ],
          [
           "0.29<br>ClusteringCoefficient"
          ],
          [
           "0.3<br>ClusteringCoefficient"
          ],
          [
           "0.4<br>Degree"
          ],
          [
           "0.2<br>Degree"
          ],
          [
           "0.22<br>Degree"
          ],
          [
           "0.13<br>Degree"
          ],
          [
           "0.44<br>Radiality"
          ],
          [
           "0.25<br>Radiality"
          ],
          [
           "0.31<br>Radiality"
          ],
          [
           "0.19<br>Radiality"
          ],
          [
           "0.28<br>Stress"
          ],
          [
           "0.07<br>Stress"
          ],
          [
           "0.07<br>Stress"
          ],
          [
           "0.0<br>Stress"
          ],
          [
           "0.18<br>TopologicalCoefficient"
          ],
          [
           "0.2<br>TopologicalCoefficient"
          ],
          [
           "0.21<br>TopologicalCoefficient"
          ],
          [
           "0.3<br>TopologicalCoefficient"
          ]
         ],
         "hovertemplate": "Encrichment=Human immunodeficiency virus 1<br>Centrality=%{x}<br>Protein=%{y}<br>Value=%{marker.size}<br>Info=%{customdata[0]}<extra></extra>",
         "legendgroup": "Human immunodeficiency virus 1",
         "marker": {
          "color": "#00cc96",
          "line": {
           "color": "rgba(0, 0, 0, 1)",
           "width": 2
          },
          "size": [
           0.20262544217308665,
           0.07877481151427265,
           0.021923530433935003,
           0,
           0.400032486521264,
           0.22224617791524712,
           0.2735558578742341,
           0.16534745049911034,
           0.3031639241437932,
           0.15314290601781433,
           0.29448085228832366,
           0.2988502355753994,
           0.39981617647058826,
           0.19852941176470587,
           0.22058823529411764,
           0.13419117647058823,
           0.43952508908304294,
           0.251545917581558,
           0.30695030276273955,
           0.18896872661714595,
           0.2793723443778086,
           0.0726450116912575,
           0.06658045028627348,
           0.00486563666945977,
           0.17951621962912492,
           0.19811305264596865,
           0.21057509203526914,
           0.2982962258379973
          ],
          "sizemode": "area",
          "sizeref": 0.0025,
          "symbol": 200
         },
         "mode": "markers",
         "name": "Human immunodeficiency virus 1",
         "orientation": "v",
         "showlegend": true,
         "type": "scatter",
         "x": [
          "BetweennessCentrality",
          "BetweennessCentrality",
          "BetweennessCentrality",
          "BetweennessCentrality",
          "ClosenessCentrality",
          "ClosenessCentrality",
          "ClosenessCentrality",
          "ClosenessCentrality",
          "ClusteringCoefficient",
          "ClusteringCoefficient",
          "ClusteringCoefficient",
          "ClusteringCoefficient",
          "Degree",
          "Degree",
          "Degree",
          "Degree",
          "Radiality",
          "Radiality",
          "Radiality",
          "Radiality",
          "Stress",
          "Stress",
          "Stress",
          "Stress",
          "TopologicalCoefficient",
          "TopologicalCoefficient",
          "TopologicalCoefficient",
          "TopologicalCoefficient"
         ],
         "xaxis": "x3",
         "y": [
          "C1QBP",
          "TUBA4A",
          "CCT4",
          "ACTG1",
          "C1QBP",
          "TUBA4A",
          "CCT4",
          "ACTG1",
          "C1QBP",
          "TUBA4A",
          "CCT4",
          "ACTG1",
          "C1QBP",
          "TUBA4A",
          "CCT4",
          "ACTG1",
          "C1QBP",
          "TUBA4A",
          "CCT4",
          "ACTG1",
          "C1QBP",
          "TUBA4A",
          "CCT4",
          "ACTG1",
          "C1QBP",
          "TUBA4A",
          "CCT4",
          "ACTG1"
         ],
         "yaxis": "y3"
        },
        {
         "customdata": [
          [
           "0.13<br>BetweennessCentrality"
          ],
          [
           "0.04<br>BetweennessCentrality"
          ],
          [
           "0.15<br>ClosenessCentrality"
          ],
          [
           "0.38<br>ClosenessCentrality"
          ],
          [
           "0.08<br>ClusteringCoefficient"
          ],
          [
           "0.22<br>ClusteringCoefficient"
          ],
          [
           "0.3<br>Degree"
          ],
          [
           "0.14<br>Degree"
          ],
          [
           "0.17<br>Radiality"
          ],
          [
           "0.42<br>Radiality"
          ],
          [
           "0.2<br>Stress"
          ],
          [
           "0.01<br>Stress"
          ],
          [
           "0.18<br>TopologicalCoefficient"
          ],
          [
           "0.23<br>TopologicalCoefficient"
          ]
         ],
         "hovertemplate": "Encrichment=Human herpesvirus 1 (strain 17)<br>Centrality=%{x}<br>Protein=%{y}<br>Value=%{marker.size}<br>Info=%{customdata[0]}<extra></extra>",
         "legendgroup": "Human herpesvirus 1 (strain 17)",
         "marker": {
          "color": "#ab63fa",
          "line": {
           "color": "rgba(0, 0, 0, 1)",
           "width": 2
          },
          "size": [
           0.1347747905905516,
           0.0421864318855054,
           0.15024121811121974,
           0.38081519705806793,
           0.0760488177469895,
           0.2201240931374824,
           0.296875,
           0.13511029411764705,
           0.17214943709086025,
           0.41973797352709225,
           0.1980581401805678,
           0.005118563755979776,
           0.18350043702672147,
           0.23158903221396707
          ],
          "sizemode": "area",
          "sizeref": 0.0025,
          "symbol": 200
         },
         "mode": "markers",
         "name": "Human herpesvirus 1 (strain 17)",
         "orientation": "v",
         "showlegend": true,
         "type": "scatter",
         "x": [
          "BetweennessCentrality",
          "BetweennessCentrality",
          "ClosenessCentrality",
          "ClosenessCentrality",
          "ClusteringCoefficient",
          "ClusteringCoefficient",
          "Degree",
          "Degree",
          "Radiality",
          "Radiality",
          "Stress",
          "Stress",
          "TopologicalCoefficient",
          "TopologicalCoefficient"
         ],
         "xaxis": "x3",
         "y": [
          "PCNA",
          "EMD",
          "PCNA",
          "EMD",
          "PCNA",
          "EMD",
          "PCNA",
          "EMD",
          "PCNA",
          "EMD",
          "PCNA",
          "EMD",
          "PCNA",
          "EMD"
         ],
         "yaxis": "y3"
        },
        {
         "customdata": [
          [
           "0.02<br>BetweennessCentrality"
          ],
          [
           "0.11<br>ClosenessCentrality"
          ],
          [
           "0.2<br>ClusteringCoefficient"
          ],
          [
           "0.15<br>Degree"
          ],
          [
           "0.13<br>Radiality"
          ],
          [
           "0.0<br>Stress"
          ],
          [
           "0.25<br>TopologicalCoefficient"
          ]
         ],
         "hovertemplate": "Encrichment=Human immunodeficiency virus 1<br>Human herpesvirus 3<br>Centrality=%{x}<br>Protein=%{y}<br>Value=%{marker.size}<br>Info=%{customdata[0]}<extra></extra>",
         "legendgroup": "Human immunodeficiency virus 1<br>Human herpesvirus 3",
         "marker": {
          "color": "#FFA15A",
          "line": {
           "color": "rgba(0, 0, 0, 1)",
           "width": 2
          },
          "size": [
           0.017936859864909314,
           0.10997289050205057,
           0.1979406877767331,
           0.15257352941176472,
           0.126886103381232,
           0.0012895464904918638,
           0.2513421054339853
          ],
          "sizemode": "area",
          "sizeref": 0.0025,
          "symbol": 200
         },
         "mode": "markers",
         "name": "Human immunodeficiency virus 1<br>Human herpesvirus 3",
         "orientation": "v",
         "showlegend": true,
         "type": "scatter",
         "x": [
          "BetweennessCentrality",
          "ClosenessCentrality",
          "ClusteringCoefficient",
          "Degree",
          "Radiality",
          "Stress",
          "TopologicalCoefficient"
         ],
         "xaxis": "x3",
         "y": [
          "SP1",
          "SP1",
          "SP1",
          "SP1",
          "SP1",
          "SP1",
          "SP1"
         ],
         "yaxis": "y3"
        },
        {
         "hovertemplate": "x=%{x}<br>y=%{y}<br>size=%{marker.size}<extra></extra>",
         "legendgroup": "",
         "marker": {
          "color": "lightgray",
          "line": {
           "color": "rgba(0, 0, 0, 1)",
           "width": 2
          },
          "size": [
           0,
           0.25,
           0.5,
           0.75,
           1
          ],
          "sizemode": "area",
          "sizeref": 0.0025,
          "symbol": 200
         },
         "mode": "markers",
         "name": "",
         "orientation": "v",
         "showlegend": false,
         "type": "scatter",
         "x": [
          "",
          "",
          "",
          "",
          ""
         ],
         "xaxis": "x",
         "y": [
          0,
          0.25,
          0.5,
          0.75,
          1
         ],
         "yaxis": "y"
        },
        {
         "marker": {
          "color": [
           "#636efa",
           "#EF553B",
           "#00cc96",
           "#ab63fa",
           "#FFA15A"
          ],
          "line": {
           "width": 2
          },
          "size": 20,
          "symbol": 200
         },
         "mode": "markers",
         "type": "scatter",
         "x": [
          "",
          "",
          "",
          "",
          ""
         ],
         "xaxis": "x2",
         "y": [
          "NE",
          "Homo sapiens",
          "Human immunodeficiency virus 1",
          "Human herpesvirus 1 (strain 17)",
          "Human immunodeficiency virus 1<br>Human herpesvirus 3"
         ],
         "yaxis": "y2"
        }
       ],
       "layout": {
        "annotations": [
         {
          "font": {
           "size": 16
          },
          "showarrow": false,
          "text": "Values",
          "x": 0.225,
          "xanchor": "center",
          "xref": "paper",
          "y": 1,
          "yanchor": "bottom",
          "yref": "paper"
         },
         {
          "font": {
           "size": 16
          },
          "showarrow": false,
          "text": "Encrichment",
          "x": 0.775,
          "xanchor": "center",
          "xref": "paper",
          "y": 1,
          "yanchor": "bottom",
          "yref": "paper"
         },
         {
          "font": {
           "size": 16
          },
          "showarrow": false,
          "text": "Dotplot",
          "x": 0.5,
          "xanchor": "center",
          "xref": "paper",
          "y": 0.6000000000000001,
          "yanchor": "bottom",
          "yref": "paper"
         }
        ],
        "autosize": false,
        "font": {
         "color": "black",
         "family": "Arial",
         "size": 14
        },
        "height": 1200,
        "plot_bgcolor": "rgba(0, 0, 0, 0)",
        "showlegend": false,
        "template": {
         "data": {
          "bar": [
           {
            "error_x": {
             "color": "#2a3f5f"
            },
            "error_y": {
             "color": "#2a3f5f"
            },
            "marker": {
             "line": {
              "color": "#E5ECF6",
              "width": 0.5
             },
             "pattern": {
              "fillmode": "overlay",
              "size": 10,
              "solidity": 0.2
             }
            },
            "type": "bar"
           }
          ],
          "barpolar": [
           {
            "marker": {
             "line": {
              "color": "#E5ECF6",
              "width": 0.5
             },
             "pattern": {
              "fillmode": "overlay",
              "size": 10,
              "solidity": 0.2
             }
            },
            "type": "barpolar"
           }
          ],
          "carpet": [
           {
            "aaxis": {
             "endlinecolor": "#2a3f5f",
             "gridcolor": "white",
             "linecolor": "white",
             "minorgridcolor": "white",
             "startlinecolor": "#2a3f5f"
            },
            "baxis": {
             "endlinecolor": "#2a3f5f",
             "gridcolor": "white",
             "linecolor": "white",
             "minorgridcolor": "white",
             "startlinecolor": "#2a3f5f"
            },
            "type": "carpet"
           }
          ],
          "choropleth": [
           {
            "colorbar": {
             "outlinewidth": 0,
             "ticks": ""
            },
            "type": "choropleth"
           }
          ],
          "contour": [
           {
            "colorbar": {
             "outlinewidth": 0,
             "ticks": ""
            },
            "colorscale": [
             [
              0,
              "#0d0887"
             ],
             [
              0.1111111111111111,
              "#46039f"
             ],
             [
              0.2222222222222222,
              "#7201a8"
             ],
             [
              0.3333333333333333,
              "#9c179e"
             ],
             [
              0.4444444444444444,
              "#bd3786"
             ],
             [
              0.5555555555555556,
              "#d8576b"
             ],
             [
              0.6666666666666666,
              "#ed7953"
             ],
             [
              0.7777777777777778,
              "#fb9f3a"
             ],
             [
              0.8888888888888888,
              "#fdca26"
             ],
             [
              1,
              "#f0f921"
             ]
            ],
            "type": "contour"
           }
          ],
          "contourcarpet": [
           {
            "colorbar": {
             "outlinewidth": 0,
             "ticks": ""
            },
            "type": "contourcarpet"
           }
          ],
          "heatmap": [
           {
            "colorbar": {
             "outlinewidth": 0,
             "ticks": ""
            },
            "colorscale": [
             [
              0,
              "#0d0887"
             ],
             [
              0.1111111111111111,
              "#46039f"
             ],
             [
              0.2222222222222222,
              "#7201a8"
             ],
             [
              0.3333333333333333,
              "#9c179e"
             ],
             [
              0.4444444444444444,
              "#bd3786"
             ],
             [
              0.5555555555555556,
              "#d8576b"
             ],
             [
              0.6666666666666666,
              "#ed7953"
             ],
             [
              0.7777777777777778,
              "#fb9f3a"
             ],
             [
              0.8888888888888888,
              "#fdca26"
             ],
             [
              1,
              "#f0f921"
             ]
            ],
            "type": "heatmap"
           }
          ],
          "heatmapgl": [
           {
            "colorbar": {
             "outlinewidth": 0,
             "ticks": ""
            },
            "colorscale": [
             [
              0,
              "#0d0887"
             ],
             [
              0.1111111111111111,
              "#46039f"
             ],
             [
              0.2222222222222222,
              "#7201a8"
             ],
             [
              0.3333333333333333,
              "#9c179e"
             ],
             [
              0.4444444444444444,
              "#bd3786"
             ],
             [
              0.5555555555555556,
              "#d8576b"
             ],
             [
              0.6666666666666666,
              "#ed7953"
             ],
             [
              0.7777777777777778,
              "#fb9f3a"
             ],
             [
              0.8888888888888888,
              "#fdca26"
             ],
             [
              1,
              "#f0f921"
             ]
            ],
            "type": "heatmapgl"
           }
          ],
          "histogram": [
           {
            "marker": {
             "pattern": {
              "fillmode": "overlay",
              "size": 10,
              "solidity": 0.2
             }
            },
            "type": "histogram"
           }
          ],
          "histogram2d": [
           {
            "colorbar": {
             "outlinewidth": 0,
             "ticks": ""
            },
            "colorscale": [
             [
              0,
              "#0d0887"
             ],
             [
              0.1111111111111111,
              "#46039f"
             ],
             [
              0.2222222222222222,
              "#7201a8"
             ],
             [
              0.3333333333333333,
              "#9c179e"
             ],
             [
              0.4444444444444444,
              "#bd3786"
             ],
             [
              0.5555555555555556,
              "#d8576b"
             ],
             [
              0.6666666666666666,
              "#ed7953"
             ],
             [
              0.7777777777777778,
              "#fb9f3a"
             ],
             [
              0.8888888888888888,
              "#fdca26"
             ],
             [
              1,
              "#f0f921"
             ]
            ],
            "type": "histogram2d"
           }
          ],
          "histogram2dcontour": [
           {
            "colorbar": {
             "outlinewidth": 0,
             "ticks": ""
            },
            "colorscale": [
             [
              0,
              "#0d0887"
             ],
             [
              0.1111111111111111,
              "#46039f"
             ],
             [
              0.2222222222222222,
              "#7201a8"
             ],
             [
              0.3333333333333333,
              "#9c179e"
             ],
             [
              0.4444444444444444,
              "#bd3786"
             ],
             [
              0.5555555555555556,
              "#d8576b"
             ],
             [
              0.6666666666666666,
              "#ed7953"
             ],
             [
              0.7777777777777778,
              "#fb9f3a"
             ],
             [
              0.8888888888888888,
              "#fdca26"
             ],
             [
              1,
              "#f0f921"
             ]
            ],
            "type": "histogram2dcontour"
           }
          ],
          "mesh3d": [
           {
            "colorbar": {
             "outlinewidth": 0,
             "ticks": ""
            },
            "type": "mesh3d"
           }
          ],
          "parcoords": [
           {
            "line": {
             "colorbar": {
              "outlinewidth": 0,
              "ticks": ""
             }
            },
            "type": "parcoords"
           }
          ],
          "pie": [
           {
            "automargin": true,
            "type": "pie"
           }
          ],
          "scatter": [
           {
            "marker": {
             "colorbar": {
              "outlinewidth": 0,
              "ticks": ""
             }
            },
            "type": "scatter"
           }
          ],
          "scatter3d": [
           {
            "line": {
             "colorbar": {
              "outlinewidth": 0,
              "ticks": ""
             }
            },
            "marker": {
             "colorbar": {
              "outlinewidth": 0,
              "ticks": ""
             }
            },
            "type": "scatter3d"
           }
          ],
          "scattercarpet": [
           {
            "marker": {
             "colorbar": {
              "outlinewidth": 0,
              "ticks": ""
             }
            },
            "type": "scattercarpet"
           }
          ],
          "scattergeo": [
           {
            "marker": {
             "colorbar": {
              "outlinewidth": 0,
              "ticks": ""
             }
            },
            "type": "scattergeo"
           }
          ],
          "scattergl": [
           {
            "marker": {
             "colorbar": {
              "outlinewidth": 0,
              "ticks": ""
             }
            },
            "type": "scattergl"
           }
          ],
          "scattermapbox": [
           {
            "marker": {
             "colorbar": {
              "outlinewidth": 0,
              "ticks": ""
             }
            },
            "type": "scattermapbox"
           }
          ],
          "scatterpolar": [
           {
            "marker": {
             "colorbar": {
              "outlinewidth": 0,
              "ticks": ""
             }
            },
            "type": "scatterpolar"
           }
          ],
          "scatterpolargl": [
           {
            "marker": {
             "colorbar": {
              "outlinewidth": 0,
              "ticks": ""
             }
            },
            "type": "scatterpolargl"
           }
          ],
          "scatterternary": [
           {
            "marker": {
             "colorbar": {
              "outlinewidth": 0,
              "ticks": ""
             }
            },
            "type": "scatterternary"
           }
          ],
          "surface": [
           {
            "colorbar": {
             "outlinewidth": 0,
             "ticks": ""
            },
            "colorscale": [
             [
              0,
              "#0d0887"
             ],
             [
              0.1111111111111111,
              "#46039f"
             ],
             [
              0.2222222222222222,
              "#7201a8"
             ],
             [
              0.3333333333333333,
              "#9c179e"
             ],
             [
              0.4444444444444444,
              "#bd3786"
             ],
             [
              0.5555555555555556,
              "#d8576b"
             ],
             [
              0.6666666666666666,
              "#ed7953"
             ],
             [
              0.7777777777777778,
              "#fb9f3a"
             ],
             [
              0.8888888888888888,
              "#fdca26"
             ],
             [
              1,
              "#f0f921"
             ]
            ],
            "type": "surface"
           }
          ],
          "table": [
           {
            "cells": {
             "fill": {
              "color": "#EBF0F8"
             },
             "line": {
              "color": "white"
             }
            },
            "header": {
             "fill": {
              "color": "#C8D4E3"
             },
             "line": {
              "color": "white"
             }
            },
            "type": "table"
           }
          ]
         },
         "layout": {
          "annotationdefaults": {
           "arrowcolor": "#2a3f5f",
           "arrowhead": 0,
           "arrowwidth": 1
          },
          "autotypenumbers": "strict",
          "coloraxis": {
           "colorbar": {
            "outlinewidth": 0,
            "ticks": ""
           }
          },
          "colorscale": {
           "diverging": [
            [
             0,
             "#8e0152"
            ],
            [
             0.1,
             "#c51b7d"
            ],
            [
             0.2,
             "#de77ae"
            ],
            [
             0.3,
             "#f1b6da"
            ],
            [
             0.4,
             "#fde0ef"
            ],
            [
             0.5,
             "#f7f7f7"
            ],
            [
             0.6,
             "#e6f5d0"
            ],
            [
             0.7,
             "#b8e186"
            ],
            [
             0.8,
             "#7fbc41"
            ],
            [
             0.9,
             "#4d9221"
            ],
            [
             1,
             "#276419"
            ]
           ],
           "sequential": [
            [
             0,
             "#0d0887"
            ],
            [
             0.1111111111111111,
             "#46039f"
            ],
            [
             0.2222222222222222,
             "#7201a8"
            ],
            [
             0.3333333333333333,
             "#9c179e"
            ],
            [
             0.4444444444444444,
             "#bd3786"
            ],
            [
             0.5555555555555556,
             "#d8576b"
            ],
            [
             0.6666666666666666,
             "#ed7953"
            ],
            [
             0.7777777777777778,
             "#fb9f3a"
            ],
            [
             0.8888888888888888,
             "#fdca26"
            ],
            [
             1,
             "#f0f921"
            ]
           ],
           "sequentialminus": [
            [
             0,
             "#0d0887"
            ],
            [
             0.1111111111111111,
             "#46039f"
            ],
            [
             0.2222222222222222,
             "#7201a8"
            ],
            [
             0.3333333333333333,
             "#9c179e"
            ],
            [
             0.4444444444444444,
             "#bd3786"
            ],
            [
             0.5555555555555556,
             "#d8576b"
            ],
            [
             0.6666666666666666,
             "#ed7953"
            ],
            [
             0.7777777777777778,
             "#fb9f3a"
            ],
            [
             0.8888888888888888,
             "#fdca26"
            ],
            [
             1,
             "#f0f921"
            ]
           ]
          },
          "colorway": [
           "#636efa",
           "#EF553B",
           "#00cc96",
           "#ab63fa",
           "#FFA15A",
           "#19d3f3",
           "#FF6692",
           "#B6E880",
           "#FF97FF",
           "#FECB52"
          ],
          "font": {
           "color": "#2a3f5f"
          },
          "geo": {
           "bgcolor": "white",
           "lakecolor": "white",
           "landcolor": "#E5ECF6",
           "showlakes": true,
           "showland": true,
           "subunitcolor": "white"
          },
          "hoverlabel": {
           "align": "left"
          },
          "hovermode": "closest",
          "mapbox": {
           "style": "light"
          },
          "paper_bgcolor": "white",
          "plot_bgcolor": "#E5ECF6",
          "polar": {
           "angularaxis": {
            "gridcolor": "white",
            "linecolor": "white",
            "ticks": ""
           },
           "bgcolor": "#E5ECF6",
           "radialaxis": {
            "gridcolor": "white",
            "linecolor": "white",
            "ticks": ""
           }
          },
          "scene": {
           "xaxis": {
            "backgroundcolor": "#E5ECF6",
            "gridcolor": "white",
            "gridwidth": 2,
            "linecolor": "white",
            "showbackground": true,
            "ticks": "",
            "zerolinecolor": "white"
           },
           "yaxis": {
            "backgroundcolor": "#E5ECF6",
            "gridcolor": "white",
            "gridwidth": 2,
            "linecolor": "white",
            "showbackground": true,
            "ticks": "",
            "zerolinecolor": "white"
           },
           "zaxis": {
            "backgroundcolor": "#E5ECF6",
            "gridcolor": "white",
            "gridwidth": 2,
            "linecolor": "white",
            "showbackground": true,
            "ticks": "",
            "zerolinecolor": "white"
           }
          },
          "shapedefaults": {
           "line": {
            "color": "#2a3f5f"
           }
          },
          "ternary": {
           "aaxis": {
            "gridcolor": "white",
            "linecolor": "white",
            "ticks": ""
           },
           "baxis": {
            "gridcolor": "white",
            "linecolor": "white",
            "ticks": ""
           },
           "bgcolor": "#E5ECF6",
           "caxis": {
            "gridcolor": "white",
            "linecolor": "white",
            "ticks": ""
           }
          },
          "title": {
           "x": 0.05
          },
          "xaxis": {
           "automargin": true,
           "gridcolor": "white",
           "linecolor": "white",
           "ticks": "",
           "title": {
            "standoff": 15
           },
           "zerolinecolor": "white",
           "zerolinewidth": 2
          },
          "yaxis": {
           "automargin": true,
           "gridcolor": "white",
           "linecolor": "white",
           "ticks": "",
           "title": {
            "standoff": 15
           },
           "zerolinecolor": "white",
           "zerolinewidth": 2
          }
         }
        },
        "title": {},
        "width": 600,
        "xaxis": {
         "anchor": "y",
         "autorange": true,
         "domain": [
          0,
          0.45
         ],
         "linecolor": "black",
         "linewidth": 2,
         "mirror": true,
         "range": [
          -1,
          1
         ],
         "showline": true,
         "type": "category"
        },
        "xaxis2": {
         "anchor": "y2",
         "autorange": true,
         "domain": [
          0.55,
          1
         ],
         "linecolor": "black",
         "linewidth": 2,
         "mirror": true,
         "range": [
          -1,
          1
         ],
         "showline": true,
         "type": "category"
        },
        "xaxis3": {
         "anchor": "y3",
         "autorange": true,
         "domain": [
          0,
          1
         ],
         "linecolor": "black",
         "linewidth": 2,
         "mirror": true,
         "range": [
          -0.7805944382420358,
          6.780594438242035
         ],
         "showline": true,
         "type": "category"
        },
        "yaxis": {
         "anchor": "x",
         "autorange": true,
         "domain": [
          0.8500000000000001,
          1
         ],
         "dtick": 0.25,
         "linecolor": "black",
         "linewidth": 2,
         "mirror": true,
         "range": [
          -0.09053286369953217,
          1.2013114378009555
         ],
         "showline": true,
         "side": "right",
         "tick0": 0,
         "ticklabelposition": "outside right",
         "type": "linear"
        },
        "yaxis2": {
         "anchor": "x2",
         "autorange": true,
         "domain": [
          0.8500000000000001,
          1
         ],
         "dtick": 0.25,
         "linecolor": "black",
         "linewidth": 2,
         "mirror": true,
         "range": [
          -0.7297642974602597,
          4.729764297460259
         ],
         "showline": true,
         "side": "right",
         "tick0": 0,
         "ticklabelposition": "outside right",
         "type": "category"
        },
        "yaxis3": {
         "anchor": "x3",
         "autorange": true,
         "domain": [
          0,
          0.6000000000000001
         ],
         "dtick": 0.25,
         "linecolor": "black",
         "linewidth": 2,
         "mirror": true,
         "range": [
          -1.6886470805678389,
          20.397254286730874
         ],
         "showline": true,
         "side": "right",
         "tick0": 0,
         "ticklabelposition": "outside right",
         "type": "category"
        }
       }
      },
      "image/png": "[encoded data removed]",
      "text/html": [
       "<div>                            <div id=\"afb3d025-819e-41d2-8df3-010258e2fcde\" class=\"plotly-graph-div\" style=\"height:1200px; width:600px;\"></div>            <script type=\"text/javascript\">                require([\"plotly\"], function(Plotly) {                    window.PLOTLYENV=window.PLOTLYENV || {};                                    if (document.getElementById(\"afb3d025-819e-41d2-8df3-010258e2fcde\")) {                    Plotly.newPlot(                        \"afb3d025-819e-41d2-8df3-010258e2fcde\",                        [{\"customdata\":[[\"1.0<br>BetweennessCentrality\"],[\"0.43<br>BetweennessCentrality\"],[\"0.17<br>BetweennessCentrality\"],[\"0.03<br>BetweennessCentrality\"],[\"0.01<br>BetweennessCentrality\"],[\"0.01<br>BetweennessCentrality\"],[\"0.02<br>BetweennessCentrality\"],[\"0.01<br>BetweennessCentrality\"],[\"0.0<br>BetweennessCentrality\"],[\"0.06<br>BetweennessCentrality\"],[\"0.07<br>BetweennessCentrality\"],[\"1.0<br>ClosenessCentrality\"],[\"0.63<br>ClosenessCentrality\"],[\"0.75<br>ClosenessCentrality\"],[\"0.28<br>ClosenessCentrality\"],[\"0.02<br>ClosenessCentrality\"],[\"0.09<br>ClosenessCentrality\"],[\"0.93<br>ClosenessCentrality\"],[\"0.24<br>ClosenessCentrality\"],[\"0.0<br>ClosenessCentrality\"],[\"0.39<br>ClosenessCentrality\"],[\"0.14<br>ClosenessCentrality\"],[\"0.0<br>ClusteringCoefficient\"],[\"0.05<br>ClusteringCoefficient\"],[\"0.18<br>ClusteringCoefficient\"],[\"0.37<br>ClusteringCoefficient\"],[\"0.21<br>ClusteringCoefficient\"],[\"0.28<br>ClusteringCoefficient\"],[\"1.0<br>ClusteringCoefficient\"],[\"0.43<br>ClusteringCoefficient\"],[\"0.86<br>ClusteringCoefficient\"],[\"0.17<br>ClusteringCoefficient\"],[\"0.12<br>ClusteringCoefficient\"],[\"1.0<br>Degree\"],[\"0.54<br>Degree\"],[\"0.33<br>Degree\"],[\"0.21<br>Degree\"],[\"0.22<br>Degree\"],[\"0.17<br>Degree\"],[\"0.0<br>Degree\"],[\"0.2<br>Degree\"],[\"0.18<br>Degree\"],[\"0.19<br>Degree\"],[\"0.15<br>Degree\"],[\"1.0<br>Radiality\"],[\"0.67<br>Radiality\"],[\"0.78<br>Radiality\"],[\"0.32<br>Radiality\"],[\"0.02<br>Radiality\"],[\"0.1<br>Radiality\"],[\"0.94<br>Radiality\"],[\"0.27<br>Radiality\"],[\"0.0<br>Radiality\"],[\"0.43<br>Radiality\"],[\"0.16<br>Radiality\"],[\"1.0<br>Stress\"],[\"0.33<br>Stress\"],[\"0.11<br>Stress\"],[\"0.09<br>Stress\"],[\"0.08<br>Stress\"],[\"0.03<br>Stress\"],[\"0.02<br>Stress\"],[\"0.01<br>Stress\"],[\"0.01<br>Stress\"],[\"0.0<br>Stress\"],[\"0.0<br>Stress\"],[\"0.0<br>TopologicalCoefficient\"],[\"0.04<br>TopologicalCoefficient\"],[\"0.16<br>TopologicalCoefficient\"],[\"0.27<br>TopologicalCoefficient\"],[\"0.28<br>TopologicalCoefficient\"],[\"0.29<br>TopologicalCoefficient\"],[\"1.0<br>TopologicalCoefficient\"],[\"0.25<br>TopologicalCoefficient\"],[\"0.34<br>TopologicalCoefficient\"],[\"0.14<br>TopologicalCoefficient\"],[\"0.2<br>TopologicalCoefficient\"]],\"hovertemplate\":\"Encrichment=NE<br>Centrality=%{x}<br>Protein=%{y}<br>Value=%{marker.size}<br>Info=%{customdata[0]}<extra></extra>\",\"legendgroup\":\"NE\",\"marker\":{\"color\":\"#636efa\",\"line\":{\"color\":\"rgba(0, 0, 0, 1)\",\"width\":2},\"size\":[1.0,0.43056048524660784,0.16688549391591775,0.030303353128364203,0.013455547427058505,0.014056211321417185,0.01746269517430097,0.01475913352319483,0.0033025669578210805,0.06094461159322143,0.0741556449264952,1.0,0.6311657929613509,0.748600014666087,0.28397138129339006,0.020684385966538748,0.08776888978207868,0.9266334679784196,0.2370438046106472,0.0,0.38968801720517404,0.13962488961818303,0.0,0.04924440831654756,0.18469462718353133,0.37130011364374743,0.20507292692985515,0.28163294263046157,1.0,0.4282605611110301,0.8625878683642063,0.16970512298587342,0.1188442417628174,1.0,0.5422794117647058,0.32996323529411764,0.20863970588235295,0.21875,0.17003676470588236,0.0,0.19669117647058823,0.1792279411764706,0.19393382352941177,0.15257352941176472,1.0,0.6680682566414133,0.7778876817174433,0.3180806995206238,0.024239484088432583,0.1016572740064685,0.9369280314777552,0.2676230407710991,0.0,0.42888946988298693,0.16027708382555922,1.0,0.32838795451193914,0.1061037428629898,0.08590311699814877,0.08292315087060109,0.02939797159478053,0.0248587906848902,0.008735331770697529,0.006763735672887981,0.0016166112672317855,0.0,0.0,0.03826628120235234,0.16094878902167492,0.2727367495369121,0.27817390417792964,0.2903495564627451,1.0,0.24999264939765153,0.34302301826806064,0.14431237119739976,0.20206786763417145],\"sizemode\":\"area\",\"sizeref\":0.0025,\"symbol\":200},\"mode\":\"markers\",\"name\":\"NE\",\"orientation\":\"v\",\"showlegend\":true,\"x\":[\"BetweennessCentrality\",\"BetweennessCentrality\",\"BetweennessCentrality\",\"BetweennessCentrality\",\"BetweennessCentrality\",\"BetweennessCentrality\",\"BetweennessCentrality\",\"BetweennessCentrality\",\"BetweennessCentrality\",\"BetweennessCentrality\",\"BetweennessCentrality\",\"ClosenessCentrality\",\"ClosenessCentrality\",\"ClosenessCentrality\",\"ClosenessCentrality\",\"ClosenessCentrality\",\"ClosenessCentrality\",\"ClosenessCentrality\",\"ClosenessCentrality\",\"ClosenessCentrality\",\"ClosenessCentrality\",\"ClosenessCentrality\",\"ClusteringCoefficient\",\"ClusteringCoefficient\",\"ClusteringCoefficient\",\"ClusteringCoefficient\",\"ClusteringCoefficient\",\"ClusteringCoefficient\",\"ClusteringCoefficient\",\"ClusteringCoefficient\",\"ClusteringCoefficient\",\"ClusteringCoefficient\",\"ClusteringCoefficient\",\"Degree\",\"Degree\",\"Degree\",\"Degree\",\"Degree\",\"Degree\",\"Degree\",\"Degree\",\"Degree\",\"Degree\",\"Degree\",\"Radiality\",\"Radiality\",\"Radiality\",\"Radiality\",\"Radiality\",\"Radiality\",\"Radiality\",\"Radiality\",\"Radiality\",\"Radiality\",\"Radiality\",\"Stress\",\"Stress\",\"Stress\",\"Stress\",\"Stress\",\"Stress\",\"Stress\",\"Stress\",\"Stress\",\"Stress\",\"Stress\",\"TopologicalCoefficient\",\"TopologicalCoefficient\",\"TopologicalCoefficient\",\"TopologicalCoefficient\",\"TopologicalCoefficient\",\"TopologicalCoefficient\",\"TopologicalCoefficient\",\"TopologicalCoefficient\",\"TopologicalCoefficient\",\"TopologicalCoefficient\",\"TopologicalCoefficient\"],\"xaxis\":\"x3\",\"y\":[\"HNRNPH1\",\"YWHAG\",\"CIT\",\"PHB2\",\"CCT7\",\"BYSL\",\"PLEKHA4\",\"RRBP1\",\"MRPL12\",\"SHC1\",\"LGALS1\",\"HNRNPH1\",\"YWHAG\",\"CIT\",\"PHB2\",\"CCT7\",\"BYSL\",\"PLEKHA4\",\"RRBP1\",\"MRPL12\",\"SHC1\",\"LGALS1\",\"HNRNPH1\",\"YWHAG\",\"CIT\",\"PHB2\",\"CCT7\",\"BYSL\",\"PLEKHA4\",\"RRBP1\",\"MRPL12\",\"SHC1\",\"LGALS1\",\"HNRNPH1\",\"YWHAG\",\"CIT\",\"PHB2\",\"CCT7\",\"BYSL\",\"PLEKHA4\",\"RRBP1\",\"MRPL12\",\"SHC1\",\"LGALS1\",\"HNRNPH1\",\"YWHAG\",\"CIT\",\"PHB2\",\"CCT7\",\"BYSL\",\"PLEKHA4\",\"RRBP1\",\"MRPL12\",\"SHC1\",\"LGALS1\",\"HNRNPH1\",\"YWHAG\",\"CIT\",\"PHB2\",\"CCT7\",\"BYSL\",\"PLEKHA4\",\"RRBP1\",\"MRPL12\",\"SHC1\",\"LGALS1\",\"HNRNPH1\",\"YWHAG\",\"CIT\",\"PHB2\",\"CCT7\",\"BYSL\",\"PLEKHA4\",\"RRBP1\",\"MRPL12\",\"SHC1\",\"LGALS1\"],\"yaxis\":\"y3\",\"type\":\"scatter\"},{\"customdata\":[[\"0.18<br>BetweennessCentrality\"],[\"0.02<br>BetweennessCentrality\"],[\"0.27<br>ClosenessCentrality\"],[\"0.98<br>ClosenessCentrality\"],[\"0.03<br>ClusteringCoefficient\"],[\"0.52<br>ClusteringCoefficient\"],[\"0.35<br>Degree\"],[\"0.06<br>Degree\"],[\"0.3<br>Radiality\"],[\"0.98<br>Radiality\"],[\"0.3<br>Stress\"],[\"0.01<br>Stress\"],[\"0.16<br>TopologicalCoefficient\"],[\"0.51<br>TopologicalCoefficient\"]],\"hovertemplate\":\"Encrichment=Homo sapiens<br>Centrality=%{x}<br>Protein=%{y}<br>Value=%{marker.size}<br>Info=%{customdata[0]}<extra></extra>\",\"legendgroup\":\"Homo sapiens\",\"marker\":{\"color\":\"#EF553B\",\"line\":{\"color\":\"rgba(0, 0, 0, 1)\",\"width\":2},\"size\":[0.17660105379003863,0.01650147984292919,0.265019122008675,0.9805659711331725,0.03253897635759191,0.5182171457517527,0.3474264705882353,0.06066176470588235,0.2977988064068449,0.9834280992526284,0.30052021299342463,0.012550643894230462,0.16337391502245463,0.5089763264782443],\"sizemode\":\"area\",\"sizeref\":0.0025,\"symbol\":200},\"mode\":\"markers\",\"name\":\"Homo sapiens\",\"orientation\":\"v\",\"showlegend\":true,\"x\":[\"BetweennessCentrality\",\"BetweennessCentrality\",\"ClosenessCentrality\",\"ClosenessCentrality\",\"ClusteringCoefficient\",\"ClusteringCoefficient\",\"Degree\",\"Degree\",\"Radiality\",\"Radiality\",\"Stress\",\"Stress\",\"TopologicalCoefficient\",\"TopologicalCoefficient\"],\"xaxis\":\"x3\",\"y\":[\"BAG2\",\"MYC\",\"BAG2\",\"MYC\",\"BAG2\",\"MYC\",\"BAG2\",\"MYC\",\"BAG2\",\"MYC\",\"BAG2\",\"MYC\",\"BAG2\",\"MYC\"],\"yaxis\":\"y3\",\"type\":\"scatter\"},{\"customdata\":[[\"0.2<br>BetweennessCentrality\"],[\"0.08<br>BetweennessCentrality\"],[\"0.02<br>BetweennessCentrality\"],[\"0.0<br>BetweennessCentrality\"],[\"0.4<br>ClosenessCentrality\"],[\"0.22<br>ClosenessCentrality\"],[\"0.27<br>ClosenessCentrality\"],[\"0.17<br>ClosenessCentrality\"],[\"0.3<br>ClusteringCoefficient\"],[\"0.15<br>ClusteringCoefficient\"],[\"0.29<br>ClusteringCoefficient\"],[\"0.3<br>ClusteringCoefficient\"],[\"0.4<br>Degree\"],[\"0.2<br>Degree\"],[\"0.22<br>Degree\"],[\"0.13<br>Degree\"],[\"0.44<br>Radiality\"],[\"0.25<br>Radiality\"],[\"0.31<br>Radiality\"],[\"0.19<br>Radiality\"],[\"0.28<br>Stress\"],[\"0.07<br>Stress\"],[\"0.07<br>Stress\"],[\"0.0<br>Stress\"],[\"0.18<br>TopologicalCoefficient\"],[\"0.2<br>TopologicalCoefficient\"],[\"0.21<br>TopologicalCoefficient\"],[\"0.3<br>TopologicalCoefficient\"]],\"hovertemplate\":\"Encrichment=Human immunodeficiency virus 1<br>Centrality=%{x}<br>Protein=%{y}<br>Value=%{marker.size}<br>Info=%{customdata[0]}<extra></extra>\",\"legendgroup\":\"Human immunodeficiency virus 1\",\"marker\":{\"color\":\"#00cc96\",\"line\":{\"color\":\"rgba(0, 0, 0, 1)\",\"width\":2},\"size\":[0.20262544217308665,0.07877481151427265,0.021923530433935003,0.0,0.400032486521264,0.22224617791524712,0.2735558578742341,0.16534745049911034,0.3031639241437932,0.15314290601781433,0.29448085228832366,0.2988502355753994,0.39981617647058826,0.19852941176470587,0.22058823529411764,0.13419117647058823,0.43952508908304294,0.251545917581558,0.30695030276273955,0.18896872661714595,0.2793723443778086,0.0726450116912575,0.06658045028627348,0.00486563666945977,0.17951621962912492,0.19811305264596865,0.21057509203526914,0.2982962258379973],\"sizemode\":\"area\",\"sizeref\":0.0025,\"symbol\":200},\"mode\":\"markers\",\"name\":\"Human immunodeficiency virus 1\",\"orientation\":\"v\",\"showlegend\":true,\"x\":[\"BetweennessCentrality\",\"BetweennessCentrality\",\"BetweennessCentrality\",\"BetweennessCentrality\",\"ClosenessCentrality\",\"ClosenessCentrality\",\"ClosenessCentrality\",\"ClosenessCentrality\",\"ClusteringCoefficient\",\"ClusteringCoefficient\",\"ClusteringCoefficient\",\"ClusteringCoefficient\",\"Degree\",\"Degree\",\"Degree\",\"Degree\",\"Radiality\",\"Radiality\",\"Radiality\",\"Radiality\",\"Stress\",\"Stress\",\"Stress\",\"Stress\",\"TopologicalCoefficient\",\"TopologicalCoefficient\",\"TopologicalCoefficient\",\"TopologicalCoefficient\"],\"xaxis\":\"x3\",\"y\":[\"C1QBP\",\"TUBA4A\",\"CCT4\",\"ACTG1\",\"C1QBP\",\"TUBA4A\",\"CCT4\",\"ACTG1\",\"C1QBP\",\"TUBA4A\",\"CCT4\",\"ACTG1\",\"C1QBP\",\"TUBA4A\",\"CCT4\",\"ACTG1\",\"C1QBP\",\"TUBA4A\",\"CCT4\",\"ACTG1\",\"C1QBP\",\"TUBA4A\",\"CCT4\",\"ACTG1\",\"C1QBP\",\"TUBA4A\",\"CCT4\",\"ACTG1\"],\"yaxis\":\"y3\",\"type\":\"scatter\"},{\"customdata\":[[\"0.13<br>BetweennessCentrality\"],[\"0.04<br>BetweennessCentrality\"],[\"0.15<br>ClosenessCentrality\"],[\"0.38<br>ClosenessCentrality\"],[\"0.08<br>ClusteringCoefficient\"],[\"0.22<br>ClusteringCoefficient\"],[\"0.3<br>Degree\"],[\"0.14<br>Degree\"],[\"0.17<br>Radiality\"],[\"0.42<br>Radiality\"],[\"0.2<br>Stress\"],[\"0.01<br>Stress\"],[\"0.18<br>TopologicalCoefficient\"],[\"0.23<br>TopologicalCoefficient\"]],\"hovertemplate\":\"Encrichment=Human herpesvirus 1 (strain 17)<br>Centrality=%{x}<br>Protein=%{y}<br>Value=%{marker.size}<br>Info=%{customdata[0]}<extra></extra>\",\"legendgroup\":\"Human herpesvirus 1 (strain 17)\",\"marker\":{\"color\":\"#ab63fa\",\"line\":{\"color\":\"rgba(0, 0, 0, 1)\",\"width\":2},\"size\":[0.1347747905905516,0.0421864318855054,0.15024121811121974,0.38081519705806793,0.0760488177469895,0.2201240931374824,0.296875,0.13511029411764705,0.17214943709086025,0.41973797352709225,0.1980581401805678,0.005118563755979776,0.18350043702672147,0.23158903221396707],\"sizemode\":\"area\",\"sizeref\":0.0025,\"symbol\":200},\"mode\":\"markers\",\"name\":\"Human herpesvirus 1 (strain 17)\",\"orientation\":\"v\",\"showlegend\":true,\"x\":[\"BetweennessCentrality\",\"BetweennessCentrality\",\"ClosenessCentrality\",\"ClosenessCentrality\",\"ClusteringCoefficient\",\"ClusteringCoefficient\",\"Degree\",\"Degree\",\"Radiality\",\"Radiality\",\"Stress\",\"Stress\",\"TopologicalCoefficient\",\"TopologicalCoefficient\"],\"xaxis\":\"x3\",\"y\":[\"PCNA\",\"EMD\",\"PCNA\",\"EMD\",\"PCNA\",\"EMD\",\"PCNA\",\"EMD\",\"PCNA\",\"EMD\",\"PCNA\",\"EMD\",\"PCNA\",\"EMD\"],\"yaxis\":\"y3\",\"type\":\"scatter\"},{\"customdata\":[[\"0.02<br>BetweennessCentrality\"],[\"0.11<br>ClosenessCentrality\"],[\"0.2<br>ClusteringCoefficient\"],[\"0.15<br>Degree\"],[\"0.13<br>Radiality\"],[\"0.0<br>Stress\"],[\"0.25<br>TopologicalCoefficient\"]],\"hovertemplate\":\"Encrichment=Human immunodeficiency virus 1<br>Human herpesvirus 3<br>Centrality=%{x}<br>Protein=%{y}<br>Value=%{marker.size}<br>Info=%{customdata[0]}<extra></extra>\",\"legendgroup\":\"Human immunodeficiency virus 1<br>Human herpesvirus 3\",\"marker\":{\"color\":\"#FFA15A\",\"line\":{\"color\":\"rgba(0, 0, 0, 1)\",\"width\":2},\"size\":[0.017936859864909314,0.10997289050205057,0.1979406877767331,0.15257352941176472,0.126886103381232,0.0012895464904918638,0.2513421054339853],\"sizemode\":\"area\",\"sizeref\":0.0025,\"symbol\":200},\"mode\":\"markers\",\"name\":\"Human immunodeficiency virus 1<br>Human herpesvirus 3\",\"orientation\":\"v\",\"showlegend\":true,\"x\":[\"BetweennessCentrality\",\"ClosenessCentrality\",\"ClusteringCoefficient\",\"Degree\",\"Radiality\",\"Stress\",\"TopologicalCoefficient\"],\"xaxis\":\"x3\",\"y\":[\"SP1\",\"SP1\",\"SP1\",\"SP1\",\"SP1\",\"SP1\",\"SP1\"],\"yaxis\":\"y3\",\"type\":\"scatter\"},{\"hovertemplate\":\"x=%{x}<br>y=%{y}<br>size=%{marker.size}<extra></extra>\",\"legendgroup\":\"\",\"marker\":{\"color\":\"lightgray\",\"line\":{\"color\":\"rgba(0, 0, 0, 1)\",\"width\":2},\"size\":[0.0,0.25,0.5,0.75,1.0],\"sizemode\":\"area\",\"sizeref\":0.0025,\"symbol\":200},\"mode\":\"markers\",\"name\":\"\",\"orientation\":\"v\",\"showlegend\":false,\"x\":[\"\",\"\",\"\",\"\",\"\"],\"xaxis\":\"x\",\"y\":[0.0,0.25,0.5,0.75,1.0],\"yaxis\":\"y\",\"type\":\"scatter\"},{\"marker\":{\"color\":[\"#636efa\",\"#EF553B\",\"#00cc96\",\"#ab63fa\",\"#FFA15A\"],\"line\":{\"width\":2},\"size\":20,\"symbol\":200},\"mode\":\"markers\",\"x\":[\"\",\"\",\"\",\"\",\"\"],\"y\":[\"NE\",\"Homo sapiens\",\"Human immunodeficiency virus 1\",\"Human herpesvirus 1 (strain 17)\",\"Human immunodeficiency virus 1<br>Human herpesvirus 3\"],\"type\":\"scatter\",\"xaxis\":\"x2\",\"yaxis\":\"y2\"}],                        {\"template\":{\"data\":{\"bar\":[{\"error_x\":{\"color\":\"#2a3f5f\"},\"error_y\":{\"color\":\"#2a3f5f\"},\"marker\":{\"line\":{\"color\":\"#E5ECF6\",\"width\":0.5},\"pattern\":{\"fillmode\":\"overlay\",\"size\":10,\"solidity\":0.2}},\"type\":\"bar\"}],\"barpolar\":[{\"marker\":{\"line\":{\"color\":\"#E5ECF6\",\"width\":0.5},\"pattern\":{\"fillmode\":\"overlay\",\"size\":10,\"solidity\":0.2}},\"type\":\"barpolar\"}],\"carpet\":[{\"aaxis\":{\"endlinecolor\":\"#2a3f5f\",\"gridcolor\":\"white\",\"linecolor\":\"white\",\"minorgridcolor\":\"white\",\"startlinecolor\":\"#2a3f5f\"},\"baxis\":{\"endlinecolor\":\"#2a3f5f\",\"gridcolor\":\"white\",\"linecolor\":\"white\",\"minorgridcolor\":\"white\",\"startlinecolor\":\"#2a3f5f\"},\"type\":\"carpet\"}],\"choropleth\":[{\"colorbar\":{\"outlinewidth\":0,\"ticks\":\"\"},\"type\":\"choropleth\"}],\"contour\":[{\"colorbar\":{\"outlinewidth\":0,\"ticks\":\"\"},\"colorscale\":[[0.0,\"#0d0887\"],[0.1111111111111111,\"#46039f\"],[0.2222222222222222,\"#7201a8\"],[0.3333333333333333,\"#9c179e\"],[0.4444444444444444,\"#bd3786\"],[0.5555555555555556,\"#d8576b\"],[0.6666666666666666,\"#ed7953\"],[0.7777777777777778,\"#fb9f3a\"],[0.8888888888888888,\"#fdca26\"],[1.0,\"#f0f921\"]],\"type\":\"contour\"}],\"contourcarpet\":[{\"colorbar\":{\"outlinewidth\":0,\"ticks\":\"\"},\"type\":\"contourcarpet\"}],\"heatmap\":[{\"colorbar\":{\"outlinewidth\":0,\"ticks\":\"\"},\"colorscale\":[[0.0,\"#0d0887\"],[0.1111111111111111,\"#46039f\"],[0.2222222222222222,\"#7201a8\"],[0.3333333333333333,\"#9c179e\"],[0.4444444444444444,\"#bd3786\"],[0.5555555555555556,\"#d8576b\"],[0.6666666666666666,\"#ed7953\"],[0.7777777777777778,\"#fb9f3a\"],[0.8888888888888888,\"#fdca26\"],[1.0,\"#f0f921\"]],\"type\":\"heatmap\"}],\"heatmapgl\":[{\"colorbar\":{\"outlinewidth\":0,\"ticks\":\"\"},\"colorscale\":[[0.0,\"#0d0887\"],[0.1111111111111111,\"#46039f\"],[0.2222222222222222,\"#7201a8\"],[0.3333333333333333,\"#9c179e\"],[0.4444444444444444,\"#bd3786\"],[0.5555555555555556,\"#d8576b\"],[0.6666666666666666,\"#ed7953\"],[0.7777777777777778,\"#fb9f3a\"],[0.8888888888888888,\"#fdca26\"],[1.0,\"#f0f921\"]],\"type\":\"heatmapgl\"}],\"histogram\":[{\"marker\":{\"pattern\":{\"fillmode\":\"overlay\",\"size\":10,\"solidity\":0.2}},\"type\":\"histogram\"}],\"histogram2d\":[{\"colorbar\":{\"outlinewidth\":0,\"ticks\":\"\"},\"colorscale\":[[0.0,\"#0d0887\"],[0.1111111111111111,\"#46039f\"],[0.2222222222222222,\"#7201a8\"],[0.3333333333333333,\"#9c179e\"],[0.4444444444444444,\"#bd3786\"],[0.5555555555555556,\"#d8576b\"],[0.6666666666666666,\"#ed7953\"],[0.7777777777777778,\"#fb9f3a\"],[0.8888888888888888,\"#fdca26\"],[1.0,\"#f0f921\"]],\"type\":\"histogram2d\"}],\"histogram2dcontour\":[{\"colorbar\":{\"outlinewidth\":0,\"ticks\":\"\"},\"colorscale\":[[0.0,\"#0d0887\"],[0.1111111111111111,\"#46039f\"],[0.2222222222222222,\"#7201a8\"],[0.3333333333333333,\"#9c179e\"],[0.4444444444444444,\"#bd3786\"],[0.5555555555555556,\"#d8576b\"],[0.6666666666666666,\"#ed7953\"],[0.7777777777777778,\"#fb9f3a\"],[0.8888888888888888,\"#fdca26\"],[1.0,\"#f0f921\"]],\"type\":\"histogram2dcontour\"}],\"mesh3d\":[{\"colorbar\":{\"outlinewidth\":0,\"ticks\":\"\"},\"type\":\"mesh3d\"}],\"parcoords\":[{\"line\":{\"colorbar\":{\"outlinewidth\":0,\"ticks\":\"\"}},\"type\":\"parcoords\"}],\"pie\":[{\"automargin\":true,\"type\":\"pie\"}],\"scatter\":[{\"marker\":{\"colorbar\":{\"outlinewidth\":0,\"ticks\":\"\"}},\"type\":\"scatter\"}],\"scatter3d\":[{\"line\":{\"colorbar\":{\"outlinewidth\":0,\"ticks\":\"\"}},\"marker\":{\"colorbar\":{\"outlinewidth\":0,\"ticks\":\"\"}},\"type\":\"scatter3d\"}],\"scattercarpet\":[{\"marker\":{\"colorbar\":{\"outlinewidth\":0,\"ticks\":\"\"}},\"type\":\"scattercarpet\"}],\"scattergeo\":[{\"marker\":{\"colorbar\":{\"outlinewidth\":0,\"ticks\":\"\"}},\"type\":\"scattergeo\"}],\"scattergl\":[{\"marker\":{\"colorbar\":{\"outlinewidth\":0,\"ticks\":\"\"}},\"type\":\"scattergl\"}],\"scattermapbox\":[{\"marker\":{\"colorbar\":{\"outlinewidth\":0,\"ticks\":\"\"}},\"type\":\"scattermapbox\"}],\"scatterpolar\":[{\"marker\":{\"colorbar\":{\"outlinewidth\":0,\"ticks\":\"\"}},\"type\":\"scatterpolar\"}],\"scatterpolargl\":[{\"marker\":{\"colorbar\":{\"outlinewidth\":0,\"ticks\":\"\"}},\"type\":\"scatterpolargl\"}],\"scatterternary\":[{\"marker\":{\"colorbar\":{\"outlinewidth\":0,\"ticks\":\"\"}},\"type\":\"scatterternary\"}],\"surface\":[{\"colorbar\":{\"outlinewidth\":0,\"ticks\":\"\"},\"colorscale\":[[0.0,\"#0d0887\"],[0.1111111111111111,\"#46039f\"],[0.2222222222222222,\"#7201a8\"],[0.3333333333333333,\"#9c179e\"],[0.4444444444444444,\"#bd3786\"],[0.5555555555555556,\"#d8576b\"],[0.6666666666666666,\"#ed7953\"],[0.7777777777777778,\"#fb9f3a\"],[0.8888888888888888,\"#fdca26\"],[1.0,\"#f0f921\"]],\"type\":\"surface\"}],\"table\":[{\"cells\":{\"fill\":{\"color\":\"#EBF0F8\"},\"line\":{\"color\":\"white\"}},\"header\":{\"fill\":{\"color\":\"#C8D4E3\"},\"line\":{\"color\":\"white\"}},\"type\":\"table\"}]},\"layout\":{\"annotationdefaults\":{\"arrowcolor\":\"#2a3f5f\",\"arrowhead\":0,\"arrowwidth\":1},\"autotypenumbers\":\"strict\",\"coloraxis\":{\"colorbar\":{\"outlinewidth\":0,\"ticks\":\"\"}},\"colorscale\":{\"diverging\":[[0,\"#8e0152\"],[0.1,\"#c51b7d\"],[0.2,\"#de77ae\"],[0.3,\"#f1b6da\"],[0.4,\"#fde0ef\"],[0.5,\"#f7f7f7\"],[0.6,\"#e6f5d0\"],[0.7,\"#b8e186\"],[0.8,\"#7fbc41\"],[0.9,\"#4d9221\"],[1,\"#276419\"]],\"sequential\":[[0.0,\"#0d0887\"],[0.1111111111111111,\"#46039f\"],[0.2222222222222222,\"#7201a8\"],[0.3333333333333333,\"#9c179e\"],[0.4444444444444444,\"#bd3786\"],[0.5555555555555556,\"#d8576b\"],[0.6666666666666666,\"#ed7953\"],[0.7777777777777778,\"#fb9f3a\"],[0.8888888888888888,\"#fdca26\"],[1.0,\"#f0f921\"]],\"sequentialminus\":[[0.0,\"#0d0887\"],[0.1111111111111111,\"#46039f\"],[0.2222222222222222,\"#7201a8\"],[0.3333333333333333,\"#9c179e\"],[0.4444444444444444,\"#bd3786\"],[0.5555555555555556,\"#d8576b\"],[0.6666666666666666,\"#ed7953\"],[0.7777777777777778,\"#fb9f3a\"],[0.8888888888888888,\"#fdca26\"],[1.0,\"#f0f921\"]]},\"colorway\":[\"#636efa\",\"#EF553B\",\"#00cc96\",\"#ab63fa\",\"#FFA15A\",\"#19d3f3\",\"#FF6692\",\"#B6E880\",\"#FF97FF\",\"#FECB52\"],\"font\":{\"color\":\"#2a3f5f\"},\"geo\":{\"bgcolor\":\"white\",\"lakecolor\":\"white\",\"landcolor\":\"#E5ECF6\",\"showlakes\":true,\"showland\":true,\"subunitcolor\":\"white\"},\"hoverlabel\":{\"align\":\"left\"},\"hovermode\":\"closest\",\"mapbox\":{\"style\":\"light\"},\"paper_bgcolor\":\"white\",\"plot_bgcolor\":\"#E5ECF6\",\"polar\":{\"angularaxis\":{\"gridcolor\":\"white\",\"linecolor\":\"white\",\"ticks\":\"\"},\"bgcolor\":\"#E5ECF6\",\"radialaxis\":{\"gridcolor\":\"white\",\"linecolor\":\"white\",\"ticks\":\"\"}},\"scene\":{\"xaxis\":{\"backgroundcolor\":\"#E5ECF6\",\"gridcolor\":\"white\",\"gridwidth\":2,\"linecolor\":\"white\",\"showbackground\":true,\"ticks\":\"\",\"zerolinecolor\":\"white\"},\"yaxis\":{\"backgroundcolor\":\"#E5ECF6\",\"gridcolor\":\"white\",\"gridwidth\":2,\"linecolor\":\"white\",\"showbackground\":true,\"ticks\":\"\",\"zerolinecolor\":\"white\"},\"zaxis\":{\"backgroundcolor\":\"#E5ECF6\",\"gridcolor\":\"white\",\"gridwidth\":2,\"linecolor\":\"white\",\"showbackground\":true,\"ticks\":\"\",\"zerolinecolor\":\"white\"}},\"shapedefaults\":{\"line\":{\"color\":\"#2a3f5f\"}},\"ternary\":{\"aaxis\":{\"gridcolor\":\"white\",\"linecolor\":\"white\",\"ticks\":\"\"},\"baxis\":{\"gridcolor\":\"white\",\"linecolor\":\"white\",\"ticks\":\"\"},\"bgcolor\":\"#E5ECF6\",\"caxis\":{\"gridcolor\":\"white\",\"linecolor\":\"white\",\"ticks\":\"\"}},\"title\":{\"x\":0.05},\"xaxis\":{\"automargin\":true,\"gridcolor\":\"white\",\"linecolor\":\"white\",\"ticks\":\"\",\"title\":{\"standoff\":15},\"zerolinecolor\":\"white\",\"zerolinewidth\":2},\"yaxis\":{\"automargin\":true,\"gridcolor\":\"white\",\"linecolor\":\"white\",\"ticks\":\"\",\"title\":{\"standoff\":15},\"zerolinecolor\":\"white\",\"zerolinewidth\":2}}},\"xaxis\":{\"anchor\":\"y\",\"domain\":[0.0,0.45],\"showline\":true,\"linewidth\":2,\"linecolor\":\"black\",\"mirror\":true},\"yaxis\":{\"anchor\":\"x\",\"domain\":[0.8500000000000001,1.0],\"tick0\":0,\"dtick\":0.25,\"ticklabelposition\":\"outside right\",\"side\":\"right\",\"showline\":true,\"linewidth\":2,\"linecolor\":\"black\",\"mirror\":true},\"xaxis2\":{\"anchor\":\"y2\",\"domain\":[0.55,1.0],\"showline\":true,\"linewidth\":2,\"linecolor\":\"black\",\"mirror\":true},\"yaxis2\":{\"anchor\":\"x2\",\"domain\":[0.8500000000000001,1.0],\"tick0\":0,\"dtick\":0.25,\"ticklabelposition\":\"outside right\",\"side\":\"right\",\"showline\":true,\"linewidth\":2,\"linecolor\":\"black\",\"mirror\":true},\"xaxis3\":{\"anchor\":\"y3\",\"domain\":[0.0,1.0],\"showline\":true,\"linewidth\":2,\"linecolor\":\"black\",\"mirror\":true},\"yaxis3\":{\"anchor\":\"x3\",\"domain\":[0.0,0.6000000000000001],\"tick0\":0,\"dtick\":0.25,\"ticklabelposition\":\"outside right\",\"side\":\"right\",\"showline\":true,\"linewidth\":2,\"linecolor\":\"black\",\"mirror\":true},\"annotations\":[{\"font\":{\"size\":16},\"showarrow\":false,\"text\":\"Values\",\"x\":0.225,\"xanchor\":\"center\",\"xref\":\"paper\",\"y\":1.0,\"yanchor\":\"bottom\",\"yref\":\"paper\"},{\"font\":{\"size\":16},\"showarrow\":false,\"text\":\"Encrichment\",\"x\":0.775,\"xanchor\":\"center\",\"xref\":\"paper\",\"y\":1.0,\"yanchor\":\"bottom\",\"yref\":\"paper\"},{\"font\":{\"size\":16},\"showarrow\":false,\"text\":\"Dotplot\",\"x\":0.5,\"xanchor\":\"center\",\"xref\":\"paper\",\"y\":0.6000000000000001,\"yanchor\":\"bottom\",\"yref\":\"paper\"}],\"font\":{\"family\":\"Arial\",\"size\":14,\"color\":\"black\"},\"title\":{},\"autosize\":false,\"width\":600,\"height\":1200,\"plot_bgcolor\":\"rgba(0,0,0,0)\",\"showlegend\":false},                        {\"responsive\": true}                    ).then(function(){\n",
       "                            \n",
       "var gd = document.getElementById('afb3d025-819e-41d2-8df3-010258e2fcde');\n",
       "var x = new MutationObserver(function (mutations, observer) {{\n",
       "        var display = window.getComputedStyle(gd).display;\n",
       "        if (!display || display === 'none') {{\n",
       "            console.log([gd, 'removed!']);\n",
       "            Plotly.purge(gd);\n",
       "            observer.disconnect();\n",
       "        }}\n",
       "}});\n",
       "\n",
       "// Listen for the removal of the full notebook cells\n",
       "var notebookContainer = gd.closest('#notebook-container');\n",
       "if (notebookContainer) {{\n",
       "    x.observe(notebookContainer, {childList: true});\n",
       "}}\n",
       "\n",
       "// Listen for the clearing of the current output cell\n",
       "var outputEl = gd.closest('.output');\n",
       "if (outputEl) {{\n",
       "    x.observe(outputEl, {childList: true});\n",
       "}}\n",
       "\n",
       "                        })                };                });            </script>        </div>"
      ]
     },
     "metadata": {},
     "output_type": "display_data"
    }
   ],
   "source": [
    "import plotly.express as px\n",
    "import plotly.subplots as sp\n",
    "\n",
    "# Create figures in Express\n",
    "figure1 = fig_dots\n",
    "figure2 = fig_radius\n",
    "figure3 = fig_legend\n",
    "\n",
    "# For as many traces that exist per Express figure, get the traces from each plot and store them in an array.\n",
    "# This is essentially breaking down the Express fig into it's traces\n",
    "figure1_traces = []\n",
    "figure2_traces = []\n",
    "figure3_traces = []\n",
    "\n",
    "for trace in range(len(figure1[\"data\"])):\n",
    "    figure1_traces.append(figure1[\"data\"][trace])\n",
    "for trace in range(len(figure2[\"data\"])):\n",
    "    figure2_traces.append(figure2[\"data\"][trace])\n",
    "for trace in range(len(figure3[\"data\"])):\n",
    "    figure3_traces.append(figure3[\"data\"][trace])\n",
    "\n",
    "#Create a 1x2 subplot\n",
    "# fig = sp.make_subplots(rows=2, cols=1, row_heights=[0.9, 0.1]) \n",
    "\n",
    "fig = sp.make_subplots(\n",
    "    rows=2, cols=2, row_heights=[.2,.8],\n",
    "    specs=[[{}, {}],\n",
    "           [{\"colspan\": 2}, None]],\n",
    "    subplot_titles=(\"Values\",\"Encrichment\", \"Dotplot\"))\n",
    "\n",
    "\n",
    "\n",
    "\n",
    "# Get the Express fig broken down as traces and add the traces to the proper plot within in the subplot\n",
    "for traces in figure1_traces:\n",
    "    fig.append_trace(traces, row=2, col=1)\n",
    "for traces in figure2_traces:\n",
    "    fig.append_trace(traces, row=1, col=1)\n",
    "for traces in figure3_traces:\n",
    "    fig.append_trace(traces, row=1, col=2)\n",
    "\n",
    "    \n",
    "# Size of the plot   \n",
    "fig.update_layout(\n",
    "    title=None,\n",
    "    autosize=False,\n",
    "    width=600,\n",
    "    height=1200,\n",
    "    # paper_bgcolor='rgba(0,0,0,0)',\n",
    "    plot_bgcolor='rgba(0,0,0,0)',\n",
    "    # xaxis=dict(\n",
    "    #     title=\"Centralities\"\n",
    "    # ),\n",
    "    # yaxis=dict(\n",
    "    #     title=\"Protein\"\n",
    "    # ),\n",
    "    font=dict(\n",
    "        family=\"Arial\",\n",
    "        size=14,\n",
    "        color=\"black\"\n",
    "    )\n",
    ")\n",
    "    \n",
    "    \n",
    "# # Update legend\n",
    "# fig.update_layout(\n",
    "#     legend=dict(\n",
    "#         orientation=\"h\",\n",
    "#     yanchor=\"bottom\",\n",
    "#     y=1.02,\n",
    "#     xanchor=\"right\",\n",
    "#     x=1,\n",
    "#         traceorder=\"reversed\",\n",
    "#         title_font_family=\"Times New Roman\",\n",
    "#         font=dict(\n",
    "#             family=\"Arial\",\n",
    "#             size=12,\n",
    "#             color=\"black\"\n",
    "#         ),\n",
    "#         bgcolor=\"rgba(0,0,0,0)\",\n",
    "#         bordercolor=\"Black\",\n",
    "#         borderwidth=2\n",
    "#     )\n",
    "# )\n",
    "\n",
    "fig.update_layout(showlegend=False)\n",
    "fig.update_yaxes(tick0=0, dtick=0.25)\n",
    "# fig.update_xaxes(tick0=0, dtick=10)\n",
    "# fig.update_xaxes(visible=False)\n",
    "fig.update_yaxes(ticklabelposition=\"outside right\", side= 'right')\n",
    "\n",
    "fig.update_xaxes(showline=True, linewidth=2, linecolor='black', mirror=True)\n",
    "fig.update_yaxes(showline=True, linewidth=2, linecolor='black', mirror=True)\n",
    "\n",
    "    \n",
    "#the subplot as shown in the above image\n",
    "fig"
   ]
  },
  {
   "cell_type": "code",
   "execution_count": null,
   "id": "ecc3650e-2980-4954-b730-556b17a4bcc1",
   "metadata": {},
   "outputs": [],
   "source": []
  },
  {
   "cell_type": "code",
   "execution_count": null,
   "id": "2e33ba53-2ba4-4990-a7bc-139cd9e7c2a6",
   "metadata": {},
   "outputs": [],
   "source": []
  }
 ],
 "metadata": {
  "kernelspec": {
   "display_name": "Py_3_10_Data_Sci",
   "language": "python",
   "name": "data_sci"
  },
  "language_info": {
   "codemirror_mode": {
    "name": "ipython",
    "version": 3
   },
   "file_extension": ".py",
   "mimetype": "text/x-python",
   "name": "python",
   "nbconvert_exporter": "python",
   "pygments_lexer": "ipython3",
   "version": "3.10.2"
  }
 },
 "nbformat": 4,
 "nbformat_minor": 5
}
